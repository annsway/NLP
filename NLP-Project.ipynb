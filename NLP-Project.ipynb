{
 "cells": [
  {
   "cell_type": "markdown",
   "id": "612fc418-cd31-4623-8f25-289f5cc5036d",
   "metadata": {},
   "source": [
    "# Final Project for INFO 6350\n",
    "### Author: Yun Zhou"
   ]
  },
  {
   "cell_type": "markdown",
   "id": "9f20f341-5d43-4809-89e2-103e866d6ce0",
   "metadata": {
    "tags": []
   },
   "source": [
    "# Part 1: Introduction & Hypothesis"
   ]
  },
  {
   "cell_type": "markdown",
   "id": "2b1910d8-d118-4a03-9423-f7192d0081e3",
   "metadata": {},
   "source": [
    "## Problem Statement\n",
    "\n",
    "A 10-K report is a comprehensive report filed annually by a publicly traded company to the U.S. Securities and Exchange Commission (SEC) regarding the company's financial performance and business operations of the last fiscal year. Almost every 10-K report includes content like business overview, industry overview, risk factors, competition, financial statements, income statements, and so on. In the past few years, those reports have been getting more and more in terms of page numbers and word counts. For example, General Electric's (ticker: GE) recent annual report was over 300 pages, American International Group 's (AIG) recent 10-K filing was above 400 pages long. As a result, fewer and fewer independent investors have the time and patience to read them all across thousands of publicly traded companies in the U.S. "
   ]
  },
  {
   "cell_type": "markdown",
   "id": "79c98554-a3f1-4e7f-9681-2cb8df067897",
   "metadata": {},
   "source": [
    "## Why Choose This Project\n",
    "\n",
    "When researching online, I found papers and articles that have conducted NLP analysis on 10-K reports to measure their readability and sentiment analysis. Yet, no one has analyzed the *Risk Factors* in 10-K reports and completed classification tasks based on them. \n",
    "\n",
    "The results from my analysis will deliver meaningful recommendations to not only the NLP scholars, but also to the real-world managers,  executives, and investors. By using text mining techniques, we can greatly improve the efficiency of the decision-making process in the business world, saving executives/managers' time reading their competitors' verbose 10K reports. Additionally, the project result will help the individual investors save time analyzing the 10K reports and make better investment decisions in the stock market.   "
   ]
  },
  {
   "cell_type": "markdown",
   "id": "ff037b89-311c-4b4b-a4e8-a79c2ee6b30e",
   "metadata": {
    "tags": []
   },
   "source": [
    "## Research Questions & Hypothesis "
   ]
  },
  {
   "cell_type": "markdown",
   "id": "b143c00e-bf8e-41d0-bf70-805ea339a712",
   "metadata": {},
   "source": [
    "### Q1: What are the tones or sentiments used to describe the risks of companies? Are they related to the stock prices?\n",
    "\n",
    "* I will use sentiment analysis and t-test in Q1 with the goal of finding the flunctuation of emotions regarding companies' performances in the stock market in the past 15 years. \n",
    "\n",
    "* **Hypothesis:** A company would express more *positiveness* and *anticipation* when describing their risks in the market, if its stock price falls below average in a given fiscal year. \n",
    "\n",
    "### Q2. Can we build a classifier to categorize the IT sector and non-IT sector by their Risk Factors? If so, what features are most important? \n",
    "\n",
    "* The IT companies made up 50% of the entire dataset. Finding a classifier to identify IT vs. non-IT by analzying their risk corpus can be useful when an investor was given an anonymous risk corpus and needs to quickly determine which industry it belongs to. The top features found from the feature matrix can be used as key words to distinguish IT and Non-IT sectors. \n",
    "\n",
    "* **Hypothesis:** A classifier can distinguish the IT and non-IT sectors using the features found in the risk corpus in their 10-K reports. \n",
    "\n",
    "### Q3. Can we build a classifier to categorize the below-average-stock-price and above-average-stock-price by their Risk Factors from 10-K reports? What are the most important features to distinguish them? Can we improve the accuracy of our classifiers? \n",
    "\n",
    "* In Q3, I will train and test multiple classifiers to categorize the the end-of-year stock prices of the NASDAQ-100 companies based on the **Risk Factors** section in their 10-K reports in the past 15 years. As an individual investor in the stock market, I found this question the most useful and interesting research question to explore, and possibly help smaller investors make their invest decisions quicker without reading the lengthy 10-K reports by themselves. \n",
    "\n",
    "* **Hypothesis:** A classifier can distinguish below-average-stock-price and above-average-stock-price using the features found in the risk corpus in their 10-K reports. "
   ]
  },
  {
   "cell_type": "markdown",
   "id": "41c62638-6a16-4ac9-8d2b-4424f89dfb8c",
   "metadata": {
    "tags": []
   },
   "source": [
    "# Part 2: Data & Methodologies"
   ]
  },
  {
   "cell_type": "markdown",
   "id": "227a7a00-5a20-4382-971b-f4f5cb3f3870",
   "metadata": {},
   "source": [
    "### Data\n",
    "\n",
    "There are two parts of data used in this project. The methodologies I used to scrape SEC website can be found in the **Methodologies** section below, and the code can be found in a separate Jupyter Notebook called web-scraping-and-data-prep.ipynb. \n",
    "\n",
    "**10-K Reports**\n",
    "\n",
    "The first is the corpus from **Risk Factors** sections in the **10-K reports**. After data cleaning, there are a total of 304 reports consisting of more than 6 million words being processed and analyzed. The time frame expanded from 2007 to 2021, but actual data used in the project after data cleaning was from 2007 to 2020. All the 10-K reports are public and can be downloaded through the SEC website by anyone. \n",
    "\n",
    "**Stock Prices**\n",
    "\n",
    "The second part is the stock prices scraped from **Yahoo Finance** website where one can easily access historical stock price data for the publicly traded companies. The stock prices were pulled based on the risk corpus metadata above, and were matched with company symbol and fiscal year.\n",
    "\n",
    "**Limitation of the data:** \n",
    "\n",
    "* I approached the 10-K report links using SEC Query Search with parameters like company CIK, somehow the reports returned were not consistent across the years. For instance, company A may only have 3 valid 10-K reports to scrape. This caused the corpus data to distrubte unevenly across the years. \n",
    "\n",
    "* I chose to pull the stock price data in December to represent a company's overall performance in a given fiscal year, yet some companies set their start date of fiscal year to be October 1st. December's stock price might not accurately reflect the stock price performance in an entire fiscal year. "
   ]
  },
  {
   "cell_type": "markdown",
   "id": "56fc0723-f4bd-457c-9535-00ae8d72793d",
   "metadata": {
    "tags": []
   },
   "source": [
    "### Methodologies\n",
    "\n",
    "To summarize, I used `BeautifulSoup` API to scrape the data from SEC and Yahoo Finance websites, created two gold label based on stock prices and business sectors, respectively. Then I created a data frame `df` to store the risk corpus, gold labels, and other metadata. The cleaned risk corpus was appended to the `df` and was vectorized and standard scaled across the research questions as feature matrix. \n",
    "\n",
    "To explore the corpus as a whole, bag-of-words, sentiment analysis, and unsupervised learning method were implemented. To visualize the bag-of-words model, I created word cloud to find out the most used words across the entire corpus (see *web-scraping-and-data-prep.ipynb*). In the sentiment analysis, I first tokenized the corpus, then calculated the mean sentiment scores across 10 emotions which were grouped by companies' stock performance and business sectors, resepctively. KMeans clustering was created to find similiar groups in the data. \n",
    "\n",
    "Multiple classifiers were trained and tested based on the feature matrices and gold labels. Cross-validations were adopted to calculate various metrics to evaluate the performances of the classifiers, such as mean accuracy scores, F1 scores, and so on. To improve the metrics, I tried *feature engineering*, *parameter optimization*, and different NLP techniques to create feature matrices, including building *wording embedding*, *entities and POS tags*, and *topic modeling* feature matrices to fit the classifiers.  \n",
    "\n",
    "Below are the detailed steps to implement the methodologies in the project. \n",
    "\n",
    "**Web Scraping and Data Collection**\n",
    "\n",
    "*Scrape the SEC website for 10-K reports:*\n",
    "\n",
    "* imported the NASDAQ-100 company list with their tickers (symbols), CIKs (Central Index Key), sectors and so on\n",
    "* scraped the SEC website based on company CIK to obtain the 10-K reports in the past 15 years (`getDataByCIK()` function):\n",
    "\n",
    "    1. scraped the SEC Query Page and input parameters of interest based on CIK, fiscal years, etc., and get `list_10k` which stores the list of companies’ links to all of their 10-K web pages\n",
    "    \n",
    "    2. enumerated `list_10k` to get the company web pages that had individual 10-K report links (note: those web pages contained links to tables and figures in 10-K reports, so I need to go deeper), and stored the links in *list_of_links*\n",
    "    \n",
    "    3. enumerated `list_of_links` to scrape every 10-K web page, and stored the link to the actual 10-K text in *list_of_10ks*\n",
    "    \n",
    "    4. enumerated `list_of_10ks` to scrape and parse the HTML using `scrap10k()` function\n",
    "\n",
    "* Parsed every report to collect the text from *Risk Factor* sections\n",
    "* Created a combined data frame called `df` with metadata and the text data\n",
    "\n",
    "*Scrap Yahoo Finance website for historical stock prices:*\n",
    "\n",
    "* scraped Yahoo Finance website based on company ticker (symbol) used in stock market \n",
    "* found the historical stock price data in JSON object and stored them in \n",
    "\n",
    "    `HistoricalPriceStore = json_data['context']['dispatcher']['stores']['HistoricalPriceStore']`\n",
    "\n",
    "* obtained the stock price in December of the given fiscal year based on the metadata in the data frame `df_fi`\n",
    "* combined the stock price data frame `df_fi`with the data frame `df` above \n",
    "\n",
    "**Data Cleaning and Exploratory Analysis:**\n",
    "\n",
    "* excluded any invalid stock prices \n",
    "* cleaned the corpus by replacing “\\”, “\\ in\\ form”, “\\n”, and made all words lowercase\n",
    "* appended the cleaned data as `text` column to the `df` \n",
    "* created tables and charts to get high-level ideas of the statistics of the data\n",
    "* performed basic descriptive analysis to find the possible features that might affect the stock price\n",
    "* excluded the records with stock price above USD 250, since only several companies reached that high and would skew the data\n",
    "* removed duplicates based on CIK and fiscal year in the `df`\n",
    "* generated word cloud for the corpus \n",
    "* saved the data frame in a local file called *data.csv* (I chose to load the data into a new data frame for the sake of testing, since the web scraping part took about an hour to finish)\n",
    "\n",
    "**Q1: What are the tones or sentiments used to describe the risks of companies? Are they related to the stock prices?**\n",
    "\n",
    "The purpose of our first research question is to explore basic features of the risk factor corpus, trying to find what features can be used in our classification tasks in the following research questions. \n",
    "\n",
    "The first exploration is sentiment analysis grouped by the below-average-stock-price vs. above-average-stock-price. To do so, I did the following:\n",
    "* created a list of stopwords along with punctuation marks\n",
    "* loaded emolex lexicon file as a dictionary of sentiments\n",
    "* tokenized the text while excluding the stopwords list\n",
    "* calculated the mean sentiment scores for each risk factor text\n",
    "* performed a t-test and calculated the t-statistic and p-value \n",
    "* calculated and visualized the mean sentiment scores by `y_binary` \n",
    "* did the same thing for the sentiment analysis by sector \n",
    "\n",
    "Next, I conducted clustering to find distinct groups or clusters within the risk corpus.\n",
    "* created a vectorizer using `TfidfVectorizer` based on the entire risk corpus\n",
    "* built K Means clustering with number of clusters = 7, since there are 7 sectors in our dataset\n",
    "* referred the `plot_compare` and `pull_samples` functions from lecture\n",
    "* visualized the clusters and pulled 3 samples from each of the clusters \n",
    "* evaluate the samples and results from the clusters \n",
    "\n",
    "Then, I created descriptive analysis on the mean and frequencies for word_count and stock prices grouped by the sector attribute. \n",
    "\n",
    "**Q2: Can we build a classifier to categorize the below-average-stock-price and above-average-stock-price by their Risk Factors from 10-K reports? What are the most important features to distinguish them? Can we improve the accuracy of our classifiers?** \n",
    "\n",
    "The purpose of this research question is to explore possible features that differentiate the sectors. Since IT companies consisted of about 55% of the population, I decided to create a classifier for the IT vs. non-IT sector based on the risk corpus. \n",
    "* got the statistics for the`word_count` and `price` by sector \n",
    "* referred the `compare_scores` function from lecture to compare the classification results \n",
    "* created a gold label, `y_it`, to separate the records into IT and non-IT sectors \n",
    "* calculated baseline_accuracy, baseline_f1 for `y_it`\n",
    "* selected the 20 most important features from `X` for `y_it`\n",
    "* trained and tested multiple classifiers for `X` and `y_it` \n",
    "* cross-validated the results using 10 folds and compared their metrics \n",
    "* optimized the parameters the RandomForest classifier and improve the metric\n",
    "\n",
    "**Q3: Can we build a classifier to categorize the below-average-stock-price and above-average-stock-price by their Risk Factors from 10-K reports? What are the most important features to distinguish them? Can we improve the accuracy of our classifiers?**\n",
    "\n",
    "**Token-based Feature Matrix**\n",
    "\n",
    "First, I built a token-based feature matrix and fit it into various classifiers. \n",
    "* selected 50 most important features from the token-based feature matrix, `X`, from the previous problem\n",
    "* trained and tested multiple classifiers for `X` and `y_binary` \n",
    "* cross-validated the results using 10 folds and compared their metrics \n",
    "\n",
    "Next, I tried several methods to improve the accuracy score of the classifiers. \n",
    "\n",
    "*feature engineering*\n",
    "\n",
    "* expanded the list of features from 50 to 100 into a new feature matrix, `X_token_k`\n",
    "* trained and tested multiple classifiers for `X_token_k` and `y_binary` \n",
    "* cross-validated the results using 10 folds and compared their metrics \n",
    "\n",
    "*optimized parameters of classifier*\n",
    "\n",
    "* changed the `max_depth` of the decision tree classifiers and compared the metrics \n",
    "* changed the max features of the random forest classifiers and compared the metrics \n",
    "* trained and tested the updated classifiers for `X_token_k` and `y_binary` \n",
    "* cross-validated the results using 10 folds and compared their metrics \n",
    "\n",
    "**Embedding-based Feature Matrix**\n",
    "\n",
    "Then, I built an embedding-based feature matrix and fit it into various classifiers. \n",
    "* created a `get_doc_embedding` function that takes as arguments a text string and a spaCy NLP factory object and returns a word embedding vector, excluding stopwords, punctuations, and spaces \n",
    "* created an embedding-based feature matrix, `X_embedding`, with a numpy array of shape `len(data)` x `nlp.vocab.vectors_length`\n",
    "* standard scaled the embedding feature matrix and computed a 10-fold cross-validated logistic regression classification score\n",
    "* trained and tested the updated classifiers for `X_token_k` and `y_binary` \n",
    "* cross-validated the results using 10 folds and compared their metrics \n",
    "\n",
    "**Entities & POS Tag Feature Matrix**\n",
    "\n",
    "* used spaCy to count the number of entities and the number of tokens tagged with parts of speech of the types: `'PERSON', 'MONEY', 'TIME', 'ADJ', 'ADV', 'AUX', 'CCONJ', 'DET', 'NOUN', 'PRON', 'PROPN', 'VERB'`. \n",
    "* generated a feature matrix that has 12 total features, one for each of the indicated entity or POS types\n",
    "    * stored the counts for each risk corpus in a dictionary\n",
    "    * store all of your counters in a list\n",
    "* sum of the counts for the entities and POS tags across the whole corpus\n",
    "* visualize the counts \n",
    "* used a `DictVectorizer` to transform the list of populated counters into a feature matrix `X_trans`\n",
    "* standard scaled the resulting matrix\n",
    "* trained and tested the updated classifiers for `X_trans` and `y_binary` \n",
    "* cross-validated the results using 10 folds and compared their metrics \n",
    "* cross-validated the random forest classifier with different parameters and calculated the metrics \n",
    "\n",
    "**Topic Modeling Feature Matrix**\n",
    "\n",
    "* created a `CountVectorizer`, excluding stopwords, numbers, etc., called `X_topic`\n",
    "* standard scaled the resulting matrix\n",
    "* created an `LDA` object to select the most weighted words within the top 20 topics\n",
    "* referred the `print_top_words` function lecture code and prints the top words per topic \n",
    "* created a doc-topic feature matrix called `doc_topic_matrix` based on `X_topic`\n",
    "* trained and tested multiple classifiers for `doc_topic_matrix` and `y_binary` \n",
    "* cross-validated the results using 10 folds and compared their metrics \n"
   ]
  },
  {
   "cell_type": "markdown",
   "id": "b314bb7d-eb9e-4887-9a69-bcbba0e76a52",
   "metadata": {
    "tags": []
   },
   "source": [
    "# Part 3: Results"
   ]
  },
  {
   "cell_type": "code",
   "execution_count": 1,
   "id": "55973c51-65a9-4f7c-a387-f5a05648497c",
   "metadata": {},
   "outputs": [],
   "source": [
    "import requests\n",
    "import urllib\n",
    "from bs4 import BeautifulSoup\n",
    "import simplejson as json\n",
    "from urllib.request import Request, urlopen\n",
    "from fake_useragent import UserAgent\n",
    "from selenium import webdriver\n",
    "import time\n",
    "import re\n",
    "import pandas as pd\n",
    "import json\n",
    "import datetime\n",
    "import numpy as np\n",
    "import unicodedata\n",
    "from collections import Counter\n",
    "from nltk import word_tokenize, sent_tokenize\n",
    "import matplotlib.pyplot as plt\n",
    "import pickle\n",
    "from   sklearn.feature_extraction.text import TfidfVectorizer\n",
    "from   sklearn.feature_selection import SelectKBest, mutual_info_classif\n",
    "from   sklearn.linear_model import LogisticRegression, LinearRegression\n",
    "from   sklearn.model_selection import cross_val_score\n",
    "from   sklearn.preprocessing import StandardScaler\n",
    "import spacy\n",
    "from sklearn.ensemble import RandomForestClassifier\n",
    "from sklearn.tree import DecisionTreeClassifier\n",
    "from sklearn.naive_bayes import MultinomialNB\n",
    "from sklearn.svm import SVC\n",
    "from   sklearn.cluster import KMeans, SpectralClustering, DBSCAN, OPTICS, AgglomerativeClustering\n",
    "import os\n",
    "import string\n",
    "import copy\n",
    "from   collections import defaultdict\n",
    "from   nltk.corpus import stopwords\n",
    "from   sklearn.feature_selection import SelectKBest, mutual_info_regression\n",
    "from wordcloud import WordCloud \n",
    "import seaborn as sns\n",
    "from   sklearn.decomposition import TruncatedSVD\n",
    "from sklearn.feature_extraction import DictVectorizer\n",
    "from sklearn.model_selection import cross_validate\n",
    "import pyLDAvis\n",
    "import pyLDAvis.sklearn\n",
    "import warnings\n",
    "import pyLDAvis.gensim_models as gensimvis\n",
    "from   sklearn.decomposition import LatentDirichletAllocation\n",
    "from   sklearn.feature_extraction.text import CountVectorizer\n",
    "from scipy.stats import ttest_ind\n",
    "from sklearn.neighbors import KNeighborsClassifier\n",
    "import warnings\n",
    "from sklearn.svm import LinearSVC"
   ]
  },
  {
   "cell_type": "markdown",
   "id": "84839cf6-209e-441b-8147-7db1594507c9",
   "metadata": {
    "tags": []
   },
   "source": [
    "## I: Web Scraping\n",
    "\n",
    "### Please refer to `web-scraping-and-data-prep.ipynb` for this section. \n",
    "\n",
    "## II: Data Cleaning & Exploratory Analysis\n",
    "\n",
    "### Please refer to `web-scraping-and-data-prep.ipynb` for this section. "
   ]
  },
  {
   "cell_type": "markdown",
   "id": "9ca7e012-c449-46e5-985c-f247756ef6e7",
   "metadata": {
    "tags": []
   },
   "source": [
    "## III: Text Analysis"
   ]
  },
  {
   "cell_type": "markdown",
   "id": "e1ae4a5d-a3fe-4cd5-8059-da3c80a70faf",
   "metadata": {},
   "source": [
    "#### Load the scraped and cleaned data from `data.csv` into a data frame `df`"
   ]
  },
  {
   "cell_type": "code",
   "execution_count": 2,
   "id": "de063831-3700-443c-a8e0-30b09b3c5745",
   "metadata": {},
   "outputs": [],
   "source": [
    "df = pd.read_csv('data.csv').fillna(value = 0)"
   ]
  },
  {
   "cell_type": "markdown",
   "id": "964e61d7-a85e-4740-a1ad-556b94757391",
   "metadata": {
    "tags": []
   },
   "source": [
    "## Q1: What are the tones or sentiments used to describe the risks of companies? Are they related to the stock prices?"
   ]
  },
  {
   "cell_type": "markdown",
   "id": "5c63f21c-3552-4730-8d48-33bfd87641e9",
   "metadata": {
    "tags": []
   },
   "source": [
    "### 0. Create gold labels"
   ]
  },
  {
   "cell_type": "markdown",
   "id": "135d601e-d9d6-40ae-94db-35ddd426d8a1",
   "metadata": {},
   "source": [
    "* Create a vector **y_binary** of gold labels for stock prices. 0 stands for below-average stock prices and 1 represents above-average stock prices. "
   ]
  },
  {
   "cell_type": "code",
   "execution_count": 3,
   "id": "25537d91-2d35-49c9-a7f8-942d2745372a",
   "metadata": {},
   "outputs": [],
   "source": [
    "y_binary = list(map(lambda x : 0 if x < np.mean(df.price) else 1, df.price))"
   ]
  },
  {
   "cell_type": "code",
   "execution_count": 4,
   "id": "8ca40d63-5ffd-4cd5-9da3-4e799f71ee7e",
   "metadata": {},
   "outputs": [
    {
     "data": {
      "text/plain": [
       "304"
      ]
     },
     "execution_count": 4,
     "metadata": {},
     "output_type": "execute_result"
    }
   ],
   "source": [
    "len(y_binary)"
   ]
  },
  {
   "cell_type": "code",
   "execution_count": 5,
   "id": "9e584fc3-01d8-4342-be4d-d34dc9cbe0d1",
   "metadata": {},
   "outputs": [
    {
     "name": "stdout",
     "output_type": "stream",
     "text": [
      "Baseline accuracy: 0.395\n",
      "Baseline F1: 0.566\n"
     ]
    }
   ],
   "source": [
    "baseline_accuracy = np.sum(y_binary) / len(y_binary)\n",
    "baseline_precision = baseline_accuracy\n",
    "baseline_recall = 1.0\n",
    "baseline_f1 = 2*baseline_precision*baseline_recall/(baseline_precision+baseline_recall)\n",
    "print(\"Baseline accuracy:\", round(baseline_accuracy, 3))\n",
    "print(\"Baseline F1:\", round(baseline_f1, 3))"
   ]
  },
  {
   "cell_type": "markdown",
   "id": "009fe274-25b6-423f-9007-f57da23b1f8c",
   "metadata": {},
   "source": [
    "#### It seemed about 39.47% of the stock prices were above the average, which indicated that there are some high outliers (a few top performaners which had high stock prcies), which might skew the df. "
   ]
  },
  {
   "cell_type": "markdown",
   "id": "64ca0a91-07e8-483d-8bea-4aa6fe0599db",
   "metadata": {
    "tags": []
   },
   "source": [
    "### 1. Sentiment Analysis"
   ]
  },
  {
   "cell_type": "code",
   "execution_count": 6,
   "id": "5ae2f938-5b00-499d-9bd3-3713a13a3b3e",
   "metadata": {},
   "outputs": [],
   "source": [
    "# Making stopwords list\n",
    "stoplist = stopwords.words('english')\n",
    "for el in [i for i in string.punctuation]:\n",
    "    stoplist.append(el)"
   ]
  },
  {
   "cell_type": "code",
   "execution_count": 7,
   "id": "a5b0b784-b6d8-46aa-b09f-6f341f38ef8e",
   "metadata": {},
   "outputs": [],
   "source": [
    "emolex_file = os.path.join('emolex.txt')"
   ]
  },
  {
   "cell_type": "code",
   "execution_count": 8,
   "id": "3480470b-96cc-4646-b628-7f4f11b1e6f9",
   "metadata": {},
   "outputs": [],
   "source": [
    "# read_emolex function from INFO 3350 problem set code\n",
    "\n",
    "emolex_file = os.path.join('emolex.txt')\n",
    "\n",
    "def read_emolex(filepath=None):\n",
    "    '''\n",
    "    Takes a file path to the emolex lexicon file.\n",
    "    Returns a dictionary of emolex sentiment values.\n",
    "    '''\n",
    "    if filepath==None: # Try to find the emolex file\n",
    "        filepath = os.path.join('emolex.txt')\n",
    "        if os.path.isfile(filepath):\n",
    "            pass\n",
    "        elif os.path.isfile('emolex.txt'):\n",
    "            filepath = 'emolex.txt'\n",
    "        else:\n",
    "            raise FileNotFoundError('No EmoLex file found')\n",
    "    emolex = defaultdict(dict) # Like Counter(), defaultdict eases dictionary creation\n",
    "    with open(filepath, 'r') as f:\n",
    "    # emolex file format is: word emotion value\n",
    "        for line in f:\n",
    "            word, emotion, value = line.strip().split()\n",
    "            emolex[word][emotion] = int(value)\n",
    "    return emolex\n",
    "\n",
    "# Get EmoLex data. Make sure you set the right file path above.\n",
    "emolex = read_emolex(emolex_file)"
   ]
  },
  {
   "cell_type": "code",
   "execution_count": 9,
   "id": "28132539-303a-49c3-aaf5-f652f68e2cc0",
   "metadata": {},
   "outputs": [],
   "source": [
    "# Get EmoLex df. Make sure you set the right file path above.\n",
    "emolex = read_emolex(emolex_file)"
   ]
  },
  {
   "cell_type": "code",
   "execution_count": 10,
   "id": "919f8609-cf29-49a4-b2e5-31b690be077b",
   "metadata": {},
   "outputs": [],
   "source": [
    "def getSentScore(sentence_dicts, df, index):\n",
    "    \n",
    "    bookdict = dict({'anger': 0 , 'anticipation': 0,'disgust': 0,'fear': 0,'joy': 0,'negative': 0,'positive': 0,'sadness': 0,'surprise': 0, 'trust': 0})\n",
    "    \n",
    "    for sentence_dict in sentence_dicts:\n",
    "        for emotion in sentence_dict:\n",
    "            bookdict[emotion] += sentence_dict[emotion]\n",
    "    \n",
    "    for emotion in bookdict.keys():\n",
    "        bookdict[emotion] /= len(sentence_dicts)\n",
    "        df.at[index, emotion] = bookdict[emotion]\n",
    "    \n",
    "    return None  "
   ]
  },
  {
   "cell_type": "code",
   "execution_count": 11,
   "id": "2277e71c-713d-4111-98a9-6910f3f4148a",
   "metadata": {},
   "outputs": [],
   "source": [
    "def tokenize_text(text, stops=[]):\n",
    "    sentences = []\n",
    "    for sent in sent_tokenize(text.lower()):\n",
    "        sentences.append([word for word in word_tokenize(sent) if word not in stops])\n",
    "        \n",
    "    return sentences"
   ]
  },
  {
   "cell_type": "code",
   "execution_count": 12,
   "id": "6e5a71bb-d1c0-4def-8d7b-5998d30f4cd3",
   "metadata": {
    "tags": []
   },
   "outputs": [],
   "source": [
    "# sentence_sentiment_score from INFO 3350 problem set code\n",
    "def sentence_sentiment_score(toks, lexicon = emolex):\n",
    "    total = 0\n",
    "    emo_dict = defaultdict(lambda: 0)\n",
    "    \n",
    "    emotions = ['anger', 'anticipation','disgust','fear','joy','negative','positive','sadness','surprise', 'trust']\n",
    "    \n",
    "    \n",
    "    for word in toks:\n",
    "        total += 1\n",
    "        for emotion in emotions:\n",
    "            try:\n",
    "                emo_dict[emotion] += lexicon[word][emotion]\n",
    "            except:\n",
    "                continue\n",
    "    \n",
    "    for emotion in emotions:\n",
    "        if total > 0:\n",
    "            emo_dict[emotion] /= total\n",
    "        \n",
    "    return emo_dict"
   ]
  },
  {
   "cell_type": "code",
   "execution_count": 13,
   "id": "282c06d4-3c55-44af-b8cd-c6c24f33aadb",
   "metadata": {},
   "outputs": [],
   "source": [
    "#### Adding sentiment score columns\n",
    "size = len(df)\n",
    "\n",
    "df['anger'] = np.zeros(size)\n",
    "df['anticipation'] = np.zeros(size)\n",
    "df['disgust'] = np.zeros(size)\n",
    "df['fear'] = np.zeros(size)\n",
    "df['joy'] = np.zeros(size)\n",
    "df['negative'] = np.zeros(size)\n",
    "df['positive'] = np.zeros(size)\n",
    "df['sadness'] = np.zeros(size)\n",
    "df['surprise'] = np.zeros(size)\n",
    "df['trust'] = np.zeros(size)"
   ]
  },
  {
   "cell_type": "code",
   "execution_count": 14,
   "id": "42443a95-eee8-4a6e-b582-c90aee1ae57b",
   "metadata": {},
   "outputs": [
    {
     "data": {
      "text/plain": [
       "304"
      ]
     },
     "execution_count": 14,
     "metadata": {},
     "output_type": "execute_result"
    }
   ],
   "source": [
    "len(df)"
   ]
  },
  {
   "cell_type": "code",
   "execution_count": 15,
   "id": "0dd7346e-382a-4b6b-ae6b-857ec341048c",
   "metadata": {},
   "outputs": [
    {
     "name": "stdout",
     "output_type": "stream",
     "text": [
      "CPU times: user 1min 1s, sys: 818 ms, total: 1min 2s\n",
      "Wall time: 1min 5s\n"
     ]
    }
   ],
   "source": [
    "%%time\n",
    "\n",
    "for index, text in enumerate(df['risk']):\n",
    "    sentence_dicts = []\n",
    "    for sentence in tokenize_text(text, stops=stoplist):\n",
    "        sentence_dicts.append(sentence_sentiment_score(sentence))\n",
    "    getSentScore(sentence_dicts, df, index)"
   ]
  },
  {
   "cell_type": "code",
   "execution_count": 16,
   "id": "e4689608-4c1d-46d1-b045-11c23a7ab1f5",
   "metadata": {},
   "outputs": [
    {
     "data": {
      "text/html": [
       "<div>\n",
       "<style scoped>\n",
       "    .dataframe tbody tr th:only-of-type {\n",
       "        vertical-align: middle;\n",
       "    }\n",
       "\n",
       "    .dataframe tbody tr th {\n",
       "        vertical-align: top;\n",
       "    }\n",
       "\n",
       "    .dataframe thead th {\n",
       "        text-align: right;\n",
       "    }\n",
       "</style>\n",
       "<table border=\"1\" class=\"dataframe\">\n",
       "  <thead>\n",
       "    <tr style=\"text-align: right;\">\n",
       "      <th></th>\n",
       "      <th>Unnamed: 0</th>\n",
       "      <th>cik</th>\n",
       "      <th>symbol</th>\n",
       "      <th>company</th>\n",
       "      <th>fiscal_year</th>\n",
       "      <th>risk</th>\n",
       "      <th>sector</th>\n",
       "      <th>url</th>\n",
       "      <th>price</th>\n",
       "      <th>text</th>\n",
       "      <th>...</th>\n",
       "      <th>anger</th>\n",
       "      <th>anticipation</th>\n",
       "      <th>disgust</th>\n",
       "      <th>fear</th>\n",
       "      <th>joy</th>\n",
       "      <th>negative</th>\n",
       "      <th>positive</th>\n",
       "      <th>sadness</th>\n",
       "      <th>surprise</th>\n",
       "      <th>trust</th>\n",
       "    </tr>\n",
       "  </thead>\n",
       "  <tbody>\n",
       "    <tr>\n",
       "      <th>299</th>\n",
       "      <td>320</td>\n",
       "      <td>900075</td>\n",
       "      <td>CPRT</td>\n",
       "      <td>Copart, Inc. (DE) Common Stock</td>\n",
       "      <td>2016</td>\n",
       "      <td>item 1a.    risk factorsinvesting in our commo...</td>\n",
       "      <td>Industrials</td>\n",
       "      <td>https://www.sec.gov/Archives/edgar/data/900075...</td>\n",
       "      <td>27.705000</td>\n",
       "      <td>item 1a.    risk factorsinvesting in our commo...</td>\n",
       "      <td>...</td>\n",
       "      <td>0.019701</td>\n",
       "      <td>0.038329</td>\n",
       "      <td>0.016762</td>\n",
       "      <td>0.030321</td>\n",
       "      <td>0.009661</td>\n",
       "      <td>0.066185</td>\n",
       "      <td>0.094219</td>\n",
       "      <td>0.023611</td>\n",
       "      <td>0.008625</td>\n",
       "      <td>0.052095</td>\n",
       "    </tr>\n",
       "    <tr>\n",
       "      <th>300</th>\n",
       "      <td>321</td>\n",
       "      <td>900075</td>\n",
       "      <td>CPRT</td>\n",
       "      <td>Copart, Inc. (DE) Common Stock</td>\n",
       "      <td>2014</td>\n",
       "      <td>item 1a.\\n \\nrisk factors\\n\\n\\n\\ninvesting in ...</td>\n",
       "      <td>Industrials</td>\n",
       "      <td>https://www.sec.gov/Archives/edgar/data/900075...</td>\n",
       "      <td>18.245001</td>\n",
       "      <td>item 1a.   risk factors    investing in our co...</td>\n",
       "      <td>...</td>\n",
       "      <td>0.023981</td>\n",
       "      <td>0.037899</td>\n",
       "      <td>0.019341</td>\n",
       "      <td>0.033534</td>\n",
       "      <td>0.010873</td>\n",
       "      <td>0.066368</td>\n",
       "      <td>0.096863</td>\n",
       "      <td>0.026728</td>\n",
       "      <td>0.007782</td>\n",
       "      <td>0.053089</td>\n",
       "    </tr>\n",
       "    <tr>\n",
       "      <th>301</th>\n",
       "      <td>322</td>\n",
       "      <td>900075</td>\n",
       "      <td>CPRT</td>\n",
       "      <td>Copart, Inc. (DE) Common Stock</td>\n",
       "      <td>2013</td>\n",
       "      <td>item 1a.\\n \\nrisk factors\\n\\n\\n\\ninvesting in ...</td>\n",
       "      <td>Industrials</td>\n",
       "      <td>https://www.sec.gov/Archives/edgar/data/900075...</td>\n",
       "      <td>18.325001</td>\n",
       "      <td>item 1a.   risk factors    investing in our co...</td>\n",
       "      <td>...</td>\n",
       "      <td>0.024179</td>\n",
       "      <td>0.039362</td>\n",
       "      <td>0.020800</td>\n",
       "      <td>0.036514</td>\n",
       "      <td>0.010880</td>\n",
       "      <td>0.067244</td>\n",
       "      <td>0.098653</td>\n",
       "      <td>0.028181</td>\n",
       "      <td>0.007672</td>\n",
       "      <td>0.053146</td>\n",
       "    </tr>\n",
       "    <tr>\n",
       "      <th>302</th>\n",
       "      <td>323</td>\n",
       "      <td>900075</td>\n",
       "      <td>CPRT</td>\n",
       "      <td>Copart, Inc. (DE) Common Stock</td>\n",
       "      <td>2010</td>\n",
       "      <td>item 1a.    risk factors  \\n        investing ...</td>\n",
       "      <td>Industrials</td>\n",
       "      <td>https://www.sec.gov/Archives/edgar/data/900075...</td>\n",
       "      <td>9.337500</td>\n",
       "      <td>item 1a.    risk factors           investing i...</td>\n",
       "      <td>...</td>\n",
       "      <td>0.023554</td>\n",
       "      <td>0.040803</td>\n",
       "      <td>0.019069</td>\n",
       "      <td>0.033254</td>\n",
       "      <td>0.010905</td>\n",
       "      <td>0.065662</td>\n",
       "      <td>0.104372</td>\n",
       "      <td>0.025967</td>\n",
       "      <td>0.006681</td>\n",
       "      <td>0.050782</td>\n",
       "    </tr>\n",
       "    <tr>\n",
       "      <th>303</th>\n",
       "      <td>324</td>\n",
       "      <td>900075</td>\n",
       "      <td>CPRT</td>\n",
       "      <td>Copart, Inc. (DE) Common Stock</td>\n",
       "      <td>2009</td>\n",
       "      <td>item 1a.    risk factors     \\n        investi...</td>\n",
       "      <td>Industrials</td>\n",
       "      <td>https://www.sec.gov/Archives/edgar/data/900075...</td>\n",
       "      <td>9.155000</td>\n",
       "      <td>item 1a.    risk factors              investin...</td>\n",
       "      <td>...</td>\n",
       "      <td>0.024608</td>\n",
       "      <td>0.038114</td>\n",
       "      <td>0.019443</td>\n",
       "      <td>0.033097</td>\n",
       "      <td>0.011708</td>\n",
       "      <td>0.066980</td>\n",
       "      <td>0.103876</td>\n",
       "      <td>0.026330</td>\n",
       "      <td>0.005692</td>\n",
       "      <td>0.049739</td>\n",
       "    </tr>\n",
       "  </tbody>\n",
       "</table>\n",
       "<p>5 rows × 21 columns</p>\n",
       "</div>"
      ],
      "text/plain": [
       "     Unnamed: 0     cik symbol                         company  fiscal_year  \\\n",
       "299         320  900075   CPRT  Copart, Inc. (DE) Common Stock         2016   \n",
       "300         321  900075   CPRT  Copart, Inc. (DE) Common Stock         2014   \n",
       "301         322  900075   CPRT  Copart, Inc. (DE) Common Stock         2013   \n",
       "302         323  900075   CPRT  Copart, Inc. (DE) Common Stock         2010   \n",
       "303         324  900075   CPRT  Copart, Inc. (DE) Common Stock         2009   \n",
       "\n",
       "                                                  risk       sector  \\\n",
       "299  item 1a.    risk factorsinvesting in our commo...  Industrials   \n",
       "300  item 1a.\\n \\nrisk factors\\n\\n\\n\\ninvesting in ...  Industrials   \n",
       "301  item 1a.\\n \\nrisk factors\\n\\n\\n\\ninvesting in ...  Industrials   \n",
       "302  item 1a.    risk factors  \\n        investing ...  Industrials   \n",
       "303  item 1a.    risk factors     \\n        investi...  Industrials   \n",
       "\n",
       "                                                   url      price  \\\n",
       "299  https://www.sec.gov/Archives/edgar/data/900075...  27.705000   \n",
       "300  https://www.sec.gov/Archives/edgar/data/900075...  18.245001   \n",
       "301  https://www.sec.gov/Archives/edgar/data/900075...  18.325001   \n",
       "302  https://www.sec.gov/Archives/edgar/data/900075...   9.337500   \n",
       "303  https://www.sec.gov/Archives/edgar/data/900075...   9.155000   \n",
       "\n",
       "                                                  text  ...     anger  \\\n",
       "299  item 1a.    risk factorsinvesting in our commo...  ...  0.019701   \n",
       "300  item 1a.   risk factors    investing in our co...  ...  0.023981   \n",
       "301  item 1a.   risk factors    investing in our co...  ...  0.024179   \n",
       "302  item 1a.    risk factors           investing i...  ...  0.023554   \n",
       "303  item 1a.    risk factors              investin...  ...  0.024608   \n",
       "\n",
       "     anticipation   disgust      fear       joy  negative  positive   sadness  \\\n",
       "299      0.038329  0.016762  0.030321  0.009661  0.066185  0.094219  0.023611   \n",
       "300      0.037899  0.019341  0.033534  0.010873  0.066368  0.096863  0.026728   \n",
       "301      0.039362  0.020800  0.036514  0.010880  0.067244  0.098653  0.028181   \n",
       "302      0.040803  0.019069  0.033254  0.010905  0.065662  0.104372  0.025967   \n",
       "303      0.038114  0.019443  0.033097  0.011708  0.066980  0.103876  0.026330   \n",
       "\n",
       "     surprise     trust  \n",
       "299  0.008625  0.052095  \n",
       "300  0.007782  0.053089  \n",
       "301  0.007672  0.053146  \n",
       "302  0.006681  0.050782  \n",
       "303  0.005692  0.049739  \n",
       "\n",
       "[5 rows x 21 columns]"
      ]
     },
     "execution_count": 16,
     "metadata": {},
     "output_type": "execute_result"
    }
   ],
   "source": [
    "df.tail()"
   ]
  },
  {
   "cell_type": "markdown",
   "id": "6250670e-fd96-4c19-a106-b5c837197d8c",
   "metadata": {},
   "source": [
    "#### Mean sentiment scores were appended to the `df`"
   ]
  },
  {
   "cell_type": "code",
   "execution_count": 17,
   "id": "a1b7de71-8a72-40c0-a089-44acc226bd1a",
   "metadata": {},
   "outputs": [
    {
     "data": {
      "text/html": [
       "<div>\n",
       "<style scoped>\n",
       "    .dataframe tbody tr th:only-of-type {\n",
       "        vertical-align: middle;\n",
       "    }\n",
       "\n",
       "    .dataframe tbody tr th {\n",
       "        vertical-align: top;\n",
       "    }\n",
       "\n",
       "    .dataframe thead th {\n",
       "        text-align: right;\n",
       "    }\n",
       "</style>\n",
       "<table border=\"1\" class=\"dataframe\">\n",
       "  <thead>\n",
       "    <tr style=\"text-align: right;\">\n",
       "      <th></th>\n",
       "      <th>Unnamed: 0</th>\n",
       "      <th>cik</th>\n",
       "      <th>fiscal_year</th>\n",
       "      <th>price</th>\n",
       "      <th>word_count</th>\n",
       "      <th>anger</th>\n",
       "      <th>anticipation</th>\n",
       "      <th>disgust</th>\n",
       "      <th>fear</th>\n",
       "      <th>joy</th>\n",
       "      <th>negative</th>\n",
       "      <th>positive</th>\n",
       "      <th>sadness</th>\n",
       "      <th>surprise</th>\n",
       "      <th>trust</th>\n",
       "    </tr>\n",
       "  </thead>\n",
       "  <tbody>\n",
       "    <tr>\n",
       "      <th>count</th>\n",
       "      <td>304.000000</td>\n",
       "      <td>3.040000e+02</td>\n",
       "      <td>304.000000</td>\n",
       "      <td>304.000000</td>\n",
       "      <td>304.000000</td>\n",
       "      <td>304.000000</td>\n",
       "      <td>304.000000</td>\n",
       "      <td>304.000000</td>\n",
       "      <td>304.000000</td>\n",
       "      <td>304.000000</td>\n",
       "      <td>304.000000</td>\n",
       "      <td>304.000000</td>\n",
       "      <td>304.000000</td>\n",
       "      <td>304.000000</td>\n",
       "      <td>304.000000</td>\n",
       "    </tr>\n",
       "    <tr>\n",
       "      <th>mean</th>\n",
       "      <td>160.911184</td>\n",
       "      <td>8.834649e+05</td>\n",
       "      <td>2013.154605</td>\n",
       "      <td>55.872967</td>\n",
       "      <td>20770.375000</td>\n",
       "      <td>0.017637</td>\n",
       "      <td>0.041907</td>\n",
       "      <td>0.009962</td>\n",
       "      <td>0.027525</td>\n",
       "      <td>0.018901</td>\n",
       "      <td>0.059696</td>\n",
       "      <td>0.105277</td>\n",
       "      <td>0.023928</td>\n",
       "      <td>0.009313</td>\n",
       "      <td>0.059365</td>\n",
       "    </tr>\n",
       "    <tr>\n",
       "      <th>std</th>\n",
       "      <td>94.628030</td>\n",
       "      <td>3.874983e+05</td>\n",
       "      <td>3.549617</td>\n",
       "      <td>45.485301</td>\n",
       "      <td>17656.526626</td>\n",
       "      <td>0.004749</td>\n",
       "      <td>0.006466</td>\n",
       "      <td>0.003954</td>\n",
       "      <td>0.006934</td>\n",
       "      <td>0.004922</td>\n",
       "      <td>0.011735</td>\n",
       "      <td>0.009175</td>\n",
       "      <td>0.005281</td>\n",
       "      <td>0.003183</td>\n",
       "      <td>0.008030</td>\n",
       "    </tr>\n",
       "    <tr>\n",
       "      <th>min</th>\n",
       "      <td>0.000000</td>\n",
       "      <td>2.488000e+03</td>\n",
       "      <td>2007.000000</td>\n",
       "      <td>1.630000</td>\n",
       "      <td>1423.000000</td>\n",
       "      <td>0.007411</td>\n",
       "      <td>0.027373</td>\n",
       "      <td>0.001337</td>\n",
       "      <td>0.011841</td>\n",
       "      <td>0.005467</td>\n",
       "      <td>0.034340</td>\n",
       "      <td>0.081583</td>\n",
       "      <td>0.012612</td>\n",
       "      <td>0.003284</td>\n",
       "      <td>0.039743</td>\n",
       "    </tr>\n",
       "    <tr>\n",
       "      <th>25%</th>\n",
       "      <td>77.750000</td>\n",
       "      <td>7.693970e+05</td>\n",
       "      <td>2010.000000</td>\n",
       "      <td>22.351250</td>\n",
       "      <td>8559.500000</td>\n",
       "      <td>0.014453</td>\n",
       "      <td>0.037874</td>\n",
       "      <td>0.007385</td>\n",
       "      <td>0.021839</td>\n",
       "      <td>0.016099</td>\n",
       "      <td>0.050279</td>\n",
       "      <td>0.099411</td>\n",
       "      <td>0.020588</td>\n",
       "      <td>0.007238</td>\n",
       "      <td>0.054046</td>\n",
       "    </tr>\n",
       "    <tr>\n",
       "      <th>50%</th>\n",
       "      <td>162.500000</td>\n",
       "      <td>8.911030e+05</td>\n",
       "      <td>2013.000000</td>\n",
       "      <td>43.465000</td>\n",
       "      <td>13549.000000</td>\n",
       "      <td>0.017320</td>\n",
       "      <td>0.042030</td>\n",
       "      <td>0.009856</td>\n",
       "      <td>0.028327</td>\n",
       "      <td>0.018006</td>\n",
       "      <td>0.060357</td>\n",
       "      <td>0.105674</td>\n",
       "      <td>0.023531</td>\n",
       "      <td>0.008982</td>\n",
       "      <td>0.058147</td>\n",
       "    </tr>\n",
       "    <tr>\n",
       "      <th>75%</th>\n",
       "      <td>240.250000</td>\n",
       "      <td>1.094455e+06</td>\n",
       "      <td>2016.000000</td>\n",
       "      <td>74.807501</td>\n",
       "      <td>27734.750000</td>\n",
       "      <td>0.020033</td>\n",
       "      <td>0.044576</td>\n",
       "      <td>0.012538</td>\n",
       "      <td>0.032216</td>\n",
       "      <td>0.020773</td>\n",
       "      <td>0.067393</td>\n",
       "      <td>0.111322</td>\n",
       "      <td>0.027425</td>\n",
       "      <td>0.010611</td>\n",
       "      <td>0.063793</td>\n",
       "    </tr>\n",
       "    <tr>\n",
       "      <th>max</th>\n",
       "      <td>324.000000</td>\n",
       "      <td>1.811210e+06</td>\n",
       "      <td>2020.000000</td>\n",
       "      <td>231.669998</td>\n",
       "      <td>80342.000000</td>\n",
       "      <td>0.041867</td>\n",
       "      <td>0.069143</td>\n",
       "      <td>0.027367</td>\n",
       "      <td>0.050213</td>\n",
       "      <td>0.037843</td>\n",
       "      <td>0.093268</td>\n",
       "      <td>0.130600</td>\n",
       "      <td>0.042139</td>\n",
       "      <td>0.021311</td>\n",
       "      <td>0.086329</td>\n",
       "    </tr>\n",
       "  </tbody>\n",
       "</table>\n",
       "</div>"
      ],
      "text/plain": [
       "       Unnamed: 0           cik  fiscal_year       price    word_count  \\\n",
       "count  304.000000  3.040000e+02   304.000000  304.000000    304.000000   \n",
       "mean   160.911184  8.834649e+05  2013.154605   55.872967  20770.375000   \n",
       "std     94.628030  3.874983e+05     3.549617   45.485301  17656.526626   \n",
       "min      0.000000  2.488000e+03  2007.000000    1.630000   1423.000000   \n",
       "25%     77.750000  7.693970e+05  2010.000000   22.351250   8559.500000   \n",
       "50%    162.500000  8.911030e+05  2013.000000   43.465000  13549.000000   \n",
       "75%    240.250000  1.094455e+06  2016.000000   74.807501  27734.750000   \n",
       "max    324.000000  1.811210e+06  2020.000000  231.669998  80342.000000   \n",
       "\n",
       "            anger  anticipation     disgust        fear         joy  \\\n",
       "count  304.000000    304.000000  304.000000  304.000000  304.000000   \n",
       "mean     0.017637      0.041907    0.009962    0.027525    0.018901   \n",
       "std      0.004749      0.006466    0.003954    0.006934    0.004922   \n",
       "min      0.007411      0.027373    0.001337    0.011841    0.005467   \n",
       "25%      0.014453      0.037874    0.007385    0.021839    0.016099   \n",
       "50%      0.017320      0.042030    0.009856    0.028327    0.018006   \n",
       "75%      0.020033      0.044576    0.012538    0.032216    0.020773   \n",
       "max      0.041867      0.069143    0.027367    0.050213    0.037843   \n",
       "\n",
       "         negative    positive     sadness    surprise       trust  \n",
       "count  304.000000  304.000000  304.000000  304.000000  304.000000  \n",
       "mean     0.059696    0.105277    0.023928    0.009313    0.059365  \n",
       "std      0.011735    0.009175    0.005281    0.003183    0.008030  \n",
       "min      0.034340    0.081583    0.012612    0.003284    0.039743  \n",
       "25%      0.050279    0.099411    0.020588    0.007238    0.054046  \n",
       "50%      0.060357    0.105674    0.023531    0.008982    0.058147  \n",
       "75%      0.067393    0.111322    0.027425    0.010611    0.063793  \n",
       "max      0.093268    0.130600    0.042139    0.021311    0.086329  "
      ]
     },
     "execution_count": 17,
     "metadata": {},
     "output_type": "execute_result"
    }
   ],
   "source": [
    "df.describe()"
   ]
  },
  {
   "cell_type": "markdown",
   "id": "20ee5e49-23e9-4148-a41b-1ab51e0fd0fc",
   "metadata": {
    "tags": []
   },
   "source": [
    "#### Visualize the sentiment analysis"
   ]
  },
  {
   "cell_type": "code",
   "execution_count": 18,
   "id": "cdf45d00-c5c2-4020-b801-069fa00d804e",
   "metadata": {},
   "outputs": [],
   "source": [
    "# from INFO 3350 problem set\n",
    "def visualize_emotion_scores(scores, cols, xLabel):\n",
    "    df = pd.DataFrame.from_dict(scores)\n",
    "    values = df.columns\n",
    "    df = df.reset_index().melt(id_vars='index', value_vars=values, var_name='emotion').rename(columns={'index':xLabel})\n",
    "    sns.set_context('poster')\n",
    "    g = sns.catplot(x=xLabel, y='value', col='emotion', data=df, kind='bar', col_wrap=cols)\n",
    "    g.set_xticklabels(rotation = 90, fontsize=10)\n",
    "    return g"
   ]
  },
  {
   "cell_type": "markdown",
   "id": "77ef99fe-efbf-46a3-99a3-27a98f307c80",
   "metadata": {},
   "source": [
    "#### Group the mean sentiment scores based on `y_binary`"
   ]
  },
  {
   "cell_type": "code",
   "execution_count": 19,
   "id": "95dd091a-40d1-40b8-916b-c299f7b33a1d",
   "metadata": {},
   "outputs": [
    {
     "name": "stdout",
     "output_type": "stream",
     "text": [
      "Average detective novel sentiment scores in comparison to average sentiment scores of all other genres in the corpus. \n",
      "'True' indicates detective novels.\n"
     ]
    },
    {
     "data": {
      "text/html": [
       "<div>\n",
       "<style scoped>\n",
       "    .dataframe tbody tr th:only-of-type {\n",
       "        vertical-align: middle;\n",
       "    }\n",
       "\n",
       "    .dataframe tbody tr th {\n",
       "        vertical-align: top;\n",
       "    }\n",
       "\n",
       "    .dataframe thead th {\n",
       "        text-align: right;\n",
       "    }\n",
       "</style>\n",
       "<table border=\"1\" class=\"dataframe\">\n",
       "  <thead>\n",
       "    <tr style=\"text-align: right;\">\n",
       "      <th></th>\n",
       "      <th>anger</th>\n",
       "      <th>anticipation</th>\n",
       "      <th>disgust</th>\n",
       "      <th>fear</th>\n",
       "      <th>joy</th>\n",
       "      <th>negative</th>\n",
       "      <th>positive</th>\n",
       "      <th>sadness</th>\n",
       "      <th>surprise</th>\n",
       "      <th>trust</th>\n",
       "    </tr>\n",
       "  </thead>\n",
       "  <tbody>\n",
       "    <tr>\n",
       "      <th>0</th>\n",
       "      <td>0.017662</td>\n",
       "      <td>0.041922</td>\n",
       "      <td>0.010006</td>\n",
       "      <td>0.027683</td>\n",
       "      <td>0.018833</td>\n",
       "      <td>0.059660</td>\n",
       "      <td>0.104365</td>\n",
       "      <td>0.02416</td>\n",
       "      <td>0.009218</td>\n",
       "      <td>0.058108</td>\n",
       "    </tr>\n",
       "    <tr>\n",
       "      <th>1</th>\n",
       "      <td>0.017599</td>\n",
       "      <td>0.041885</td>\n",
       "      <td>0.009894</td>\n",
       "      <td>0.027282</td>\n",
       "      <td>0.019003</td>\n",
       "      <td>0.059752</td>\n",
       "      <td>0.106675</td>\n",
       "      <td>0.02357</td>\n",
       "      <td>0.009458</td>\n",
       "      <td>0.061293</td>\n",
       "    </tr>\n",
       "  </tbody>\n",
       "</table>\n",
       "</div>"
      ],
      "text/plain": [
       "      anger  anticipation   disgust      fear       joy  negative  positive  \\\n",
       "0  0.017662      0.041922  0.010006  0.027683  0.018833  0.059660  0.104365   \n",
       "1  0.017599      0.041885  0.009894  0.027282  0.019003  0.059752  0.106675   \n",
       "\n",
       "   sadness  surprise     trust  \n",
       "0  0.02416  0.009218  0.058108  \n",
       "1  0.02357  0.009458  0.061293  "
      ]
     },
     "execution_count": 19,
     "metadata": {},
     "output_type": "execute_result"
    }
   ],
   "source": [
    "grouped_sent = df.groupby(y_binary).mean()\\\n",
    "[['anger','anticipation','disgust','fear','joy','negative','positive','sadness','surprise', 'trust']]\n",
    "\n",
    "print(\"Average detective novel sentiment scores in comparison to average sentiment scores of all other genres in \\\n",
    "the corpus. \\n\\\n",
    "'True' indicates detective novels.\")\n",
    "\n",
    "grouped_sent"
   ]
  },
  {
   "cell_type": "code",
   "execution_count": 20,
   "id": "01469a8e-fcde-4814-8a7a-e68be1717010",
   "metadata": {},
   "outputs": [],
   "source": [
    "sent_dict = grouped_sent.to_dict()"
   ]
  },
  {
   "cell_type": "code",
   "execution_count": 21,
   "id": "02468b57-e028-4f84-a33b-012765b73e51",
   "metadata": {},
   "outputs": [
    {
     "data": {
      "text/plain": [
       "<seaborn.axisgrid.FacetGrid at 0x7ff561308970>"
      ]
     },
     "execution_count": 21,
     "metadata": {},
     "output_type": "execute_result"
    },
    {
     "data": {
      "image/png": "[encoded data removed]",
      "text/plain": [
       "<Figure size 1440x1080 with 10 Axes>"
      ]
     },
     "metadata": {
      "needs_background": "light"
     },
     "output_type": "display_data"
    }
   ],
   "source": [
    "visualize_emotion_scores(sent_dict, 4, 'Below Avg vs. Above Avg')"
   ]
  },
  {
   "cell_type": "markdown",
   "id": "b732bf10-493c-49a9-ac04-d8da284cb015",
   "metadata": {},
   "source": [
    "#### We did not see obvious differences among the emotions between the two groups, so I conducted the t-test below. "
   ]
  },
  {
   "cell_type": "code",
   "execution_count": 22,
   "id": "d4198f00-6544-4f9e-9f19-b0511dc6e35e",
   "metadata": {},
   "outputs": [
    {
     "name": "stdout",
     "output_type": "stream",
     "text": [
      "anger\n",
      "t-statistic:\t 0.11521\n",
      "p-value:    \t 0.90836 \n",
      "\n",
      "anticipation\n",
      "t-statistic:\t 0.04748\n",
      "p-value:    \t 0.96218 \n",
      "\n",
      "disgust\n",
      "t-statistic:\t 0.24921\n",
      "p-value:    \t 0.80338 \n",
      "\n",
      "fear\n",
      "t-statistic:\t 0.50331\n",
      "p-value:    \t 0.61516 \n",
      "\n",
      "joy\n",
      "t-statistic:\t -0.28429\n",
      "p-value:    \t 0.77645 \n",
      "\n",
      "negative\n",
      "t-statistic:\t -0.06636\n",
      "p-value:    \t 0.94714 \n",
      "\n",
      "positive\n",
      "t-statistic:\t -2.10956\n",
      "p-value:    \t 0.03596 \n",
      "\n",
      "sadness\n",
      "t-statistic:\t 0.95954\n",
      "p-value:    \t 0.33817 \n",
      "\n",
      "surprise\n",
      "t-statistic:\t -0.64227\n",
      "p-value:    \t 0.52127 \n",
      "\n",
      "trust\n",
      "t-statistic:\t -3.37808\n",
      "p-value:    \t 0.00085 \n",
      "\n"
     ]
    }
   ],
   "source": [
    "emotions = ['anger', 'anticipation','disgust','fear','joy','negative','positive','sadness','surprise', 'trust']\n",
    "\n",
    "for emo in emotions:\n",
    "    stat, p = ttest_ind(\n",
    "        df.loc[df.price < np.mean(df.price)][emo], \n",
    "        df.loc[df.price >= np.mean(df.price)][emo],\n",
    "        equal_var=False\n",
    "    )\n",
    "    print(f\"{emo}\")\n",
    "    print('t-statistic:\\t', round(stat, 5))\n",
    "    print('p-value:    \\t', round(p, 5), '\\n')"
   ]
  },
  {
   "cell_type": "markdown",
   "id": "6b3218f5-f3d9-480d-b576-42e27ea2a260",
   "metadata": {
    "jp-MarkdownHeadingCollapsed": true,
    "tags": []
   },
   "source": [
    "#### Findings: \n",
    "\n",
    "* Acorss all the emotions, it seemed those publicly traded companies tended to use **positive** tones in their writings of the Risk Factors section no matter what their stock performances were, compared to any other emotions. \n",
    "\n",
    "* The emotion **surprise** is the least mentioned in the Risk Factors section. It seemed those companies used caution when publishing their 10-K annual reports, trying not to deliver any surprising messages to scare them away. \n",
    "\n",
    "* Both the **positive** and **trust** emotions showed statistically significant (p-value < 0.05) between below-average and above-average stock prices. Namely, when companies perfomed better than the average stock prices, they tended to be more optimistic about thier risks and would assure their investors about their competence. "
   ]
  },
  {
   "cell_type": "markdown",
   "id": "d254ff07-3861-4a07-83cc-8361e56cc3b5",
   "metadata": {
    "tags": []
   },
   "source": [
    "#### Sentiment analysis by sector"
   ]
  },
  {
   "cell_type": "markdown",
   "id": "623b9e0b-4238-4fe9-829f-f7a35c3909f4",
   "metadata": {},
   "source": [
    "#### Group the mean sentiment scores by business sector"
   ]
  },
  {
   "cell_type": "code",
   "execution_count": 23,
   "id": "58f8203d-273b-4a56-ae58-21c6b9d510f0",
   "metadata": {},
   "outputs": [
    {
     "name": "stdout",
     "output_type": "stream",
     "text": [
      "Average detective novel sentiment scores in comparison to average sentiment scores of all other genres in the corpus. \n",
      "'True' indicates detective novels.\n"
     ]
    },
    {
     "data": {
      "text/html": [
       "<div>\n",
       "<style scoped>\n",
       "    .dataframe tbody tr th:only-of-type {\n",
       "        vertical-align: middle;\n",
       "    }\n",
       "\n",
       "    .dataframe tbody tr th {\n",
       "        vertical-align: top;\n",
       "    }\n",
       "\n",
       "    .dataframe thead th {\n",
       "        text-align: right;\n",
       "    }\n",
       "</style>\n",
       "<table border=\"1\" class=\"dataframe\">\n",
       "  <thead>\n",
       "    <tr style=\"text-align: right;\">\n",
       "      <th></th>\n",
       "      <th>anger</th>\n",
       "      <th>anticipation</th>\n",
       "      <th>disgust</th>\n",
       "      <th>fear</th>\n",
       "      <th>joy</th>\n",
       "      <th>negative</th>\n",
       "      <th>positive</th>\n",
       "      <th>sadness</th>\n",
       "      <th>surprise</th>\n",
       "      <th>trust</th>\n",
       "    </tr>\n",
       "    <tr>\n",
       "      <th>sector</th>\n",
       "      <th></th>\n",
       "      <th></th>\n",
       "      <th></th>\n",
       "      <th></th>\n",
       "      <th></th>\n",
       "      <th></th>\n",
       "      <th></th>\n",
       "      <th></th>\n",
       "      <th></th>\n",
       "      <th></th>\n",
       "    </tr>\n",
       "  </thead>\n",
       "  <tbody>\n",
       "    <tr>\n",
       "      <th>Communication Services</th>\n",
       "      <td>0.017907</td>\n",
       "      <td>0.046434</td>\n",
       "      <td>0.010235</td>\n",
       "      <td>0.025370</td>\n",
       "      <td>0.023546</td>\n",
       "      <td>0.057030</td>\n",
       "      <td>0.103963</td>\n",
       "      <td>0.024235</td>\n",
       "      <td>0.012803</td>\n",
       "      <td>0.061518</td>\n",
       "    </tr>\n",
       "    <tr>\n",
       "      <th>Consumer Discretionary</th>\n",
       "      <td>0.020141</td>\n",
       "      <td>0.046028</td>\n",
       "      <td>0.011358</td>\n",
       "      <td>0.028109</td>\n",
       "      <td>0.023078</td>\n",
       "      <td>0.061278</td>\n",
       "      <td>0.108391</td>\n",
       "      <td>0.025355</td>\n",
       "      <td>0.012028</td>\n",
       "      <td>0.063059</td>\n",
       "    </tr>\n",
       "    <tr>\n",
       "      <th>Consumer Staples</th>\n",
       "      <td>0.017539</td>\n",
       "      <td>0.040549</td>\n",
       "      <td>0.011603</td>\n",
       "      <td>0.027445</td>\n",
       "      <td>0.019326</td>\n",
       "      <td>0.063433</td>\n",
       "      <td>0.108508</td>\n",
       "      <td>0.026673</td>\n",
       "      <td>0.008911</td>\n",
       "      <td>0.055298</td>\n",
       "    </tr>\n",
       "    <tr>\n",
       "      <th>Health Care</th>\n",
       "      <td>0.014626</td>\n",
       "      <td>0.040880</td>\n",
       "      <td>0.009368</td>\n",
       "      <td>0.029830</td>\n",
       "      <td>0.016184</td>\n",
       "      <td>0.058529</td>\n",
       "      <td>0.105661</td>\n",
       "      <td>0.021307</td>\n",
       "      <td>0.008196</td>\n",
       "      <td>0.056657</td>\n",
       "    </tr>\n",
       "    <tr>\n",
       "      <th>Industrials</th>\n",
       "      <td>0.018230</td>\n",
       "      <td>0.040832</td>\n",
       "      <td>0.010050</td>\n",
       "      <td>0.029187</td>\n",
       "      <td>0.016170</td>\n",
       "      <td>0.060518</td>\n",
       "      <td>0.104939</td>\n",
       "      <td>0.024201</td>\n",
       "      <td>0.006625</td>\n",
       "      <td>0.058790</td>\n",
       "    </tr>\n",
       "    <tr>\n",
       "      <th>Information Technology</th>\n",
       "      <td>0.018013</td>\n",
       "      <td>0.040952</td>\n",
       "      <td>0.009614</td>\n",
       "      <td>0.026815</td>\n",
       "      <td>0.018270</td>\n",
       "      <td>0.060279</td>\n",
       "      <td>0.104971</td>\n",
       "      <td>0.024352</td>\n",
       "      <td>0.008752</td>\n",
       "      <td>0.060054</td>\n",
       "    </tr>\n",
       "    <tr>\n",
       "      <th>Utilities</th>\n",
       "      <td>0.012886</td>\n",
       "      <td>0.030101</td>\n",
       "      <td>0.007581</td>\n",
       "      <td>0.026168</td>\n",
       "      <td>0.015492</td>\n",
       "      <td>0.046936</td>\n",
       "      <td>0.091092</td>\n",
       "      <td>0.015416</td>\n",
       "      <td>0.009377</td>\n",
       "      <td>0.044091</td>\n",
       "    </tr>\n",
       "  </tbody>\n",
       "</table>\n",
       "</div>"
      ],
      "text/plain": [
       "                           anger  anticipation   disgust      fear       joy  \\\n",
       "sector                                                                         \n",
       "Communication Services  0.017907      0.046434  0.010235  0.025370  0.023546   \n",
       "Consumer Discretionary  0.020141      0.046028  0.011358  0.028109  0.023078   \n",
       "Consumer Staples        0.017539      0.040549  0.011603  0.027445  0.019326   \n",
       "Health Care             0.014626      0.040880  0.009368  0.029830  0.016184   \n",
       "Industrials             0.018230      0.040832  0.010050  0.029187  0.016170   \n",
       "Information Technology  0.018013      0.040952  0.009614  0.026815  0.018270   \n",
       "Utilities               0.012886      0.030101  0.007581  0.026168  0.015492   \n",
       "\n",
       "                        negative  positive   sadness  surprise     trust  \n",
       "sector                                                                    \n",
       "Communication Services  0.057030  0.103963  0.024235  0.012803  0.061518  \n",
       "Consumer Discretionary  0.061278  0.108391  0.025355  0.012028  0.063059  \n",
       "Consumer Staples        0.063433  0.108508  0.026673  0.008911  0.055298  \n",
       "Health Care             0.058529  0.105661  0.021307  0.008196  0.056657  \n",
       "Industrials             0.060518  0.104939  0.024201  0.006625  0.058790  \n",
       "Information Technology  0.060279  0.104971  0.024352  0.008752  0.060054  \n",
       "Utilities               0.046936  0.091092  0.015416  0.009377  0.044091  "
      ]
     },
     "execution_count": 23,
     "metadata": {},
     "output_type": "execute_result"
    }
   ],
   "source": [
    "sent_sector = df.groupby(df.sector).mean()\\\n",
    "[['anger','anticipation','disgust','fear','joy','negative','positive','sadness','surprise', 'trust']]\n",
    "\n",
    "print(\"Average detective novel sentiment scores in comparison to average sentiment scores of all other genres in \\\n",
    "the corpus. \\n\\\n",
    "'True' indicates detective novels.\")\n",
    "\n",
    "sent_sector"
   ]
  },
  {
   "cell_type": "code",
   "execution_count": 24,
   "id": "ca38705f-fc78-4315-ae38-f64694ae510f",
   "metadata": {},
   "outputs": [],
   "source": [
    "sent_sec_dict = sent_sector.to_dict()"
   ]
  },
  {
   "cell_type": "code",
   "execution_count": 25,
   "id": "4d5f9638-23d1-4577-ae92-49d360aeed0c",
   "metadata": {},
   "outputs": [
    {
     "data": {
      "text/plain": [
       "<seaborn.axisgrid.FacetGrid at 0x7ff5363477c0>"
      ]
     },
     "execution_count": 25,
     "metadata": {},
     "output_type": "execute_result"
    },
    {
     "data": {
      "image/png": "[encoded data removed]",
      "text/plain": [
       "<Figure size 1080x1440 with 10 Axes>"
      ]
     },
     "metadata": {
      "needs_background": "light"
     },
     "output_type": "display_data"
    }
   ],
   "source": [
    "visualize_emotion_scores(sent_sec_dict, 3, 'Sector')"
   ]
  },
  {
   "cell_type": "markdown",
   "id": "854a3bae-3087-48ec-bd9c-ca4b5979fc7c",
   "metadata": {},
   "source": [
    "#### Looking at the mean sentiment scores by sector, we could get some interesting findings:"
   ]
  },
  {
   "cell_type": "markdown",
   "id": "b9803dc1-a121-4402-aa9e-5cb06bc109ca",
   "metadata": {},
   "source": [
    "(1) The sector **Utilities** appeared to have the lowest mean sentiment scores among any other sectors, except for the *surprise* emotion. In our dataset, there is only one company made up this category: 'Exelon Corporation'. So, the sentiment result might be underrepresented. "
   ]
  },
  {
   "cell_type": "code",
   "execution_count": 26,
   "id": "42c4fdf4-bc87-43a7-974c-9c3fa216d1cf",
   "metadata": {},
   "outputs": [
    {
     "data": {
      "text/plain": [
       "array(['Exelon Corporation Common Stock'], dtype=object)"
      ]
     },
     "execution_count": 26,
     "metadata": {},
     "output_type": "execute_result"
    }
   ],
   "source": [
    "df[df['sector'] == 'Utilities'].company.unique()"
   ]
  },
  {
   "cell_type": "markdown",
   "id": "8773a0c8-8cf7-4f12-a9bd-fc01a9c57ed6",
   "metadata": {},
   "source": [
    "(2) The **Consumer Discretionary** sector would like to deliver *anticipation*, *positivity* and *trust* emotions to their audience in their Risk Factors sections. Companies in this sector included Tesla, Airbnb, Amazon, Lululemon, Dollar Tree, and so on. In common sense, most of them were also considered fast-growing companies in the past 15 years. "
   ]
  },
  {
   "cell_type": "code",
   "execution_count": 27,
   "id": "8413572b-b704-49e9-9b72-bcb3e5c0fc59",
   "metadata": {},
   "outputs": [
    {
     "data": {
      "text/plain": [
       "array(['Lucid Group, Inc. Common Stock', 'Amazon.com, Inc. Common Stock',\n",
       "       \"O'Reilly Automotive, Inc. Common Stock\",\n",
       "       'MercadoLibre, Inc. Common Stock',\n",
       "       'lululemon athletica inc. Common Stock',\n",
       "       'Dollar Tree Inc. Common Stock', 'Ross Stores, Inc. Common Stock',\n",
       "       'Booking Holdings Inc. Common Stock',\n",
       "       'Airbnb, Inc. Class A Common Stock',\n",
       "       'Marriott International Class A Common Stock',\n",
       "       'Tesla, Inc. Common Stock'], dtype=object)"
      ]
     },
     "execution_count": 27,
     "metadata": {},
     "output_type": "execute_result"
    }
   ],
   "source": [
    "df[df['sector'] == 'Consumer Discretionary'].company.unique()"
   ]
  },
  {
   "cell_type": "markdown",
   "id": "687f5bf8-82ac-4a8a-9eff-db97b236d5c4",
   "metadata": {},
   "source": [
    "(3) The **Consumer Staples** sector showed slightly more worries regarding the risks in their 10-K reports and ranked the highest in *sadness* and *negative* emotion categories. There are four companies in this category in our dataset: Walgreens, PepsiCo, Mondelez International, and The Kraft Heinz Company. This industry was regarded as steady, less risky and volatile, which might be the reason why companies might not pay attention to the *sadness* or *negativeness* in their statements. "
   ]
  },
  {
   "cell_type": "code",
   "execution_count": 28,
   "id": "44dcbeb8-a350-4116-9570-3b58fc209926",
   "metadata": {},
   "outputs": [
    {
     "data": {
      "text/plain": [
       "array(['Walgreens Boots Alliance, Inc. Common Stock',\n",
       "       'PepsiCo, Inc. Common Stock',\n",
       "       'Mondelez International, Inc. Class A Common Stock',\n",
       "       'The Kraft Heinz Company Common Stock'], dtype=object)"
      ]
     },
     "execution_count": 28,
     "metadata": {},
     "output_type": "execute_result"
    }
   ],
   "source": [
    "df[df['sector'] == 'Consumer Staples'].company.unique()"
   ]
  },
  {
   "cell_type": "markdown",
   "id": "27415e14-e915-44b9-9767-1d517ef32457",
   "metadata": {
    "tags": []
   },
   "source": [
    "### 2. Clustering"
   ]
  },
  {
   "cell_type": "markdown",
   "id": "51406aab-24af-468e-a346-6fd0a56d6494",
   "metadata": {
    "tags": []
   },
   "source": [
    "#### Create `TfidfVectorizer` Vectorizer"
   ]
  },
  {
   "cell_type": "code",
   "execution_count": 29,
   "id": "e9c2669e-3f04-416d-a575-b375d77b5e8d",
   "metadata": {},
   "outputs": [],
   "source": [
    "# Vectorize\n",
    "vectorizer = TfidfVectorizer(\n",
    "    encoding = 'utf-8',\n",
    "    strip_accents = 'unicode',\n",
    "    lowercase = True,\n",
    "    min_df = 0.01,\n",
    "    max_df = 0.9,\n",
    "    use_idf=True,\n",
    "    token_pattern=r'(?u)\\b[A-Za-z]+\\b'\n",
    ")"
   ]
  },
  {
   "cell_type": "code",
   "execution_count": 30,
   "id": "27c3f2bc-9fa9-4c92-8dd7-8d6e71ed4dd6",
   "metadata": {},
   "outputs": [
    {
     "name": "stdout",
     "output_type": "stream",
     "text": [
      "Shape of the feature matrix (304, 11310)\n"
     ]
    }
   ],
   "source": [
    "# perform vectorization\n",
    "X = vectorizer.fit_transform(df.text.values.astype('U'))\n",
    "print(\"Shape of the feature matrix\", X.shape)"
   ]
  },
  {
   "cell_type": "code",
   "execution_count": 31,
   "id": "62ada3c8-bc8b-4982-940f-f4a5fe06355b",
   "metadata": {},
   "outputs": [
    {
     "name": "stderr",
     "output_type": "stream",
     "text": [
      "/Users/annzhou/opt/anaconda3/lib/python3.9/site-packages/sklearn/utils/validation.py:593: FutureWarning: np.matrix usage is deprecated in 1.0 and will raise a TypeError in 1.2. Please convert to a numpy array with np.asarray. For more information see: https://numpy.org/doc/stable/reference/generated/numpy.matrix.html\n",
      "  warnings.warn(\n",
      "/Users/annzhou/opt/anaconda3/lib/python3.9/site-packages/sklearn/utils/validation.py:593: FutureWarning: np.matrix usage is deprecated in 1.0 and will raise a TypeError in 1.2. Please convert to a numpy array with np.asarray. For more information see: https://numpy.org/doc/stable/reference/generated/numpy.matrix.html\n",
      "  warnings.warn(\n"
     ]
    }
   ],
   "source": [
    "# standard-scale feature matrix\n",
    "X = StandardScaler().fit_transform(X.todense())"
   ]
  },
  {
   "cell_type": "code",
   "execution_count": 32,
   "id": "62851541-3512-45e9-9d30-04ebb40d08a1",
   "metadata": {},
   "outputs": [],
   "source": [
    "############## code from INFO 6350 problem set code ##############\n",
    "def plot_compare(X, labels, title, reduce=True, alpha=0.2):\n",
    "    '''\n",
    "    Takes an array of object data, a set of cluster labels, and a title string\n",
    "    Reduces dimensions to 2 and plots the clustering.\n",
    "    Returns nothing.\n",
    "    '''\n",
    "    \n",
    "    if reduce:\n",
    "        # TruncatedSVD is fast and can handle sparse inputs\n",
    "        # PCA requires dense inputs; MDS is slow\n",
    "        coordinates = TruncatedSVD(n_components=2).fit_transform(X)\n",
    "    else:\n",
    "        # Optionally handle 2-D inputs\n",
    "        coordinates = X\n",
    "    \n",
    "    # Set up figure\n",
    "    fig, ax = plt.subplots(figsize=(12,6))\n",
    "\n",
    "    # Unlabeled data\n",
    "    plt.subplot(121) # 1x2 plot, position 1\n",
    "    plt.scatter(\n",
    "        coordinates[:, 0], \n",
    "        coordinates[:, 1], \n",
    "        alpha=alpha, # Set transparency so that we can see overlapping points\n",
    "        linewidths=0 # Get rid of marker outlines\n",
    "    )\n",
    "    plt.title(\"Unclustered data\")\n",
    "\n",
    "    # Labeled data\n",
    "    plt.subplot(122)\n",
    "    sns.scatterplot(\n",
    "        x=coordinates[:, 0], \n",
    "        y=coordinates[:, 1],\n",
    "        hue=labels,\n",
    "        alpha=alpha,\n",
    "        palette='viridis',\n",
    "        linewidth=0\n",
    "    )\n",
    "    plt.title(title)\n",
    "    plt.show()"
   ]
  },
  {
   "cell_type": "code",
   "execution_count": 33,
   "id": "b14680e2-adc5-43af-93a7-d8bf375be1ec",
   "metadata": {},
   "outputs": [],
   "source": [
    "############## code from INFO 6350 problem set code ##############\n",
    "def pull_samples(texts, labels, n=3):\n",
    "    '''\n",
    "    Takes lists of texts and an array of labels, as well as number of samples to return per label.\n",
    "    Prints sample texts belonging to each label.\n",
    "    '''\n",
    "    texts_array = np.array(texts) # Make the input text list easily addressable by NumPy\n",
    "    for label in np.unique(labels): # Iterate over labels\n",
    "        print(\"Label:\", label)\n",
    "        sample_index = np.where(labels == label)[0] # Limit selection to current label\n",
    "        print(\"Number of texts in this cluster:\", len(sample_index), '\\n')\n",
    "        chosen = np.random.choice(sample_index, size=n) # Sample n texts with this label\n",
    "        for choice in chosen:\n",
    "            print(\"Sample text:\", choice)\n",
    "            # print(str(texts_array[choice]).split(\" 0\")[0], '\\n') # Print each sampled text\n",
    "            print(str(texts_array[choice])[1:80]) # Print each sampled text\n",
    "            print(\"fiscal year: \", texts.fiscal_year[choice])\n",
    "            print(\"company: \", texts.company[choice])\n",
    "            print(\"word count: \", texts.word_count[choice])\n",
    "            print(\"sector: \", texts.sector[choice])\n",
    "            print(texts.url[choice], '\\n')\n",
    "        print(\"###################################\")"
   ]
  },
  {
   "cell_type": "code",
   "execution_count": 34,
   "id": "7c115671-4163-47f0-b613-cd17632f4c9d",
   "metadata": {},
   "outputs": [
    {
     "name": "stdout",
     "output_type": "stream",
     "text": [
      "Label vector shape:  (304,)\n",
      "Using KMeans clustering with n=7 clusters; we are assuming that the clusters are based on sectors.\n"
     ]
    },
    {
     "data": {
      "image/png": "[encoded data removed]",
      "text/plain": [
       "<Figure size 864x432 with 2 Axes>"
      ]
     },
     "metadata": {
      "needs_background": "light"
     },
     "output_type": "display_data"
    }
   ],
   "source": [
    "y_kmeans = KMeans(n_clusters=7).fit_predict(X) # this output is the cluster labels\n",
    "\n",
    "# Print label vector shape\n",
    "print('Label vector shape: ', y_kmeans.shape)\n",
    "\n",
    "print(\"Using KMeans clustering with n=7 clusters; we are assuming that the clusters are based on sectors.\")\n",
    "\n",
    "# Plot results\n",
    "plot_compare(X, y_kmeans, 'k-Means (predicted) labels', reduce=True, alpha=0.8)"
   ]
  },
  {
   "cell_type": "code",
   "execution_count": 35,
   "id": "89f33bf5-ff38-488f-acbb-b29ea3701da6",
   "metadata": {},
   "outputs": [
    {
     "name": "stdout",
     "output_type": "stream",
     "text": [
      "Label: 0\n",
      "Number of texts in this cluster: 85 \n",
      "\n",
      "Sample text: 151\n",
      "162 875320 'VRTX' 'Vertex Pharmaceuticals Incorporated Common Stock' 2018\n",
      " \"ite\n",
      "fiscal year:  2018\n",
      "company:  Vertex Pharmaceuticals Incorporated Common Stock\n",
      "word count:  18094\n",
      "sector:  Health Care\n",
      "https://www.sec.gov/Archives/edgar/data/875320/000087532019000006/a201810k-main.htm \n",
      "\n",
      "Sample text: 130\n",
      "138 935703 'DLTR' 'Dollar Tree Inc. Common Stock' 2010\n",
      " 'item 1a.  risk factors\n",
      "fiscal year:  2010\n",
      "company:  Dollar Tree Inc. Common Stock\n",
      "word count:  2327\n",
      "sector:  Consumer Discretionary\n",
      "https://www.sec.gov/Archives/edgar/data/935703/000093570310000010/form10k.htm \n",
      "\n",
      "Sample text: 273\n",
      "294 77476 'PEP' 'PepsiCo, Inc. Common Stock' 2008\n",
      " 'item 1a. risk factors  forw\n",
      "fiscal year:  2008\n",
      "company:  PepsiCo, Inc. Common Stock\n",
      "word count:  3265\n",
      "sector:  Consumer Staples\n",
      "https://www.sec.gov/Archives/edgar/data/77476/000119312509033126/d10k.htm \n",
      "\n",
      "###################################\n",
      "Label: 1\n",
      "Number of texts in this cluster: 167 \n",
      "\n",
      "Sample text: 82\n",
      "84 1442145 'VRSK' 'Verisk Analytics, Inc. Common Stock' 2012\n",
      " 'item 1a.\\nrisk f\n",
      "fiscal year:  2012\n",
      "company:  Verisk Analytics, Inc. Common Stock\n",
      "word count:  5960\n",
      "sector:  Industrials\n",
      "https://www.sec.gov/Archives/edgar/data/1442145/000119312513076934/d448659d10k.htm \n",
      "\n",
      "Sample text: 109\n",
      "117 898173 'ORLY' \"O'Reilly Automotive, Inc. Common Stock\" 2014\n",
      " 'item 1a.  ris\n",
      "fiscal year:  2014\n",
      "company:  O'Reilly Automotive, Inc. Common Stock\n",
      "word count:  3303\n",
      "sector:  Consumer Discretionary\n",
      "https://www.sec.gov/Archives/edgar/data/898173/000089817315000076/orly-20141231x10xk.htm \n",
      "\n",
      "Sample text: 232\n",
      "245 319201 'KLAC' 'KLA Corporation Common Stock' 2008\n",
      " 'item 1a.\\nrisk factors \n",
      "fiscal year:  2008\n",
      "company:  KLA Corporation Common Stock\n",
      "word count:  6693\n",
      "sector:  Information Technology\n",
      "https://www.sec.gov/Archives/edgar/data/319201/000119312508169062/d10k.htm \n",
      "\n",
      "###################################\n",
      "Label: 2\n",
      "Number of texts in this cluster: 27 \n",
      "\n",
      "Sample text: 164\n",
      "175 874716 'IDXX' 'IDEXX Laboratories, Inc. Common Stock' 2018\n",
      " 'item 1a. risk \n",
      "fiscal year:  2018\n",
      "company:  IDEXX Laboratories, Inc. Common Stock\n",
      "word count:  79274\n",
      "sector:  Health Care\n",
      "https://www.sec.gov/Archives/edgar/data/874716/000087471619000004/idxx201810k.htm \n",
      "\n",
      "Sample text: 95\n",
      "97 1013462 'ANSS' 'ANSYS, Inc. Common Stock' 2009\n",
      " 'item 1a.  acquisitions  on \n",
      "fiscal year:  2009\n",
      "company:  ANSYS, Inc. Common Stock\n",
      "word count:  30417\n",
      "sector:  Information Technology\n",
      "https://www.sec.gov/Archives/edgar/data/1013462/000119312510040617/d10k.htm \n",
      "\n",
      "Sample text: 165\n",
      "176 874716 'IDXX' 'IDEXX Laboratories, Inc. Common Stock' 2016\n",
      " 'item 1a. risk \n",
      "fiscal year:  2016\n",
      "company:  IDEXX Laboratories, Inc. Common Stock\n",
      "word count:  80342\n",
      "sector:  Health Care\n",
      "https://www.sec.gov/Archives/edgar/data/874716/000087471617000004/c716-20161231x10k.htm \n",
      "\n",
      "###################################\n",
      "Label: 3\n",
      "Number of texts in this cluster: 9 \n",
      "\n",
      "Sample text: 236\n",
      "249 1327567 'PANW' 'Palo Alto Networks, Inc. Common Stock' 2012\n",
      " 'item 1a.\\nris\n",
      "fiscal year:  2012\n",
      "company:  Palo Alto Networks, Inc. Common Stock\n",
      "word count:  21128\n",
      "sector:  Information Technology\n",
      "https://www.sec.gov/Archives/edgar/data/1327567/000119312512415530/d405168d10k.htm \n",
      "\n",
      "Sample text: 241\n",
      "254 1262039 'FTNT' 'Fortinet, Inc. Common Stock' 2009\n",
      " 'item 1a.\\nrisk factors \n",
      "fiscal year:  2009\n",
      "company:  Fortinet, Inc. Common Stock\n",
      "word count:  17626\n",
      "sector:  Information Technology\n",
      "https://www.sec.gov/Archives/edgar/data/1262039/000119312510048351/d10k.htm \n",
      "\n",
      "Sample text: 236\n",
      "249 1327567 'PANW' 'Palo Alto Networks, Inc. Common Stock' 2012\n",
      " 'item 1a.\\nris\n",
      "fiscal year:  2012\n",
      "company:  Palo Alto Networks, Inc. Common Stock\n",
      "word count:  21128\n",
      "sector:  Information Technology\n",
      "https://www.sec.gov/Archives/edgar/data/1327567/000119312512415530/d405168d10k.htm \n",
      "\n",
      "###################################\n",
      "Label: 4\n",
      "Number of texts in this cluster: 6 \n",
      "\n",
      "Sample text: 143\n",
      "151 318154 'AMGN' 'Amgen Inc. Common Stock' 2012\n",
      " \"item 1a. risk factors — our \n",
      "fiscal year:  2012\n",
      "company:  Amgen Inc. Common Stock\n",
      "word count:  32925\n",
      "sector:  Health Care\n",
      "https://www.sec.gov/Archives/edgar/data/318154/000144530513000364/amgn-12312012x10k.htm \n",
      "\n",
      "Sample text: 141\n",
      "149 318154 'AMGN' 'Amgen Inc. Common Stock' 2015\n",
      " 'item 1a. risk factors—our pr\n",
      "fiscal year:  2015\n",
      "company:  Amgen Inc. Common Stock\n",
      "word count:  21056\n",
      "sector:  Health Care\n",
      "https://www.sec.gov/Archives/edgar/data/318154/000031815416000031/amgn-12312015x10k.htm \n",
      "\n",
      "Sample text: 141\n",
      "149 318154 'AMGN' 'Amgen Inc. Common Stock' 2015\n",
      " 'item 1a. risk factors—our pr\n",
      "fiscal year:  2015\n",
      "company:  Amgen Inc. Common Stock\n",
      "word count:  21056\n",
      "sector:  Health Care\n",
      "https://www.sec.gov/Archives/edgar/data/318154/000031815416000031/amgn-12312015x10k.htm \n",
      "\n",
      "###################################\n",
      "Label: 5\n",
      "Number of texts in this cluster: 6 \n",
      "\n",
      "Sample text: 10\n",
      "10 1109357 'EXC' 'Exelon Corporation Common Stock' 2010\n",
      " 'item 1a. risk factors\n",
      "fiscal year:  2010\n",
      "company:  Exelon Corporation Common Stock\n",
      "word count:  31502\n",
      "sector:  Utilities\n",
      "https://www.sec.gov/Archives/edgar/data/22606/000119312511030543/d10k.htm \n",
      "\n",
      "Sample text: 9\n",
      "9 1109357 'EXC' 'Exelon Corporation Common Stock' 2012\n",
      " 'item 1a. risk factors,\n",
      "fiscal year:  2012\n",
      "company:  Exelon Corporation Common Stock\n",
      "word count:  37481\n",
      "sector:  Utilities\n",
      "https://www.sec.gov/Archives/edgar/data/9466/000119312513069749/d474199d10k.htm \n",
      "\n",
      "Sample text: 7\n",
      "7 1109357 'EXC' 'Exelon Corporation Common Stock' 2016\n",
      " 'item 1a. risk factors,\n",
      "fiscal year:  2016\n",
      "company:  Exelon Corporation Common Stock\n",
      "word count:  37310\n",
      "sector:  Utilities\n",
      "https://www.sec.gov/Archives/edgar/data/8192/000119312517039639/d339405d10k.htm \n",
      "\n",
      "###################################\n",
      "Label: 6\n",
      "Number of texts in this cluster: 4 \n",
      "\n",
      "Sample text: 230\n",
      "243 319201 'KLAC' 'KLA Corporation Common Stock' 2012\n",
      " \"item 1a.because our exp\n",
      "fiscal year:  2012\n",
      "company:  KLA Corporation Common Stock\n",
      "word count:  46843\n",
      "sector:  Information Technology\n",
      "https://www.sec.gov/Archives/edgar/data/319201/000031920112000008/klac10k2012.htm \n",
      "\n",
      "Sample text: 230\n",
      "243 319201 'KLAC' 'KLA Corporation Common Stock' 2012\n",
      " \"item 1a.because our exp\n",
      "fiscal year:  2012\n",
      "company:  KLA Corporation Common Stock\n",
      "word count:  46843\n",
      "sector:  Information Technology\n",
      "https://www.sec.gov/Archives/edgar/data/319201/000031920112000008/klac10k2012.htm \n",
      "\n",
      "Sample text: 229\n",
      "242 319201 'KLAC' 'KLA Corporation Common Stock' 2014\n",
      " 'item 1a.because our exp\n",
      "fiscal year:  2014\n",
      "company:  KLA Corporation Common Stock\n",
      "word count:  47423\n",
      "sector:  Information Technology\n",
      "https://www.sec.gov/Archives/edgar/data/319201/000031920114000038/klac10k2014.htm \n",
      "\n",
      "###################################\n"
     ]
    }
   ],
   "source": [
    "pull_samples(df, y_kmeans, 3)"
   ]
  },
  {
   "cell_type": "markdown",
   "id": "424f90b9-6ff4-43f1-9d8d-e049be158210",
   "metadata": {},
   "source": [
    "#### Findings for clustering analysis: \n",
    "\n",
    "From the samples pulled, companies in all the clusters, except for cluster 1, might have distinct writings in their risk factors, compared to their counterparts, because they appeared multiple times in those clusters. It might be helpful to conduct named entities and exclude the company names to see if the clusters change. The samples pulled did not indicate the clusters were aggregated by sector. "
   ]
  },
  {
   "cell_type": "markdown",
   "id": "3a79ee73-6797-406b-a38d-14f60beb66fb",
   "metadata": {
    "tags": []
   },
   "source": [
    "## Q2. Can we build a classifier to categorize the IT sector and non-IT sector by their Risk Factors? If so, what features are most important? "
   ]
  },
  {
   "cell_type": "code",
   "execution_count": 36,
   "id": "343967bc-1f96-40d9-a35e-4470ac4de2ff",
   "metadata": {},
   "outputs": [
    {
     "data": {
      "text/html": [
       "<div>\n",
       "<style scoped>\n",
       "    .dataframe tbody tr th:only-of-type {\n",
       "        vertical-align: middle;\n",
       "    }\n",
       "\n",
       "    .dataframe tbody tr th {\n",
       "        vertical-align: top;\n",
       "    }\n",
       "\n",
       "    .dataframe thead tr th {\n",
       "        text-align: left;\n",
       "    }\n",
       "\n",
       "    .dataframe thead tr:last-of-type th {\n",
       "        text-align: right;\n",
       "    }\n",
       "</style>\n",
       "<table border=\"1\" class=\"dataframe\">\n",
       "  <thead>\n",
       "    <tr>\n",
       "      <th></th>\n",
       "      <th colspan=\"2\" halign=\"left\">word_count</th>\n",
       "    </tr>\n",
       "    <tr>\n",
       "      <th></th>\n",
       "      <th>mean</th>\n",
       "      <th>count</th>\n",
       "    </tr>\n",
       "    <tr>\n",
       "      <th>sector</th>\n",
       "      <th></th>\n",
       "      <th></th>\n",
       "    </tr>\n",
       "  </thead>\n",
       "  <tbody>\n",
       "    <tr>\n",
       "      <th>Communication Services</th>\n",
       "      <td>17964.441176</td>\n",
       "      <td>34</td>\n",
       "    </tr>\n",
       "    <tr>\n",
       "      <th>Consumer Discretionary</th>\n",
       "      <td>20019.166667</td>\n",
       "      <td>36</td>\n",
       "    </tr>\n",
       "    <tr>\n",
       "      <th>Consumer Staples</th>\n",
       "      <td>11442.187500</td>\n",
       "      <td>16</td>\n",
       "    </tr>\n",
       "    <tr>\n",
       "      <th>Health Care</th>\n",
       "      <td>27873.934783</td>\n",
       "      <td>46</td>\n",
       "    </tr>\n",
       "    <tr>\n",
       "      <th>Industrials</th>\n",
       "      <td>22655.129032</td>\n",
       "      <td>31</td>\n",
       "    </tr>\n",
       "    <tr>\n",
       "      <th>Information Technology</th>\n",
       "      <td>19247.503704</td>\n",
       "      <td>135</td>\n",
       "    </tr>\n",
       "    <tr>\n",
       "      <th>Utilities</th>\n",
       "      <td>36119.166667</td>\n",
       "      <td>6</td>\n",
       "    </tr>\n",
       "  </tbody>\n",
       "</table>\n",
       "</div>"
      ],
      "text/plain": [
       "                          word_count      \n",
       "                                mean count\n",
       "sector                                    \n",
       "Communication Services  17964.441176    34\n",
       "Consumer Discretionary  20019.166667    36\n",
       "Consumer Staples        11442.187500    16\n",
       "Health Care             27873.934783    46\n",
       "Industrials             22655.129032    31\n",
       "Information Technology  19247.503704   135\n",
       "Utilities               36119.166667     6"
      ]
     },
     "execution_count": 36,
     "metadata": {},
     "output_type": "execute_result"
    }
   ],
   "source": [
    "df.groupby('sector').agg({'word_count':['mean','count']})"
   ]
  },
  {
   "cell_type": "code",
   "execution_count": 37,
   "id": "58ecad50-1484-45ba-8787-92691a91a9a2",
   "metadata": {},
   "outputs": [
    {
     "data": {
      "text/html": [
       "<div>\n",
       "<style scoped>\n",
       "    .dataframe tbody tr th:only-of-type {\n",
       "        vertical-align: middle;\n",
       "    }\n",
       "\n",
       "    .dataframe tbody tr th {\n",
       "        vertical-align: top;\n",
       "    }\n",
       "\n",
       "    .dataframe thead tr th {\n",
       "        text-align: left;\n",
       "    }\n",
       "\n",
       "    .dataframe thead tr:last-of-type th {\n",
       "        text-align: right;\n",
       "    }\n",
       "</style>\n",
       "<table border=\"1\" class=\"dataframe\">\n",
       "  <thead>\n",
       "    <tr>\n",
       "      <th></th>\n",
       "      <th colspan=\"2\" halign=\"left\">price</th>\n",
       "    </tr>\n",
       "    <tr>\n",
       "      <th></th>\n",
       "      <th>mean</th>\n",
       "      <th>count</th>\n",
       "    </tr>\n",
       "    <tr>\n",
       "      <th>sector</th>\n",
       "      <th></th>\n",
       "      <th></th>\n",
       "    </tr>\n",
       "  </thead>\n",
       "  <tbody>\n",
       "    <tr>\n",
       "      <th>Communication Services</th>\n",
       "      <td>46.934595</td>\n",
       "      <td>34</td>\n",
       "    </tr>\n",
       "    <tr>\n",
       "      <th>Consumer Discretionary</th>\n",
       "      <td>79.782885</td>\n",
       "      <td>36</td>\n",
       "    </tr>\n",
       "    <tr>\n",
       "      <th>Consumer Staples</th>\n",
       "      <td>63.945626</td>\n",
       "      <td>16</td>\n",
       "    </tr>\n",
       "    <tr>\n",
       "      <th>Health Care</th>\n",
       "      <td>64.014348</td>\n",
       "      <td>46</td>\n",
       "    </tr>\n",
       "    <tr>\n",
       "      <th>Industrials</th>\n",
       "      <td>50.418908</td>\n",
       "      <td>31</td>\n",
       "    </tr>\n",
       "    <tr>\n",
       "      <th>Information Technology</th>\n",
       "      <td>50.322752</td>\n",
       "      <td>135</td>\n",
       "    </tr>\n",
       "    <tr>\n",
       "      <th>Utilities</th>\n",
       "      <td>32.179030</td>\n",
       "      <td>6</td>\n",
       "    </tr>\n",
       "  </tbody>\n",
       "</table>\n",
       "</div>"
      ],
      "text/plain": [
       "                            price      \n",
       "                             mean count\n",
       "sector                                 \n",
       "Communication Services  46.934595    34\n",
       "Consumer Discretionary  79.782885    36\n",
       "Consumer Staples        63.945626    16\n",
       "Health Care             64.014348    46\n",
       "Industrials             50.418908    31\n",
       "Information Technology  50.322752   135\n",
       "Utilities               32.179030     6"
      ]
     },
     "execution_count": 37,
     "metadata": {},
     "output_type": "execute_result"
    }
   ],
   "source": [
    "df.groupby('sector').agg({'price':['mean','count']})"
   ]
  },
  {
   "cell_type": "markdown",
   "id": "ec2b8d58-49d7-44a2-b26a-ba5df9e85e0c",
   "metadata": {},
   "source": [
    "#### Looking at the statistics, it appeared over 50% of the sectors in the dataset is IT. Utitlies sector has the most average word_count, while Consumer Discretionary sector has the highest mean stock price. "
   ]
  },
  {
   "cell_type": "code",
   "execution_count": 38,
   "id": "d414ca32-6db4-49b9-9078-228c4d4590e2",
   "metadata": {},
   "outputs": [],
   "source": [
    "# Examine the performance of our simple classifiers\n",
    "# Freebie function to summarize and display classifier scores\n",
    "def compare_scores(scores_dict):\n",
    "    '''\n",
    "    Takes a dictionary of cross_validate scores.\n",
    "    Returns a color-coded Pandas dataframe that summarizes those scores.\n",
    "    '''\n",
    "    import pandas as pd\n",
    "    df = pd.DataFrame(scores_dict).T.applymap(np.mean).style.background_gradient(cmap='RdYlGn')\n",
    "    return df"
   ]
  },
  {
   "cell_type": "code",
   "execution_count": 39,
   "id": "d416d000-0ef0-4dfe-8f74-62336f55730c",
   "metadata": {},
   "outputs": [],
   "source": [
    "y_it = list(map(lambda x : 0 if x == 'Information Technology' else 1, df['sector']))"
   ]
  },
  {
   "cell_type": "code",
   "execution_count": 40,
   "id": "5214fddd-9139-498d-a243-5268762b8489",
   "metadata": {},
   "outputs": [
    {
     "name": "stdout",
     "output_type": "stream",
     "text": [
      "Baseline accuracy for IT vs. Non-IT: 0.556\n",
      "Baseline F1 for IT vs. Non-IT: 0.566\n"
     ]
    }
   ],
   "source": [
    "# Baseline accuracy and F1\n",
    "#  What if we just guess 1 every time?\n",
    "baseline_accuracy_it = np.sum(y_it)/len(y_it)\n",
    "baseline_precision_it = baseline_accuracy_it\n",
    "baseline_recall_it = 1.0\n",
    "baseline_f1_it = 2*baseline_precision_it*baseline_recall_it/(baseline_precision_it+baseline_recall_it)\n",
    "print(\"Baseline accuracy for IT vs. Non-IT:\", round(baseline_accuracy_it, 3))\n",
    "print(\"Baseline F1 for IT vs. Non-IT:\", round(baseline_f1, 3))"
   ]
  },
  {
   "cell_type": "markdown",
   "id": "cf7dd26f-041b-4c6e-baba-8220ff94899f",
   "metadata": {},
   "source": [
    "#### Select the 20 most important features to distinguish IT and non-IT sectors"
   ]
  },
  {
   "cell_type": "code",
   "execution_count": 41,
   "id": "6100ffb4-f65c-42af-9b88-fd58ce5d6615",
   "metadata": {},
   "outputs": [
    {
     "name": "stdout",
     "output_type": "stream",
     "text": [
      "Shape of the matrix with 20 selected features:  (304, 20)\n"
     ]
    }
   ],
   "source": [
    "selector_k = SelectKBest(score_func=mutual_info_regression, k=20)\n",
    "\n",
    "# Print the shape of your new feature matrix\n",
    "X_token_k_it = selector_k.fit_transform(X, y_it)\n",
    "print(\"Shape of the matrix with 20 selected features: \", X_token_k_it.shape)"
   ]
  },
  {
   "cell_type": "markdown",
   "id": "ee0f8afb-932b-436e-9d9d-b475449469d0",
   "metadata": {
    "tags": []
   },
   "source": [
    "#### Train and test multiple classifiers"
   ]
  },
  {
   "cell_type": "code",
   "execution_count": 42,
   "id": "b2d7adc9-41ab-4e2e-b3a2-e3a17f69c08b",
   "metadata": {},
   "outputs": [
    {
     "data": {
      "text/html": [
       "<style type=\"text/css\">\n",
       "#T_856ea_row0_col0, #T_856ea_row1_col1, #T_856ea_row2_col1, #T_856ea_row2_col2, #T_856ea_row2_col3, #T_856ea_row2_col4, #T_856ea_row2_col5, #T_856ea_row2_col6 {\n",
       "  background-color: #a50026;\n",
       "  color: #f1f1f1;\n",
       "}\n",
       "#T_856ea_row0_col1 {\n",
       "  background-color: #fa9857;\n",
       "  color: #000000;\n",
       "}\n",
       "#T_856ea_row0_col2, #T_856ea_row0_col6 {\n",
       "  background-color: #16914d;\n",
       "  color: #f1f1f1;\n",
       "}\n",
       "#T_856ea_row0_col3, #T_856ea_row0_col4, #T_856ea_row3_col0, #T_856ea_row3_col1, #T_856ea_row3_col2, #T_856ea_row3_col5, #T_856ea_row3_col6 {\n",
       "  background-color: #006837;\n",
       "  color: #f1f1f1;\n",
       "}\n",
       "#T_856ea_row0_col5 {\n",
       "  background-color: #42ac5a;\n",
       "  color: #f1f1f1;\n",
       "}\n",
       "#T_856ea_row1_col0 {\n",
       "  background-color: #bd1726;\n",
       "  color: #f1f1f1;\n",
       "}\n",
       "#T_856ea_row1_col2, #T_856ea_row1_col6 {\n",
       "  background-color: #7fc866;\n",
       "  color: #000000;\n",
       "}\n",
       "#T_856ea_row1_col3 {\n",
       "  background-color: #fffebe;\n",
       "  color: #000000;\n",
       "}\n",
       "#T_856ea_row1_col4 {\n",
       "  background-color: #b5df74;\n",
       "  color: #000000;\n",
       "}\n",
       "#T_856ea_row1_col5 {\n",
       "  background-color: #91d068;\n",
       "  color: #000000;\n",
       "}\n",
       "#T_856ea_row2_col0 {\n",
       "  background-color: #ab0626;\n",
       "  color: #f1f1f1;\n",
       "}\n",
       "#T_856ea_row3_col3 {\n",
       "  background-color: #f2faae;\n",
       "  color: #000000;\n",
       "}\n",
       "#T_856ea_row3_col4 {\n",
       "  background-color: #097940;\n",
       "  color: #f1f1f1;\n",
       "}\n",
       "</style>\n",
       "<table id=\"T_856ea_\">\n",
       "  <thead>\n",
       "    <tr>\n",
       "      <th class=\"blank level0\" >&nbsp;</th>\n",
       "      <th class=\"col_heading level0 col0\" >fit_time</th>\n",
       "      <th class=\"col_heading level0 col1\" >score_time</th>\n",
       "      <th class=\"col_heading level0 col2\" >test_accuracy</th>\n",
       "      <th class=\"col_heading level0 col3\" >test_recall</th>\n",
       "      <th class=\"col_heading level0 col4\" >test_f1</th>\n",
       "      <th class=\"col_heading level0 col5\" >test_f1_macro</th>\n",
       "      <th class=\"col_heading level0 col6\" >test_f1_micro</th>\n",
       "    </tr>\n",
       "  </thead>\n",
       "  <tbody>\n",
       "    <tr>\n",
       "      <th id=\"T_856ea_level0_row0\" class=\"row_heading level0 row0\" >kNN</th>\n",
       "      <td id=\"T_856ea_row0_col0\" class=\"data row0 col0\" >0.000550</td>\n",
       "      <td id=\"T_856ea_row0_col1\" class=\"data row0 col1\" >0.004683</td>\n",
       "      <td id=\"T_856ea_row0_col2\" class=\"data row0 col2\" >0.881075</td>\n",
       "      <td id=\"T_856ea_row0_col3\" class=\"data row0 col3\" >0.976471</td>\n",
       "      <td id=\"T_856ea_row0_col4\" class=\"data row0 col4\" >0.905893</td>\n",
       "      <td id=\"T_856ea_row0_col5\" class=\"data row0 col5\" >0.868897</td>\n",
       "      <td id=\"T_856ea_row0_col6\" class=\"data row0 col6\" >0.881075</td>\n",
       "    </tr>\n",
       "    <tr>\n",
       "      <th id=\"T_856ea_level0_row1\" class=\"row_heading level0 row1\" >Logit</th>\n",
       "      <td id=\"T_856ea_row1_col0\" class=\"data row1 col0\" >0.005427</td>\n",
       "      <td id=\"T_856ea_row1_col1\" class=\"data row1 col1\" >0.002631</td>\n",
       "      <td id=\"T_856ea_row1_col2\" class=\"data row1 col2\" >0.861828</td>\n",
       "      <td id=\"T_856ea_row1_col3\" class=\"data row1 col3\" >0.888235</td>\n",
       "      <td id=\"T_856ea_row1_col4\" class=\"data row1 col4\" >0.867347</td>\n",
       "      <td id=\"T_856ea_row1_col5\" class=\"data row1 col5\" >0.854198</td>\n",
       "      <td id=\"T_856ea_row1_col6\" class=\"data row1 col6\" >0.861828</td>\n",
       "    </tr>\n",
       "    <tr>\n",
       "      <th id=\"T_856ea_level0_row2\" class=\"row_heading level0 row2\" >Decision tree</th>\n",
       "      <td id=\"T_856ea_row2_col0\" class=\"data row2 col0\" >0.001982</td>\n",
       "      <td id=\"T_856ea_row2_col1\" class=\"data row2 col1\" >0.002649</td>\n",
       "      <td id=\"T_856ea_row2_col2\" class=\"data row2 col2\" >0.766344</td>\n",
       "      <td id=\"T_856ea_row2_col3\" class=\"data row2 col3\" >0.800000</td>\n",
       "      <td id=\"T_856ea_row2_col4\" class=\"data row2 col4\" >0.788884</td>\n",
       "      <td id=\"T_856ea_row2_col5\" class=\"data row2 col5\" >0.757788</td>\n",
       "      <td id=\"T_856ea_row2_col6\" class=\"data row2 col6\" >0.766344</td>\n",
       "    </tr>\n",
       "    <tr>\n",
       "      <th id=\"T_856ea_level0_row3\" class=\"row_heading level0 row3\" >Random forest</th>\n",
       "      <td id=\"T_856ea_row3_col0\" class=\"data row3 col0\" >0.102562</td>\n",
       "      <td id=\"T_856ea_row3_col1\" class=\"data row3 col1\" >0.010248</td>\n",
       "      <td id=\"T_856ea_row3_col2\" class=\"data row3 col2\" >0.892043</td>\n",
       "      <td id=\"T_856ea_row3_col3\" class=\"data row3 col3\" >0.894118</td>\n",
       "      <td id=\"T_856ea_row3_col4\" class=\"data row3 col4\" >0.901340</td>\n",
       "      <td id=\"T_856ea_row3_col5\" class=\"data row3 col5\" >0.889442</td>\n",
       "      <td id=\"T_856ea_row3_col6\" class=\"data row3 col6\" >0.892043</td>\n",
       "    </tr>\n",
       "  </tbody>\n",
       "</table>\n"
      ],
      "text/plain": [
       "<pandas.io.formats.style.Styler at 0x7ff4e423b730>"
      ]
     },
     "execution_count": 42,
     "metadata": {},
     "output_type": "execute_result"
    }
   ],
   "source": [
    "classifiers = {\n",
    "    'kNN': KNeighborsClassifier(),\n",
    "    'Logit':LogisticRegression(),\n",
    "    'Decision tree':DecisionTreeClassifier(),\n",
    "    'Random forest':RandomForestClassifier()\n",
    "}\n",
    "\n",
    "scores = {}\n",
    "\n",
    "for classifier in classifiers:\n",
    "    scores[classifier] = cross_validate(classifiers[classifier], X_token_k_it, y_it, cv=10, scoring=['accuracy', 'recall', 'f1', 'f1_macro', 'f1_micro'])\n",
    "\n",
    "compare_scores(scores)"
   ]
  },
  {
   "cell_type": "markdown",
   "id": "a6914b81-246a-409d-b70b-d4429f5d1310",
   "metadata": {},
   "source": [
    "#### Looks like Random Forest classifer has the best accuracy and F1. I will try improve it below.  "
   ]
  },
  {
   "cell_type": "markdown",
   "id": "e5ee3466-63db-48f9-b262-f0e5b7efeae8",
   "metadata": {},
   "source": [
    "### Optimize parameters of classifiers"
   ]
  },
  {
   "cell_type": "code",
   "execution_count": 43,
   "id": "c671319a-6098-4ad9-9848-ea82021ceb2f",
   "metadata": {},
   "outputs": [
    {
     "data": {
      "text/html": [
       "<style type=\"text/css\">\n",
       "#T_209e6_row0_col0, #T_209e6_row1_col3, #T_209e6_row3_col1, #T_209e6_row3_col2, #T_209e6_row3_col4, #T_209e6_row3_col5, #T_209e6_row3_col6, #T_209e6_row3_col7, #T_209e6_row4_col1 {\n",
       "  background-color: #006837;\n",
       "  color: #f1f1f1;\n",
       "}\n",
       "#T_209e6_row0_col1 {\n",
       "  background-color: #f47044;\n",
       "  color: #f1f1f1;\n",
       "}\n",
       "#T_209e6_row0_col2, #T_209e6_row0_col3, #T_209e6_row0_col5, #T_209e6_row0_col6, #T_209e6_row0_col7, #T_209e6_row1_col1, #T_209e6_row1_col4, #T_209e6_row3_col0 {\n",
       "  background-color: #a50026;\n",
       "  color: #f1f1f1;\n",
       "}\n",
       "#T_209e6_row0_col4 {\n",
       "  background-color: #f98e52;\n",
       "  color: #f1f1f1;\n",
       "}\n",
       "#T_209e6_row1_col0 {\n",
       "  background-color: #fdb567;\n",
       "  color: #000000;\n",
       "}\n",
       "#T_209e6_row1_col2, #T_209e6_row1_col7 {\n",
       "  background-color: #fbfdba;\n",
       "  color: #000000;\n",
       "}\n",
       "#T_209e6_row1_col5 {\n",
       "  background-color: #fdb96a;\n",
       "  color: #000000;\n",
       "}\n",
       "#T_209e6_row1_col6 {\n",
       "  background-color: #e3f399;\n",
       "  color: #000000;\n",
       "}\n",
       "#T_209e6_row2_col0 {\n",
       "  background-color: #ad0826;\n",
       "  color: #f1f1f1;\n",
       "}\n",
       "#T_209e6_row2_col1 {\n",
       "  background-color: #fecc7b;\n",
       "  color: #000000;\n",
       "}\n",
       "#T_209e6_row2_col2, #T_209e6_row2_col7 {\n",
       "  background-color: #30a356;\n",
       "  color: #f1f1f1;\n",
       "}\n",
       "#T_209e6_row2_col3 {\n",
       "  background-color: #33a456;\n",
       "  color: #f1f1f1;\n",
       "}\n",
       "#T_209e6_row2_col4 {\n",
       "  background-color: #cbe982;\n",
       "  color: #000000;\n",
       "}\n",
       "#T_209e6_row2_col5 {\n",
       "  background-color: #51b35e;\n",
       "  color: #f1f1f1;\n",
       "}\n",
       "#T_209e6_row2_col6 {\n",
       "  background-color: #2aa054;\n",
       "  color: #f1f1f1;\n",
       "}\n",
       "#T_209e6_row3_col3 {\n",
       "  background-color: #feffbe;\n",
       "  color: #000000;\n",
       "}\n",
       "#T_209e6_row4_col0, #T_209e6_row4_col6 {\n",
       "  background-color: #fdbd6d;\n",
       "  color: #000000;\n",
       "}\n",
       "#T_209e6_row4_col2, #T_209e6_row4_col7 {\n",
       "  background-color: #fed481;\n",
       "  color: #000000;\n",
       "}\n",
       "#T_209e6_row4_col3 {\n",
       "  background-color: #e8f59f;\n",
       "  color: #000000;\n",
       "}\n",
       "#T_209e6_row4_col4 {\n",
       "  background-color: #fed27f;\n",
       "  color: #000000;\n",
       "}\n",
       "#T_209e6_row4_col5 {\n",
       "  background-color: #fdb768;\n",
       "  color: #000000;\n",
       "}\n",
       "</style>\n",
       "<table id=\"T_209e6_\">\n",
       "  <thead>\n",
       "    <tr>\n",
       "      <th class=\"blank level0\" >&nbsp;</th>\n",
       "      <th class=\"col_heading level0 col0\" >fit_time</th>\n",
       "      <th class=\"col_heading level0 col1\" >score_time</th>\n",
       "      <th class=\"col_heading level0 col2\" >test_accuracy</th>\n",
       "      <th class=\"col_heading level0 col3\" >test_precision</th>\n",
       "      <th class=\"col_heading level0 col4\" >test_recall</th>\n",
       "      <th class=\"col_heading level0 col5\" >test_f1</th>\n",
       "      <th class=\"col_heading level0 col6\" >test_f1_macro</th>\n",
       "      <th class=\"col_heading level0 col7\" >test_f1_micro</th>\n",
       "    </tr>\n",
       "  </thead>\n",
       "  <tbody>\n",
       "    <tr>\n",
       "      <th id=\"T_209e6_level0_row0\" class=\"row_heading level0 row0\" >feature_None</th>\n",
       "      <td id=\"T_209e6_row0_col0\" class=\"data row0 col0\" >0.139407</td>\n",
       "      <td id=\"T_209e6_row0_col1\" class=\"data row0 col1\" >0.010646</td>\n",
       "      <td id=\"T_209e6_row0_col2\" class=\"data row0 col2\" >0.885376</td>\n",
       "      <td id=\"T_209e6_row0_col3\" class=\"data row0 col3\" >0.905361</td>\n",
       "      <td id=\"T_209e6_row0_col4\" class=\"data row0 col4\" >0.900000</td>\n",
       "      <td id=\"T_209e6_row0_col5\" class=\"data row0 col5\" >0.898205</td>\n",
       "      <td id=\"T_209e6_row0_col6\" class=\"data row0 col6\" >0.882592</td>\n",
       "      <td id=\"T_209e6_row0_col7\" class=\"data row0 col7\" >0.885376</td>\n",
       "    </tr>\n",
       "    <tr>\n",
       "      <th id=\"T_209e6_level0_row1\" class=\"row_heading level0 row1\" >feature_100</th>\n",
       "      <td id=\"T_209e6_row1_col0\" class=\"data row1 col0\" >0.114147</td>\n",
       "      <td id=\"T_209e6_row1_col1\" class=\"data row1 col1\" >0.010485</td>\n",
       "      <td id=\"T_209e6_row1_col2\" class=\"data row1 col2\" >0.898710</td>\n",
       "      <td id=\"T_209e6_row1_col3\" class=\"data row1 col3\" >0.935229</td>\n",
       "      <td id=\"T_209e6_row1_col4\" class=\"data row1 col4\" >0.888235</td>\n",
       "      <td id=\"T_209e6_row1_col5\" class=\"data row1 col5\" >0.906316</td>\n",
       "      <td id=\"T_209e6_row1_col6\" class=\"data row1 col6\" >0.897277</td>\n",
       "      <td id=\"T_209e6_row1_col7\" class=\"data row1 col7\" >0.898710</td>\n",
       "    </tr>\n",
       "    <tr>\n",
       "      <th id=\"T_209e6_level0_row2\" class=\"row_heading level0 row2\" >feature_5</th>\n",
       "      <td id=\"T_209e6_row2_col0\" class=\"data row2 col0\" >0.103136</td>\n",
       "      <td id=\"T_209e6_row2_col1\" class=\"data row2 col1\" >0.010770</td>\n",
       "      <td id=\"T_209e6_row2_col2\" class=\"data row2 col2\" >0.908172</td>\n",
       "      <td id=\"T_209e6_row2_col3\" class=\"data row2 col3\" >0.931188</td>\n",
       "      <td id=\"T_209e6_row2_col4\" class=\"data row2 col4\" >0.917647</td>\n",
       "      <td id=\"T_209e6_row2_col5\" class=\"data row2 col5\" >0.919067</td>\n",
       "      <td id=\"T_209e6_row2_col6\" class=\"data row2 col6\" >0.905071</td>\n",
       "      <td id=\"T_209e6_row2_col7\" class=\"data row2 col7\" >0.908172</td>\n",
       "    </tr>\n",
       "    <tr>\n",
       "      <th id=\"T_209e6_level0_row3\" class=\"row_heading level0 row3\" >feature_2</th>\n",
       "      <td id=\"T_209e6_row3_col0\" class=\"data row3 col0\" >0.102483</td>\n",
       "      <td id=\"T_209e6_row3_col1\" class=\"data row3 col1\" >0.011277</td>\n",
       "      <td id=\"T_209e6_row3_col2\" class=\"data row3 col2\" >0.911613</td>\n",
       "      <td id=\"T_209e6_row3_col3\" class=\"data row3 col3\" >0.920327</td>\n",
       "      <td id=\"T_209e6_row3_col4\" class=\"data row3 col4\" >0.935294</td>\n",
       "      <td id=\"T_209e6_row3_col5\" class=\"data row3 col5\" >0.923458</td>\n",
       "      <td id=\"T_209e6_row3_col6\" class=\"data row3 col6\" >0.908264</td>\n",
       "      <td id=\"T_209e6_row3_col7\" class=\"data row3 col7\" >0.911613</td>\n",
       "    </tr>\n",
       "    <tr>\n",
       "      <th id=\"T_209e6_level0_row4\" class=\"row_heading level0 row4\" >est_og</th>\n",
       "      <td id=\"T_209e6_row4_col0\" class=\"data row4 col0\" >0.114627</td>\n",
       "      <td id=\"T_209e6_row4_col1\" class=\"data row4 col1\" >0.011277</td>\n",
       "      <td id=\"T_209e6_row4_col2\" class=\"data row4 col2\" >0.895269</td>\n",
       "      <td id=\"T_209e6_row4_col3\" class=\"data row4 col3\" >0.922078</td>\n",
       "      <td id=\"T_209e6_row4_col4\" class=\"data row4 col4\" >0.905882</td>\n",
       "      <td id=\"T_209e6_row4_col5\" class=\"data row4 col5\" >0.906251</td>\n",
       "      <td id=\"T_209e6_row4_col6\" class=\"data row4 col6\" >0.891067</td>\n",
       "      <td id=\"T_209e6_row4_col7\" class=\"data row4 col7\" >0.895269</td>\n",
       "    </tr>\n",
       "  </tbody>\n",
       "</table>\n"
      ],
      "text/plain": [
       "<pandas.io.formats.style.Styler at 0x7ff4e41b3f10>"
      ]
     },
     "execution_count": 43,
     "metadata": {},
     "output_type": "execute_result"
    }
   ],
   "source": [
    "# trying diff max_features\n",
    "RFfeatures = {\n",
    "    'feature_None':RandomForestClassifier(max_features=None),\n",
    "    'feature_100':RandomForestClassifier(max_features=10),\n",
    "    'feature_5':RandomForestClassifier(max_features=5),\n",
    "    'feature_2':RandomForestClassifier(max_features=2),\n",
    "    'est_og':RandomForestClassifier()\n",
    "}\n",
    "\n",
    "RFscores1 = {} \n",
    "for classifier in RFfeatures:\n",
    "    RFscores1[classifier] = cross_validate( \n",
    "        RFfeatures[classifier], \n",
    "        X_token_k_it, # feature matrix\n",
    "        y_it, # gold labels\n",
    "        cv=10, \n",
    "        scoring=['accuracy','precision', 'recall', 'f1', 'f1_macro', 'f1_micro'] \n",
    "    )\n",
    "\n",
    "compare_scores(RFscores1)"
   ]
  },
  {
   "cell_type": "markdown",
   "id": "5019e6e5-f569-44ec-aa59-bbce8bffd0c9",
   "metadata": {},
   "source": [
    "#### Random Forest classifier with `max_features=2` has better scores in most of the metrics. "
   ]
  },
  {
   "cell_type": "code",
   "execution_count": 44,
   "id": "3367098e-d36c-4643-9bcb-3caafab38b6d",
   "metadata": {},
   "outputs": [
    {
     "name": "stderr",
     "output_type": "stream",
     "text": [
      "/Users/annzhou/opt/anaconda3/lib/python3.9/site-packages/sklearn/utils/deprecation.py:87: FutureWarning: Function get_feature_names is deprecated; get_feature_names is deprecated in 1.0 and will be removed in 1.2. Please use get_feature_names_out instead.\n",
      "  warnings.warn(msg, category=FutureWarning)\n"
     ]
    }
   ],
   "source": [
    "feature_names = vectorizer.get_feature_names()\n",
    "feature_names_ = [feature_names[i] for i in selector_k.get_support(indices=True)]"
   ]
  },
  {
   "cell_type": "code",
   "execution_count": 45,
   "id": "4527c0ce-9184-423e-ae77-13caad4a4710",
   "metadata": {},
   "outputs": [
    {
     "data": {
      "text/plain": [
       "['bundle',\n",
       " 'characterized',\n",
       " 'complex',\n",
       " 'computing',\n",
       " 'contracts',\n",
       " 'cycles',\n",
       " 'defects',\n",
       " 'defines',\n",
       " 'downturns',\n",
       " 'engineering',\n",
       " 'introductions',\n",
       " 'investments',\n",
       " 'licenses',\n",
       " 'negotiate',\n",
       " 'semiconductor',\n",
       " 'software',\n",
       " 'solutions',\n",
       " 'support',\n",
       " 'technical',\n",
       " 'write']"
      ]
     },
     "execution_count": 45,
     "metadata": {},
     "output_type": "execute_result"
    }
   ],
   "source": [
    "feature_names_"
   ]
  },
  {
   "cell_type": "markdown",
   "id": "5a9bbf40-19a7-4a4e-85a0-f8e09f3b6374",
   "metadata": {},
   "source": [
    "#### The top 20 important features showed us the most identifiable for the IT sectors, such as *computing*, *engineering*, *semiconductor*, *software*, *technology*, and so on. The random forest classfier successfully classify the IT vs. Non-IT sectors in the risk corpus. "
   ]
  },
  {
   "cell_type": "markdown",
   "id": "9544ed48-0fbf-4ff8-8707-90af9526e405",
   "metadata": {
    "tags": []
   },
   "source": [
    "## Q3: Can we build a classifier to categorize the below-average-stock-price and above-average-stock-price by their Risk Factors from 10-K reports? What are the most important features to distinguish them? Can we improve the accuracy of our classifiers? "
   ]
  },
  {
   "cell_type": "markdown",
   "id": "224be1e3-88f8-45cc-b512-f74a5bd96bc7",
   "metadata": {
    "tags": []
   },
   "source": [
    "### 1. Build a token-based classifier"
   ]
  },
  {
   "cell_type": "markdown",
   "id": "0dd359d0-36fa-44be-8017-937350c36593",
   "metadata": {},
   "source": [
    "#### Print the baseline scores for `y_binary` to identify `below-average-stock-price` and `above-average-stock-price` records. "
   ]
  },
  {
   "cell_type": "code",
   "execution_count": 46,
   "id": "18b174d0-f6d4-4c85-a56b-7beabfc106df",
   "metadata": {},
   "outputs": [
    {
     "name": "stdout",
     "output_type": "stream",
     "text": [
      "baseline_accuracy:  0.39473684210526316\n",
      "baseline_f1:  0.5660377358490566\n"
     ]
    }
   ],
   "source": [
    "print(\"baseline_accuracy: \", baseline_accuracy)\n",
    "print(\"baseline_f1: \", baseline_f1)"
   ]
  },
  {
   "cell_type": "markdown",
   "id": "796ccf6d-968f-49eb-be9b-ca3a96c95cf5",
   "metadata": {},
   "source": [
    "#### Build `X_top` feature matrix based on the 50 most imporant features "
   ]
  },
  {
   "cell_type": "code",
   "execution_count": 47,
   "id": "0c432e3e-dcb5-455a-ad5d-223bdb4b8f59",
   "metadata": {},
   "outputs": [
    {
     "name": "stdout",
     "output_type": "stream",
     "text": [
      "Shape of the combined matrix with 300 selected features:  (304, 50)\n",
      "CPU times: user 18.4 s, sys: 152 ms, total: 18.6 s\n",
      "Wall time: 18.6 s\n"
     ]
    }
   ],
   "source": [
    "%%time\n",
    "# Select best features\n",
    "selector = SelectKBest(score_func=mutual_info_regression, k=50)\n",
    "\n",
    "# Print the shape of your new feature matrix\n",
    "X_top = selector.fit_transform(X, y_binary)\n",
    "print(\"Shape of the combined matrix with 300 selected features: \", X_top.shape)"
   ]
  },
  {
   "cell_type": "markdown",
   "id": "a33a855a-bd03-4396-8938-0ebdedf0a1c9",
   "metadata": {},
   "source": [
    "#### Train and test multiple classifiers"
   ]
  },
  {
   "cell_type": "code",
   "execution_count": 48,
   "id": "1a28ecdd-161b-46bf-b228-127949ffbcde",
   "metadata": {},
   "outputs": [
    {
     "data": {
      "text/html": [
       "<style type=\"text/css\">\n",
       "#T_62025_row0_col0, #T_62025_row0_col3, #T_62025_row0_col4, #T_62025_row0_col5, #T_62025_row1_col1, #T_62025_row1_col2, #T_62025_row1_col6 {\n",
       "  background-color: #a50026;\n",
       "  color: #f1f1f1;\n",
       "}\n",
       "#T_62025_row0_col1 {\n",
       "  background-color: #fdb365;\n",
       "  color: #000000;\n",
       "}\n",
       "#T_62025_row0_col2, #T_62025_row0_col6 {\n",
       "  background-color: #fba35c;\n",
       "  color: #000000;\n",
       "}\n",
       "#T_62025_row1_col0 {\n",
       "  background-color: #c41e27;\n",
       "  color: #f1f1f1;\n",
       "}\n",
       "#T_62025_row1_col3 {\n",
       "  background-color: #cfeb85;\n",
       "  color: #000000;\n",
       "}\n",
       "#T_62025_row1_col4 {\n",
       "  background-color: #fee593;\n",
       "  color: #000000;\n",
       "}\n",
       "#T_62025_row1_col5 {\n",
       "  background-color: #c21c27;\n",
       "  color: #f1f1f1;\n",
       "}\n",
       "#T_62025_row2_col0 {\n",
       "  background-color: #ab0626;\n",
       "  color: #f1f1f1;\n",
       "}\n",
       "#T_62025_row2_col1 {\n",
       "  background-color: #b30d26;\n",
       "  color: #f1f1f1;\n",
       "}\n",
       "#T_62025_row2_col2, #T_62025_row2_col6 {\n",
       "  background-color: #f8fcb6;\n",
       "  color: #000000;\n",
       "}\n",
       "#T_62025_row2_col3, #T_62025_row2_col4, #T_62025_row3_col0, #T_62025_row3_col1, #T_62025_row3_col2, #T_62025_row3_col5, #T_62025_row3_col6 {\n",
       "  background-color: #006837;\n",
       "  color: #f1f1f1;\n",
       "}\n",
       "#T_62025_row2_col5 {\n",
       "  background-color: #8ccd67;\n",
       "  color: #000000;\n",
       "}\n",
       "#T_62025_row3_col3 {\n",
       "  background-color: #5db961;\n",
       "  color: #f1f1f1;\n",
       "}\n",
       "#T_62025_row3_col4 {\n",
       "  background-color: #108647;\n",
       "  color: #f1f1f1;\n",
       "}\n",
       "</style>\n",
       "<table id=\"T_62025_\">\n",
       "  <thead>\n",
       "    <tr>\n",
       "      <th class=\"blank level0\" >&nbsp;</th>\n",
       "      <th class=\"col_heading level0 col0\" >fit_time</th>\n",
       "      <th class=\"col_heading level0 col1\" >score_time</th>\n",
       "      <th class=\"col_heading level0 col2\" >test_accuracy</th>\n",
       "      <th class=\"col_heading level0 col3\" >test_recall</th>\n",
       "      <th class=\"col_heading level0 col4\" >test_f1</th>\n",
       "      <th class=\"col_heading level0 col5\" >test_f1_macro</th>\n",
       "      <th class=\"col_heading level0 col6\" >test_f1_micro</th>\n",
       "    </tr>\n",
       "  </thead>\n",
       "  <tbody>\n",
       "    <tr>\n",
       "      <th id=\"T_62025_level0_row0\" class=\"row_heading level0 row0\" >kNN</th>\n",
       "      <td id=\"T_62025_row0_col0\" class=\"data row0 col0\" >0.000679</td>\n",
       "      <td id=\"T_62025_row0_col1\" class=\"data row0 col1\" >0.005021</td>\n",
       "      <td id=\"T_62025_row0_col2\" class=\"data row0 col2\" >0.555699</td>\n",
       "      <td id=\"T_62025_row0_col3\" class=\"data row0 col3\" >0.300000</td>\n",
       "      <td id=\"T_62025_row0_col4\" class=\"data row0 col4\" >0.313073</td>\n",
       "      <td id=\"T_62025_row0_col5\" class=\"data row0 col5\" >0.485073</td>\n",
       "      <td id=\"T_62025_row0_col6\" class=\"data row0 col6\" >0.555699</td>\n",
       "    </tr>\n",
       "    <tr>\n",
       "      <th id=\"T_62025_level0_row1\" class=\"row_heading level0 row1\" >Logit</th>\n",
       "      <td id=\"T_62025_row1_col0\" class=\"data row1 col0\" >0.007706</td>\n",
       "      <td id=\"T_62025_row1_col1\" class=\"data row1 col1\" >0.002583</td>\n",
       "      <td id=\"T_62025_row1_col2\" class=\"data row1 col2\" >0.528817</td>\n",
       "      <td id=\"T_62025_row1_col3\" class=\"data row1 col3\" >0.408333</td>\n",
       "      <td id=\"T_62025_row1_col4\" class=\"data row1 col4\" >0.381443</td>\n",
       "      <td id=\"T_62025_row1_col5\" class=\"data row1 col5\" >0.491120</td>\n",
       "      <td id=\"T_62025_row1_col6\" class=\"data row1 col6\" >0.528817</td>\n",
       "    </tr>\n",
       "    <tr>\n",
       "      <th id=\"T_62025_level0_row2\" class=\"row_heading level0 row2\" >Decision tree</th>\n",
       "      <td id=\"T_62025_row2_col0\" class=\"data row2 col0\" >0.002250</td>\n",
       "      <td id=\"T_62025_row2_col1\" class=\"data row2 col1\" >0.002812</td>\n",
       "      <td id=\"T_62025_row2_col2\" class=\"data row2 col2\" >0.578065</td>\n",
       "      <td id=\"T_62025_row2_col3\" class=\"data row2 col3\" >0.475000</td>\n",
       "      <td id=\"T_62025_row2_col4\" class=\"data row2 col4\" >0.477994</td>\n",
       "      <td id=\"T_62025_row2_col5\" class=\"data row2 col5\" >0.558882</td>\n",
       "      <td id=\"T_62025_row2_col6\" class=\"data row2 col6\" >0.578065</td>\n",
       "    </tr>\n",
       "    <tr>\n",
       "      <th id=\"T_62025_level0_row3\" class=\"row_heading level0 row3\" >Random forest</th>\n",
       "      <td id=\"T_62025_row3_col0\" class=\"data row3 col0\" >0.112414</td>\n",
       "      <td id=\"T_62025_row3_col1\" class=\"data row3 col1\" >0.010430</td>\n",
       "      <td id=\"T_62025_row3_col2\" class=\"data row3 col2\" >0.623871</td>\n",
       "      <td id=\"T_62025_row3_col3\" class=\"data row3 col3\" >0.441667</td>\n",
       "      <td id=\"T_62025_row3_col4\" class=\"data row3 col4\" >0.467386</td>\n",
       "      <td id=\"T_62025_row3_col5\" class=\"data row3 col5\" >0.584841</td>\n",
       "      <td id=\"T_62025_row3_col6\" class=\"data row3 col6\" >0.623871</td>\n",
       "    </tr>\n",
       "  </tbody>\n",
       "</table>\n"
      ],
      "text/plain": [
       "<pandas.io.formats.style.Styler at 0x7ff4e4139940>"
      ]
     },
     "execution_count": 48,
     "metadata": {},
     "output_type": "execute_result"
    }
   ],
   "source": [
    "classifiers = {\n",
    "    'kNN': KNeighborsClassifier(),\n",
    "    'Logit':LogisticRegression(),\n",
    "    'Decision tree':DecisionTreeClassifier(),\n",
    "    'Random forest':RandomForestClassifier(),\n",
    "}\n",
    "scores = {}\n",
    "for classifier in classifiers:\n",
    "    scores[classifier] = cross_validate(classifiers[classifier], X_top, y_binary, cv=10, scoring=['accuracy', 'recall', 'f1', 'f1_macro', 'f1_micro'])\n",
    "\n",
    "compare_scores(scores)"
   ]
  },
  {
   "cell_type": "markdown",
   "id": "1b310058-f213-45d9-8400-bade71efaed0",
   "metadata": {},
   "source": [
    "#### Random forest classifier wins over other classifiers in almost all the metrics. "
   ]
  },
  {
   "cell_type": "markdown",
   "id": "70d4cda6-0ee2-45f2-880f-26ff96dac1b4",
   "metadata": {
    "tags": []
   },
   "source": [
    "### Improve token-based classifier"
   ]
  },
  {
   "cell_type": "markdown",
   "id": "b24f3eb4-d30b-4661-899d-a773808b35d0",
   "metadata": {},
   "source": [
    "#### Feature Engineering\n",
    "\n",
    "* Increase the number of features in the feature matrix"
   ]
  },
  {
   "cell_type": "code",
   "execution_count": 49,
   "id": "19300068-537e-43f8-8a27-451af2dd62c9",
   "metadata": {},
   "outputs": [],
   "source": [
    "selector_k = SelectKBest(score_func=mutual_info_regression, k=100)"
   ]
  },
  {
   "cell_type": "code",
   "execution_count": 50,
   "id": "3abccb20-4a98-4733-989e-a1f773f22e37",
   "metadata": {},
   "outputs": [
    {
     "name": "stdout",
     "output_type": "stream",
     "text": [
      "Shape of the matrix with 100 selected features:  (304, 100)\n"
     ]
    }
   ],
   "source": [
    "# Print the shape of your new feature matrix\n",
    "X_token_k = selector_k.fit_transform(X, y_binary)\n",
    "print(\"Shape of the matrix with 100 selected features: \", X_token_k.shape)"
   ]
  },
  {
   "cell_type": "code",
   "execution_count": 51,
   "id": "ac56920b-51d8-45b7-935e-2c38832201ca",
   "metadata": {},
   "outputs": [
    {
     "data": {
      "text/html": [
       "<style type=\"text/css\">\n",
       "#T_0cc44_row0_col0, #T_0cc44_row0_col2, #T_0cc44_row0_col3, #T_0cc44_row0_col4, #T_0cc44_row0_col5, #T_0cc44_row0_col6, #T_0cc44_row1_col1 {\n",
       "  background-color: #a50026;\n",
       "  color: #f1f1f1;\n",
       "}\n",
       "#T_0cc44_row0_col1 {\n",
       "  background-color: #f57547;\n",
       "  color: #f1f1f1;\n",
       "}\n",
       "#T_0cc44_row1_col0 {\n",
       "  background-color: #d02927;\n",
       "  color: #f1f1f1;\n",
       "}\n",
       "#T_0cc44_row1_col2, #T_0cc44_row1_col6 {\n",
       "  background-color: #fdb768;\n",
       "  color: #000000;\n",
       "}\n",
       "#T_0cc44_row1_col3, #T_0cc44_row3_col0, #T_0cc44_row3_col1, #T_0cc44_row3_col2, #T_0cc44_row3_col4, #T_0cc44_row3_col5, #T_0cc44_row3_col6 {\n",
       "  background-color: #006837;\n",
       "  color: #f1f1f1;\n",
       "}\n",
       "#T_0cc44_row1_col4 {\n",
       "  background-color: #48ae5c;\n",
       "  color: #f1f1f1;\n",
       "}\n",
       "#T_0cc44_row1_col5 {\n",
       "  background-color: #d7ee8a;\n",
       "  color: #000000;\n",
       "}\n",
       "#T_0cc44_row2_col0 {\n",
       "  background-color: #b30d26;\n",
       "  color: #f1f1f1;\n",
       "}\n",
       "#T_0cc44_row2_col1 {\n",
       "  background-color: #c21c27;\n",
       "  color: #f1f1f1;\n",
       "}\n",
       "#T_0cc44_row2_col2, #T_0cc44_row2_col6 {\n",
       "  background-color: #d22b27;\n",
       "  color: #f1f1f1;\n",
       "}\n",
       "#T_0cc44_row2_col3 {\n",
       "  background-color: #8ccd67;\n",
       "  color: #000000;\n",
       "}\n",
       "#T_0cc44_row2_col4 {\n",
       "  background-color: #b5df74;\n",
       "  color: #000000;\n",
       "}\n",
       "#T_0cc44_row2_col5 {\n",
       "  background-color: #feeda1;\n",
       "  color: #000000;\n",
       "}\n",
       "#T_0cc44_row3_col3 {\n",
       "  background-color: #5ab760;\n",
       "  color: #f1f1f1;\n",
       "}\n",
       "</style>\n",
       "<table id=\"T_0cc44_\">\n",
       "  <thead>\n",
       "    <tr>\n",
       "      <th class=\"blank level0\" >&nbsp;</th>\n",
       "      <th class=\"col_heading level0 col0\" >fit_time</th>\n",
       "      <th class=\"col_heading level0 col1\" >score_time</th>\n",
       "      <th class=\"col_heading level0 col2\" >test_accuracy</th>\n",
       "      <th class=\"col_heading level0 col3\" >test_recall</th>\n",
       "      <th class=\"col_heading level0 col4\" >test_f1</th>\n",
       "      <th class=\"col_heading level0 col5\" >test_f1_macro</th>\n",
       "      <th class=\"col_heading level0 col6\" >test_f1_micro</th>\n",
       "    </tr>\n",
       "  </thead>\n",
       "  <tbody>\n",
       "    <tr>\n",
       "      <th id=\"T_0cc44_level0_row0\" class=\"row_heading level0 row0\" >kNN</th>\n",
       "      <td id=\"T_0cc44_row0_col0\" class=\"data row0 col0\" >0.000536</td>\n",
       "      <td id=\"T_0cc44_row0_col1\" class=\"data row0 col1\" >0.004190</td>\n",
       "      <td id=\"T_0cc44_row0_col2\" class=\"data row0 col2\" >0.563978</td>\n",
       "      <td id=\"T_0cc44_row0_col3\" class=\"data row0 col3\" >0.258333</td>\n",
       "      <td id=\"T_0cc44_row0_col4\" class=\"data row0 col4\" >0.285791</td>\n",
       "      <td id=\"T_0cc44_row0_col5\" class=\"data row0 col5\" >0.480573</td>\n",
       "      <td id=\"T_0cc44_row0_col6\" class=\"data row0 col6\" >0.563978</td>\n",
       "    </tr>\n",
       "    <tr>\n",
       "      <th id=\"T_0cc44_level0_row1\" class=\"row_heading level0 row1\" >Logit</th>\n",
       "      <td id=\"T_0cc44_row1_col0\" class=\"data row1 col0\" >0.010172</td>\n",
       "      <td id=\"T_0cc44_row1_col1\" class=\"data row1 col1\" >0.002600</td>\n",
       "      <td id=\"T_0cc44_row1_col2\" class=\"data row1 col2\" >0.591075</td>\n",
       "      <td id=\"T_0cc44_row1_col3\" class=\"data row1 col3\" >0.483333</td>\n",
       "      <td id=\"T_0cc44_row1_col4\" class=\"data row1 col4\" >0.455800</td>\n",
       "      <td id=\"T_0cc44_row1_col5\" class=\"data row1 col5\" >0.557740</td>\n",
       "      <td id=\"T_0cc44_row1_col6\" class=\"data row1 col6\" >0.591075</td>\n",
       "    </tr>\n",
       "    <tr>\n",
       "      <th id=\"T_0cc44_level0_row2\" class=\"row_heading level0 row2\" >Decision tree</th>\n",
       "      <td id=\"T_0cc44_row2_col0\" class=\"data row2 col0\" >0.003790</td>\n",
       "      <td id=\"T_0cc44_row2_col1\" class=\"data row2 col1\" >0.003067</td>\n",
       "      <td id=\"T_0cc44_row2_col2\" class=\"data row2 col2\" >0.571720</td>\n",
       "      <td id=\"T_0cc44_row2_col3\" class=\"data row2 col3\" >0.425000</td>\n",
       "      <td id=\"T_0cc44_row2_col4\" class=\"data row2 col4\" >0.421866</td>\n",
       "      <td id=\"T_0cc44_row2_col5\" class=\"data row2 col5\" >0.537256</td>\n",
       "      <td id=\"T_0cc44_row2_col6\" class=\"data row2 col6\" >0.571720</td>\n",
       "    </tr>\n",
       "    <tr>\n",
       "      <th id=\"T_0cc44_level0_row3\" class=\"row_heading level0 row3\" >Random forest</th>\n",
       "      <td id=\"T_0cc44_row3_col0\" class=\"data row3 col0\" >0.110982</td>\n",
       "      <td id=\"T_0cc44_row3_col1\" class=\"data row3 col1\" >0.010118</td>\n",
       "      <td id=\"T_0cc44_row3_col2\" class=\"data row3 col2\" >0.649570</td>\n",
       "      <td id=\"T_0cc44_row3_col3\" class=\"data row3 col3\" >0.441667</td>\n",
       "      <td id=\"T_0cc44_row3_col4\" class=\"data row3 col4\" >0.488666</td>\n",
       "      <td id=\"T_0cc44_row3_col5\" class=\"data row3 col5\" >0.608512</td>\n",
       "      <td id=\"T_0cc44_row3_col6\" class=\"data row3 col6\" >0.649570</td>\n",
       "    </tr>\n",
       "  </tbody>\n",
       "</table>\n"
      ],
      "text/plain": [
       "<pandas.io.formats.style.Styler at 0x7ff4e427aee0>"
      ]
     },
     "execution_count": 51,
     "metadata": {},
     "output_type": "execute_result"
    }
   ],
   "source": [
    "classifiers = {\n",
    "    'kNN': KNeighborsClassifier(),\n",
    "    'Logit':LogisticRegression(),\n",
    "    'Decision tree':DecisionTreeClassifier(),\n",
    "    'Random forest':RandomForestClassifier(),\n",
    "}\n",
    "scores = {}\n",
    "for classifier in classifiers:\n",
    "    scores[classifier] = cross_validate(classifiers[classifier], X_token_k, y_binary, cv=10, scoring=['accuracy', 'recall', 'f1', 'f1_macro', 'f1_micro'])\n",
    "\n",
    "compare_scores(scores)"
   ]
  },
  {
   "cell_type": "markdown",
   "id": "fdaf68bd-97a5-465e-9b55-0d6b0a9e7f95",
   "metadata": {},
   "source": [
    "#### Most of the classifers improved their accuracy scores with the expanded feature matrix, except for Decision Tree classifier. "
   ]
  },
  {
   "cell_type": "markdown",
   "id": "6b7ca2ed-a546-43a9-bcf9-141b39149075",
   "metadata": {},
   "source": [
    "### Optimize parameters of classifiers"
   ]
  },
  {
   "cell_type": "code",
   "execution_count": 52,
   "id": "dc19f4c1-8f13-4573-a963-bd78d4704018",
   "metadata": {},
   "outputs": [
    {
     "data": {
      "text/html": [
       "<style type=\"text/css\">\n",
       "#T_3dc79_row0_col0, #T_3dc79_row1_col2, #T_3dc79_row1_col3, #T_3dc79_row1_col5, #T_3dc79_row1_col6, #T_3dc79_row1_col7, #T_3dc79_row3_col1, #T_3dc79_row4_col4 {\n",
       "  background-color: #006837;\n",
       "  color: #f1f1f1;\n",
       "}\n",
       "#T_3dc79_row0_col1 {\n",
       "  background-color: #fffebe;\n",
       "  color: #000000;\n",
       "}\n",
       "#T_3dc79_row0_col2, #T_3dc79_row0_col7 {\n",
       "  background-color: #fede89;\n",
       "  color: #000000;\n",
       "}\n",
       "#T_3dc79_row0_col3, #T_3dc79_row1_col0, #T_3dc79_row2_col4, #T_3dc79_row4_col2, #T_3dc79_row4_col6, #T_3dc79_row4_col7, #T_3dc79_row5_col1, #T_3dc79_row5_col4, #T_3dc79_row5_col5 {\n",
       "  background-color: #a50026;\n",
       "  color: #f1f1f1;\n",
       "}\n",
       "#T_3dc79_row0_col4, #T_3dc79_row3_col4 {\n",
       "  background-color: #d9ef8b;\n",
       "  color: #000000;\n",
       "}\n",
       "#T_3dc79_row0_col5 {\n",
       "  background-color: #c82227;\n",
       "  color: #f1f1f1;\n",
       "}\n",
       "#T_3dc79_row0_col6 {\n",
       "  background-color: #ec5c3b;\n",
       "  color: #f1f1f1;\n",
       "}\n",
       "#T_3dc79_row1_col1 {\n",
       "  background-color: #db382b;\n",
       "  color: #f1f1f1;\n",
       "}\n",
       "#T_3dc79_row1_col4 {\n",
       "  background-color: #fee08b;\n",
       "  color: #000000;\n",
       "}\n",
       "#T_3dc79_row2_col0 {\n",
       "  background-color: #fed683;\n",
       "  color: #000000;\n",
       "}\n",
       "#T_3dc79_row2_col1 {\n",
       "  background-color: #fff8b4;\n",
       "  color: #000000;\n",
       "}\n",
       "#T_3dc79_row2_col2, #T_3dc79_row2_col7 {\n",
       "  background-color: #d7ee8a;\n",
       "  color: #000000;\n",
       "}\n",
       "#T_3dc79_row2_col3 {\n",
       "  background-color: #bfe47a;\n",
       "  color: #000000;\n",
       "}\n",
       "#T_3dc79_row2_col5 {\n",
       "  background-color: #feda86;\n",
       "  color: #000000;\n",
       "}\n",
       "#T_3dc79_row2_col6 {\n",
       "  background-color: #fdfebc;\n",
       "  color: #000000;\n",
       "}\n",
       "#T_3dc79_row3_col0 {\n",
       "  background-color: #36a657;\n",
       "  color: #f1f1f1;\n",
       "}\n",
       "#T_3dc79_row3_col2, #T_3dc79_row3_col7 {\n",
       "  background-color: #249d53;\n",
       "  color: #f1f1f1;\n",
       "}\n",
       "#T_3dc79_row3_col3 {\n",
       "  background-color: #75c465;\n",
       "  color: #000000;\n",
       "}\n",
       "#T_3dc79_row3_col5 {\n",
       "  background-color: #c3e67d;\n",
       "  color: #000000;\n",
       "}\n",
       "#T_3dc79_row3_col6 {\n",
       "  background-color: #8ecf67;\n",
       "  color: #000000;\n",
       "}\n",
       "#T_3dc79_row4_col0 {\n",
       "  background-color: #39a758;\n",
       "  color: #f1f1f1;\n",
       "}\n",
       "#T_3dc79_row4_col1 {\n",
       "  background-color: #ce2827;\n",
       "  color: #f1f1f1;\n",
       "}\n",
       "#T_3dc79_row4_col3 {\n",
       "  background-color: #fba35c;\n",
       "  color: #000000;\n",
       "}\n",
       "#T_3dc79_row4_col5 {\n",
       "  background-color: #fee491;\n",
       "  color: #000000;\n",
       "}\n",
       "#T_3dc79_row5_col0 {\n",
       "  background-color: #4bb05c;\n",
       "  color: #f1f1f1;\n",
       "}\n",
       "#T_3dc79_row5_col2, #T_3dc79_row5_col7 {\n",
       "  background-color: #f57245;\n",
       "  color: #f1f1f1;\n",
       "}\n",
       "#T_3dc79_row5_col3 {\n",
       "  background-color: #f88950;\n",
       "  color: #f1f1f1;\n",
       "}\n",
       "#T_3dc79_row5_col6 {\n",
       "  background-color: #ca2427;\n",
       "  color: #f1f1f1;\n",
       "}\n",
       "</style>\n",
       "<table id=\"T_3dc79_\">\n",
       "  <thead>\n",
       "    <tr>\n",
       "      <th class=\"blank level0\" >&nbsp;</th>\n",
       "      <th class=\"col_heading level0 col0\" >fit_time</th>\n",
       "      <th class=\"col_heading level0 col1\" >score_time</th>\n",
       "      <th class=\"col_heading level0 col2\" >test_accuracy</th>\n",
       "      <th class=\"col_heading level0 col3\" >test_precision</th>\n",
       "      <th class=\"col_heading level0 col4\" >test_recall</th>\n",
       "      <th class=\"col_heading level0 col5\" >test_f1</th>\n",
       "      <th class=\"col_heading level0 col6\" >test_f1_macro</th>\n",
       "      <th class=\"col_heading level0 col7\" >test_f1_micro</th>\n",
       "    </tr>\n",
       "  </thead>\n",
       "  <tbody>\n",
       "    <tr>\n",
       "      <th id=\"T_3dc79_level0_row0\" class=\"row_heading level0 row0\" >decisionTreeNone</th>\n",
       "      <td id=\"T_3dc79_row0_col0\" class=\"data row0 col0\" >0.003667</td>\n",
       "      <td id=\"T_3dc79_row0_col1\" class=\"data row0 col1\" >0.003316</td>\n",
       "      <td id=\"T_3dc79_row0_col2\" class=\"data row0 col2\" >0.584839</td>\n",
       "      <td id=\"T_3dc79_row0_col3\" class=\"data row0 col3\" >0.453254</td>\n",
       "      <td id=\"T_3dc79_row0_col4\" class=\"data row0 col4\" >0.475000</td>\n",
       "      <td id=\"T_3dc79_row0_col5\" class=\"data row0 col5\" >0.445373</td>\n",
       "      <td id=\"T_3dc79_row0_col6\" class=\"data row0 col6\" >0.551108</td>\n",
       "      <td id=\"T_3dc79_row0_col7\" class=\"data row0 col7\" >0.584839</td>\n",
       "    </tr>\n",
       "    <tr>\n",
       "      <th id=\"T_3dc79_level0_row1\" class=\"row_heading level0 row1\" >decisionTree5</th>\n",
       "      <td id=\"T_3dc79_row1_col0\" class=\"data row1 col0\" >0.002040</td>\n",
       "      <td id=\"T_3dc79_row1_col1\" class=\"data row1 col1\" >0.003052</td>\n",
       "      <td id=\"T_3dc79_row1_col2\" class=\"data row1 col2\" >0.605269</td>\n",
       "      <td id=\"T_3dc79_row1_col3\" class=\"data row1 col3\" >0.521551</td>\n",
       "      <td id=\"T_3dc79_row1_col4\" class=\"data row1 col4\" >0.466667</td>\n",
       "      <td id=\"T_3dc79_row1_col5\" class=\"data row1 col5\" >0.483758</td>\n",
       "      <td id=\"T_3dc79_row1_col6\" class=\"data row1 col6\" >0.579962</td>\n",
       "      <td id=\"T_3dc79_row1_col7\" class=\"data row1 col7\" >0.605269</td>\n",
       "    </tr>\n",
       "    <tr>\n",
       "      <th id=\"T_3dc79_level0_row2\" class=\"row_heading level0 row2\" >decisionTree7</th>\n",
       "      <td id=\"T_3dc79_row2_col0\" class=\"data row2 col0\" >0.002660</td>\n",
       "      <td id=\"T_3dc79_row2_col1\" class=\"data row2 col1\" >0.003304</td>\n",
       "      <td id=\"T_3dc79_row2_col2\" class=\"data row2 col2\" >0.591828</td>\n",
       "      <td id=\"T_3dc79_row2_col3\" class=\"data row2 col3\" >0.497597</td>\n",
       "      <td id=\"T_3dc79_row2_col4\" class=\"data row2 col4\" >0.450000</td>\n",
       "      <td id=\"T_3dc79_row2_col5\" class=\"data row2 col5\" >0.458438</td>\n",
       "      <td id=\"T_3dc79_row2_col6\" class=\"data row2 col6\" >0.562655</td>\n",
       "      <td id=\"T_3dc79_row2_col7\" class=\"data row2 col7\" >0.591828</td>\n",
       "    </tr>\n",
       "    <tr>\n",
       "      <th id=\"T_3dc79_level0_row3\" class=\"row_heading level0 row3\" >decisionTree10</th>\n",
       "      <td id=\"T_3dc79_row3_col0\" class=\"data row3 col0\" >0.003442</td>\n",
       "      <td id=\"T_3dc79_row3_col1\" class=\"data row3 col1\" >0.003664</td>\n",
       "      <td id=\"T_3dc79_row3_col2\" class=\"data row3 col2\" >0.601398</td>\n",
       "      <td id=\"T_3dc79_row3_col3\" class=\"data row3 col3\" >0.506111</td>\n",
       "      <td id=\"T_3dc79_row3_col4\" class=\"data row3 col4\" >0.475000</td>\n",
       "      <td id=\"T_3dc79_row3_col5\" class=\"data row3 col5\" >0.469079</td>\n",
       "      <td id=\"T_3dc79_row3_col6\" class=\"data row3 col6\" >0.570721</td>\n",
       "      <td id=\"T_3dc79_row3_col7\" class=\"data row3 col7\" >0.601398</td>\n",
       "    </tr>\n",
       "    <tr>\n",
       "      <th id=\"T_3dc79_level0_row4\" class=\"row_heading level0 row4\" >decisionTree25</th>\n",
       "      <td id=\"T_3dc79_row4_col0\" class=\"data row4 col0\" >0.003435</td>\n",
       "      <td id=\"T_3dc79_row4_col1\" class=\"data row4 col1\" >0.003029</td>\n",
       "      <td id=\"T_3dc79_row4_col2\" class=\"data row4 col2\" >0.571505</td>\n",
       "      <td id=\"T_3dc79_row4_col3\" class=\"data row4 col3\" >0.472469</td>\n",
       "      <td id=\"T_3dc79_row4_col4\" class=\"data row4 col4\" >0.491667</td>\n",
       "      <td id=\"T_3dc79_row4_col5\" class=\"data row4 col5\" >0.459486</td>\n",
       "      <td id=\"T_3dc79_row4_col6\" class=\"data row4 col6\" >0.545060</td>\n",
       "      <td id=\"T_3dc79_row4_col7\" class=\"data row4 col7\" >0.571505</td>\n",
       "    </tr>\n",
       "    <tr>\n",
       "      <th id=\"T_3dc79_level0_row5\" class=\"row_heading level0 row5\" >decisionTree50</th>\n",
       "      <td id=\"T_3dc79_row5_col0\" class=\"data row5 col0\" >0.003397</td>\n",
       "      <td id=\"T_3dc79_row5_col1\" class=\"data row5 col1\" >0.002971</td>\n",
       "      <td id=\"T_3dc79_row5_col2\" class=\"data row5 col2\" >0.578602</td>\n",
       "      <td id=\"T_3dc79_row5_col3\" class=\"data row5 col3\" >0.469992</td>\n",
       "      <td id=\"T_3dc79_row5_col4\" class=\"data row5 col4\" >0.450000</td>\n",
       "      <td id=\"T_3dc79_row5_col5\" class=\"data row5 col5\" >0.442467</td>\n",
       "      <td id=\"T_3dc79_row5_col6\" class=\"data row5 col6\" >0.547669</td>\n",
       "      <td id=\"T_3dc79_row5_col7\" class=\"data row5 col7\" >0.578602</td>\n",
       "    </tr>\n",
       "  </tbody>\n",
       "</table>\n"
      ],
      "text/plain": [
       "<pandas.io.formats.style.Styler at 0x7ff4e424dfa0>"
      ]
     },
     "execution_count": 52,
     "metadata": {},
     "output_type": "execute_result"
    }
   ],
   "source": [
    "classifiers = {\n",
    "    'decisionTreeNone': DecisionTreeClassifier(max_depth=None),\n",
    "    'decisionTree5': DecisionTreeClassifier(max_depth=5),\n",
    "    'decisionTree7': DecisionTreeClassifier(max_depth=7),\n",
    "    'decisionTree10': DecisionTreeClassifier(max_depth=10),\n",
    "    'decisionTree25': DecisionTreeClassifier(max_depth=25),\n",
    "    'decisionTree50': DecisionTreeClassifier(max_depth=50),\n",
    "    \n",
    "}\n",
    "\n",
    "scores = {} # Store cross-validation results in a dictionary\n",
    "for classifier in classifiers: \n",
    "    scores[classifier] = cross_validate( # perform cross-validation\n",
    "        classifiers[classifier], # classifier object\n",
    "        X_token_k, # feature matrix\n",
    "        y_binary, # gold labels\n",
    "        cv=10, #number of folds\n",
    "        scoring=['accuracy','precision', 'recall', 'f1', 'f1_macro', 'f1_micro'] # scoring methods\n",
    "    )\n",
    "\n",
    "compare_scores(scores)"
   ]
  },
  {
   "cell_type": "code",
   "execution_count": 53,
   "id": "14f53b31-7f2c-451a-85c6-60f073ed9a7a",
   "metadata": {},
   "outputs": [
    {
     "data": {
      "text/html": [
       "<style type=\"text/css\">\n",
       "#T_983fd_row0_col0, #T_983fd_row0_col4, #T_983fd_row0_col5, #T_983fd_row0_col6, #T_983fd_row1_col1, #T_983fd_row1_col2, #T_983fd_row1_col3, #T_983fd_row1_col7 {\n",
       "  background-color: #006837;\n",
       "  color: #f1f1f1;\n",
       "}\n",
       "#T_983fd_row0_col1 {\n",
       "  background-color: #f57748;\n",
       "  color: #f1f1f1;\n",
       "}\n",
       "#T_983fd_row0_col2, #T_983fd_row0_col7 {\n",
       "  background-color: #108647;\n",
       "  color: #f1f1f1;\n",
       "}\n",
       "#T_983fd_row0_col3 {\n",
       "  background-color: #18954f;\n",
       "  color: #f1f1f1;\n",
       "}\n",
       "#T_983fd_row1_col0 {\n",
       "  background-color: #f67a49;\n",
       "  color: #f1f1f1;\n",
       "}\n",
       "#T_983fd_row1_col4 {\n",
       "  background-color: #fff6b0;\n",
       "  color: #000000;\n",
       "}\n",
       "#T_983fd_row1_col5 {\n",
       "  background-color: #fdfebc;\n",
       "  color: #000000;\n",
       "}\n",
       "#T_983fd_row1_col6 {\n",
       "  background-color: #c5e67e;\n",
       "  color: #000000;\n",
       "}\n",
       "#T_983fd_row2_col0 {\n",
       "  background-color: #a90426;\n",
       "  color: #f1f1f1;\n",
       "}\n",
       "#T_983fd_row2_col1 {\n",
       "  background-color: #ca2427;\n",
       "  color: #f1f1f1;\n",
       "}\n",
       "#T_983fd_row2_col2, #T_983fd_row2_col7 {\n",
       "  background-color: #feda86;\n",
       "  color: #000000;\n",
       "}\n",
       "#T_983fd_row2_col3, #T_983fd_row2_col4, #T_983fd_row3_col0, #T_983fd_row3_col4, #T_983fd_row3_col5, #T_983fd_row4_col1, #T_983fd_row4_col2, #T_983fd_row4_col6, #T_983fd_row4_col7 {\n",
       "  background-color: #a50026;\n",
       "  color: #f1f1f1;\n",
       "}\n",
       "#T_983fd_row2_col5 {\n",
       "  background-color: #bd1726;\n",
       "  color: #f1f1f1;\n",
       "}\n",
       "#T_983fd_row2_col6 {\n",
       "  background-color: #b50f26;\n",
       "  color: #f1f1f1;\n",
       "}\n",
       "#T_983fd_row3_col1 {\n",
       "  background-color: #2aa054;\n",
       "  color: #f1f1f1;\n",
       "}\n",
       "#T_983fd_row3_col2, #T_983fd_row3_col7 {\n",
       "  background-color: #a7d96b;\n",
       "  color: #000000;\n",
       "}\n",
       "#T_983fd_row3_col3 {\n",
       "  background-color: #e0f295;\n",
       "  color: #000000;\n",
       "}\n",
       "#T_983fd_row3_col6 {\n",
       "  background-color: #d22b27;\n",
       "  color: #f1f1f1;\n",
       "}\n",
       "#T_983fd_row4_col0 {\n",
       "  background-color: #c41e27;\n",
       "  color: #f1f1f1;\n",
       "}\n",
       "#T_983fd_row4_col3 {\n",
       "  background-color: #af0926;\n",
       "  color: #f1f1f1;\n",
       "}\n",
       "#T_983fd_row4_col4 {\n",
       "  background-color: #dc3b2c;\n",
       "  color: #f1f1f1;\n",
       "}\n",
       "#T_983fd_row4_col5 {\n",
       "  background-color: #f46d43;\n",
       "  color: #f1f1f1;\n",
       "}\n",
       "</style>\n",
       "<table id=\"T_983fd_\">\n",
       "  <thead>\n",
       "    <tr>\n",
       "      <th class=\"blank level0\" >&nbsp;</th>\n",
       "      <th class=\"col_heading level0 col0\" >fit_time</th>\n",
       "      <th class=\"col_heading level0 col1\" >score_time</th>\n",
       "      <th class=\"col_heading level0 col2\" >test_accuracy</th>\n",
       "      <th class=\"col_heading level0 col3\" >test_precision</th>\n",
       "      <th class=\"col_heading level0 col4\" >test_recall</th>\n",
       "      <th class=\"col_heading level0 col5\" >test_f1</th>\n",
       "      <th class=\"col_heading level0 col6\" >test_f1_macro</th>\n",
       "      <th class=\"col_heading level0 col7\" >test_f1_micro</th>\n",
       "    </tr>\n",
       "  </thead>\n",
       "  <tbody>\n",
       "    <tr>\n",
       "      <th id=\"T_983fd_level0_row0\" class=\"row_heading level0 row0\" >feature_None</th>\n",
       "      <td id=\"T_983fd_row0_col0\" class=\"data row0 col0\" >0.252122</td>\n",
       "      <td id=\"T_983fd_row0_col1\" class=\"data row0 col1\" >0.011204</td>\n",
       "      <td id=\"T_983fd_row0_col2\" class=\"data row0 col2\" >0.643333</td>\n",
       "      <td id=\"T_983fd_row0_col3\" class=\"data row0 col3\" >0.587000</td>\n",
       "      <td id=\"T_983fd_row0_col4\" class=\"data row0 col4\" >0.475000</td>\n",
       "      <td id=\"T_983fd_row0_col5\" class=\"data row0 col5\" >0.512321</td>\n",
       "      <td id=\"T_983fd_row0_col6\" class=\"data row0 col6\" >0.613844</td>\n",
       "      <td id=\"T_983fd_row0_col7\" class=\"data row0 col7\" >0.643333</td>\n",
       "    </tr>\n",
       "    <tr>\n",
       "      <th id=\"T_983fd_level0_row1\" class=\"row_heading level0 row1\" >feature_100</th>\n",
       "      <td id=\"T_983fd_row1_col0\" class=\"data row1 col0\" >0.134747</td>\n",
       "      <td id=\"T_983fd_row1_col1\" class=\"data row1 col1\" >0.012353</td>\n",
       "      <td id=\"T_983fd_row1_col2\" class=\"data row1 col2\" >0.646022</td>\n",
       "      <td id=\"T_983fd_row1_col3\" class=\"data row1 col3\" >0.591305</td>\n",
       "      <td id=\"T_983fd_row1_col4\" class=\"data row1 col4\" >0.400000</td>\n",
       "      <td id=\"T_983fd_row1_col5\" class=\"data row1 col5\" >0.450575</td>\n",
       "      <td id=\"T_983fd_row1_col6\" class=\"data row1 col6\" >0.592325</td>\n",
       "      <td id=\"T_983fd_row1_col7\" class=\"data row1 col7\" >0.646022</td>\n",
       "    </tr>\n",
       "    <tr>\n",
       "      <th id=\"T_983fd_level0_row2\" class=\"row_heading level0 row2\" >feature_5</th>\n",
       "      <td id=\"T_983fd_row2_col0\" class=\"data row2 col0\" >0.102898</td>\n",
       "      <td id=\"T_983fd_row2_col1\" class=\"data row2 col1\" >0.010997</td>\n",
       "      <td id=\"T_983fd_row2_col2\" class=\"data row2 col2\" >0.619785</td>\n",
       "      <td id=\"T_983fd_row2_col3\" class=\"data row2 col3\" >0.546591</td>\n",
       "      <td id=\"T_983fd_row2_col4\" class=\"data row2 col4\" >0.333333</td>\n",
       "      <td id=\"T_983fd_row2_col5\" class=\"data row2 col5\" >0.393365</td>\n",
       "      <td id=\"T_983fd_row2_col6\" class=\"data row2 col6\" >0.556615</td>\n",
       "      <td id=\"T_983fd_row2_col7\" class=\"data row2 col7\" >0.619785</td>\n",
       "    </tr>\n",
       "    <tr>\n",
       "      <th id=\"T_983fd_level0_row3\" class=\"row_heading level0 row3\" >feature_2</th>\n",
       "      <td id=\"T_983fd_row3_col0\" class=\"data row3 col0\" >0.101240</td>\n",
       "      <td id=\"T_983fd_row3_col1\" class=\"data row3 col1\" >0.012170</td>\n",
       "      <td id=\"T_983fd_row3_col2\" class=\"data row3 col2\" >0.633011</td>\n",
       "      <td id=\"T_983fd_row3_col3\" class=\"data row3 col3\" >0.572511</td>\n",
       "      <td id=\"T_983fd_row3_col4\" class=\"data row3 col4\" >0.333333</td>\n",
       "      <td id=\"T_983fd_row3_col5\" class=\"data row3 col5\" >0.387163</td>\n",
       "      <td id=\"T_983fd_row3_col6\" class=\"data row3 col6\" >0.560033</td>\n",
       "      <td id=\"T_983fd_row3_col7\" class=\"data row3 col7\" >0.633011</td>\n",
       "    </tr>\n",
       "    <tr>\n",
       "      <th id=\"T_983fd_level0_row4\" class=\"row_heading level0 row4\" >est_og</th>\n",
       "      <td id=\"T_983fd_row4_col0\" class=\"data row4 col0\" >0.110783</td>\n",
       "      <td id=\"T_983fd_row4_col1\" class=\"data row4 col1\" >0.010884</td>\n",
       "      <td id=\"T_983fd_row4_col2\" class=\"data row4 col2\" >0.603226</td>\n",
       "      <td id=\"T_983fd_row4_col3\" class=\"data row4 col3\" >0.547525</td>\n",
       "      <td id=\"T_983fd_row4_col4\" class=\"data row4 col4\" >0.350000</td>\n",
       "      <td id=\"T_983fd_row4_col5\" class=\"data row4 col5\" >0.412240</td>\n",
       "      <td id=\"T_983fd_row4_col6\" class=\"data row4 col6\" >0.554593</td>\n",
       "      <td id=\"T_983fd_row4_col7\" class=\"data row4 col7\" >0.603226</td>\n",
       "    </tr>\n",
       "  </tbody>\n",
       "</table>\n"
      ],
      "text/plain": [
       "<pandas.io.formats.style.Styler at 0x7ff4e4139e50>"
      ]
     },
     "execution_count": 53,
     "metadata": {},
     "output_type": "execute_result"
    }
   ],
   "source": [
    "# trying diff max_features\n",
    "RFfeatures = {\n",
    "    'feature_None':RandomForestClassifier(max_features=None),\n",
    "    'feature_100':RandomForestClassifier(max_features=10),\n",
    "    'feature_5':RandomForestClassifier(max_features=5),\n",
    "    'feature_2':RandomForestClassifier(max_features=2),\n",
    "    'est_og':RandomForestClassifier()\n",
    "}\n",
    "\n",
    "RFscores1 = {} \n",
    "for classifier in RFfeatures:\n",
    "    RFscores1[classifier] = cross_validate( \n",
    "        RFfeatures[classifier], \n",
    "        X_token_k, # feature matrix\n",
    "        y_binary, # gold labels\n",
    "        cv=10, \n",
    "        scoring=['accuracy','precision', 'recall', 'f1', 'f1_macro', 'f1_micro'] \n",
    "    )\n",
    "\n",
    "compare_scores(RFscores1)"
   ]
  },
  {
   "cell_type": "markdown",
   "id": "045a9b79-7c22-4771-865f-f5193b306ede",
   "metadata": {
    "tags": []
   },
   "source": [
    "#### It seems random forest with the default parameter `max_features=100` has the highest accuracy score, and the one with `max_features=None` had the best F1 score, which was still lower than the baseline F1. "
   ]
  },
  {
   "cell_type": "markdown",
   "id": "b1657c6c-be23-4e15-8fcd-0014c199cab6",
   "metadata": {
    "tags": []
   },
   "source": [
    "### 2. Build a word-embedding-based classifier"
   ]
  },
  {
   "cell_type": "code",
   "execution_count": 54,
   "id": "ebc3ba6d-1dc6-4fab-8df6-d63c9cc701b0",
   "metadata": {},
   "outputs": [],
   "source": [
    "def get_doc_embedding(doc, nlp):    \n",
    "    # remove_noninformative_tokens\n",
    "    tokens = nlp(doc)\n",
    "    culled = []\n",
    "    culled = [token for token in tokens if not (token.is_stop or token.is_punct or token.is_space) and token.has_vector]\n",
    "    '''\n",
    "    Takes two lists of spacy token objects.\n",
    "    Returns cosine similarity between their embedding representations.\n",
    "    '''\n",
    "    mean_vector_culled = np.mean([token.vector for token in culled], axis=0)\n",
    "       \n",
    "    return mean_vector_culled"
   ]
  },
  {
   "cell_type": "code",
   "execution_count": 55,
   "id": "61502c2b-4ab2-4649-9e3f-4ee03034a609",
   "metadata": {},
   "outputs": [],
   "source": [
    "nlp = spacy.load(\"en_core_web_lg\") # Note '_lg' = large model"
   ]
  },
  {
   "cell_type": "code",
   "execution_count": 56,
   "id": "1f694bd9-41d2-4578-9927-cef23622700c",
   "metadata": {},
   "outputs": [
    {
     "name": "stdout",
     "output_type": "stream",
     "text": [
      "CPU times: user 18min 53s, sys: 2min 20s, total: 21min 13s\n",
      "Wall time: 21min 24s\n"
     ]
    }
   ],
   "source": [
    "%%time\n",
    "X_embedding = []\n",
    "X_embedding = np.zeros((len(df.text), nlp.vocab.vectors_length))\n",
    "\n",
    "for i, content in enumerate(df.text):\n",
    "    X_embedding[i] = get_doc_embedding(content, nlp)  "
   ]
  },
  {
   "cell_type": "code",
   "execution_count": 57,
   "id": "6fdfe195-b7db-48d2-8781-033dcd829e65",
   "metadata": {},
   "outputs": [
    {
     "name": "stdout",
     "output_type": "stream",
     "text": [
      "Shape of embedding matrix:  (304, 300)\n"
     ]
    }
   ],
   "source": [
    "print(\"Shape of embedding matrix: \", X_embedding.shape)"
   ]
  },
  {
   "cell_type": "code",
   "execution_count": 58,
   "id": "89f3c4dc-7acc-4b1d-996b-dbf4416ec690",
   "metadata": {},
   "outputs": [],
   "source": [
    "# standard-scale feature matrix\n",
    "X_embedding = StandardScaler().fit_transform(X_embedding)"
   ]
  },
  {
   "cell_type": "code",
   "execution_count": 59,
   "id": "b05cf15c-85be-45e6-a692-109937298bc3",
   "metadata": {},
   "outputs": [
    {
     "name": "stdout",
     "output_type": "stream",
     "text": [
      "CPU times: user 2 µs, sys: 1e+03 ns, total: 3 µs\n",
      "Wall time: 4.77 µs\n"
     ]
    },
    {
     "data": {
      "text/html": [
       "<style type=\"text/css\">\n",
       "#T_a8d66_row0_col0, #T_a8d66_row0_col2, #T_a8d66_row0_col5, #T_a8d66_row0_col6, #T_a8d66_row3_col1, #T_a8d66_row4_col3, #T_a8d66_row4_col4 {\n",
       "  background-color: #a50026;\n",
       "  color: #f1f1f1;\n",
       "}\n",
       "#T_a8d66_row0_col1 {\n",
       "  background-color: #fee08b;\n",
       "  color: #000000;\n",
       "}\n",
       "#T_a8d66_row0_col3 {\n",
       "  background-color: #fdb96a;\n",
       "  color: #000000;\n",
       "}\n",
       "#T_a8d66_row0_col4 {\n",
       "  background-color: #f16640;\n",
       "  color: #f1f1f1;\n",
       "}\n",
       "#T_a8d66_row1_col0 {\n",
       "  background-color: #c62027;\n",
       "  color: #f1f1f1;\n",
       "}\n",
       "#T_a8d66_row1_col1 {\n",
       "  background-color: #c82227;\n",
       "  color: #f1f1f1;\n",
       "}\n",
       "#T_a8d66_row1_col2, #T_a8d66_row1_col6 {\n",
       "  background-color: #249d53;\n",
       "  color: #f1f1f1;\n",
       "}\n",
       "#T_a8d66_row1_col3 {\n",
       "  background-color: #c1e57b;\n",
       "  color: #000000;\n",
       "}\n",
       "#T_a8d66_row1_col4 {\n",
       "  background-color: #8ccd67;\n",
       "  color: #000000;\n",
       "}\n",
       "#T_a8d66_row1_col5 {\n",
       "  background-color: #48ae5c;\n",
       "  color: #f1f1f1;\n",
       "}\n",
       "#T_a8d66_row2_col0 {\n",
       "  background-color: #d83128;\n",
       "  color: #f1f1f1;\n",
       "}\n",
       "#T_a8d66_row2_col1 {\n",
       "  background-color: #b71126;\n",
       "  color: #f1f1f1;\n",
       "}\n",
       "#T_a8d66_row2_col2, #T_a8d66_row2_col6 {\n",
       "  background-color: #91d068;\n",
       "  color: #000000;\n",
       "}\n",
       "#T_a8d66_row2_col3 {\n",
       "  background-color: #f4fab0;\n",
       "  color: #000000;\n",
       "}\n",
       "#T_a8d66_row2_col4 {\n",
       "  background-color: #c3e67d;\n",
       "  color: #000000;\n",
       "}\n",
       "#T_a8d66_row2_col5 {\n",
       "  background-color: #82c966;\n",
       "  color: #000000;\n",
       "}\n",
       "#T_a8d66_row3_col0, #T_a8d66_row3_col2, #T_a8d66_row3_col3, #T_a8d66_row3_col4, #T_a8d66_row3_col5, #T_a8d66_row3_col6, #T_a8d66_row5_col1 {\n",
       "  background-color: #006837;\n",
       "  color: #f1f1f1;\n",
       "}\n",
       "#T_a8d66_row4_col0 {\n",
       "  background-color: #ad0826;\n",
       "  color: #f1f1f1;\n",
       "}\n",
       "#T_a8d66_row4_col1 {\n",
       "  background-color: #ef633f;\n",
       "  color: #f1f1f1;\n",
       "}\n",
       "#T_a8d66_row4_col2, #T_a8d66_row4_col6 {\n",
       "  background-color: #fee491;\n",
       "  color: #000000;\n",
       "}\n",
       "#T_a8d66_row4_col5 {\n",
       "  background-color: #d22b27;\n",
       "  color: #f1f1f1;\n",
       "}\n",
       "#T_a8d66_row5_col0 {\n",
       "  background-color: #fca55d;\n",
       "  color: #000000;\n",
       "}\n",
       "#T_a8d66_row5_col2, #T_a8d66_row5_col6 {\n",
       "  background-color: #d7ee8a;\n",
       "  color: #000000;\n",
       "}\n",
       "#T_a8d66_row5_col3 {\n",
       "  background-color: #f47044;\n",
       "  color: #f1f1f1;\n",
       "}\n",
       "#T_a8d66_row5_col4 {\n",
       "  background-color: #f26841;\n",
       "  color: #f1f1f1;\n",
       "}\n",
       "#T_a8d66_row5_col5 {\n",
       "  background-color: #fdc372;\n",
       "  color: #000000;\n",
       "}\n",
       "</style>\n",
       "<table id=\"T_a8d66_\">\n",
       "  <thead>\n",
       "    <tr>\n",
       "      <th class=\"blank level0\" >&nbsp;</th>\n",
       "      <th class=\"col_heading level0 col0\" >fit_time</th>\n",
       "      <th class=\"col_heading level0 col1\" >score_time</th>\n",
       "      <th class=\"col_heading level0 col2\" >test_accuracy</th>\n",
       "      <th class=\"col_heading level0 col3\" >test_recall</th>\n",
       "      <th class=\"col_heading level0 col4\" >test_f1</th>\n",
       "      <th class=\"col_heading level0 col5\" >test_f1_macro</th>\n",
       "      <th class=\"col_heading level0 col6\" >test_f1_micro</th>\n",
       "    </tr>\n",
       "  </thead>\n",
       "  <tbody>\n",
       "    <tr>\n",
       "      <th id=\"T_a8d66_level0_row0\" class=\"row_heading level0 row0\" >kNN</th>\n",
       "      <td id=\"T_a8d66_row0_col0\" class=\"data row0 col0\" >0.000658</td>\n",
       "      <td id=\"T_a8d66_row0_col1\" class=\"data row0 col1\" >0.006234</td>\n",
       "      <td id=\"T_a8d66_row0_col2\" class=\"data row0 col2\" >0.479140</td>\n",
       "      <td id=\"T_a8d66_row0_col3\" class=\"data row0 col3\" >0.350000</td>\n",
       "      <td id=\"T_a8d66_row0_col4\" class=\"data row0 col4\" >0.311249</td>\n",
       "      <td id=\"T_a8d66_row0_col5\" class=\"data row0 col5\" >0.437167</td>\n",
       "      <td id=\"T_a8d66_row0_col6\" class=\"data row0 col6\" >0.479140</td>\n",
       "    </tr>\n",
       "    <tr>\n",
       "      <th id=\"T_a8d66_level0_row1\" class=\"row_heading level0 row1\" >Logit</th>\n",
       "      <td id=\"T_a8d66_row1_col0\" class=\"data row1 col0\" >0.028401</td>\n",
       "      <td id=\"T_a8d66_row1_col1\" class=\"data row1 col1\" >0.003451</td>\n",
       "      <td id=\"T_a8d66_row1_col2\" class=\"data row1 col2\" >0.555699</td>\n",
       "      <td id=\"T_a8d66_row1_col3\" class=\"data row1 col3\" >0.441667</td>\n",
       "      <td id=\"T_a8d66_row1_col4\" class=\"data row1 col4\" >0.426857</td>\n",
       "      <td id=\"T_a8d66_row1_col5\" class=\"data row1 col5\" >0.521937</td>\n",
       "      <td id=\"T_a8d66_row1_col6\" class=\"data row1 col6\" >0.555699</td>\n",
       "    </tr>\n",
       "    <tr>\n",
       "      <th id=\"T_a8d66_level0_row2\" class=\"row_heading level0 row2\" >Decision tree</th>\n",
       "      <td id=\"T_a8d66_row2_col0\" class=\"data row2 col0\" >0.042428</td>\n",
       "      <td id=\"T_a8d66_row2_col1\" class=\"data row2 col1\" >0.003155</td>\n",
       "      <td id=\"T_a8d66_row2_col2\" class=\"data row2 col2\" >0.542688</td>\n",
       "      <td id=\"T_a8d66_row2_col3\" class=\"data row2 col3\" >0.408333</td>\n",
       "      <td id=\"T_a8d66_row2_col4\" class=\"data row2 col4\" >0.406991</td>\n",
       "      <td id=\"T_a8d66_row2_col5\" class=\"data row2 col5\" >0.513861</td>\n",
       "      <td id=\"T_a8d66_row2_col6\" class=\"data row2 col6\" >0.542688</td>\n",
       "    </tr>\n",
       "    <tr>\n",
       "      <th id=\"T_a8d66_level0_row3\" class=\"row_heading level0 row3\" >LinearSVC</th>\n",
       "      <td id=\"T_a8d66_row3_col0\" class=\"data row3 col0\" >0.400859</td>\n",
       "      <td id=\"T_a8d66_row3_col1\" class=\"data row3 col1\" >0.002837</td>\n",
       "      <td id=\"T_a8d66_row3_col2\" class=\"data row3 col2\" >0.565806</td>\n",
       "      <td id=\"T_a8d66_row3_col3\" class=\"data row3 col3\" >0.541667</td>\n",
       "      <td id=\"T_a8d66_row3_col4\" class=\"data row3 col4\" >0.481738</td>\n",
       "      <td id=\"T_a8d66_row3_col5\" class=\"data row3 col5\" >0.538542</td>\n",
       "      <td id=\"T_a8d66_row3_col6\" class=\"data row3 col6\" >0.565806</td>\n",
       "    </tr>\n",
       "    <tr>\n",
       "      <th id=\"T_a8d66_level0_row4\" class=\"row_heading level0 row4\" >SVC</th>\n",
       "      <td id=\"T_a8d66_row4_col0\" class=\"data row4 col0\" >0.007693</td>\n",
       "      <td id=\"T_a8d66_row4_col1\" class=\"data row4 col1\" >0.004418</td>\n",
       "      <td id=\"T_a8d66_row4_col2\" class=\"data row4 col2\" >0.514946</td>\n",
       "      <td id=\"T_a8d66_row4_col3\" class=\"data row4 col3\" >0.258333</td>\n",
       "      <td id=\"T_a8d66_row4_col4\" class=\"data row4 col4\" >0.271720</td>\n",
       "      <td id=\"T_a8d66_row4_col5\" class=\"data row4 col5\" >0.446503</td>\n",
       "      <td id=\"T_a8d66_row4_col6\" class=\"data row4 col6\" >0.514946</td>\n",
       "    </tr>\n",
       "    <tr>\n",
       "      <th id=\"T_a8d66_level0_row5\" class=\"row_heading level0 row5\" >RandomForest</th>\n",
       "      <td id=\"T_a8d66_row5_col0\" class=\"data row5 col0\" >0.115754</td>\n",
       "      <td id=\"T_a8d66_row5_col1\" class=\"data row5 col1\" >0.011304</td>\n",
       "      <td id=\"T_a8d66_row5_col2\" class=\"data row5 col2\" >0.531505</td>\n",
       "      <td id=\"T_a8d66_row5_col3\" class=\"data row5 col3\" >0.316667</td>\n",
       "      <td id=\"T_a8d66_row5_col4\" class=\"data row5 col4\" >0.312572</td>\n",
       "      <td id=\"T_a8d66_row5_col5\" class=\"data row5 col5\" >0.471817</td>\n",
       "      <td id=\"T_a8d66_row5_col6\" class=\"data row5 col6\" >0.531505</td>\n",
       "    </tr>\n",
       "  </tbody>\n",
       "</table>\n"
      ],
      "text/plain": [
       "<pandas.io.formats.style.Styler at 0x7ff4e3b284c0>"
      ]
     },
     "execution_count": 59,
     "metadata": {},
     "output_type": "execute_result"
    }
   ],
   "source": [
    "%time\n",
    "warnings.filterwarnings('ignore')\n",
    "# trying diff max_features\n",
    "classifiers = {\n",
    "    'kNN': KNeighborsClassifier(),\n",
    "    'Logit':LogisticRegression(),\n",
    "    'Decision tree':DecisionTreeClassifier(),\n",
    "    'LinearSVC':LinearSVC(max_iter=10000),\n",
    "    'SVC':SVC(),\n",
    "    'RandomForest':RandomForestClassifier(max_features=2)\n",
    "}\n",
    "\n",
    "scores = {} \n",
    "for classifier in classifiers:\n",
    "    scores[classifier] = cross_validate( \n",
    "        classifiers[classifier], \n",
    "        X_embedding, # feature matrix\n",
    "        y_binary, # gold labels\n",
    "        cv=10, \n",
    "        scoring=['accuracy', 'recall', 'f1', 'f1_macro', 'f1_micro'] \n",
    "    )\n",
    "\n",
    "compare_scores(scores)"
   ]
  },
  {
   "cell_type": "markdown",
   "id": "93ee7cd2-cc39-41fe-8417-487380243b23",
   "metadata": {},
   "source": [
    "#### It seemed the word-embedding feature matrix did not have better accuracy score or F1 score than the token-based feature matrix. LinearSVC classifier outperformed other classifiers in most of the metrics, including accuracy score and F1. "
   ]
  },
  {
   "cell_type": "markdown",
   "id": "f48795b4-cbc6-464b-8078-e478635eedab",
   "metadata": {
    "tags": []
   },
   "source": [
    "### 3. Can entities and POS tag feature matrix improve the classifier? "
   ]
  },
  {
   "cell_type": "code",
   "execution_count": 60,
   "id": "d04c952a-937c-45bb-aa36-21f1a7570926",
   "metadata": {},
   "outputs": [],
   "source": [
    "# Count entities and POS tags\n",
    "valid_ent = ['PERSON', 'MONEY', 'TIME']\n",
    "valid_pos = ['ADJ', 'ADV', 'AUX', 'CCONJ', 'DET', 'NOUN', 'PRON', 'PROPN', 'VERB']"
   ]
  },
  {
   "cell_type": "code",
   "execution_count": 61,
   "id": "fa78de42-501e-4223-a725-cc89bebe6cf7",
   "metadata": {},
   "outputs": [
    {
     "name": "stdout",
     "output_type": "stream",
     "text": [
      "CPU times: user 18min 42s, sys: 2min 16s, total: 20min 59s\n",
      "Wall time: 21min 4s\n"
     ]
    }
   ],
   "source": [
    "%%time\n",
    "\n",
    "text_data = []\n",
    "for text in df.text:\n",
    "    counts = Counter()\n",
    "    doc = nlp(text)\n",
    "    # counts['wordcount'] = len(doc) #\n",
    "    for entity in doc.ents:\n",
    "        if entity.label_ in valid_ent:\n",
    "            counts[entity.label_] += 1\n",
    "    for token in doc:\n",
    "        if token.pos_ in valid_pos:\n",
    "            counts[token.pos_] += 1\n",
    "    text_data.append(counts)"
   ]
  },
  {
   "cell_type": "code",
   "execution_count": 62,
   "id": "77c7d421-8514-4a93-b6c2-48547a70529b",
   "metadata": {},
   "outputs": [
    {
     "data": {
      "text/plain": [
       "{'TIME': 314,\n",
       " 'PERSON': 5791,\n",
       " 'MONEY': 32111,\n",
       " 'NOUN': 1731744,\n",
       " 'ADV': 130491,\n",
       " 'VERB': 589652,\n",
       " 'PRON': 310065,\n",
       " 'ADJ': 561546,\n",
       " 'AUX': 237376,\n",
       " 'DET': 374965,\n",
       " 'CCONJ': 314403,\n",
       " 'PROPN': 190794}"
      ]
     },
     "execution_count": 62,
     "metadata": {},
     "output_type": "execute_result"
    }
   ],
   "source": [
    "sum_ent = {}\n",
    "for item in text_data:\n",
    "    for key, val in item.items():\n",
    "        if sum_ent.get(key) == None:\n",
    "            sum_ent.update({key : 0})\n",
    "        sum_ent[key] += val\n",
    "sum_ent"
   ]
  },
  {
   "cell_type": "code",
   "execution_count": 63,
   "id": "40b9accc-03a3-48f1-b1f4-e6e67bf6d78f",
   "metadata": {},
   "outputs": [
    {
     "data": {
      "text/plain": [
       "<BarContainer object of 12 artists>"
      ]
     },
     "execution_count": 63,
     "metadata": {},
     "output_type": "execute_result"
    },
    {
     "data": {
      "image/png": "[encoded data removed]",
      "text/plain": [
       "<Figure size 576x576 with 1 Axes>"
      ]
     },
     "metadata": {
      "needs_background": "light"
     },
     "output_type": "display_data"
    }
   ],
   "source": [
    "names, counts = zip(*sum_ent.items())\n",
    "fig, ax = plt.subplots(figsize=(8,8))\n",
    "plt.xticks(rotation=90)\n",
    "plt.bar(names, counts)"
   ]
  },
  {
   "cell_type": "markdown",
   "id": "b68cb7ca-4b42-4710-891f-6b518144baa8",
   "metadata": {
    "tags": []
   },
   "source": [
    "#### Unsurprisingly, **MONEY** was mentioned the most among the three entities: **TIME**, **PERSOM**, and **MONEY**, since the dataset was derived from the annual financial reports. Nevertheless, **NOUN**s appeared the most among all the other entities. "
   ]
  },
  {
   "cell_type": "code",
   "execution_count": 64,
   "id": "bb7466b4-b168-4344-bbaf-a9e04ce64fb5",
   "metadata": {},
   "outputs": [
    {
     "name": "stdout",
     "output_type": "stream",
     "text": [
      "Shape of the transformed matrix:  (304, 12)\n"
     ]
    }
   ],
   "source": [
    "# Vectorize entitiy and POS counts\n",
    "vectorizer = DictVectorizer(sparse=False)\n",
    "X_trans = vectorizer.fit_transform(text_data)\n",
    "print(\"Shape of the transformed matrix: \", X_trans.shape)"
   ]
  },
  {
   "cell_type": "code",
   "execution_count": 65,
   "id": "31cbd1d8-e7b9-4593-86df-39ffaaed2367",
   "metadata": {},
   "outputs": [
    {
     "name": "stdout",
     "output_type": "stream",
     "text": [
      "Shape of the scaled matrix:  (304, 12)\n"
     ]
    }
   ],
   "source": [
    "# Scale\n",
    "# Standard-scale your feature matrix\n",
    "X_trans = StandardScaler().fit_transform(X_trans)\n",
    "print(\"Shape of the scaled matrix: \", X_trans.shape)"
   ]
  },
  {
   "cell_type": "code",
   "execution_count": 66,
   "id": "a4950639-9cd3-4228-bab8-d3ed3f0ab692",
   "metadata": {},
   "outputs": [
    {
     "name": "stdout",
     "output_type": "stream",
     "text": [
      "CPU times: user 2 µs, sys: 1e+03 ns, total: 3 µs\n",
      "Wall time: 5.96 µs\n"
     ]
    },
    {
     "data": {
      "text/html": [
       "<style type=\"text/css\">\n",
       "#T_c8127_row0_col0, #T_c8127_row0_col2, #T_c8127_row0_col5, #T_c8127_row0_col6, #T_c8127_row2_col2, #T_c8127_row2_col6, #T_c8127_row4_col1, #T_c8127_row5_col3, #T_c8127_row5_col4 {\n",
       "  background-color: #a50026;\n",
       "  color: #f1f1f1;\n",
       "}\n",
       "#T_c8127_row0_col1 {\n",
       "  background-color: #f16640;\n",
       "  color: #f1f1f1;\n",
       "}\n",
       "#T_c8127_row0_col3 {\n",
       "  background-color: #54b45f;\n",
       "  color: #f1f1f1;\n",
       "}\n",
       "#T_c8127_row0_col4 {\n",
       "  background-color: #4bb05c;\n",
       "  color: #f1f1f1;\n",
       "}\n",
       "#T_c8127_row1_col0 {\n",
       "  background-color: #c01a27;\n",
       "  color: #f1f1f1;\n",
       "}\n",
       "#T_c8127_row1_col1 {\n",
       "  background-color: #a70226;\n",
       "  color: #f1f1f1;\n",
       "}\n",
       "#T_c8127_row1_col2, #T_c8127_row1_col6 {\n",
       "  background-color: #199750;\n",
       "  color: #f1f1f1;\n",
       "}\n",
       "#T_c8127_row1_col3 {\n",
       "  background-color: #fedc88;\n",
       "  color: #000000;\n",
       "}\n",
       "#T_c8127_row1_col4 {\n",
       "  background-color: #8ecf67;\n",
       "  color: #000000;\n",
       "}\n",
       "#T_c8127_row1_col5 {\n",
       "  background-color: #7ac665;\n",
       "  color: #000000;\n",
       "}\n",
       "#T_c8127_row2_col0 {\n",
       "  background-color: #a90426;\n",
       "  color: #f1f1f1;\n",
       "}\n",
       "#T_c8127_row2_col1 {\n",
       "  background-color: #ab0626;\n",
       "  color: #f1f1f1;\n",
       "}\n",
       "#T_c8127_row2_col3, #T_c8127_row2_col4, #T_c8127_row3_col0, #T_c8127_row3_col1, #T_c8127_row4_col2, #T_c8127_row4_col5, #T_c8127_row4_col6 {\n",
       "  background-color: #006837;\n",
       "  color: #f1f1f1;\n",
       "}\n",
       "#T_c8127_row2_col5 {\n",
       "  background-color: #ca2427;\n",
       "  color: #f1f1f1;\n",
       "}\n",
       "#T_c8127_row3_col2, #T_c8127_row3_col6 {\n",
       "  background-color: #fdbd6d;\n",
       "  color: #000000;\n",
       "}\n",
       "#T_c8127_row3_col3 {\n",
       "  background-color: #d5ed88;\n",
       "  color: #000000;\n",
       "}\n",
       "#T_c8127_row3_col4 {\n",
       "  background-color: #93d168;\n",
       "  color: #000000;\n",
       "}\n",
       "#T_c8127_row3_col5 {\n",
       "  background-color: #fdb163;\n",
       "  color: #000000;\n",
       "}\n",
       "#T_c8127_row4_col0 {\n",
       "  background-color: #f57245;\n",
       "  color: #f1f1f1;\n",
       "}\n",
       "#T_c8127_row4_col3 {\n",
       "  background-color: #e3f399;\n",
       "  color: #000000;\n",
       "}\n",
       "#T_c8127_row4_col4 {\n",
       "  background-color: #0b7d42;\n",
       "  color: #f1f1f1;\n",
       "}\n",
       "#T_c8127_row5_col0 {\n",
       "  background-color: #ad0826;\n",
       "  color: #f1f1f1;\n",
       "}\n",
       "#T_c8127_row5_col1 {\n",
       "  background-color: #cc2627;\n",
       "  color: #f1f1f1;\n",
       "}\n",
       "#T_c8127_row5_col2, #T_c8127_row5_col6 {\n",
       "  background-color: #d1ec86;\n",
       "  color: #000000;\n",
       "}\n",
       "#T_c8127_row5_col5 {\n",
       "  background-color: #b10b26;\n",
       "  color: #f1f1f1;\n",
       "}\n",
       "#T_c8127_row6_col0 {\n",
       "  background-color: #16914d;\n",
       "  color: #f1f1f1;\n",
       "}\n",
       "#T_c8127_row6_col1 {\n",
       "  background-color: #05713c;\n",
       "  color: #f1f1f1;\n",
       "}\n",
       "#T_c8127_row6_col2, #T_c8127_row6_col5, #T_c8127_row6_col6 {\n",
       "  background-color: #c9e881;\n",
       "  color: #000000;\n",
       "}\n",
       "#T_c8127_row6_col3 {\n",
       "  background-color: #f1f9ac;\n",
       "  color: #000000;\n",
       "}\n",
       "#T_c8127_row6_col4 {\n",
       "  background-color: #4eb15d;\n",
       "  color: #f1f1f1;\n",
       "}\n",
       "</style>\n",
       "<table id=\"T_c8127_\">\n",
       "  <thead>\n",
       "    <tr>\n",
       "      <th class=\"blank level0\" >&nbsp;</th>\n",
       "      <th class=\"col_heading level0 col0\" >fit_time</th>\n",
       "      <th class=\"col_heading level0 col1\" >score_time</th>\n",
       "      <th class=\"col_heading level0 col2\" >test_accuracy</th>\n",
       "      <th class=\"col_heading level0 col3\" >test_recall</th>\n",
       "      <th class=\"col_heading level0 col4\" >test_f1</th>\n",
       "      <th class=\"col_heading level0 col5\" >test_f1_macro</th>\n",
       "      <th class=\"col_heading level0 col6\" >test_f1_micro</th>\n",
       "    </tr>\n",
       "  </thead>\n",
       "  <tbody>\n",
       "    <tr>\n",
       "      <th id=\"T_c8127_level0_row0\" class=\"row_heading level0 row0\" >kNN</th>\n",
       "      <td id=\"T_c8127_row0_col0\" class=\"data row0 col0\" >0.001257</td>\n",
       "      <td id=\"T_c8127_row0_col1\" class=\"data row0 col1\" >0.004462</td>\n",
       "      <td id=\"T_c8127_row0_col2\" class=\"data row0 col2\" >0.496344</td>\n",
       "      <td id=\"T_c8127_row0_col3\" class=\"data row0 col3\" >0.350000</td>\n",
       "      <td id=\"T_c8127_row0_col4\" class=\"data row0 col4\" >0.346215</td>\n",
       "      <td id=\"T_c8127_row0_col5\" class=\"data row0 col5\" >0.461602</td>\n",
       "      <td id=\"T_c8127_row0_col6\" class=\"data row0 col6\" >0.496344</td>\n",
       "    </tr>\n",
       "    <tr>\n",
       "      <th id=\"T_c8127_level0_row1\" class=\"row_heading level0 row1\" >Logit</th>\n",
       "      <td id=\"T_c8127_row1_col0\" class=\"data row1 col0\" >0.008287</td>\n",
       "      <td id=\"T_c8127_row1_col1\" class=\"data row1 col1\" >0.002893</td>\n",
       "      <td id=\"T_c8127_row1_col2\" class=\"data row1 col2\" >0.612366</td>\n",
       "      <td id=\"T_c8127_row1_col3\" class=\"data row1 col3\" >0.250000</td>\n",
       "      <td id=\"T_c8127_row1_col4\" class=\"data row1 col4\" >0.331674</td>\n",
       "      <td id=\"T_c8127_row1_col5\" class=\"data row1 col5\" >0.527124</td>\n",
       "      <td id=\"T_c8127_row1_col6\" class=\"data row1 col6\" >0.612366</td>\n",
       "    </tr>\n",
       "    <tr>\n",
       "      <th id=\"T_c8127_level0_row2\" class=\"row_heading level0 row2\" >Decision tree</th>\n",
       "      <td id=\"T_c8127_row2_col0\" class=\"data row2 col0\" >0.002236</td>\n",
       "      <td id=\"T_c8127_row2_col1\" class=\"data row2 col1\" >0.002970</td>\n",
       "      <td id=\"T_c8127_row2_col2\" class=\"data row2 col2\" >0.496022</td>\n",
       "      <td id=\"T_c8127_row2_col3\" class=\"data row2 col3\" >0.391667</td>\n",
       "      <td id=\"T_c8127_row2_col4\" class=\"data row2 col4\" >0.370667</td>\n",
       "      <td id=\"T_c8127_row2_col5\" class=\"data row2 col5\" >0.468274</td>\n",
       "      <td id=\"T_c8127_row2_col6\" class=\"data row2 col6\" >0.496022</td>\n",
       "    </tr>\n",
       "    <tr>\n",
       "      <th id=\"T_c8127_level0_row3\" class=\"row_heading level0 row3\" >Random forest</th>\n",
       "      <td id=\"T_c8127_row3_col0\" class=\"data row3 col0\" >0.124783</td>\n",
       "      <td id=\"T_c8127_row3_col1\" class=\"data row3 col1\" >0.011350</td>\n",
       "      <td id=\"T_c8127_row3_col2\" class=\"data row3 col2\" >0.538710</td>\n",
       "      <td id=\"T_c8127_row3_col3\" class=\"data row3 col3\" >0.300000</td>\n",
       "      <td id=\"T_c8127_row3_col4\" class=\"data row3 col4\" >0.330540</td>\n",
       "      <td id=\"T_c8127_row3_col5\" class=\"data row3 col5\" >0.487967</td>\n",
       "      <td id=\"T_c8127_row3_col6\" class=\"data row3 col6\" >0.538710</td>\n",
       "    </tr>\n",
       "    <tr>\n",
       "      <th id=\"T_c8127_level0_row4\" class=\"row_heading level0 row4\" >LinearSVC</th>\n",
       "      <td id=\"T_c8127_row4_col0\" class=\"data row4 col0\" >0.027160</td>\n",
       "      <td id=\"T_c8127_row4_col1\" class=\"data row4 col1\" >0.002843</td>\n",
       "      <td id=\"T_c8127_row4_col2\" class=\"data row4 col2\" >0.625269</td>\n",
       "      <td id=\"T_c8127_row4_col3\" class=\"data row4 col3\" >0.291667</td>\n",
       "      <td id=\"T_c8127_row4_col4\" class=\"data row4 col4\" >0.364255</td>\n",
       "      <td id=\"T_c8127_row4_col5\" class=\"data row4 col5\" >0.547087</td>\n",
       "      <td id=\"T_c8127_row4_col6\" class=\"data row4 col6\" >0.625269</td>\n",
       "    </tr>\n",
       "    <tr>\n",
       "      <th id=\"T_c8127_level0_row5\" class=\"row_heading level0 row5\" >SVC</th>\n",
       "      <td id=\"T_c8127_row5_col0\" class=\"data row5 col0\" >0.003251</td>\n",
       "      <td id=\"T_c8127_row5_col1\" class=\"data row5 col1\" >0.003539</td>\n",
       "      <td id=\"T_c8127_row5_col2\" class=\"data row5 col2\" >0.575699</td>\n",
       "      <td id=\"T_c8127_row5_col3\" class=\"data row5 col3\" >0.158333</td>\n",
       "      <td id=\"T_c8127_row5_col4\" class=\"data row5 col4\" >0.222305</td>\n",
       "      <td id=\"T_c8127_row5_col5\" class=\"data row5 col5\" >0.463654</td>\n",
       "      <td id=\"T_c8127_row5_col6\" class=\"data row5 col6\" >0.575699</td>\n",
       "    </tr>\n",
       "    <tr>\n",
       "      <th id=\"T_c8127_level0_row6\" class=\"row_heading level0 row6\" >RandomForest</th>\n",
       "      <td id=\"T_c8127_row6_col0\" class=\"data row6 col0\" >0.113894</td>\n",
       "      <td id=\"T_c8127_row6_col1\" class=\"data row6 col1\" >0.011154</td>\n",
       "      <td id=\"T_c8127_row6_col2\" class=\"data row6 col2\" >0.577419</td>\n",
       "      <td id=\"T_c8127_row6_col3\" class=\"data row6 col3\" >0.283333</td>\n",
       "      <td id=\"T_c8127_row6_col4\" class=\"data row6 col4\" >0.345221</td>\n",
       "      <td id=\"T_c8127_row6_col5\" class=\"data row6 col5\" >0.515610</td>\n",
       "      <td id=\"T_c8127_row6_col6\" class=\"data row6 col6\" >0.577419</td>\n",
       "    </tr>\n",
       "  </tbody>\n",
       "</table>\n"
      ],
      "text/plain": [
       "<pandas.io.formats.style.Styler at 0x7ff4e423bbe0>"
      ]
     },
     "execution_count": 66,
     "metadata": {},
     "output_type": "execute_result"
    }
   ],
   "source": [
    "%time\n",
    "# trying diff max_features\n",
    "classifiers = {\n",
    "    'kNN': KNeighborsClassifier(),\n",
    "    'Logit':LogisticRegression(),\n",
    "    'Decision tree':DecisionTreeClassifier(),\n",
    "    'Random forest':RandomForestClassifier(),\n",
    "    'LinearSVC':LinearSVC(max_iter=10000),\n",
    "    'SVC':SVC(),\n",
    "    'RandomForest':RandomForestClassifier(max_features=2)\n",
    "}\n",
    "\n",
    "scores = {} \n",
    "for classifier in classifiers:\n",
    "    scores[classifier] = cross_validate( \n",
    "        classifiers[classifier], \n",
    "        X_trans, # feature matrix\n",
    "        y_binary, # gold labels\n",
    "        cv=10, \n",
    "        scoring=['accuracy', 'recall', 'f1', 'f1_macro', 'f1_micro'] \n",
    "    )\n",
    "\n",
    "compare_scores(scores)"
   ]
  },
  {
   "cell_type": "markdown",
   "id": "be54c264-0927-45bd-974b-871d99e494fa",
   "metadata": {},
   "source": [
    "#### Looks like Linear SVC classifier worked best in terms of entities and POS tag feature matrix for both accuray and F1 scores, however, the latter was lower than the baseline F1. "
   ]
  },
  {
   "cell_type": "markdown",
   "id": "71e22fc8-f901-4842-b1f2-12a0ec8460ec",
   "metadata": {
    "tags": []
   },
   "source": [
    "### 4. Build Topic Modeling feature matrix"
   ]
  },
  {
   "cell_type": "code",
   "execution_count": 67,
   "id": "febeaad6-0c03-44e1-9ab1-412d086cc452",
   "metadata": {},
   "outputs": [
    {
     "name": "stdout",
     "output_type": "stream",
     "text": [
      "Feature matrix shape: (304, 19941)\n",
      "Total vectorized words in the corpus: 477270\n",
      "Average vectorized paragraph length: 1569 tokens\n"
     ]
    }
   ],
   "source": [
    "# Vectorize\n",
    "vectorizer = CountVectorizer( # Token counts, not normalized (sklearn normalizes later)\n",
    "    input = 'content',\n",
    "    encoding = 'utf-8',\n",
    "    strip_accents = 'unicode',\n",
    "    stop_words='english', # uncomment to remove fixed stops from input\n",
    "    lowercase = True,\n",
    "    min_df = 0.001, # Remember that we've chunked by paragraph\n",
    "    max_df = 0.25,    # Ditto\n",
    "    token_pattern=r'(?u)\\b[A-Za-z]+\\b'\n",
    ")\n",
    "\n",
    "X_topic = vectorizer.fit_transform(df.text)\n",
    "print(\"Feature matrix shape:\", X_topic.shape)\n",
    "print(\"Total vectorized words in the corpus:\", X_topic.sum())\n",
    "print(\"Average vectorized paragraph length:\", int(X_topic.sum()/X_topic.shape[0]), \"tokens\")"
   ]
  },
  {
   "cell_type": "code",
   "execution_count": 68,
   "id": "eb202c21-a3b5-4890-b99d-287f3b2fde09",
   "metadata": {},
   "outputs": [
    {
     "name": "stdout",
     "output_type": "stream",
     "text": [
      "iteration: 1 of max_iter: 10\n",
      "iteration: 2 of max_iter: 10\n",
      "iteration: 3 of max_iter: 10\n",
      "iteration: 4 of max_iter: 10\n",
      "iteration: 5 of max_iter: 10\n",
      "iteration: 6 of max_iter: 10\n",
      "iteration: 7 of max_iter: 10\n",
      "iteration: 8 of max_iter: 10\n",
      "iteration: 9 of max_iter: 10\n",
      "iteration: 10 of max_iter: 10\n",
      "CPU times: user 962 ms, sys: 893 ms, total: 1.86 s\n",
      "Wall time: 5.36 s\n"
     ]
    },
    {
     "data": {
      "text/plain": [
       "LatentDirichletAllocation(evaluate_every=0, n_components=20, n_jobs=-1,\n",
       "                          verbose=1)"
      ]
     },
     "execution_count": 68,
     "metadata": {},
     "output_type": "execute_result"
    }
   ],
   "source": [
    "%%time\n",
    "lda = LatentDirichletAllocation(\n",
    "    n_components=20, # Number of topics to find\n",
    "    n_jobs=-1,       # Use all CPU cores\n",
    "    verbose=1,       # Print progress\n",
    "    max_iter=10,     # Might want more in production work\n",
    "    evaluate_every=0 # Set >=1 to test for convergence (slow, but can stop iteration)\n",
    ")\n",
    "\n",
    "lda.fit(X_topic)"
   ]
  },
  {
   "cell_type": "code",
   "execution_count": 69,
   "id": "d7967a0a-e80a-4a0e-9af3-a764c68eb9c2",
   "metadata": {},
   "outputs": [],
   "source": [
    "# Print top words per topic\n",
    "\n",
    "def print_top_words(model, feature_names, n_top_words, hide_stops=False):\n",
    "    if hide_stops:\n",
    "        from sklearn.feature_extraction.text import ENGLISH_STOP_WORDS\n",
    "\n",
    "    for topic_idx, topic in enumerate(model.components_):\n",
    "        message = f\"Topic {topic_idx: >2}: \"\n",
    "        top_words_idx = topic.argsort()\n",
    "        if not hide_stops:\n",
    "            top_words = [feature_names[i]\n",
    "            for i in top_words_idx[:-n_top_words - 1:-1]]\n",
    "        else:\n",
    "            top_words = []\n",
    "            i = 1\n",
    "            while len(top_words) < n_top_words:\n",
    "                if feature_names[top_words_idx[-i]] not in ENGLISH_STOP_WORDS:\n",
    "                    top_words.append(feature_names[top_words_idx[-i]])\n",
    "                i += 1\n",
    "        message += \" \".join(top_words)    \n",
    "        print(message)\n",
    "    print()"
   ]
  },
  {
   "cell_type": "code",
   "execution_count": 70,
   "id": "045f6d25-1e7f-4771-a863-8f22e1413e21",
   "metadata": {},
   "outputs": [
    {
     "name": "stdout",
     "output_type": "stream",
     "text": [
      "Topic  0: stores merchandise mercadopago food latin beverage tree mercadolibre argentina water\n",
      "Topic  1: cisco vehicle electric tesla complaint hotel defendants clients city battery\n",
      "Topic  2: clinical fda trials patients glucose study trial phase cancer medicare\n",
      "Topic  3: charter cco nvidia cable programming video millions exhibit franchise gpu\n",
      "Topic  4: idexx diagnostic instrument water veterinary thousands consumables cag laboratories laboratory\n",
      "Topic  5: domain icann registry warrants redemption gtlds sponsor debentures klein churchill\n",
      "Topic  6: drug clinical trials drugs games subscribers game entertainment patients fda\n",
      "Topic  7: stores lululemon athletica registrant thousands gilead dated weighted exhibit sciences\n",
      "Topic  8: vehicle salvage sellers dvd streaming video auction studios netflix tv\n",
      "Topic  9: exelon peco comed registrants nuclear bge electric electricity ferc wholesale\n",
      "Topic 10: wireless cdma chipset ofdma mr spectrum lte cellular ansoft circuits\n",
      "Topic 11: subscription hosts developers subscriptions paypal guests facebook eu engagement resellers\n",
      "Topic 12: honeywell pension asbestos millions narco exhibit aerospace repositioning postretirement automation\n",
      "Topic 13: exhibit clients unrealized client indian sfas weighted india analog dated\n",
      "Topic 14: semiconductor thousands tencor kla eda vesting wafer ip ending ic\n",
      "Topic 15: csx rail csxt corporationpart pension millions exhibit track freight registrant\n",
      "Topic 16: adcetris clinical trials wireless spectrum trial fda fcc collaborators vedotin\n",
      "Topic 17: micron inotera flash memory dram dated intel semiconductor mmj nand\n",
      "Topic 18: splunk iac search machine apps google mr paychex listings diller\n",
      "Topic 19: clinical sanofi collaboration aventis vegf arcalyst antibody bayer eye trials\n",
      "\n"
     ]
    }
   ],
   "source": [
    "print_top_words(lda, vectorizer.get_feature_names_out(), n_top_words=10, hide_stops=False)"
   ]
  },
  {
   "cell_type": "code",
   "execution_count": 71,
   "id": "140cde9a-b9b4-47f5-a526-7fef6140abab",
   "metadata": {},
   "outputs": [
    {
     "name": "stdout",
     "output_type": "stream",
     "text": [
      "Doc-topic matrix shape: (304, 20)\n"
     ]
    }
   ],
   "source": [
    "# Create a doc-topic matrix\n",
    "with warnings.catch_warnings():\n",
    "    warnings.simplefilter('ignore')\n",
    "    doc_topic_matrix = lda.transform(X_topic)\n",
    "print(\"Doc-topic matrix shape:\", doc_topic_matrix.shape)"
   ]
  },
  {
   "cell_type": "code",
   "execution_count": 72,
   "id": "9747eb06-433c-474f-8952-ffc833cd8136",
   "metadata": {},
   "outputs": [
    {
     "data": {
      "text/html": [
       "<style type=\"text/css\">\n",
       "#T_9c33d_row0_col0, #T_9c33d_row4_col1, #T_9c33d_row6_col2, #T_9c33d_row6_col3, #T_9c33d_row6_col4, #T_9c33d_row6_col5, #T_9c33d_row6_col6 {\n",
       "  background-color: #a50026;\n",
       "  color: #f1f1f1;\n",
       "}\n",
       "#T_9c33d_row0_col1, #T_9c33d_row2_col2, #T_9c33d_row2_col6 {\n",
       "  background-color: #fdb96a;\n",
       "  color: #000000;\n",
       "}\n",
       "#T_9c33d_row0_col2, #T_9c33d_row0_col6 {\n",
       "  background-color: #be1827;\n",
       "  color: #f1f1f1;\n",
       "}\n",
       "#T_9c33d_row0_col3, #T_9c33d_row1_col2, #T_9c33d_row1_col6, #T_9c33d_row3_col0, #T_9c33d_row5_col4, #T_9c33d_row5_col5, #T_9c33d_row6_col1 {\n",
       "  background-color: #006837;\n",
       "  color: #f1f1f1;\n",
       "}\n",
       "#T_9c33d_row0_col4 {\n",
       "  background-color: #a7d96b;\n",
       "  color: #000000;\n",
       "}\n",
       "#T_9c33d_row0_col5 {\n",
       "  background-color: #f67c4a;\n",
       "  color: #f1f1f1;\n",
       "}\n",
       "#T_9c33d_row1_col0 {\n",
       "  background-color: #b30d26;\n",
       "  color: #f1f1f1;\n",
       "}\n",
       "#T_9c33d_row1_col1, #T_9c33d_row5_col0 {\n",
       "  background-color: #ad0826;\n",
       "  color: #f1f1f1;\n",
       "}\n",
       "#T_9c33d_row1_col3 {\n",
       "  background-color: #e14430;\n",
       "  color: #f1f1f1;\n",
       "}\n",
       "#T_9c33d_row1_col4 {\n",
       "  background-color: #fff7b2;\n",
       "  color: #000000;\n",
       "}\n",
       "#T_9c33d_row1_col5 {\n",
       "  background-color: #3ca959;\n",
       "  color: #f1f1f1;\n",
       "}\n",
       "#T_9c33d_row2_col0 {\n",
       "  background-color: #ab0626;\n",
       "  color: #f1f1f1;\n",
       "}\n",
       "#T_9c33d_row2_col1 {\n",
       "  background-color: #b10b26;\n",
       "  color: #f1f1f1;\n",
       "}\n",
       "#T_9c33d_row2_col3, #T_9c33d_row5_col3 {\n",
       "  background-color: #118848;\n",
       "  color: #f1f1f1;\n",
       "}\n",
       "#T_9c33d_row2_col4 {\n",
       "  background-color: #cfeb85;\n",
       "  color: #000000;\n",
       "}\n",
       "#T_9c33d_row2_col5 {\n",
       "  background-color: #fff0a6;\n",
       "  color: #000000;\n",
       "}\n",
       "#T_9c33d_row3_col1 {\n",
       "  background-color: #148e4b;\n",
       "  color: #f1f1f1;\n",
       "}\n",
       "#T_9c33d_row3_col2, #T_9c33d_row3_col6 {\n",
       "  background-color: #f67f4b;\n",
       "  color: #f1f1f1;\n",
       "}\n",
       "#T_9c33d_row3_col3 {\n",
       "  background-color: #f46d43;\n",
       "  color: #f1f1f1;\n",
       "}\n",
       "#T_9c33d_row3_col4 {\n",
       "  background-color: #bd1726;\n",
       "  color: #f1f1f1;\n",
       "}\n",
       "#T_9c33d_row3_col5 {\n",
       "  background-color: #d93429;\n",
       "  color: #f1f1f1;\n",
       "}\n",
       "#T_9c33d_row4_col0 {\n",
       "  background-color: #a70226;\n",
       "  color: #f1f1f1;\n",
       "}\n",
       "#T_9c33d_row4_col2, #T_9c33d_row4_col6 {\n",
       "  background-color: #f7844e;\n",
       "  color: #f1f1f1;\n",
       "}\n",
       "#T_9c33d_row4_col3 {\n",
       "  background-color: #fee08b;\n",
       "  color: #000000;\n",
       "}\n",
       "#T_9c33d_row4_col4 {\n",
       "  background-color: #feda86;\n",
       "  color: #000000;\n",
       "}\n",
       "#T_9c33d_row4_col5 {\n",
       "  background-color: #fdc574;\n",
       "  color: #000000;\n",
       "}\n",
       "#T_9c33d_row5_col1 {\n",
       "  background-color: #ce2827;\n",
       "  color: #f1f1f1;\n",
       "}\n",
       "#T_9c33d_row5_col2, #T_9c33d_row5_col6 {\n",
       "  background-color: #66bd63;\n",
       "  color: #f1f1f1;\n",
       "}\n",
       "#T_9c33d_row6_col0 {\n",
       "  background-color: #16914d;\n",
       "  color: #f1f1f1;\n",
       "}\n",
       "</style>\n",
       "<table id=\"T_9c33d_\">\n",
       "  <thead>\n",
       "    <tr>\n",
       "      <th class=\"blank level0\" >&nbsp;</th>\n",
       "      <th class=\"col_heading level0 col0\" >fit_time</th>\n",
       "      <th class=\"col_heading level0 col1\" >score_time</th>\n",
       "      <th class=\"col_heading level0 col2\" >test_accuracy</th>\n",
       "      <th class=\"col_heading level0 col3\" >test_recall</th>\n",
       "      <th class=\"col_heading level0 col4\" >test_f1</th>\n",
       "      <th class=\"col_heading level0 col5\" >test_f1_macro</th>\n",
       "      <th class=\"col_heading level0 col6\" >test_f1_micro</th>\n",
       "    </tr>\n",
       "  </thead>\n",
       "  <tbody>\n",
       "    <tr>\n",
       "      <th id=\"T_9c33d_level0_row0\" class=\"row_heading level0 row0\" >kNN</th>\n",
       "      <td id=\"T_9c33d_row0_col0\" class=\"data row0 col0\" >0.000938</td>\n",
       "      <td id=\"T_9c33d_row0_col1\" class=\"data row0 col1\" >0.005687</td>\n",
       "      <td id=\"T_9c33d_row0_col2\" class=\"data row0 col2\" >0.549032</td>\n",
       "      <td id=\"T_9c33d_row0_col3\" class=\"data row0 col3\" >0.466667</td>\n",
       "      <td id=\"T_9c33d_row0_col4\" class=\"data row0 col4\" >0.432873</td>\n",
       "      <td id=\"T_9c33d_row0_col5\" class=\"data row0 col5\" >0.516561</td>\n",
       "      <td id=\"T_9c33d_row0_col6\" class=\"data row0 col6\" >0.549032</td>\n",
       "    </tr>\n",
       "    <tr>\n",
       "      <th id=\"T_9c33d_level0_row1\" class=\"row_heading level0 row1\" >Logit</th>\n",
       "      <td id=\"T_9c33d_row1_col0\" class=\"data row1 col0\" >0.004748</td>\n",
       "      <td id=\"T_9c33d_row1_col1\" class=\"data row1 col1\" >0.002829</td>\n",
       "      <td id=\"T_9c33d_row1_col2\" class=\"data row1 col2\" >0.614194</td>\n",
       "      <td id=\"T_9c33d_row1_col3\" class=\"data row1 col3\" >0.358333</td>\n",
       "      <td id=\"T_9c33d_row1_col4\" class=\"data row1 col4\" >0.410880</td>\n",
       "      <td id=\"T_9c33d_row1_col5\" class=\"data row1 col5\" >0.559861</td>\n",
       "      <td id=\"T_9c33d_row1_col6\" class=\"data row1 col6\" >0.614194</td>\n",
       "    </tr>\n",
       "    <tr>\n",
       "      <th id=\"T_9c33d_level0_row2\" class=\"row_heading level0 row2\" >Decision tree</th>\n",
       "      <td id=\"T_9c33d_row2_col0\" class=\"data row2 col0\" >0.002825</td>\n",
       "      <td id=\"T_9c33d_row2_col1\" class=\"data row2 col1\" >0.002904</td>\n",
       "      <td id=\"T_9c33d_row2_col2\" class=\"data row2 col2\" >0.567634</td>\n",
       "      <td id=\"T_9c33d_row2_col3\" class=\"data row2 col3\" >0.458333</td>\n",
       "      <td id=\"T_9c33d_row2_col4\" class=\"data row2 col4\" >0.425127</td>\n",
       "      <td id=\"T_9c33d_row2_col5\" class=\"data row2 col5\" >0.532087</td>\n",
       "      <td id=\"T_9c33d_row2_col6\" class=\"data row2 col6\" >0.567634</td>\n",
       "    </tr>\n",
       "    <tr>\n",
       "      <th id=\"T_9c33d_level0_row3\" class=\"row_heading level0 row3\" >Random forest</th>\n",
       "      <td id=\"T_9c33d_row3_col0\" class=\"data row3 col0\" >0.128537</td>\n",
       "      <td id=\"T_9c33d_row3_col1\" class=\"data row3 col1\" >0.011280</td>\n",
       "      <td id=\"T_9c33d_row3_col2\" class=\"data row3 col2\" >0.561290</td>\n",
       "      <td id=\"T_9c33d_row3_col3\" class=\"data row3 col3\" >0.366667</td>\n",
       "      <td id=\"T_9c33d_row3_col4\" class=\"data row3 col4\" >0.368164</td>\n",
       "      <td id=\"T_9c33d_row3_col5\" class=\"data row3 col5\" >0.508351</td>\n",
       "      <td id=\"T_9c33d_row3_col6\" class=\"data row3 col6\" >0.561290</td>\n",
       "    </tr>\n",
       "    <tr>\n",
       "      <th id=\"T_9c33d_level0_row4\" class=\"row_heading level0 row4\" >LinearSVC</th>\n",
       "      <td id=\"T_9c33d_row4_col0\" class=\"data row4 col0\" >0.001442</td>\n",
       "      <td id=\"T_9c33d_row4_col1\" class=\"data row4 col1\" >0.002665</td>\n",
       "      <td id=\"T_9c33d_row4_col2\" class=\"data row4 col2\" >0.561720</td>\n",
       "      <td id=\"T_9c33d_row4_col3\" class=\"data row4 col3\" >0.391667</td>\n",
       "      <td id=\"T_9c33d_row4_col4\" class=\"data row4 col4\" >0.402062</td>\n",
       "      <td id=\"T_9c33d_row4_col5\" class=\"data row4 col5\" >0.524948</td>\n",
       "      <td id=\"T_9c33d_row4_col6\" class=\"data row4 col6\" >0.561720</td>\n",
       "    </tr>\n",
       "    <tr>\n",
       "      <th id=\"T_9c33d_level0_row5\" class=\"row_heading level0 row5\" >SVC</th>\n",
       "      <td id=\"T_9c33d_row5_col0\" class=\"data row5 col0\" >0.003039</td>\n",
       "      <td id=\"T_9c33d_row5_col1\" class=\"data row5 col1\" >0.003454</td>\n",
       "      <td id=\"T_9c33d_row5_col2\" class=\"data row5 col2\" >0.600323</td>\n",
       "      <td id=\"T_9c33d_row5_col3\" class=\"data row5 col3\" >0.458333</td>\n",
       "      <td id=\"T_9c33d_row5_col4\" class=\"data row5 col4\" >0.463256</td>\n",
       "      <td id=\"T_9c33d_row5_col5\" class=\"data row5 col5\" >0.570003</td>\n",
       "      <td id=\"T_9c33d_row5_col6\" class=\"data row5 col6\" >0.600323</td>\n",
       "    </tr>\n",
       "    <tr>\n",
       "      <th id=\"T_9c33d_level0_row6\" class=\"row_heading level0 row6\" >RandomForest</th>\n",
       "      <td id=\"T_9c33d_row6_col0\" class=\"data row6 col0\" >0.117153</td>\n",
       "      <td id=\"T_9c33d_row6_col1\" class=\"data row6 col1\" >0.012047</td>\n",
       "      <td id=\"T_9c33d_row6_col2\" class=\"data row6 col2\" >0.545484</td>\n",
       "      <td id=\"T_9c33d_row6_col3\" class=\"data row6 col3\" >0.341667</td>\n",
       "      <td id=\"T_9c33d_row6_col4\" class=\"data row6 col4\" >0.363381</td>\n",
       "      <td id=\"T_9c33d_row6_col5\" class=\"data row6 col5\" >0.501016</td>\n",
       "      <td id=\"T_9c33d_row6_col6\" class=\"data row6 col6\" >0.545484</td>\n",
       "    </tr>\n",
       "  </tbody>\n",
       "</table>\n"
      ],
      "text/plain": [
       "<pandas.io.formats.style.Styler at 0x7ff4937faca0>"
      ]
     },
     "execution_count": 72,
     "metadata": {},
     "output_type": "execute_result"
    }
   ],
   "source": [
    "classifiers = {\n",
    "    'kNN': KNeighborsClassifier(),\n",
    "    'Logit':LogisticRegression(),\n",
    "    'Decision tree':DecisionTreeClassifier(),\n",
    "    'Random forest':RandomForestClassifier(),\n",
    "    'LinearSVC':LinearSVC(max_iter=10000),\n",
    "    'SVC':SVC(),\n",
    "    'RandomForest':RandomForestClassifier(max_features=2)\n",
    "}\n",
    "\n",
    "scores={}\n",
    "\n",
    "for classifier in classifiers:\n",
    "    scores[classifier] = cross_validate(classifiers[classifier], doc_topic_matrix, y_binary, cv=10, scoring=['accuracy', 'recall', 'f1', 'f1_macro', 'f1_micro'])\n",
    "\n",
    "compare_scores(scores)"
   ]
  },
  {
   "cell_type": "markdown",
   "id": "a2d59b35-bf30-4553-8b6d-e984ed56dcda",
   "metadata": {},
   "source": [
    "#### All the classifiers outperformed the baseline accuracy scores using the topic modeling feature matrix. As a reminder, `y_binary` (Baseline accuracy: 0.395, Baseline F1: 0.566). I will try to optimize the parameters of random forest classifier below. "
   ]
  },
  {
   "cell_type": "code",
   "execution_count": 73,
   "id": "b802b23b-d54e-4bf3-b46e-2affc700b65d",
   "metadata": {},
   "outputs": [
    {
     "data": {
      "text/html": [
       "<style type=\"text/css\">\n",
       "#T_dd3b9_row0_col0, #T_dd3b9_row0_col6, #T_dd3b9_row1_col1, #T_dd3b9_row1_col3, #T_dd3b9_row1_col4, #T_dd3b9_row1_col5, #T_dd3b9_row2_col2, #T_dd3b9_row2_col7 {\n",
       "  background-color: #006837;\n",
       "  color: #f1f1f1;\n",
       "}\n",
       "#T_dd3b9_row0_col1 {\n",
       "  background-color: #c41e27;\n",
       "  color: #f1f1f1;\n",
       "}\n",
       "#T_dd3b9_row0_col2, #T_dd3b9_row0_col7, #T_dd3b9_row1_col2, #T_dd3b9_row1_col7, #T_dd3b9_row2_col1, #T_dd3b9_row3_col0, #T_dd3b9_row3_col4, #T_dd3b9_row3_col5, #T_dd3b9_row4_col3, #T_dd3b9_row4_col6 {\n",
       "  background-color: #a50026;\n",
       "  color: #f1f1f1;\n",
       "}\n",
       "#T_dd3b9_row0_col3 {\n",
       "  background-color: #0a7b41;\n",
       "  color: #f1f1f1;\n",
       "}\n",
       "#T_dd3b9_row0_col4 {\n",
       "  background-color: #15904c;\n",
       "  color: #f1f1f1;\n",
       "}\n",
       "#T_dd3b9_row0_col5 {\n",
       "  background-color: #118848;\n",
       "  color: #f1f1f1;\n",
       "}\n",
       "#T_dd3b9_row1_col0 {\n",
       "  background-color: #fff2aa;\n",
       "  color: #000000;\n",
       "}\n",
       "#T_dd3b9_row1_col6 {\n",
       "  background-color: #bfe47a;\n",
       "  color: #000000;\n",
       "}\n",
       "#T_dd3b9_row2_col0 {\n",
       "  background-color: #e65036;\n",
       "  color: #f1f1f1;\n",
       "}\n",
       "#T_dd3b9_row2_col3 {\n",
       "  background-color: #fdb768;\n",
       "  color: #000000;\n",
       "}\n",
       "#T_dd3b9_row2_col4, #T_dd3b9_row4_col4 {\n",
       "  background-color: #fdbf6f;\n",
       "  color: #000000;\n",
       "}\n",
       "#T_dd3b9_row2_col5 {\n",
       "  background-color: #f88950;\n",
       "  color: #f1f1f1;\n",
       "}\n",
       "#T_dd3b9_row2_col6 {\n",
       "  background-color: #0c7f43;\n",
       "  color: #f1f1f1;\n",
       "}\n",
       "#T_dd3b9_row3_col1 {\n",
       "  background-color: #e75337;\n",
       "  color: #f1f1f1;\n",
       "}\n",
       "#T_dd3b9_row3_col2, #T_dd3b9_row3_col7 {\n",
       "  background-color: #fee999;\n",
       "  color: #000000;\n",
       "}\n",
       "#T_dd3b9_row3_col3 {\n",
       "  background-color: #fffab6;\n",
       "  color: #000000;\n",
       "}\n",
       "#T_dd3b9_row3_col6 {\n",
       "  background-color: #fee08b;\n",
       "  color: #000000;\n",
       "}\n",
       "#T_dd3b9_row4_col0, #T_dd3b9_row4_col1 {\n",
       "  background-color: #d93429;\n",
       "  color: #f1f1f1;\n",
       "}\n",
       "#T_dd3b9_row4_col2, #T_dd3b9_row4_col7 {\n",
       "  background-color: #fee593;\n",
       "  color: #000000;\n",
       "}\n",
       "#T_dd3b9_row4_col5 {\n",
       "  background-color: #be1827;\n",
       "  color: #f1f1f1;\n",
       "}\n",
       "</style>\n",
       "<table id=\"T_dd3b9_\">\n",
       "  <thead>\n",
       "    <tr>\n",
       "      <th class=\"blank level0\" >&nbsp;</th>\n",
       "      <th class=\"col_heading level0 col0\" >fit_time</th>\n",
       "      <th class=\"col_heading level0 col1\" >score_time</th>\n",
       "      <th class=\"col_heading level0 col2\" >test_accuracy</th>\n",
       "      <th class=\"col_heading level0 col3\" >test_precision</th>\n",
       "      <th class=\"col_heading level0 col4\" >test_recall</th>\n",
       "      <th class=\"col_heading level0 col5\" >test_f1</th>\n",
       "      <th class=\"col_heading level0 col6\" >test_f1_macro</th>\n",
       "      <th class=\"col_heading level0 col7\" >test_f1_micro</th>\n",
       "    </tr>\n",
       "  </thead>\n",
       "  <tbody>\n",
       "    <tr>\n",
       "      <th id=\"T_dd3b9_level0_row0\" class=\"row_heading level0 row0\" >feature_None</th>\n",
       "      <td id=\"T_dd3b9_row0_col0\" class=\"data row0 col0\" >0.234791</td>\n",
       "      <td id=\"T_dd3b9_row0_col1\" class=\"data row0 col1\" >0.011770</td>\n",
       "      <td id=\"T_dd3b9_row0_col2\" class=\"data row0 col2\" >0.561290</td>\n",
       "      <td id=\"T_dd3b9_row0_col3\" class=\"data row0 col3\" >0.476359</td>\n",
       "      <td id=\"T_dd3b9_row0_col4\" class=\"data row0 col4\" >0.450000</td>\n",
       "      <td id=\"T_dd3b9_row0_col5\" class=\"data row0 col5\" >0.434891</td>\n",
       "      <td id=\"T_dd3b9_row0_col6\" class=\"data row0 col6\" >0.528984</td>\n",
       "      <td id=\"T_dd3b9_row0_col7\" class=\"data row0 col7\" >0.561290</td>\n",
       "    </tr>\n",
       "    <tr>\n",
       "      <th id=\"T_dd3b9_level0_row1\" class=\"row_heading level0 row1\" >feature_100</th>\n",
       "      <td id=\"T_dd3b9_row1_col0\" class=\"data row1 col0\" >0.169646</td>\n",
       "      <td id=\"T_dd3b9_row1_col1\" class=\"data row1 col1\" >0.012275</td>\n",
       "      <td id=\"T_dd3b9_row1_col2\" class=\"data row1 col2\" >0.561290</td>\n",
       "      <td id=\"T_dd3b9_row1_col3\" class=\"data row1 col3\" >0.479297</td>\n",
       "      <td id=\"T_dd3b9_row1_col4\" class=\"data row1 col4\" >0.458333</td>\n",
       "      <td id=\"T_dd3b9_row1_col5\" class=\"data row1 col5\" >0.438778</td>\n",
       "      <td id=\"T_dd3b9_row1_col6\" class=\"data row1 col6\" >0.524763</td>\n",
       "      <td id=\"T_dd3b9_row1_col7\" class=\"data row1 col7\" >0.561290</td>\n",
       "    </tr>\n",
       "    <tr>\n",
       "      <th id=\"T_dd3b9_level0_row2\" class=\"row_heading level0 row2\" >feature_5</th>\n",
       "      <td id=\"T_dd3b9_row2_col0\" class=\"data row2 col0\" >0.133037</td>\n",
       "      <td id=\"T_dd3b9_row2_col1\" class=\"data row2 col1\" >0.011735</td>\n",
       "      <td id=\"T_dd3b9_row2_col2\" class=\"data row2 col2\" >0.577849</td>\n",
       "      <td id=\"T_dd3b9_row2_col3\" class=\"data row2 col3\" >0.429132</td>\n",
       "      <td id=\"T_dd3b9_row2_col4\" class=\"data row2 col4\" >0.391667</td>\n",
       "      <td id=\"T_dd3b9_row2_col5\" class=\"data row2 col5\" >0.396239</td>\n",
       "      <td id=\"T_dd3b9_row2_col6\" class=\"data row2 col6\" >0.528378</td>\n",
       "      <td id=\"T_dd3b9_row2_col7\" class=\"data row2 col7\" >0.577849</td>\n",
       "    </tr>\n",
       "    <tr>\n",
       "      <th id=\"T_dd3b9_level0_row3\" class=\"row_heading level0 row3\" >feature_2</th>\n",
       "      <td id=\"T_dd3b9_row3_col0\" class=\"data row3 col0\" >0.114655</td>\n",
       "      <td id=\"T_dd3b9_row3_col1\" class=\"data row3 col1\" >0.011821</td>\n",
       "      <td id=\"T_dd3b9_row3_col2\" class=\"data row3 col2\" >0.568387</td>\n",
       "      <td id=\"T_dd3b9_row3_col3\" class=\"data row3 col3\" >0.441209</td>\n",
       "      <td id=\"T_dd3b9_row3_col4\" class=\"data row3 col4\" >0.358333</td>\n",
       "      <td id=\"T_dd3b9_row3_col5\" class=\"data row3 col5\" >0.382626</td>\n",
       "      <td id=\"T_dd3b9_row3_col6\" class=\"data row3 col6\" >0.521739</td>\n",
       "      <td id=\"T_dd3b9_row3_col7\" class=\"data row3 col7\" >0.568387</td>\n",
       "    </tr>\n",
       "    <tr>\n",
       "      <th id=\"T_dd3b9_level0_row4\" class=\"row_heading level0 row4\" >est_og</th>\n",
       "      <td id=\"T_dd3b9_row4_col0\" class=\"data row4 col0\" >0.127500</td>\n",
       "      <td id=\"T_dd3b9_row4_col1\" class=\"data row4 col1\" >0.011793</td>\n",
       "      <td id=\"T_dd3b9_row4_col2\" class=\"data row4 col2\" >0.568172</td>\n",
       "      <td id=\"T_dd3b9_row4_col3\" class=\"data row4 col3\" >0.405909</td>\n",
       "      <td id=\"T_dd3b9_row4_col4\" class=\"data row4 col4\" >0.391667</td>\n",
       "      <td id=\"T_dd3b9_row4_col5\" class=\"data row4 col5\" >0.385517</td>\n",
       "      <td id=\"T_dd3b9_row4_col6\" class=\"data row4 col6\" >0.516883</td>\n",
       "      <td id=\"T_dd3b9_row4_col7\" class=\"data row4 col7\" >0.568172</td>\n",
       "    </tr>\n",
       "  </tbody>\n",
       "</table>\n"
      ],
      "text/plain": [
       "<pandas.io.formats.style.Styler at 0x7ff4e418cdc0>"
      ]
     },
     "execution_count": 73,
     "metadata": {},
     "output_type": "execute_result"
    }
   ],
   "source": [
    "# trying diff max_features\n",
    "RFfeatures = {\n",
    "    'feature_None':RandomForestClassifier(max_features=None),\n",
    "    'feature_100':RandomForestClassifier(max_features=10),\n",
    "    'feature_5':RandomForestClassifier(max_features=5),\n",
    "    'feature_2':RandomForestClassifier(max_features=2),\n",
    "    'est_og':RandomForestClassifier()\n",
    "}\n",
    "\n",
    "RFscores1 = {} \n",
    "for classifier in RFfeatures:\n",
    "    RFscores1[classifier] = cross_validate( \n",
    "        RFfeatures[classifier], \n",
    "        doc_topic_matrix, # feature matrix\n",
    "        y_binary, # gold labels\n",
    "        cv=10, \n",
    "        scoring=['accuracy','precision', 'recall', 'f1', 'f1_macro', 'f1_micro'] \n",
    "    )\n",
    "\n",
    "compare_scores(RFscores1)"
   ]
  },
  {
   "cell_type": "markdown",
   "id": "00675a75-b593-4155-86e6-e872426fdc42",
   "metadata": {},
   "source": [
    "#### It seems random forest with the default parameter `max_features=5` has the highest accuracy score, and the one with `max_features=100` had the best F1 score, which was still lower than the baseline F1. \n",
    "\n",
    "#### In conclusion, the random forest classier with the token-based feature matrix outperformed other feature matrices in building a classifier to categorize the below-average-stock-price and above-average-stock-price in the Q3 analysis. "
   ]
  },
  {
   "cell_type": "markdown",
   "id": "9d3d1047-ca87-4369-bc7f-56b4fd78f0bd",
   "metadata": {
    "tags": []
   },
   "source": [
    "# Part 4: Discussion & Conclusions"
   ]
  },
  {
   "cell_type": "markdown",
   "id": "3b674695-29c2-4f76-a6a8-15681e0b068d",
   "metadata": {},
   "source": [
    "## Discussions"
   ]
  },
  {
   "cell_type": "markdown",
   "id": "d25f57ae-34cc-4249-bde6-685b44149a6c",
   "metadata": {},
   "source": [
    "**Q1: What are the tones or sentiments used to describe the risks of companies? Are they related to the stock prices?**\n",
    "\n",
    "**Sentiment Analysis**\n",
    "\n",
    "I started with sentiment analysis for all the risk factors across the companies, and grouped them by below-average-stock-price vs. above-average-stock-price. To summarize my findings, \n",
    "\n",
    "* (1) Across all the emotions, it seemed those publicly traded companies tended to use **positive** tones in their writings of the Risk Factors section no matter what their stock performances were, compared to any other emotions. \n",
    "\n",
    "* (2) The emotion **surprise** is the least mentioned in the Risk Factors section. It seemed those companies used caution when publishing their 10-K annual reports, trying not to deliver any surprising messages to scare them away. \n",
    "\n",
    "* (3) Both the **positive** and **trust** emotions showed statistically significant between below-average and above-average stock prices. Namely, when companies performed better than the average stock prices, they tended to be more optimistic about their risks and would assure their investors about their competence. "
   ]
  },
  {
   "cell_type": "code",
   "execution_count": 74,
   "id": "7158a60e-4a96-4dc6-be1e-3ae6380f50be",
   "metadata": {},
   "outputs": [
    {
     "data": {
      "text/plain": [
       "<seaborn.axisgrid.FacetGrid at 0x7ff484297b50>"
      ]
     },
     "execution_count": 74,
     "metadata": {},
     "output_type": "execute_result"
    },
    {
     "data": {
      "image/png": "[encoded data removed]",
      "text/plain": [
       "<Figure size 1440x1080 with 10 Axes>"
      ]
     },
     "metadata": {
      "needs_background": "light"
     },
     "output_type": "display_data"
    }
   ],
   "source": [
    "visualize_emotion_scores(sent_dict, 4, 'Below Avg vs. Above Avg')"
   ]
  },
  {
   "cell_type": "markdown",
   "id": "b79cb316-e7a8-4b4b-8053-4b5ebf70d398",
   "metadata": {},
   "source": [
    "Next, I visualized the sentiment analysis by sector. "
   ]
  },
  {
   "cell_type": "code",
   "execution_count": 75,
   "id": "a7d4b39f-f44b-481f-bc49-5e75b05da627",
   "metadata": {},
   "outputs": [
    {
     "data": {
      "text/plain": [
       "<seaborn.axisgrid.FacetGrid at 0x7ff474070310>"
      ]
     },
     "execution_count": 75,
     "metadata": {},
     "output_type": "execute_result"
    },
    {
     "data": {
      "image/png": "[encoded data removed]",
      "text/plain": [
       "<Figure size 1080x1440 with 10 Axes>"
      ]
     },
     "metadata": {
      "needs_background": "light"
     },
     "output_type": "display_data"
    }
   ],
   "source": [
    "visualize_emotion_scores(sent_sec_dict, 3, 'Sector')"
   ]
  },
  {
   "cell_type": "markdown",
   "id": "51f1e42e-f321-463a-b710-8530a6ad7ea7",
   "metadata": {},
   "source": [
    "* (1) The sector **Utilities** appeared to have the lowest mean sentiment scores among any other sectors, except for the *surprise* emotion. In our dataset, there is only one company made up this category: 'Exelon Corporation'. So, the sentiment result might be underrepresented. \n",
    "\n",
    "* (2) The **Consumer Discretionary** sector would like to deliver *anticipation*, *positivity* and *trust* emotions to their audience in their Risk Factors sections. Companies in this sector included Tesla, Airbnb, Amazon, Lululemon, Dollar Tree, and so on. In common sense, most of them were also considered fast-growing companies in the past 15 years. \n",
    "\n",
    "* (3) The **Consumer Staples** sector showed slightly more worries regarding the risks in their 10-K reports and ranked the highest in *sadness* and *negative* emotion categories. There are four companies in this category in our dataset: Walgreens, PepsiCo, Mondelez International, and The Kraft Heinz Company. This industry was regarded as steady, less risky and volatile, which might be the reason why companies might not pay attention to the *sadness* or *negativeness* in their statements. "
   ]
  },
  {
   "cell_type": "markdown",
   "id": "bbef5e4a-774e-4561-a3f8-3fe8a06cc274",
   "metadata": {},
   "source": [
    "**KMeans Clustering**\n",
    "\n",
    "Because of the sentiment analysis on sector, I decided to use n = number_of_sector clusters to see if there was a differentiation among sectors. Since the features haven’t been selected yet, I used the `pull_samples` function to see if I can evaluate the samples pulled from the clusters and manually analyze any similarities and differences. From the *k-Means (predicted) labels* graph below, we can see that most of the data fall into the *label 1* cluster. "
   ]
  },
  {
   "cell_type": "code",
   "execution_count": 76,
   "id": "fb7d92c8-fca7-4e30-bdb0-ad990340b18f",
   "metadata": {},
   "outputs": [
    {
     "name": "stdout",
     "output_type": "stream",
     "text": [
      "Label vector shape:  (304,)\n",
      "Using KMeans clustering with n=7 clusters; we are assuming that the clusters are based on sectors.\n"
     ]
    },
    {
     "data": {
      "image/png": "[encoded data removed]",
      "text/plain": [
       "<Figure size 864x432 with 2 Axes>"
      ]
     },
     "metadata": {
      "needs_background": "light"
     },
     "output_type": "display_data"
    }
   ],
   "source": [
    "y_kmeans = KMeans(n_clusters=7).fit_predict(X) # this output is the cluster labels\n",
    "\n",
    "# Print label vector shape\n",
    "print('Label vector shape: ', y_kmeans.shape)\n",
    "\n",
    "print(\"Using KMeans clustering with n=7 clusters; we are assuming that the clusters are based on sectors.\")\n",
    "\n",
    "# Plot results\n",
    "plot_compare(X, y_kmeans, 'k-Means (predicted) labels', reduce=True, alpha=0.8)"
   ]
  },
  {
   "cell_type": "markdown",
   "id": "d37f8852-a885-44f1-ae68-a922dcf057cd",
   "metadata": {},
   "source": [
    "After pulling the samples of each cluster, we identified that some of the clusters consisted of only one or two companies. This indicated that those companies were distinct in their writings of their risk factors, compared to their counterparts. For instance, IDEXX Laboratories (Health Care), Lululemon Athletica (Consumer Discretionary), Copart (Industrials), Exelon Corporation (Utilities), and CSX Corporation (Industrials) had their own clusters, while other companies made up the rest of the cluster. Additionally, cluster 6 clearly had much shorter word count than the others. Last but not least, the variability of cluster 1 showed us that sector might not be a defining feature for the clusters. In future studies, the company names may need to be removed for more accurate clustering analysis. "
   ]
  },
  {
   "cell_type": "markdown",
   "id": "c1aa7d10-7dfe-4226-947a-68905e1f3831",
   "metadata": {},
   "source": [
    "**Q2. Can we build a classifier to categorize the IT sector and non-IT sector by their Risk Factors? If so, what features are most important?**\n",
    "\n",
    "Looking at the descriptive statistics by sector, we learned that over 50% of the companies in our data set came from the Information Technology (IT) sector. Therefore, it would be interesting to see if they had distinguishable risk factors in their 10-K reports compared to the non-IT industries. \n",
    "\n",
    "This is our baseline accuracy for IT sector: "
   ]
  },
  {
   "cell_type": "code",
   "execution_count": 77,
   "id": "d3b924f6-fcdf-4c04-8382-51fc65c3dcdf",
   "metadata": {},
   "outputs": [
    {
     "data": {
      "text/plain": [
       "0.555921052631579"
      ]
     },
     "execution_count": 77,
     "metadata": {},
     "output_type": "execute_result"
    }
   ],
   "source": [
    "baseline_accuracy_it"
   ]
  },
  {
   "cell_type": "markdown",
   "id": "7170e8f7-cec8-4189-b716-11a31adb26cc",
   "metadata": {},
   "source": [
    "After selecting the 20 most important features of our feature matrix, I cross-validated the various classifiers with the feature matrix, such as logistic regression classifier, random forest classifier, and decision tree classifier. All of them seemed to have promising accuracy results over 80%. In particular, with the random forest classifier (`max_feature=2`), the accuracy score reached up to 90%! \n",
    "\n",
    "The top 20 important features showed us the most identifiable for the IT sectors, such as *computing*, *engineering*, *oci* (Oracle Cloud Infrastructure), *semiconductor*, *software*, *technology*, and so on. We could conclude that the random forest classfier successfully classify the IT vs. Non-IT sectors in the risk corpus. "
   ]
  },
  {
   "cell_type": "markdown",
   "id": "c316864c-0663-46c3-95b9-bbaa636d8a42",
   "metadata": {},
   "source": [
    "**Q3: Can we build a classifier to categorize the below-average-stock-price and above-average-stock-price by their Risk Factors from 10-K reports? What are the most important features to distinguish them? Can we improve the accuracy of our classifiers?**\n",
    "\n",
    "For the token-based feature matrix, with the 50 most important features, the mean cross-validated accuracy score of the logistic regression classifier was 0.6, which was much higher than the baseline of *y_binary* (0.3947). "
   ]
  },
  {
   "cell_type": "code",
   "execution_count": 78,
   "id": "16e2bf63-9e93-4768-9b72-fb002d42ca4c",
   "metadata": {},
   "outputs": [
    {
     "data": {
      "text/plain": [
       "0.39473684210526316"
      ]
     },
     "execution_count": 78,
     "metadata": {},
     "output_type": "execute_result"
    }
   ],
   "source": [
    "baseline_accuracy"
   ]
  },
  {
   "cell_type": "markdown",
   "id": "27452400-18a1-46f4-ac23-2211ebe3c992",
   "metadata": {},
   "source": [
    "Then I used *feature engineering* and tried a variety of classifiers with different parameters. It seems random forest with the default parameter `max_features=sqrt(n_features)` has the highest accuracy score, and the one with `max_features=None` had the best F1 score, which was still lower than the baseline F1. By evaluating other feature matrices, e.g. word-embedding feature matrix, entities and POS tags feature matrix, and the topic modeling feature matrix, I found some interesting results as well. For example, as the following figure showed, **MONEY** was mentioned the most among the three entities: **TIME**, **PERSON**, and **MONEY**, since the dataset was derived from the annual financial reports. Nevertheless, **NOUN**s appeared the most among all the other entities. "
   ]
  },
  {
   "cell_type": "code",
   "execution_count": 79,
   "id": "80e27083-9337-4f79-9caf-d0c6be3af1d5",
   "metadata": {},
   "outputs": [
    {
     "data": {
      "text/plain": [
       "<BarContainer object of 12 artists>"
      ]
     },
     "execution_count": 79,
     "metadata": {},
     "output_type": "execute_result"
    },
    {
     "data": {
      "image/png": "[encoded data removed]",
      "text/plain": [
       "<Figure size 576x576 with 1 Axes>"
      ]
     },
     "metadata": {
      "needs_background": "light"
     },
     "output_type": "display_data"
    }
   ],
   "source": [
    "fig, ax = plt.subplots(figsize=(8,8))\n",
    "plt.xticks(rotation=90)\n",
    "plt.bar(names, counts)"
   ]
  },
  {
   "cell_type": "code",
   "execution_count": 80,
   "id": "f6b9ff80-b7d4-4ca7-8b81-b294b25ad0f0",
   "metadata": {},
   "outputs": [
    {
     "name": "stdout",
     "output_type": "stream",
     "text": [
      "Topic  0: stores merchandise mercadopago food latin beverage tree mercadolibre argentina water\n",
      "Topic  1: cisco vehicle electric tesla complaint hotel defendants clients city battery\n",
      "Topic  2: clinical fda trials patients glucose study trial phase cancer medicare\n",
      "Topic  3: charter cco nvidia cable programming video millions exhibit franchise gpu\n",
      "Topic  4: idexx diagnostic instrument water veterinary thousands consumables cag laboratories laboratory\n",
      "Topic  5: domain icann registry warrants redemption gtlds sponsor debentures klein churchill\n",
      "Topic  6: drug clinical trials drugs games subscribers game entertainment patients fda\n",
      "Topic  7: stores lululemon athletica registrant thousands gilead dated weighted exhibit sciences\n",
      "Topic  8: vehicle salvage sellers dvd streaming video auction studios netflix tv\n",
      "Topic  9: exelon peco comed registrants nuclear bge electric electricity ferc wholesale\n",
      "Topic 10: wireless cdma chipset ofdma mr spectrum lte cellular ansoft circuits\n",
      "Topic 11: subscription hosts developers subscriptions paypal guests facebook eu engagement resellers\n",
      "Topic 12: honeywell pension asbestos millions narco exhibit aerospace repositioning postretirement automation\n",
      "Topic 13: exhibit clients unrealized client indian sfas weighted india analog dated\n",
      "Topic 14: semiconductor thousands tencor kla eda vesting wafer ip ending ic\n",
      "Topic 15: csx rail csxt corporationpart pension millions exhibit track freight registrant\n",
      "Topic 16: adcetris clinical trials wireless spectrum trial fda fcc collaborators vedotin\n",
      "Topic 17: micron inotera flash memory dram dated intel semiconductor mmj nand\n",
      "Topic 18: splunk iac search machine apps google mr paychex listings diller\n",
      "Topic 19: clinical sanofi collaboration aventis vegf arcalyst antibody bayer eye trials\n",
      "\n"
     ]
    }
   ],
   "source": [
    "print_top_words(lda, vectorizer.get_feature_names_out(), n_top_words=10, hide_stops=False)"
   ]
  },
  {
   "cell_type": "markdown",
   "id": "7a0a9ae0-b5d4-4ad9-9ed2-60e2eb415774",
   "metadata": {},
   "source": [
    "From the topic modeling, we could also find the top topics mentioned in the risk factors across all the 304 reports. *FDA*, *drug*, and *clinical* were mentioned quite often (topic 2, 6, 16), which might have something to do with the development of new drugs. The word *semiconductor* was mentioned frequently across topics 14 and 17, and 15, which might reflect the semiconductor shortage around the world in the recent years. Companies were also concerned about up-to-date their products or services are, which we could tell from topic 7, 13, and 17 where they kept mentioning *dated* in their risk factors. "
   ]
  },
  {
   "cell_type": "markdown",
   "id": "0f4e1d30-554b-48ee-a100-12ebec127afa",
   "metadata": {},
   "source": [
    "## Conclusions"
   ]
  },
  {
   "cell_type": "markdown",
   "id": "1373a565-8915-4ae8-b552-d5a16929feb6",
   "metadata": {},
   "source": [
    "**Q1: What are the tones or sentiments used to describe the risks of companies? Are they related to the stock prices?**\n",
    "\n",
    "From the sentiment analysis and the results of t-test showed that there was a significant difference in both the **positive** and **trust** emotions between below-average and above-average stock prices. To be more concrete, when companies performed better than the average stock prices, they tended to be more optimistic about their risks and would be more likely to assure their investors about their competence in the market. \n",
    "\n",
    "**Q2. Can we build a classifier to categorize the IT sector and non-IT sector by their Risk Factors? If so, what features are most important?** \n",
    "\n",
    "All the classifiers were able to surpass the baseline accuracy benchmark of `0.5559` even without optimization of parameters. The random forest classifier (`max_feature=2`) based on the top 20 features from the risk corpus was successfully reached to a high accuracy score of `0.9`. The top 20 important features showed us the most identifiable for the IT sectors, such as *computing*, *engineering*, *oci* (Oracle Cloud Infrastructure), *semiconductor*, *software*, *technology*, and so on. The random forest classfier successfully classify the IT vs. Non-IT sectors in the risk corpus. \n",
    "\n",
    "**Q3: Can we build a classifier to categorize the below-average-stock-price and above-average-stock-price by their Risk Factors from 10-K reports? What are the most important features to distinguish them? Can we improve the accuracy of our classifiers?** \n",
    "\n",
    "All the classifiers were able to surpass the baseline accuracy benchmark of `0.3947`. In particular, it seems random forest with the default parameter `max_features=None` and`max_features=100` has the highest accuracy scores, and the one with `max_features=None` had the best F1 score, which was still lower than the baseline F1 `0.566`. By evaluating the entities and topic modeling feature matrices, we could find a lot of interesting aspects of the risk corpus, which was discussed above. "
   ]
  },
  {
   "cell_type": "markdown",
   "id": "7af01f02-7fed-4abb-b264-fc6fd41c5f93",
   "metadata": {},
   "source": [
    "## Limitations"
   ]
  },
  {
   "cell_type": "markdown",
   "id": "20ef74b9-f81d-41cf-bbc6-64afd0b540aa",
   "metadata": {},
   "source": [
    "* The stock prices collected for the companies were based on the December of the given fiscal year, yet some of the companies have set their fiscal year to be September or other months. We should do more research on which month or metric to represent a company’s performance in a given fiscal year in the stock market.  \n",
    "\n",
    "* The 10-K reports pulled from SEC website for the companies were not continuous, which means for company A, its 10-K reports from 2015 and 2017 might be pulled, while other fiscal years’ reports were missing in the dataset. In the future studies, a more complete list of 10-K reports should be found and pulled. "
   ]
  },
  {
   "cell_type": "markdown",
   "id": "48a90cd1-bf69-472a-a6af-f25fc5f054f4",
   "metadata": {
    "tags": []
   },
   "source": [
    "# Part 5: Reflection"
   ]
  },
  {
   "cell_type": "markdown",
   "id": "0899ee98-4955-43a5-8884-5b763a97cd2c",
   "metadata": {},
   "source": [
    "Like many data science projects, the web scraping and data cleaning became the most challenging part of this project. As a rookie in web scraping, I spent over 20 hours learning web scraping and actually obtaining the data. Since my goal was to use the 10-K reports to classify the stock price, I needed to scrap both sites: the SEC website and Yahoo Finance. It took a long trial and error process, especially with the 10-K reports scraping. I used *Inspect* feature in Chrome to find the HTML tags that contained the text I wanted. One big issue I had was the data was dynamically generated by JavaScript, after researching online, I used selenium\n",
    "*webdriver.Firefox()* to start local sessions of Firefox automatically, and then parse the text. When scraping Yahoo Finance, I found the most challenging part was to find the key-value pair from a very long JSON object that has the historical stock prices for a company. To solve it, I used VS Code JSON formatter and was able to find the historical data. "
   ]
  },
  {
   "cell_type": "markdown",
   "id": "e847623f-5e0d-453f-a6a6-3f79f340fbd5",
   "metadata": {
    "tags": []
   },
   "source": [
    "# Part 6: References"
   ]
  },
  {
   "cell_type": "markdown",
   "id": "9a2dd98c-4390-46fb-ab4c-0958e505998b",
   "metadata": {},
   "source": [
    "* INFO 6/3350 Text Mining History and Literature (2022SP) lecture code\n",
    "\n",
    "* https://github.com/areed1192/sigma_coding_youtube/tree/master/python/python-finance/sec-web-scraping\n",
    "\n",
    "* https://www.youtube.com/watch?v=fw4gK-leExw&ab_channel=IzzyAnalytics\n",
    "\n",
    "* https://en.wikipedia.org/wiki/Nasdaq-100\n",
    "\n",
    "* https://stackoverflow.com/questions/48687857/python-json-list-to-pandas-dataframe\n",
    "\n",
    "* https://www.sec.gov/\n",
    "\n",
    "* https://finance.yahoo.com/"
   ]
  },
  {
   "cell_type": "markdown",
   "id": "02231ca4-0f3e-4db5-88a7-7045e06d2469",
   "metadata": {
    "tags": []
   },
   "source": [
    "# Part 7: Responsibility Statement"
   ]
  },
  {
   "cell_type": "markdown",
   "id": "35cb5965-c844-409e-88f1-05c6f7ffc7a1",
   "metadata": {},
   "source": [
    "I completed this project on my own. "
   ]
  }
 ],
 "metadata": {
  "kernelspec": {
   "display_name": "Python 3.9.6 64-bit",
   "language": "python",
   "name": "python3"
  },
  "language_info": {
   "codemirror_mode": {
    "name": "ipython",
    "version": 3
   },
   "file_extension": ".py",
   "mimetype": "text/x-python",
   "name": "python",
   "nbconvert_exporter": "python",
   "pygments_lexer": "ipython3",
   "version": "3.9.6"
  },
  "vscode": {
   "interpreter": {
    "hash": "31f2aee4e71d21fbe5cf8b01ff0e069b9275f58929596ceb00d14d90e3e16cd6"
   }
  }
 },
 "nbformat": 4,
 "nbformat_minor": 5
}
