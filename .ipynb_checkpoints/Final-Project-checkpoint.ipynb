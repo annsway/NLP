{
 "cells": [
  {
   "cell_type": "markdown",
   "id": "612fc418-cd31-4623-8f25-289f5cc5036d",
   "metadata": {},
   "source": [
    "# Final Project for INFO 6350\n",
    "## Net ID: yz2685"
   ]
  },
  {
   "cell_type": "code",
   "execution_count": 1,
   "id": "55973c51-65a9-4f7c-a387-f5a05648497c",
   "metadata": {},
   "outputs": [],
   "source": [
    "# import our libraries\n",
    "import requests\n",
    "import urllib\n",
    "from bs4 import BeautifulSoup\n",
    "import simplejson as json\n",
    "from urllib.request import Request, urlopen\n",
    "from fake_useragent import UserAgent"
   ]
  },
  {
   "cell_type": "code",
   "execution_count": 2,
   "id": "e76d60a5-27d4-49e9-a6f7-f75b52d4bd37",
   "metadata": {
    "tags": []
   },
   "outputs": [
    {
     "name": "stdout",
     "output_type": "stream",
     "text": [
      "<Response [200]>\n",
      "----------------------------------------------------------------------------------------------------\n",
      "File Name: FilingSummary.xml\n",
      "File Path: https://www.sec.gov/Archives/edgar/data/1265107/000126510719000004/FilingSummary.xml\n"
     ]
    }
   ],
   "source": [
    "# define the base url needed to create the file url.\n",
    "base_url = r\"https://www.sec.gov\"\n",
    "\n",
    "header = {\n",
    "    'User-Agent': 'Mozilla/5.0 (Macintosh; Intel Mac OS X 10_15_7) AppleWebKit/537.36 (KHTML, like Gecko) Chrome/101.0.4951.54 Safari/537.36'\n",
    "}\n",
    "content = requests.get(documents_url, headers=header)\n",
    "print(content)"
   ]
  },
  {
   "cell_type": "markdown",
   "id": "4349473c-3242-47e3-8738-aea5979c5df2",
   "metadata": {},
   "source": [
    "# Grabbing the Financial Statements"
   ]
  },
  {
   "cell_type": "code",
   "execution_count": 6,
   "id": "bc96ee11-17b8-4910-9e86-a09a003534b1",
   "metadata": {},
   "outputs": [
    {
     "name": "stdout",
     "output_type": "stream",
     "text": [
      "----------------------------------------------------------------------------------------------------\n",
      "Consolidated Balance Sheets\n",
      "https://www.sec.gov/Archives/edgar/data/1265107/000126510719000004/R2.htm\n",
      "----------------------------------------------------------------------------------------------------\n",
      "Consolidated Statements of Operations and Comprehensive Income (Loss)\n",
      "https://www.sec.gov/Archives/edgar/data/1265107/000126510719000004/R4.htm\n",
      "----------------------------------------------------------------------------------------------------\n",
      "Consolidated Statements of Cash Flows\n",
      "https://www.sec.gov/Archives/edgar/data/1265107/000126510719000004/R5.htm\n",
      "----------------------------------------------------------------------------------------------------\n",
      "Consolidated Statements of Stockholder's (Deficit) Equity\n",
      "https://www.sec.gov/Archives/edgar/data/1265107/000126510719000004/R6.htm\n"
     ]
    }
   ],
   "source": [
    "# create the list to hold the statement urls\n",
    "statements_url = []\n",
    "\n",
    "for report_dict in master_reports:\n",
    "    \n",
    "    # define the statements we want to look for.\n",
    "    item1 = r\"Consolidated Balance Sheets\"\n",
    "    item2 = r\"Consolidated Statements of Operations and Comprehensive Income (Loss)\"\n",
    "    item3 = r\"Consolidated Statements of Cash Flows\"\n",
    "    item4 = r\"Consolidated Statements of Stockholder's (Deficit) Equity\"\n",
    "    \n",
    "    # store them in a list.\n",
    "    report_list = [item1, item2, item3, item4]\n",
    "    \n",
    "    # if the short name can be found in the report list.\n",
    "    if report_dict['name_short'] in report_list:\n",
    "        \n",
    "        # print some info and store it in the statements url.\n",
    "        print('-'*100)\n",
    "        print(report_dict['name_short'])\n",
    "        print(report_dict['url'])\n",
    "        \n",
    "        statements_url.append(report_dict['url'])"
   ]
  },
  {
   "cell_type": "markdown",
   "id": "46851220-308b-4add-b62c-2a1645fb240c",
   "metadata": {},
   "source": [
    "# Scraping the Financial Statements"
   ]
  },
  {
   "cell_type": "code",
   "execution_count": null,
   "id": "22b9adb4-2e02-4785-951f-39199a5232e9",
   "metadata": {},
   "outputs": [],
   "source": []
  },
  {
   "cell_type": "code",
   "execution_count": null,
   "id": "f64daade-f6d2-4ef0-a0a1-3f3aa87354d2",
   "metadata": {},
   "outputs": [],
   "source": []
  },
  {
   "cell_type": "markdown",
   "id": "0297d2b2-3106-4750-b5cf-959a67cd96da",
   "metadata": {},
   "source": [
    "# Scraping the SEC Query Page"
   ]
  },
  {
   "cell_type": "code",
   "execution_count": 7,
   "id": "af17fe3a-24f6-480d-a9ea-742edf293d64",
   "metadata": {},
   "outputs": [
    {
     "name": "stdout",
     "output_type": "stream",
     "text": [
      "Request Successful\n",
      "https://www.sec.gov/cgi-bin/browse-edgar?action=getcompany&CIK=1318605&type=10-k&dateb=20230101&owner=exclude&start=&output=&count=100\n"
     ]
    }
   ],
   "source": [
    "# base URL for the SEC EDGAR browser\n",
    "endpoint = r\"https://www.sec.gov/cgi-bin/browse-edgar\"\n",
    "\n",
    "# define our parameters dictionary\n",
    "param_dict = {'action':'getcompany',\n",
    "              'CIK':'1318605',\n",
    "              'type':'10-k',\n",
    "              'dateb':'20230101',\n",
    "              'owner':'exclude',\n",
    "              'start':'',\n",
    "              'output':'',\n",
    "              'count':'100'}\n",
    "\n",
    "# request the url, and then parse the response.\n",
    "response = requests.get(url = endpoint, params = param_dict, headers=header)\n",
    "# response = requests.get(url = endpoint, params = param_dict)\n",
    "soup = BeautifulSoup(response.content, 'html.parser')\n",
    "\n",
    "# Let the user know it was successful.\n",
    "print('Request Successful')\n",
    "print(response.url)"
   ]
  },
  {
   "cell_type": "code",
   "execution_count": 8,
   "id": "598501f5-968f-47b5-8b57-8258c17ab388",
   "metadata": {},
   "outputs": [],
   "source": [
    "doc_table = soup.find_all(class_ = \"blueRow\")\n",
    "# print(doc_table)"
   ]
  },
  {
   "cell_type": "code",
   "execution_count": 9,
   "id": "5d2c276f-1495-4a15-95e2-20638c59c0c6",
   "metadata": {},
   "outputs": [
    {
     "name": "stdout",
     "output_type": "stream",
     "text": [
      "https://www.sec.gov/Archives/edgar/data/1318605/000095017022000796/0000950170-22-000796-index.htm\n",
      "https://www.sec.gov/Archives/edgar/data/1318605/000156459021004599/0001564590-21-004599-index.htm\n",
      "https://www.sec.gov/Archives/edgar/data/1318605/000156459020004475/0001564590-20-004475-index.htm\n",
      "https://www.sec.gov/Archives/edgar/data/1318605/000156459018002956/0001564590-18-002956-index.htm\n",
      "https://www.sec.gov/Archives/edgar/data/1318605/000156459016013195/0001564590-16-013195-index.htm\n",
      "https://www.sec.gov/Archives/edgar/data/1318605/000119312514069681/0001193125-14-069681-index.htm\n",
      "https://www.sec.gov/Archives/edgar/data/1318605/000119312512137560/0001193125-12-137560-index.htm\n",
      "https://www.sec.gov/Archives/edgar/data/1318605/000119312511054847/0001193125-11-054847-index.htm\n"
     ]
    }
   ],
   "source": [
    "data = soup.find_all(class_='blueRow')\n",
    "\n",
    "list_10k = []\n",
    "\n",
    "for i, row in enumerate(data): \n",
    "    for a in data[i].find_all('a', href=True):\n",
    "        url = a['href']\n",
    "        if (url.startswith('/Archives/edgar/')):\n",
    "            list_10k.append(\"https://www.sec.gov\"+ url)\n",
    "            print(\"https://www.sec.gov\"+ url)"
   ]
  },
  {
   "cell_type": "code",
   "execution_count": 10,
   "id": "9ac4bb13-9066-4a76-9465-d0c7db24265b",
   "metadata": {},
   "outputs": [
    {
     "name": "stdout",
     "output_type": "stream",
     "text": [
      "['https://www.sec.gov/Archives/edgar/data/1318605/000095017022000796/0000950170-22-000796-index.htm', 'https://www.sec.gov/Archives/edgar/data/1318605/000156459021004599/0001564590-21-004599-index.htm', 'https://www.sec.gov/Archives/edgar/data/1318605/000156459020004475/0001564590-20-004475-index.htm', 'https://www.sec.gov/Archives/edgar/data/1318605/000156459018002956/0001564590-18-002956-index.htm', 'https://www.sec.gov/Archives/edgar/data/1318605/000156459016013195/0001564590-16-013195-index.htm', 'https://www.sec.gov/Archives/edgar/data/1318605/000119312514069681/0001193125-14-069681-index.htm', 'https://www.sec.gov/Archives/edgar/data/1318605/000119312512137560/0001193125-12-137560-index.htm', 'https://www.sec.gov/Archives/edgar/data/1318605/000119312511054847/0001193125-11-054847-index.htm']\n"
     ]
    }
   ],
   "source": [
    "print(list_10k)"
   ]
  },
  {
   "cell_type": "code",
   "execution_count": 11,
   "id": "679331e3-8098-47ee-8c98-f9d5a8dde210",
   "metadata": {},
   "outputs": [
    {
     "name": "stdout",
     "output_type": "stream",
     "text": [
      "<Response [200]>\n",
      "https://www.sec.gov/Archives/edgar/data/1318605/000095017022000796/0000950170-22-000796-index.htm\n"
     ]
    }
   ],
   "source": [
    "response0 = requests.get(url = list_10k[0], headers=header)\n",
    "\n",
    "soup10k = BeautifulSoup(response0.content, 'html.parser')\n",
    "print(response0)\n",
    "print(response0.url)"
   ]
  },
  {
   "cell_type": "code",
   "execution_count": 15,
   "id": "bc690d35-c493-4744-ae44-d017f7aa08c4",
   "metadata": {},
   "outputs": [
    {
     "name": "stdout",
     "output_type": "stream",
     "text": [
      "/index.htm\n",
      "/cgi-bin/browse-edgar?action=getcurrent\n",
      "javascript:history.back()\n",
      "/index.htm\n",
      "/edgar/searchedgar/webusers.htm\n",
      "/index.htm\n",
      "/edgar/searchedgar/webusers.htm\n",
      "/edgar/searchedgar/companysearch.html\n",
      "/cgi-bin/viewer?action=view&cik=1318605&accession_number=0000950170-22-000796&xbrl_type=v\n",
      "/ix?doc=/Archives/edgar/data/1318605/000095017022000796/tsla-20211231.htm\n",
      "/Archives/edgar/data/1318605/000095017022000796/tsla-ex21_1.htm\n",
      "/Archives/edgar/data/1318605/000095017022000796/tsla-ex23_1.htm\n",
      "/Archives/edgar/data/1318605/000095017022000796/tsla-ex31_1.htm\n",
      "/Archives/edgar/data/1318605/000095017022000796/tsla-ex31_2.htm\n",
      "/Archives/edgar/data/1318605/000095017022000796/tsla-ex32_1.htm\n",
      "/Archives/edgar/data/1318605/000095017022000796/img96779317_0.jpg\n",
      "/Archives/edgar/data/1318605/000095017022000796/0000950170-22-000796.txt\n",
      "/Archives/edgar/data/1318605/000095017022000796/tsla-20211231_def.xml\n",
      "/Archives/edgar/data/1318605/000095017022000796/tsla-20211231_pre.xml\n",
      "/Archives/edgar/data/1318605/000095017022000796/tsla-20211231_lab.xml\n",
      "/Archives/edgar/data/1318605/000095017022000796/tsla-20211231.xsd\n",
      "/Archives/edgar/data/1318605/000095017022000796/tsla-20211231_cal.xml\n",
      "/Archives/edgar/data/1318605/000095017022000796/tsla-20211231_htm.xml\n",
      "/cgi-bin/browse-edgar?CIK=0001318605&action=getcompany\n",
      "/cgi-bin/browse-edgar?filenum=001-34756&action=getcompany\n",
      "/cgi-bin/browse-edgar?action=getcompany&SIC=3711&owner=include\n"
     ]
    }
   ],
   "source": [
    "report10k = []\n",
    "\n",
    "for a in soup10k.find_all('a', href=True):\n",
    "    url = a['href']\n",
    "    print(url)\n",
    "    if (url.find('10k') != -1):\n",
    "        report10k.append(\"https://www.sec.gov\"+ url)\n",
    "        print(\"https://www.sec.gov\"+ url)"
   ]
  },
  {
   "cell_type": "code",
   "execution_count": 14,
   "id": "1ae49ed8-e86f-4188-8c4b-d57dabbc84bb",
   "metadata": {},
   "outputs": [
    {
     "name": "stdout",
     "output_type": "stream",
     "text": [
      "[]\n"
     ]
    }
   ],
   "source": [
    "print(report10k)"
   ]
  },
  {
   "cell_type": "code",
   "execution_count": 13,
   "id": "f955157b-57c2-47ac-87cb-569bca38a00f",
   "metadata": {},
   "outputs": [
    {
     "ename": "IndexError",
     "evalue": "list index out of range",
     "output_type": "error",
     "traceback": [
      "\u001b[0;31m---------------------------------------------------------------------------\u001b[0m",
      "\u001b[0;31mIndexError\u001b[0m                                Traceback (most recent call last)",
      "\u001b[0;32m/var/folders/hb/cp1k8j5x3dj82qvtzxhwyn280000gn/T/ipykernel_98482/785880478.py\u001b[0m in \u001b[0;36m<module>\u001b[0;34m\u001b[0m\n\u001b[1;32m      1\u001b[0m \u001b[0;31m# Find all of the text between paragraph tags and strip out the html\u001b[0m\u001b[0;34m\u001b[0m\u001b[0;34m\u001b[0m\u001b[0m\n\u001b[0;32m----> 2\u001b[0;31m \u001b[0mresponse1\u001b[0m \u001b[0;34m=\u001b[0m \u001b[0mrequests\u001b[0m\u001b[0;34m.\u001b[0m\u001b[0mget\u001b[0m\u001b[0;34m(\u001b[0m\u001b[0murl\u001b[0m \u001b[0;34m=\u001b[0m \u001b[0mreport10k\u001b[0m\u001b[0;34m[\u001b[0m\u001b[0;36m0\u001b[0m\u001b[0;34m]\u001b[0m\u001b[0;34m,\u001b[0m \u001b[0mheaders\u001b[0m\u001b[0;34m=\u001b[0m\u001b[0mheader\u001b[0m\u001b[0;34m)\u001b[0m\u001b[0;34m\u001b[0m\u001b[0;34m\u001b[0m\u001b[0m\n\u001b[0m\u001b[1;32m      3\u001b[0m \u001b[0;34m\u001b[0m\u001b[0m\n\u001b[1;32m      4\u001b[0m \u001b[0msoupText\u001b[0m \u001b[0;34m=\u001b[0m \u001b[0mBeautifulSoup\u001b[0m\u001b[0;34m(\u001b[0m\u001b[0mresponse1\u001b[0m\u001b[0;34m.\u001b[0m\u001b[0mcontent\u001b[0m\u001b[0;34m,\u001b[0m \u001b[0;34m'html.parser'\u001b[0m\u001b[0;34m)\u001b[0m\u001b[0;34m\u001b[0m\u001b[0;34m\u001b[0m\u001b[0m\n\u001b[1;32m      5\u001b[0m \u001b[0mprint\u001b[0m\u001b[0;34m(\u001b[0m\u001b[0mresponse1\u001b[0m\u001b[0;34m)\u001b[0m\u001b[0;34m\u001b[0m\u001b[0;34m\u001b[0m\u001b[0m\n",
      "\u001b[0;31mIndexError\u001b[0m: list index out of range"
     ]
    }
   ],
   "source": [
    "# Find all of the text between paragraph tags and strip out the html\n",
    "response1 = requests.get(url = report10k[0], headers=header)\n",
    "\n",
    "soupText = BeautifulSoup(response1.content, 'html.parser')\n",
    "print(response1)\n",
    "print(response1.url)\n"
   ]
  },
  {
   "cell_type": "code",
   "execution_count": null,
   "id": "c7942be8-95ce-4988-89d3-d1af2bc1ad33",
   "metadata": {},
   "outputs": [],
   "source": [
    "page = soupText.find_all('p').getText()"
   ]
  },
  {
   "cell_type": "code",
   "execution_count": null,
   "id": "c9714aac-7c68-4d6a-87dc-98d1f562d716",
   "metadata": {},
   "outputs": [],
   "source": [
    "text = \"\"\n",
    "for data in soupText.find_all(\"p\"): \n",
    "    text += data.get_text()\n",
    "    # print(data.get_text()) "
   ]
  },
  {
   "cell_type": "code",
   "execution_count": null,
   "id": "402e30c0-ef85-4591-b6ad-bd5dfe06cbeb",
   "metadata": {},
   "outputs": [],
   "source": [
    "# print(text)"
   ]
  },
  {
   "cell_type": "code",
   "execution_count": null,
   "id": "5876c91a-f354-492b-93ea-b7bf28ca8f52",
   "metadata": {},
   "outputs": [],
   "source": [
    "import unicodedata\n",
    "\n",
    "text = unicodedata.normalize('NFKD', text.replace(\"\\'\", \"'\").replace(\"\\ in\\ form\", \" inform\").replace(\"\\n\", \" \").lower().strip())"
   ]
  },
  {
   "cell_type": "code",
   "execution_count": null,
   "id": "e14ccb73-f5aa-4ec8-bda8-7f1b9a733d50",
   "metadata": {},
   "outputs": [],
   "source": [
    "# print(text)\n",
    "dev_docs = [doc for doc in text.split('\\n')] "
   ]
  },
  {
   "cell_type": "code",
   "execution_count": null,
   "id": "5017bad0-3ee7-4af5-8707-52b39f4c85ef",
   "metadata": {},
   "outputs": [],
   "source": [
    "from   sklearn.feature_extraction.text import TfidfVectorizer\n",
    "from   nltk.corpus import stopwords\n",
    "import string\n",
    "\n",
    "# Making stopwords list\n",
    "stoplist = stopwords.words('english')\n",
    "for el in [i for i in string.punctuation]:\n",
    "    stoplist.append(el)\n",
    "\n",
    "# Set up vectorizer\n",
    "vectorizer = TfidfVectorizer(\n",
    "    encoding='utf-8',\n",
    "    min_df=1, # include words that occur in as few as a single document, 1 = a single document\n",
    "    max_df=1.0, # include words that occur in as many as all documents, 1.0 = 100% = all documents\n",
    "     binary=False,\n",
    "    norm='l2',\n",
    "    stop_words = stoplist,\n",
    "    use_idf=True\n",
    ")\n",
    "\n",
    "X = vectorizer.fit_transform(dev_docs)"
   ]
  },
  {
   "cell_type": "code",
   "execution_count": null,
   "id": "5759c23d-d355-4f57-a2c9-653ee13a39dd",
   "metadata": {},
   "outputs": [],
   "source": [
    "print(X.shape)"
   ]
  },
  {
   "cell_type": "code",
   "execution_count": null,
   "id": "c8f0756e-fd23-448a-b96a-0b72c7689a03",
   "metadata": {},
   "outputs": [],
   "source": [
    "print(X)"
   ]
  }
 ],
 "metadata": {
  "kernelspec": {
   "display_name": "Python 3 (ipykernel)",
   "language": "python",
   "name": "python3"
  },
  "language_info": {
   "codemirror_mode": {
    "name": "ipython",
    "version": 3
   },
   "file_extension": ".py",
   "mimetype": "text/x-python",
   "name": "python",
   "nbconvert_exporter": "python",
   "pygments_lexer": "ipython3",
   "version": "3.9.7"
  }
 },
 "nbformat": 4,
 "nbformat_minor": 5
}
