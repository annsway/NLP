{
 "cells": [
  {
   "cell_type": "markdown",
   "id": "612fc418-cd31-4623-8f25-289f5cc5036d",
   "metadata": {},
   "source": [
    "# Final Project for INFO 6350\n",
    "## Net ID: yz2685"
   ]
  },
  {
   "cell_type": "code",
   "execution_count": 1,
   "id": "55973c51-65a9-4f7c-a387-f5a05648497c",
   "metadata": {},
   "outputs": [],
   "source": [
    "# import our libraries\n",
    "import requests\n",
    "import urllib\n",
    "from bs4 import BeautifulSoup\n",
    "import simplejson as json\n",
    "from urllib.request import Request, urlopen\n",
    "from fake_useragent import UserAgent"
   ]
  },
  {
   "cell_type": "code",
   "execution_count": 2,
   "id": "e76d60a5-27d4-49e9-a6f7-f75b52d4bd37",
   "metadata": {
    "tags": []
   },
   "outputs": [
    {
     "name": "stdout",
     "output_type": "stream",
     "text": [
      "<Response [200]>\n",
      "----------------------------------------------------------------------------------------------------\n",
      "File Name: FilingSummary.xml\n",
      "File Path: https://www.sec.gov/Archives/edgar/data/1265107/000126510719000004/FilingSummary.xml\n"
     ]
    }
   ],
   "source": [
    "# define the base url needed to create the file url.\n",
    "base_url = r\"https://www.sec.gov\"\n",
    "\n",
    "header = {\n",
    "    'User-Agent': 'Mozilla/5.0 (Macintosh; Intel Mac OS X 10_15_7) AppleWebKit/537.36 (KHTML, like Gecko) Chrome/101.0.4951.54 Safari/537.36'\n",
    "}\n",
    "content = requests.get(documents_url, headers=header)\n",
    "print(content)"
   ]
  },
  {
   "cell_type": "markdown",
   "id": "4349473c-3242-47e3-8738-aea5979c5df2",
   "metadata": {
    "jp-MarkdownHeadingCollapsed": true,
    "tags": []
   },
   "source": [
    "# Grabbing the Financial Statements"
   ]
  },
  {
   "cell_type": "code",
   "execution_count": 6,
   "id": "bc96ee11-17b8-4910-9e86-a09a003534b1",
   "metadata": {},
   "outputs": [
    {
     "name": "stdout",
     "output_type": "stream",
     "text": [
      "----------------------------------------------------------------------------------------------------\n",
      "Consolidated Balance Sheets\n",
      "https://www.sec.gov/Archives/edgar/data/1265107/000126510719000004/R2.htm\n",
      "----------------------------------------------------------------------------------------------------\n",
      "Consolidated Statements of Operations and Comprehensive Income (Loss)\n",
      "https://www.sec.gov/Archives/edgar/data/1265107/000126510719000004/R4.htm\n",
      "----------------------------------------------------------------------------------------------------\n",
      "Consolidated Statements of Cash Flows\n",
      "https://www.sec.gov/Archives/edgar/data/1265107/000126510719000004/R5.htm\n",
      "----------------------------------------------------------------------------------------------------\n",
      "Consolidated Statements of Stockholder's (Deficit) Equity\n",
      "https://www.sec.gov/Archives/edgar/data/1265107/000126510719000004/R6.htm\n"
     ]
    }
   ],
   "source": [
    "# create the list to hold the statement urls\n",
    "statements_url = []\n",
    "\n",
    "for report_dict in master_reports:\n",
    "    \n",
    "    # define the statements we want to look for.\n",
    "    item1 = r\"Consolidated Balance Sheets\"\n",
    "    item2 = r\"Consolidated Statements of Operations and Comprehensive Income (Loss)\"\n",
    "    item3 = r\"Consolidated Statements of Cash Flows\"\n",
    "    item4 = r\"Consolidated Statements of Stockholder's (Deficit) Equity\"\n",
    "    \n",
    "    # store them in a list.\n",
    "    report_list = [item1, item2, item3, item4]\n",
    "    \n",
    "    # if the short name can be found in the report list.\n",
    "    if report_dict['name_short'] in report_list:\n",
    "        \n",
    "        # print some info and store it in the statements url.\n",
    "        print('-'*100)\n",
    "        print(report_dict['name_short'])\n",
    "        print(report_dict['url'])\n",
    "        \n",
    "        statements_url.append(report_dict['url'])"
   ]
  },
  {
   "cell_type": "markdown",
   "id": "0297d2b2-3106-4750-b5cf-959a67cd96da",
   "metadata": {},
   "source": [
    "# Scraping the SEC Query Page"
   ]
  },
  {
   "cell_type": "code",
   "execution_count": 7,
   "id": "af17fe3a-24f6-480d-a9ea-742edf293d64",
   "metadata": {},
   "outputs": [
    {
     "name": "stdout",
     "output_type": "stream",
     "text": [
      "Request Successful\n",
      "https://www.sec.gov/cgi-bin/browse-edgar?action=getcompany&CIK=1318605&type=10-k&dateb=20230101&owner=exclude&start=&output=&count=100\n"
     ]
    }
   ],
   "source": [
    "# base URL for the SEC EDGAR browser\n",
    "endpoint = r\"https://www.sec.gov/cgi-bin/browse-edgar\"\n",
    "\n",
    "# define our parameters dictionary\n",
    "param_dict = {'action':'getcompany',\n",
    "              'CIK':'1318605',\n",
    "              'type':'10-k',\n",
    "              'dateb':'20230101',\n",
    "              'owner':'exclude',\n",
    "              'start':'',\n",
    "              'output':'',\n",
    "              'count':'100'}\n",
    "\n",
    "# request the url, and then parse the response.\n",
    "response = requests.get(url = endpoint, params = param_dict, headers=header)\n",
    "# response = requests.get(url = endpoint, params = param_dict)\n",
    "soup = BeautifulSoup(response.content, 'html.parser')\n",
    "\n",
    "# Let the user know it was successful.\n",
    "print('Request Successful')\n",
    "print(response.url)"
   ]
  },
  {
   "cell_type": "code",
   "execution_count": 8,
   "id": "598501f5-968f-47b5-8b57-8258c17ab388",
   "metadata": {},
   "outputs": [],
   "source": [
    "doc_table = soup.find_all(class_ = \"blueRow\")\n",
    "# print(doc_table)"
   ]
  },
  {
   "cell_type": "code",
   "execution_count": 9,
   "id": "5d2c276f-1495-4a15-95e2-20638c59c0c6",
   "metadata": {},
   "outputs": [
    {
     "name": "stdout",
     "output_type": "stream",
     "text": [
      "https://www.sec.gov/Archives/edgar/data/1318605/000095017022000796/0000950170-22-000796-index.htm\n",
      "https://www.sec.gov/Archives/edgar/data/1318605/000156459021004599/0001564590-21-004599-index.htm\n",
      "https://www.sec.gov/Archives/edgar/data/1318605/000156459020004475/0001564590-20-004475-index.htm\n",
      "https://www.sec.gov/Archives/edgar/data/1318605/000156459018002956/0001564590-18-002956-index.htm\n",
      "https://www.sec.gov/Archives/edgar/data/1318605/000156459016013195/0001564590-16-013195-index.htm\n",
      "https://www.sec.gov/Archives/edgar/data/1318605/000119312514069681/0001193125-14-069681-index.htm\n",
      "https://www.sec.gov/Archives/edgar/data/1318605/000119312512137560/0001193125-12-137560-index.htm\n",
      "https://www.sec.gov/Archives/edgar/data/1318605/000119312511054847/0001193125-11-054847-index.htm\n"
     ]
    }
   ],
   "source": [
    "data = soup.find_all(class_='blueRow')\n",
    "\n",
    "list_10k = []\n",
    "\n",
    "for i, row in enumerate(data): \n",
    "    for a in data[i].find_all('a', href=True):\n",
    "        url = a['href']\n",
    "        if (url.startswith('/Archives/edgar/')):\n",
    "            list_10k.append(\"https://www.sec.gov\"+ url)\n",
    "            print(\"https://www.sec.gov\"+ url)"
   ]
  },
  {
   "cell_type": "code",
   "execution_count": 10,
   "id": "9ac4bb13-9066-4a76-9465-d0c7db24265b",
   "metadata": {},
   "outputs": [
    {
     "name": "stdout",
     "output_type": "stream",
     "text": [
      "['https://www.sec.gov/Archives/edgar/data/1318605/000095017022000796/0000950170-22-000796-index.htm', 'https://www.sec.gov/Archives/edgar/data/1318605/000156459021004599/0001564590-21-004599-index.htm', 'https://www.sec.gov/Archives/edgar/data/1318605/000156459020004475/0001564590-20-004475-index.htm', 'https://www.sec.gov/Archives/edgar/data/1318605/000156459018002956/0001564590-18-002956-index.htm', 'https://www.sec.gov/Archives/edgar/data/1318605/000156459016013195/0001564590-16-013195-index.htm', 'https://www.sec.gov/Archives/edgar/data/1318605/000119312514069681/0001193125-14-069681-index.htm', 'https://www.sec.gov/Archives/edgar/data/1318605/000119312512137560/0001193125-12-137560-index.htm', 'https://www.sec.gov/Archives/edgar/data/1318605/000119312511054847/0001193125-11-054847-index.htm']\n"
     ]
    }
   ],
   "source": [
    "print(list_10k)"
   ]
  },
  {
   "cell_type": "code",
   "execution_count": 17,
   "id": "679331e3-8098-47ee-8c98-f9d5a8dde210",
   "metadata": {},
   "outputs": [
    {
     "name": "stdout",
     "output_type": "stream",
     "text": [
      "<Response [200]>\n",
      "https://www.sec.gov/Archives/edgar/data/1318605/000095017022000796/0000950170-22-000796-index.htm\n"
     ]
    }
   ],
   "source": [
    "response0 = requests.get(url = list_10k[0], headers=header)\n",
    "\n",
    "soup10k = BeautifulSoup(response0.content, 'html.parser')\n",
    "print(response0)\n",
    "print(response0.url)\n",
    "# print(soup10k)"
   ]
  },
  {
   "cell_type": "code",
   "execution_count": 85,
   "id": "0588aabc-6b7e-428a-ac10-d75fe8565a57",
   "metadata": {},
   "outputs": [
    {
     "name": "stdout",
     "output_type": "stream",
     "text": [
      "<html xmlns=\"http://www.w3.org/1999/xhtml\"><head>\n",
      "<meta content=\"text/html; charset=utf-8\" http-equiv=\"Content-Type\"/>\n",
      "<meta content=\"Sat, 05 Feb 2022 01:11:27 GMT\" http-equiv=\"Last-Modified\"/>\n",
      "<title>EDGAR Filing Documents for 0000950170-22-000796</title>\n",
      "<link href=\"/include/interactive.css\" rel=\"stylesheet\" type=\"text/css\"/>\n",
      "<script async=\"\" id=\"www-widgetapi-script\" src=\"https://www.youtube.com/s/player/8a298c38/www-widgetapi.vflset/www-widgetapi.js\" type=\"text/javascript\"></script><script async=\"\" src=\"//www.youtube.com/iframe_api\"></script><script async=\"\" src=\"https://www.google-analytics.com/analytics.js\" type=\"text/javascript\"></script><script async=\"\" src=\"//www.googletagmanager.com/gtm.js?id=GTM-TD3BKV\"></script><script>bazadebezolkohpepadr=\"114662157\"</script><script defer=\"\" src=\"https://www.sec.gov/akam/13/6d59ad4\" type=\"text/javascript\"></script></head>\n",
      "<body style=\"margin: 0\">\n",
      "<!-- SEC Web Analytics - For information please visit: https://www.sec.gov/privacy.htm#collectedinfo -->\n",
      "<noscript><iframe height=\"0\" src=\"//www.googletagmanager.com/ns.html?id=GTM-TD3BKV\" style=\"display:none;visibility:hidden\" width=\"0\"></iframe></noscript>\n",
      "<script>(function(w,d,s,l,i){w[l]=w[l]||[];w[l].push({'gtm.start':\n",
      "new Date().getTime(),event:'gtm.js'});var f=d.getElementsByTagName(s)[0],\n",
      "j=d.createElement(s),dl=l!='dataLayer'?'&l='+l:'';j.async=true;j.src=\n",
      "'//www.googletagmanager.com/gtm.js?id='+i+dl;f.parentNode.insertBefore(j,f);\n",
      "})(window,document,'script','dataLayer','GTM-TD3BKV');</script>\n",
      "<!-- End SEC Web Analytics -->\n",
      "<noscript><div style=\"color:red; font-weight:bold; text-align:center;\">This page uses Javascript. Your browser either doesn't support Javascript or you have it turned off. To see this page as it is meant to appear please use a Javascript enabled browser.</div></noscript>\n",
      "<!-- BEGIN BANNER -->\n",
      "<div id=\"headerTop\">\n",
      "<div id=\"Nav\"><a href=\"/index.htm\">Home</a> | <a href=\"/cgi-bin/browse-edgar?action=getcurrent\">Latest Filings</a> | <a href=\"javascript:history.back()\">Previous Page</a></div>\n",
      "<div id=\"seal\"><a href=\"/index.htm\"><img alt=\"SEC Seal\" border=\"0\" src=\"/images/sealTop.gif\"/></a></div>\n",
      "<div id=\"secWordGraphic\"><img alt=\"SEC Banner\" src=\"/images/bannerTitle.gif\"/></div>\n",
      "</div>\n",
      "<div id=\"headerBottom\">\n",
      "<div id=\"searchHome\"><a href=\"/edgar/searchedgar/webusers.htm\">Search the Next-Generation EDGAR System</a></div>\n",
      "<div id=\"PageTitle\">Filing Detail</div>\n",
      "</div>\n",
      "<!-- END BANNER -->\n",
      "<!-- BEGIN BREADCRUMBS -->\n",
      "<div id=\"breadCrumbs\">\n",
      "<ul>\n",
      "<li><a href=\"/index.htm\">SEC Home</a> »</li>\n",
      "<li><a href=\"/edgar/searchedgar/webusers.htm\">Search the Next-Generation EDGAR System</a> »</li>\n",
      "<li><a href=\"/edgar/searchedgar/companysearch.html\">Company Search</a> »</li>\n",
      "<li class=\"last\">Current Page</li>\n",
      "</ul>\n",
      "</div>\n",
      "<!-- END BREADCRUMBS -->\n",
      "<div id=\"contentDiv\">\n",
      "<!-- START FILING DIV -->\n",
      "<div id=\"formDiv\">\n",
      "<div id=\"formHeader\">\n",
      "<div id=\"formName\">\n",
      "<strong>Form 10-K</strong> - Annual report [Section 13 and 15(d), not S-K Item 405]: \n",
      "      </div>\n",
      "<div id=\"secNum\">\n",
      "<strong><acronym title=\"Securities and Exchange Commission\">SEC</acronym> Accession <acronym title=\"Number\">No.</acronym></strong> 0000950170-22-000796\n",
      "      </div>\n",
      "</div>\n",
      "<div class=\"formContent\">\n",
      "<div class=\"formGrouping\">\n",
      "<div class=\"infoHead\">Filing Date</div>\n",
      "<div class=\"info\">2022-02-07</div>\n",
      "<div class=\"infoHead\">Accepted</div>\n",
      "<div class=\"info\">2022-02-04 20:11:27</div>\n",
      "<div class=\"infoHead\">Documents</div>\n",
      "<div class=\"info\">134</div>\n",
      "</div>\n",
      "<div class=\"formGrouping\">\n",
      "<div class=\"infoHead\">Period of Report</div>\n",
      "<div class=\"info\">2021-12-31</div>\n",
      "</div>\n",
      "<div style=\"clear:both\"></div>\n",
      "</div>\n",
      "</div>\n",
      "<!-- END FILING DIV -->\n",
      "<!-- START DOCUMENT DIV -->\n",
      "<div style=\"margin: 10px 0px 10px 0px; border: solid 1px #3F509D; background-color: #F5F5EB;\">\n",
      "<div id=\"seriesDiv\" style=\"padding: 4px 0px 4px 0px; font-size: 12px; margin: 0px 2px 0px 5px; width: 100%; overflow:hidden\">\n",
      "<a href=\"/cgi-bin/viewer?action=view&amp;cik=1318605&amp;accession_number=0000950170-22-000796&amp;xbrl_type=v\" id=\"interactiveDataBtn\"> Interactive Data</a>\n",
      "</div>\n",
      "</div>\n",
      "<div id=\"formDiv\">\n",
      "<div style=\"padding: 0px 0px 4px 0px; font-size: 12px; margin: 0px 2px 0px 5px; width: 100%; overflow:hidden\">\n",
      "<p>Document Format Files</p>\n",
      "<table class=\"tableFile\" summary=\"Document Format Files\">\n",
      "<tbody><tr>\n",
      "<th scope=\"col\" style=\"width: 5%;\"><acronym title=\"Sequence Number\">Seq</acronym></th>\n",
      "<th scope=\"col\" style=\"width: 40%;\">Description</th>\n",
      "<th scope=\"col\" style=\"width: 20%;\">Document</th>\n",
      "<th scope=\"col\" style=\"width: 10%;\">Type</th>\n",
      "<th scope=\"col\">Size</th>\n",
      "</tr>\n",
      "<tr>\n",
      "<td scope=\"row\">1</td>\n",
      "<td scope=\"row\">10-K</td>\n",
      "<td scope=\"row\"><a href=\"/ix?doc=/Archives/edgar/data/1318605/000095017022000796/tsla-20211231.htm\">tsla-20211231.htm</a>   <span style=\"color: green\">iXBRL</span></td>\n",
      "<td scope=\"row\">10-K</td>\n",
      "<td scope=\"row\">7898923</td>\n",
      "</tr>\n",
      "<tr class=\"blueRow\">\n",
      "<td scope=\"row\">2</td>\n",
      "<td scope=\"row\">EX-21.1</td>\n",
      "<td scope=\"row\"><a href=\"/Archives/edgar/data/1318605/000095017022000796/tsla-ex21_1.htm\">tsla-ex21_1.htm</a></td>\n",
      "<td scope=\"row\">EX-21.1</td>\n",
      "<td scope=\"row\">475820</td>\n",
      "</tr>\n",
      "<tr>\n",
      "<td scope=\"row\">3</td>\n",
      "<td scope=\"row\">EX-23.1</td>\n",
      "<td scope=\"row\"><a href=\"/Archives/edgar/data/1318605/000095017022000796/tsla-ex23_1.htm\">tsla-ex23_1.htm</a></td>\n",
      "<td scope=\"row\">EX-23.1</td>\n",
      "<td scope=\"row\">3308</td>\n",
      "</tr>\n",
      "<tr class=\"blueRow\">\n",
      "<td scope=\"row\">4</td>\n",
      "<td scope=\"row\">EX-31.1</td>\n",
      "<td scope=\"row\"><a href=\"/Archives/edgar/data/1318605/000095017022000796/tsla-ex31_1.htm\">tsla-ex31_1.htm</a></td>\n",
      "<td scope=\"row\">EX-31.1</td>\n",
      "<td scope=\"row\">17563</td>\n",
      "</tr>\n",
      "<tr>\n",
      "<td scope=\"row\">5</td>\n",
      "<td scope=\"row\">EX-31.2</td>\n",
      "<td scope=\"row\"><a href=\"/Archives/edgar/data/1318605/000095017022000796/tsla-ex31_2.htm\">tsla-ex31_2.htm</a></td>\n",
      "<td scope=\"row\">EX-31.2</td>\n",
      "<td scope=\"row\">17463</td>\n",
      "</tr>\n",
      "<tr class=\"blueRow\">\n",
      "<td scope=\"row\">6</td>\n",
      "<td scope=\"row\">EX-32.1</td>\n",
      "<td scope=\"row\"><a href=\"/Archives/edgar/data/1318605/000095017022000796/tsla-ex32_1.htm\">tsla-ex32_1.htm</a></td>\n",
      "<td scope=\"row\">EX-32.1</td>\n",
      "<td scope=\"row\">18238</td>\n",
      "</tr>\n",
      "<tr>\n",
      "<td scope=\"row\">7</td>\n",
      "<td scope=\"row\">GRAPHIC</td>\n",
      "<td scope=\"row\"><a href=\"/Archives/edgar/data/1318605/000095017022000796/img96779317_0.jpg\">img96779317_0.jpg</a></td>\n",
      "<td scope=\"row\">GRAPHIC</td>\n",
      "<td scope=\"row\">79009</td>\n",
      "</tr>\n",
      "<tr class=\"blueRow\">\n",
      "<td scope=\"row\"> </td>\n",
      "<td scope=\"row\">Complete submission text file</td>\n",
      "<td scope=\"row\"><a href=\"/Archives/edgar/data/1318605/000095017022000796/0000950170-22-000796.txt\">0000950170-22-000796.txt</a></td>\n",
      "<td scope=\"row\"> </td>\n",
      "<td scope=\"row\">29316024</td>\n",
      "</tr>\n",
      "</tbody></table>\n",
      "</div>\n",
      "</div>\n",
      "<div id=\"formDiv\">\n",
      "<div style=\"padding: 0px 0px 4px 0px; font-size: 12px; margin: 0px 2px 0px 5px; width: 100%; overflow:hidden\">\n",
      "<p>Data Files</p>\n",
      "<table class=\"tableFile\" summary=\"Data Files\">\n",
      "<tbody><tr>\n",
      "<th scope=\"col\" style=\"width: 5%;\"><acronym title=\"Sequence Number\">Seq</acronym></th>\n",
      "<th scope=\"col\" style=\"width: 40%;\">Description</th>\n",
      "<th scope=\"col\" style=\"width: 20%;\">Document</th>\n",
      "<th scope=\"col\" style=\"width: 10%;\">Type</th>\n",
      "<th scope=\"col\">Size</th>\n",
      "</tr>\n",
      "<tr>\n",
      "<td scope=\"row\">8</td>\n",
      "<td scope=\"row\">XBRL TAXONOMY EXTENSION DEFINITION LINKBASE DOCUMENT</td>\n",
      "<td scope=\"row\"><a href=\"/Archives/edgar/data/1318605/000095017022000796/tsla-20211231_def.xml\">tsla-20211231_def.xml</a></td>\n",
      "<td scope=\"row\">EX-101.DEF</td>\n",
      "<td scope=\"row\">613321</td>\n",
      "</tr>\n",
      "<tr class=\"blueRow\">\n",
      "<td scope=\"row\">9</td>\n",
      "<td scope=\"row\">XBRL TAXONOMY EXTENSION PRESENTATION LINKBASE DOCUMENT</td>\n",
      "<td scope=\"row\"><a href=\"/Archives/edgar/data/1318605/000095017022000796/tsla-20211231_pre.xml\">tsla-20211231_pre.xml</a></td>\n",
      "<td scope=\"row\">EX-101.PRE</td>\n",
      "<td scope=\"row\">911037</td>\n",
      "</tr>\n",
      "<tr>\n",
      "<td scope=\"row\">10</td>\n",
      "<td scope=\"row\">XBRL TAXONOMY EXTENSION LABEL LINKBASE DOCUMENT</td>\n",
      "<td scope=\"row\"><a href=\"/Archives/edgar/data/1318605/000095017022000796/tsla-20211231_lab.xml\">tsla-20211231_lab.xml</a></td>\n",
      "<td scope=\"row\">EX-101.LAB</td>\n",
      "<td scope=\"row\">1079036</td>\n",
      "</tr>\n",
      "<tr class=\"blueRow\">\n",
      "<td scope=\"row\">11</td>\n",
      "<td scope=\"row\">XBRL TAXONOMY EXTENSION SCHEMA DOCUMENT</td>\n",
      "<td scope=\"row\"><a href=\"/Archives/edgar/data/1318605/000095017022000796/tsla-20211231.xsd\">tsla-20211231.xsd</a></td>\n",
      "<td scope=\"row\">EX-101.SCH</td>\n",
      "<td scope=\"row\">149722</td>\n",
      "</tr>\n",
      "<tr>\n",
      "<td scope=\"row\">12</td>\n",
      "<td scope=\"row\">XBRL TAXONOMY EXTENSION CALCULATION LINKBASE DOCUMENT</td>\n",
      "<td scope=\"row\"><a href=\"/Archives/edgar/data/1318605/000095017022000796/tsla-20211231_cal.xml\">tsla-20211231_cal.xml</a></td>\n",
      "<td scope=\"row\">EX-101.CAL</td>\n",
      "<td scope=\"row\">131577</td>\n",
      "</tr>\n",
      "<tr class=\"blueRow\">\n",
      "<td scope=\"row\">128</td>\n",
      "<td scope=\"row\"><b>EXTRACTED</b> XBRL INSTANCE DOCUMENT</td>\n",
      "<td scope=\"row\"><a href=\"/Archives/edgar/data/1318605/000095017022000796/tsla-20211231_htm.xml\">tsla-20211231_htm.xml</a></td>\n",
      "<td scope=\"row\">XML</td>\n",
      "<td scope=\"row\">6763028</td>\n",
      "</tr>\n",
      "</tbody></table>\n",
      "</div>\n",
      "</div>\n",
      "<!-- END DOCUMENT DIV -->\n",
      "<!-- START FILER DIV -->\n",
      "<div id=\"filerDiv\">\n",
      "<div class=\"mailer\">Mailing Address\n",
      "      <span class=\"mailerAddress\">3500 DEER CREEK RD</span>\n",
      "<span class=\"mailerAddress\">\n",
      "PALO ALTO CA 94304      </span>\n",
      "</div>\n",
      "<div class=\"mailer\">Business Address\n",
      "      <span class=\"mailerAddress\">3500 DEER CREEK RD</span>\n",
      "<span class=\"mailerAddress\">\n",
      "PALO ALTO CA 94304      </span>\n",
      "<span class=\"mailerAddress\">650-681-5000</span>\n",
      "</div>\n",
      "<div class=\"companyInfo\">\n",
      "<span class=\"companyName\">Tesla, Inc. (Filer)\n",
      " <acronym title=\"Central Index Key\">CIK</acronym>: <a href=\"/cgi-bin/browse-edgar?CIK=0001318605&amp;action=getcompany\">0001318605 (see all company filings)</a></span>\n",
      "<p class=\"identInfo\"><acronym title=\"Internal Revenue Service Number\">IRS No.</acronym>: <strong>912197729</strong> | State of Incorp.: <strong>DE</strong> | Fiscal Year End: <strong>1231</strong><br/>Type: <strong>10-K</strong> | Act: <strong>34</strong> | File No.: <a href=\"/cgi-bin/browse-edgar?filenum=001-34756&amp;action=getcompany\"><strong>001-34756</strong></a> | Film No.: <strong>22595227</strong><br/><acronym title=\"Standard Industrial Code\">SIC</acronym>: <b><a href=\"/cgi-bin/browse-edgar?action=getcompany&amp;SIC=3711&amp;owner=include\">3711</a></b> Motor Vehicles &amp; Passenger Car Bodies<br/>Office of Manufacturing</p>\n",
      "</div>\n",
      "<div class=\"clear\"></div>\n",
      "</div>\n",
      "<!-- END FILER DIV -->\n",
      "</div>\n",
      "<script id=\"\" type=\"text/javascript\">var eventType=\"change\";document.addEventListener?document.addEventListener(eventType,google_tag_manager[\"GTM-TD3BKV\"].macro(11),!1):document.attachEvent&&document.attachEvent(\"on\"+eventType,google_tag_manager[\"GTM-TD3BKV\"].macro(12));</script><script id=\"_fed_an_ua_tag\" src=\"https://dap.digitalgov.gov/UniversalFederatedAnalyticsMin.js?agency=SEC&amp;pua=ua-33523145-2&amp;sdor=sec.gov\" type=\"text/javascript\"></script>\n",
      "<script id=\"\" type=\"text/javascript\">for(var e=document.getElementsByTagName(\"iframe\"),x=e.length;x--;)/youtube.com\\/embed/.test(e[x].src)&&-1===e[x].src.indexOf(\"enablejsapi\\x3d\")&&(e[x].src+=(-1===e[x].src.indexOf(\"?\")?\"?\":\"\\x26\")+\"enablejsapi\\x3d1\");var gtmYTListeners=[];\n",
      "function onYouTubeIframeAPIReady(){for(var a=document.getElementsByTagName(\"iframe\"),b=a.length;b--;)/youtube.com\\/embed/.test(a[b].src)&&(gtmYTListeners.push(new YT.Player(a[b],{events:{onStateChange:onPlayerStateChange,onError:onPlayerError}})),YT.gtmLastAction=\"p\")}\n",
      "function onPlayerStateChange(a){a.data==YT.PlayerState.PLAYING&&setTimeout(onPlayerPercent,1E3,a.target);var b=a.target.getVideoData();b=b.video_id+\":\"+b.title;a.data==YT.PlayerState.PLAYING&&\"p\"==YT.gtmLastAction&&(dataLayer.push({event:\"youtube\",action:\"play\",label:b}),YT.gtmLastAction=\"\");a.data==YT.PlayerState.PAUSED&&(dataLayer.push({event:\"youtube\",action:\"pause\",label:b}),YT.gtmLastAction=\"p\")}function onPlayerError(a){dataLayer.push({event:\"error\",action:\"GTM\",label:\"youtube:\"+a})}\n",
      "function onPlayerPercent(a){if(a.getPlayerState()==YT.PlayerState.PLAYING){var b=1.5>=a.getDuration()-a.getCurrentTime()?1:(Math.floor(a.getCurrentTime()/a.getDuration()*4)/4).toFixed(2);if(!a.lastP||b>a.lastP){var c=a.getVideoData();c=c.video_id+\":\"+c.title;a.lastP=b;dataLayer.push({event:\"youtube\",action:100*b+\"%\",label:c})}1!=a.lastP&&setTimeout(onPlayerPercent,1E3,a)}}window.onbeforeunload=function(a){if(a=a||window.event)a.returnValue=\"na\";return\"na\"};window.onbeforeunload=trackYTUnload;\n",
      "function trackYTUnload(){for(var a=0;a<gtmYTplayers.length;a++)if(1===gtmYTlisteners[a].getPlayerState()){var b=gtmYTlisteners[a].getVideoData();b=b.video_id+\":\"+b.title;dataLayer.push({event:\"youtube\",action:\"exit\",label:b})}}var j=document.createElement(\"script\"),f=document.getElementsByTagName(\"script\")[0];j.src=\"//www.youtube.com/iframe_api\";j.async=!0;f.parentNode.insertBefore(j,f);</script></body></html>\n"
     ]
    }
   ],
   "source": [
    "from selenium import webdriver\n",
    "# import chromedriver_binary  # Adds chromedriver binary to path\n",
    "import time\n",
    "\n",
    "driver = webdriver.Firefox()\n",
    "driver.get(\"https://www.sec.gov/ix?doc=/Archives/edgar/data/1318605/000095017022000796/tsla-20211231.htm\")\n",
    "\n",
    "time.sleep(5)# you can give it some time to load the js \n",
    "\n",
    "html = driver.page_source\n",
    "sp = BeautifulSoup(html)\n",
    "print(sp)\n",
    "# driver = webdriver.Firefox()\n",
    "# driver.get(url)           \n",
    "# html = driver.page_source\n",
    "# soup = bs.BeautifulSoup(html)"
   ]
  },
  {
   "cell_type": "code",
   "execution_count": 21,
   "id": "bc690d35-c493-4744-ae44-d017f7aa08c4",
   "metadata": {},
   "outputs": [
    {
     "name": "stdout",
     "output_type": "stream",
     "text": [
      "https://www.sec.gov/ix?doc=/Archives/edgar/data/1318605/000095017022000796/tsla-20211231.htm\n"
     ]
    }
   ],
   "source": [
    "report10k = []\n",
    "\n",
    "for a in soup10k.find_all('a', href=True):\n",
    "    url = a['href']\n",
    "    # print(url)\n",
    "    if (url.startswith('/ix')):\n",
    "        report10k.append(\"https://www.sec.gov\"+ url)\n",
    "        print(\"https://www.sec.gov\"+ url)"
   ]
  },
  {
   "cell_type": "code",
   "execution_count": 60,
   "id": "f955157b-57c2-47ac-87cb-569bca38a00f",
   "metadata": {},
   "outputs": [
    {
     "name": "stdout",
     "output_type": "stream",
     "text": [
      "<Response [200]>\n",
      "https://www.sec.gov/ix?doc=/Archives/edgar/data/1318605/000095017022000796/tsla-20211231.htm\n"
     ]
    }
   ],
   "source": [
    "# Find all of the text between paragraph tags and strip out the html\n",
    "response1 = requests.get(url = report10k[0], headers=header)\n",
    "\n",
    "soupText = BeautifulSoup(response1.text, 'html.parser')\n",
    "print(response1)\n",
    "print(response1.url)"
   ]
  },
  {
   "cell_type": "code",
   "execution_count": 61,
   "id": "c9714aac-7c68-4d6a-87dc-98d1f562d716",
   "metadata": {},
   "outputs": [],
   "source": [
    "text = \"\"\n",
    "for data in soupText.find_all('p'): \n",
    "    for d in data.find_all(text=True):\n",
    "        text += d.get_text()\n",
    "    # print(data.get_text()) "
   ]
  },
  {
   "cell_type": "code",
   "execution_count": 67,
   "id": "8676385b-a572-4599-b353-fc9858cf9680",
   "metadata": {},
   "outputs": [],
   "source": [
    "# soupText"
   ]
  },
  {
   "cell_type": "code",
   "execution_count": null,
   "id": "16e99813-1882-4a02-892d-e962a4aaebdc",
   "metadata": {},
   "outputs": [],
   "source": []
  },
  {
   "cell_type": "code",
   "execution_count": 62,
   "id": "94fcaa0c-b2c0-420a-882a-ed8c050742aa",
   "metadata": {},
   "outputs": [
    {
     "data": {
      "text/plain": [
       "'<!DOCTYPE html>\\r\\n<html lang=\"en\">\\r\\n\\r\\n<head>\\r\\n<!-- Required meta tags -->\\r\\n<meta charset=\"utf-8\">\\r\\n<meta name=\"viewport\"\\r\\n\\tcontent=\"width=device-width, initial-scale=1, shrink-to-fit=no\">\\r\\n<!-- Check Browser, as well as Hostname and set JS, CSS, Favicon path based on that-->\\r\\n\\r\\n<!-- Favicon --><!-- cpcommit -->\\r\\n<!-- <link rel=\"shortcut icon\" type=\"image/x-icon\" href=\"https://www.sec.gov/favicon.ico\"> -->\\r\\n\\r\\n<script>\\r\\n\\t(function() {\\r\\n\\t\\tvar hostName = window.location.hostname;\\r\\n\\r\\n\\t\\tvar browserAccepted = function() {\\r\\n\\r\\n\\t\\t\\tvar ua = window.navigator.userAgent;\\r\\n\\t\\t\\tvar trident = ua.indexOf(\\'Trident/\\'); //IE 11;\\r\\n\\t\\t\\tvar msie = ua.indexOf(\\'MSIE \\'); // IE 10 or older\\r\\n\\t\\t\\tif (msie > 0) {\\r\\n\\t\\t\\t\\treturn false;\\r\\n\\t\\t\\t}\\r\\n\\t\\t\\treturn true;\\r\\n\\t\\t}();\\r\\n\\r\\n\\t\\tvar pathToLibs = \\'./js\\';\\r\\n\\t\\tvar pathToError = \\'/\\';\\r\\n\\t\\tif (hostName === \\'www-test.sec.gov\\' || hostName === \\'www.sec.gov\\') {\\r\\n\\t\\t\\tpathToLibs = \\'./ixviewer/js\\';\\r\\n\\t\\t\\tpathToError = \\'/ixviewer/\\';\\r\\n\\t\\t}\\r\\n\\t\\tif (browserAccepted) {\\r\\n\\r\\n\\t\\t\\t// css\\r\\n\\t\\t\\tdocument\\r\\n\\t\\t\\t\\t\\t.write(\\'<link rel=\"stylesheet\" href=\\' + pathToLibs + \\'/css/custom-bootstrap.css>\\');\\r\\n\\t\\t\\tdocument\\r\\n\\t\\t\\t\\t\\t.write(\\'<link rel=\"stylesheet\" href=\\' + pathToLibs + \\'/lib/fontawesome/css/all.min.css>\\');\\r\\n\\t\\t\\tdocument\\r\\n\\t\\t\\t\\t\\t.write(\\'<link rel=\"stylesheet\" href=\\' + pathToLibs + \\'/css/app.css>\\');\\r\\n\\r\\n\\t\\t\\t// js\\r\\n\\t\\t\\tdocument\\r\\n\\t\\t\\t\\t\\t.write(\\'<script type=\"text/javascript\" src=\"\\' + pathToLibs + \\'/lib/jquery-3.3.1.slim.min.js\"><\\\\/script>\\');\\r\\n\\t\\t\\tdocument\\r\\n\\t\\t\\t\\t\\t.write(\\'<script type=\"text/javascript\" src=\"\\' + pathToLibs + \\'/lib/popper.min.js\"><\\\\/script>\\');\\r\\n\\t\\t\\tdocument\\r\\n\\t\\t\\t\\t\\t.write(\\'<script type=\"text/javascript\" src=\"\\' + pathToLibs + \\'/lib/bootstrap.min.js\"><\\\\/script>\\');\\r\\n\\t\\t\\tdocument\\r\\n\\t\\t\\t\\t\\t.write(\\'<script type=\"text/javascript\" src=\"\\' + pathToLibs + \\'/lib/moment.js\"><\\\\/script>\\');\\r\\n\\t\\t\\tdocument\\r\\n\\t\\t\\t\\t\\t.write(\\'<script type=\"text/javascript\" src=\"\\' + pathToLibs + \\'/lib/vanilla-picker.min.js\"><\\\\/script>\\');\\r\\n\\t\\t\\tdocument\\r\\n\\t\\t\\t\\t\\t.write(\\'<script type=\"text/javascript\" src=\"\\' + pathToLibs + \\'/lib/he.js\"><\\\\/script>\\');\\r\\n\\r\\n\\t\\t\\tvar date = new Date();\\r\\n\\t\\t\\tvar todaysDate = date.getDate() + \\'-\\' + (date.getMonth() + 1) + \\'-\\'\\r\\n\\t\\t\\t\\t\\t+ date.getFullYear();\\r\\n\\t\\t\\tdocument.write(\\'<script type = \"text/javascript\" defer=true src=\"\\'\\r\\n\\t\\t\\t\\t\\t+ pathToLibs + \\'/production.min.js?d=\\' + todaysDate\\r\\n\\t\\t\\t\\t\\t+ \\'\"><\\\\/script>\\');\\r\\n\\t\\t} else {\\r\\n\\t\\t\\t// user us on a browser that we do not support\\r\\n\\t\\t\\tvar currentUrl = window.location.href.split(\\'?\\')[0];\\r\\n\\t\\t\\tvar browserError = currentUrl.substring(0, currentUrl\\r\\n\\t\\t\\t\\t\\t.lastIndexOf(\\'/\\'));\\r\\n\\t\\t\\tbrowserError += pathToError + \\'browser-error.html?url=\\'\\r\\n\\t\\t\\t\\t\\t+ encodeURIComponent(window.location.href);\\r\\n\\t\\t\\twindow.location.href = browserError;\\r\\n\\t\\t}\\r\\n\\t})();\\r\\n</script>\\r\\n<title>Inline XBRL Viewer</title>\\r\\n</head>\\r\\n\\r\\n<body>\\r\\n\\t<noscript>This application relies heavily on JavaScript, you\\r\\n\\t\\twill need to allow JavaScript to use this application.</noscript>\\r\\n\\t<nav\\r\\n\\t\\tclass=\"reboot navbar navbar-expand-md navbar-dark navbar-height bg-sec fixed-top w-100 pl-0\">\\r\\n\\t\\t<button class=\"reboot navbar-toggler ml-1\" type=\"button\" data-test=\"\"\\r\\n\\t\\t\\tdata-toggle=\"collapse\" data-target=\"#main-navbar\"\\r\\n\\t\\t\\taria-controls=\"main-navbar\" aria-expanded=\"false\"\\r\\n\\t\\t\\taria-label=\"Toggle navigation\">Inline Viewer</button>\\r\\n\\t\\t<div\\r\\n\\t\\t\\tclass=\"reboot navbar-height collapse navbar-collapse bg-sec w-100\"\\r\\n\\t\\t\\tdata-test=\"main-navbar\" id=\"main-navbar\">\\r\\n\\t\\t\\t<ul class=\"reboot navbar-nav mr-auto bg-inherit\">\\r\\n\\t\\t\\t\\t<li class=\"reboot nav-item dropdown my-auto ml-1\"><a\\r\\n\\t\\t\\t\\t\\tid=\"menu-dropdown-link\" data-test=\"menu-dropdown-link\"\\r\\n\\t\\t\\t\\t\\tclass=\"reboot nav-link dropdown-toggle click disabled\"\\r\\n\\t\\t\\t\\t\\trole=\"button\" data-toggle=\"dropdown\"\\r\\n\\t\\t\\t\\t\\taria-haspopup=\"true\" aria-expanded=\"false\" tabindex=\"1\"\\r\\n\\t\\t\\t\\t\\taccesskey=\"1\"> <i class=\"reboot nav-loading fas fa-bars\"\\r\\n\\t\\t\\t\\t\\t\\ttitle=\"Menu\"></i> <span class=\"reboot d-md-none d-lg-inline\">Menu</span>\\r\\n\\t\\t\\t\\t\\t\\t<span class=\"reboot sr-only sr-only-focusable\">Menu</span>\\r\\n\\t\\t\\t\\t</a>\\r\\n\\t\\t\\t\\t\\t<div class=\"reboot dropdown-menu\">\\r\\n\\t\\t\\t\\t\\t\\t<a id=\"menu-dropdown-information\"\\r\\n\\t\\t\\t\\t\\t\\t\\tdata-test=\"menu-dropdown-information\"\\r\\n\\t\\t\\t\\t\\t\\t\\tclass=\"reboot dropdown-item click text-body\"\\r\\n\\t\\t\\t\\t\\t\\t\\ttabindex=\"1\">Information</a> <a id=\"form-information-instance\"\\r\\n\\t\\t\\t\\t\\t\\t\\tdata-test=\"form-information-instance\"\\r\\n\\t\\t\\t\\t\\t\\t\\tclass=\"reboot dropdown-item click text-body\" target=\"_blank\"\\r\\n\\t\\t\\t\\t\\t\\t\\ttabindex=\"1\">Save XBRL Instance</a> <a id=\"form-information-zip\"\\r\\n\\t\\t\\t\\t\\t\\t\\tdata-test=\"form-information-zip\"\\r\\n\\t\\t\\t\\t\\t\\t\\tclass=\"reboot dropdown-item click text-body\" target=\"_blank\"\\r\\n\\t\\t\\t\\t\\t\\t\\ttabindex=\"1\">Save XBRL Zip File</a> <a id=\"form-information-html\"\\r\\n\\t\\t\\t\\t\\t\\t\\tdata-test=\"form-information-html\"\\r\\n\\t\\t\\t\\t\\t\\t\\tclass=\"reboot dropdown-item click text-body\" target=\"_blank\"\\r\\n\\t\\t\\t\\t\\t\\t\\ttabindex=\"1\">Open as HTML</a> <a id=\"menu-dropdown-settings\"\\r\\n\\t\\t\\t\\t\\t\\t\\tdata-test=\"menu-dropdown-settings\"\\r\\n\\t\\t\\t\\t\\t\\t\\tclass=\"reboot dropdown-item click text-body\"\\r\\n\\t\\t\\t\\t\\t\\t\\ttabindex=\"1\">Settings</a>\\r\\n\\t\\t\\t\\t\\t\\t<a id=\"form-information-help\" data-test=\"form-information-help\"\\r\\n\\t\\t\\t\\t\\t\\t\\tclass=\"reboot dropdown-item click text-body\"\\r\\n\\t\\t\\t\\t\\t\\t\\ttabindex=\"1\">Help</a> <span\\r\\n\\t\\t\\t\\t\\t\\t\\tid=\"form-information-version\"\\r\\n\\t\\t\\t\\t\\t\\t\\tclass=\"reboot dropdown-item-text text-body\" tabindex=\"1\"></span>\\r\\n\\t\\t\\t\\t\\t</div></li>\\r\\n\\t\\t\\t\\t<li class=\"reboot nav-item my-auto ml-1\"><a\\r\\n\\t\\t\\t\\t\\tid=\"sections-dropdown-link\" data-test=\"sections-dropdown-link\"\\r\\n\\t\\t\\t\\t\\tclass=\"reboot nav-link click disabled meta-required\"\\r\\n\\t\\t\\t\\t\\ttabindex=\"2\" accesskey=\"2\">\\r\\n\\t\\t\\t\\t\\t\\t<i class=\"reboot fas fa-layer-group\" title=\"Sections\"></i> <span\\r\\n\\t\\t\\t\\t\\t\\tclass=\"reboot d-md-none d-lg-inline\">Sections</span> <span\\r\\n\\t\\t\\t\\t\\t\\tclass=\"reboot sr-only sr-only-focusable\">Sections</span>\\r\\n\\t\\t\\t\\t</a></li>\\r\\n\\t\\t\\t\\t<li class=\"reboot nav-item my-auto ml-1 mr-1\">\\r\\n\\t\\t\\t\\t\\t<form id=\"global-search-form\" data-test=\"global-search-form\"\\r\\n\\t\\t\\t\\t\\t\\tclass=\"reboot my-2 my-lg-0 input-group disabled\" novalidate>\\r\\n\\t\\t\\t\\t\\t\\t<div class=\"reboot input-group-prepend\">\\r\\n\\t\\t\\t\\t\\t\\t\\t<button data-name=\"global-search-options\"\\r\\n\\t\\t\\t\\t\\t\\t\\t\\tclass=\"reboot dropdown btn btn-outline-light disabled\"\\r\\n\\t\\t\\t\\t\\t\\t\\t\\ttype=\"button\" data-toggle=\"dropdown\" tabindex=\"3\">\\r\\n\\t\\t\\t\\t\\t\\t\\t\\t<i class=\"reboot nav-loading fas fa-cog\"\\r\\n\\t\\t\\t\\t\\t\\t\\t\\t\\ttitle=\"Additional Search Options\"> <span\\r\\n\\t\\t\\t\\t\\t\\t\\t\\t\\tclass=\"reboot sr-only sr-only-focusable\">Additional\\r\\n\\t\\t\\t\\t\\t\\t\\t\\t\\t\\tSearch Options</span>\\r\\n\\t\\t\\t\\t\\t\\t\\t\\t</i>\\r\\n\\t\\t\\t\\t\\t\\t\\t</button>\\r\\n\\t\\t\\t\\t\\t\\t\\t<div class=\"reboot dropdown-menu px-2\">\\r\\n\\t\\t\\t\\t\\t\\t\\t\\t<div class=\"reboot form-check\">\\r\\n\\t\\t\\t\\t\\t\\t\\t\\t\\t<input disabled class=\"reboot form-check-input meta-required\"\\r\\n\\t\\t\\t\\t\\t\\t\\t\\t\\t\\ttype=\"checkbox\" name=\"search-options\" value=\"1\" checked\\r\\n\\t\\t\\t\\t\\t\\t\\t\\t\\t\\ttabindex=\"3\"> <label\\r\\n\\t\\t\\t\\t\\t\\t\\t\\t\\t\\tclass=\"reboot form-check-label mb-0\"> <span\\r\\n\\t\\t\\t\\t\\t\\t\\t\\t\\t\\tclass=\"reboot\">Include Fact Name</span>\\r\\n\\t\\t\\t\\t\\t\\t\\t\\t\\t</label>\\r\\n\\t\\t\\t\\t\\t\\t\\t\\t</div>\\r\\n\\t\\t\\t\\t\\t\\t\\t\\t<div class=\"reboot form-check\">\\r\\n\\t\\t\\t\\t\\t\\t\\t\\t\\t<input disabled class=\"reboot form-check-input meta-required\"\\r\\n\\t\\t\\t\\t\\t\\t\\t\\t\\t\\ttype=\"checkbox\" name=\"search-options\" value=\"2\" checked\\r\\n\\t\\t\\t\\t\\t\\t\\t\\t\\t\\ttabindex=\"3\"> <label\\r\\n\\t\\t\\t\\t\\t\\t\\t\\t\\t\\tclass=\"reboot form-check-label mb-0\"> <span\\r\\n\\t\\t\\t\\t\\t\\t\\t\\t\\t\\tclass=\"reboot\">Include Fact Content</span>\\r\\n\\t\\t\\t\\t\\t\\t\\t\\t\\t</label>\\r\\n\\t\\t\\t\\t\\t\\t\\t\\t</div>\\r\\n\\t\\t\\t\\t\\t\\t\\t\\t<div class=\"reboot form-check\">\\r\\n\\t\\t\\t\\t\\t\\t\\t\\t\\t<input disabled class=\"reboot form-check-input meta-required\"\\r\\n\\t\\t\\t\\t\\t\\t\\t\\t\\t\\ttype=\"checkbox\" name=\"search-options\" value=\"3\" checked\\r\\n\\t\\t\\t\\t\\t\\t\\t\\t\\t\\ttabindex=\"3\"> <label\\r\\n\\t\\t\\t\\t\\t\\t\\t\\t\\t\\tclass=\"reboot form-check-label mb-0\"> <span\\r\\n\\t\\t\\t\\t\\t\\t\\t\\t\\t\\tclass=\"reboot\">Include Labels</span>\\r\\n\\t\\t\\t\\t\\t\\t\\t\\t\\t</label>\\r\\n\\t\\t\\t\\t\\t\\t\\t\\t</div>\\r\\n\\t\\t\\t\\t\\t\\t\\t\\t<div class=\"reboot form-check\">\\r\\n\\t\\t\\t\\t\\t\\t\\t\\t\\t<input disabled class=\"reboot form-check-input meta-required\"\\r\\n\\t\\t\\t\\t\\t\\t\\t\\t\\t\\ttype=\"checkbox\" name=\"search-options\" value=\"4\" tabindex=\"3\">\\r\\n\\t\\t\\t\\t\\t\\t\\t\\t\\t<label class=\"reboot form-check-label mb-0\"> <span\\r\\n\\t\\t\\t\\t\\t\\t\\t\\t\\t\\tclass=\"reboot\">Include Definitions</span>\\r\\n\\t\\t\\t\\t\\t\\t\\t\\t\\t</label>\\r\\n\\t\\t\\t\\t\\t\\t\\t\\t</div>\\r\\n\\t\\t\\t\\t\\t\\t\\t\\t<div class=\"reboot form-check\">\\r\\n\\t\\t\\t\\t\\t\\t\\t\\t\\t<input disabled class=\"reboot form-check-input meta-required\"\\r\\n\\t\\t\\t\\t\\t\\t\\t\\t\\t\\ttype=\"checkbox\" name=\"search-options\" value=\"5\" tabindex=\"3\">\\r\\n\\t\\t\\t\\t\\t\\t\\t\\t\\t<label class=\"reboot form-check-label mb-0\"> <span\\r\\n\\t\\t\\t\\t\\t\\t\\t\\t\\t\\tclass=\"reboot\">Include Dimensions</span>\\r\\n\\t\\t\\t\\t\\t\\t\\t\\t\\t</label>\\r\\n\\t\\t\\t\\t\\t\\t\\t\\t</div>\\r\\n\\t\\t\\t\\t\\t\\t\\t\\t<div class=\"reboot bg-light border p-1\">\\r\\n\\t\\t\\t\\t\\t\\t\\t\\t\\t<span class=\"reboot dropdown-item-text\">Reference\\r\\n\\t\\t\\t\\t\\t\\t\\t\\t\\t\\tOptions</span>\\r\\n\\t\\t\\t\\t\\t\\t\\t\\t\\t<div class=\"reboot form-check\">\\r\\n\\t\\t\\t\\t\\t\\t\\t\\t\\t\\t<input disabled class=\"reboot form-check-input meta-required\"\\r\\n\\t\\t\\t\\t\\t\\t\\t\\t\\t\\t\\ttype=\"checkbox\" name=\"search-options\" value=\"6\" tabindex=\"3\">\\r\\n\\t\\t\\t\\t\\t\\t\\t\\t\\t\\t<label class=\"reboot form-check-label mb-0\"> <span\\r\\n\\t\\t\\t\\t\\t\\t\\t\\t\\t\\t\\tclass=\"reboot\">Include Topic</span>\\r\\n\\t\\t\\t\\t\\t\\t\\t\\t\\t\\t</label>\\r\\n\\t\\t\\t\\t\\t\\t\\t\\t\\t</div>\\r\\n\\t\\t\\t\\t\\t\\t\\t\\t\\t<div class=\"reboot form-check\">\\r\\n\\t\\t\\t\\t\\t\\t\\t\\t\\t\\t<input disabled class=\"reboot form-check-input meta-required\"\\r\\n\\t\\t\\t\\t\\t\\t\\t\\t\\t\\t\\ttype=\"checkbox\" name=\"search-options\" value=\"7\" tabindex=\"3\">\\r\\n\\t\\t\\t\\t\\t\\t\\t\\t\\t\\t<label class=\"reboot form-check-label mb-0\"> <span\\r\\n\\t\\t\\t\\t\\t\\t\\t\\t\\t\\t\\tclass=\"reboot\">Include Sub-Topic</span>\\r\\n\\t\\t\\t\\t\\t\\t\\t\\t\\t\\t</label>\\r\\n\\t\\t\\t\\t\\t\\t\\t\\t\\t</div>\\r\\n\\t\\t\\t\\t\\t\\t\\t\\t\\t<div class=\"reboot form-check\">\\r\\n\\t\\t\\t\\t\\t\\t\\t\\t\\t\\t<input disabled class=\"reboot form-check-input meta-required\"\\r\\n\\t\\t\\t\\t\\t\\t\\t\\t\\t\\t\\ttype=\"checkbox\" name=\"search-options\" value=\"8\" tabindex=\"3\">\\r\\n\\t\\t\\t\\t\\t\\t\\t\\t\\t\\t<label class=\"reboot form-check-label mb-0\"> <span\\r\\n\\t\\t\\t\\t\\t\\t\\t\\t\\t\\t\\tclass=\"reboot\">Include Paragraph</span>\\r\\n\\t\\t\\t\\t\\t\\t\\t\\t\\t\\t</label>\\r\\n\\t\\t\\t\\t\\t\\t\\t\\t\\t</div>\\r\\n\\t\\t\\t\\t\\t\\t\\t\\t\\t<div class=\"reboot form-check\">\\r\\n\\t\\t\\t\\t\\t\\t\\t\\t\\t\\t<input disabled class=\"reboot form-check-input meta-required\"\\r\\n\\t\\t\\t\\t\\t\\t\\t\\t\\t\\t\\ttype=\"checkbox\" name=\"search-options\" value=\"9\" tabindex=\"3\">\\r\\n\\t\\t\\t\\t\\t\\t\\t\\t\\t\\t<label class=\"reboot form-check-label mb-0\"> <span\\r\\n\\t\\t\\t\\t\\t\\t\\t\\t\\t\\t\\tclass=\"reboot\">Include Publisher</span>\\r\\n\\t\\t\\t\\t\\t\\t\\t\\t\\t\\t</label>\\r\\n\\t\\t\\t\\t\\t\\t\\t\\t\\t</div>\\r\\n\\t\\t\\t\\t\\t\\t\\t\\t\\t<div class=\"reboot form-check\">\\r\\n\\t\\t\\t\\t\\t\\t\\t\\t\\t\\t<input disabled class=\"reboot form-check-input meta-required\"\\r\\n\\t\\t\\t\\t\\t\\t\\t\\t\\t\\t\\ttype=\"checkbox\" name=\"search-options\" value=\"10\" tabindex=\"3\">\\r\\n\\t\\t\\t\\t\\t\\t\\t\\t\\t\\t<label class=\"reboot form-check-label mb-0\"> <span\\r\\n\\t\\t\\t\\t\\t\\t\\t\\t\\t\\t\\tclass=\"disabled\">Include Section</span>\\r\\n\\t\\t\\t\\t\\t\\t\\t\\t\\t\\t</label>\\r\\n\\t\\t\\t\\t\\t\\t\\t\\t\\t</div>\\r\\n\\t\\t\\t\\t\\t\\t\\t\\t</div>\\r\\n\\t\\t\\t\\t\\t\\t\\t\\t<div class=\"reboot form-check\">\\r\\n\\t\\t\\t\\t\\t\\t\\t\\t\\t<input class=\"reboot form-check-input\" type=\"checkbox\"\\r\\n\\t\\t\\t\\t\\t\\t\\t\\t\\t\\tname=\"search-options\" value=\"11\" tabindex=\"3\"> <label\\r\\n\\t\\t\\t\\t\\t\\t\\t\\t\\t\\tclass=\"reboot form-check-label mb-0\"> <span\\r\\n\\t\\t\\t\\t\\t\\t\\t\\t\\t\\tclass=\"reboot\">Match Case</span>\\r\\n\\t\\t\\t\\t\\t\\t\\t\\t\\t</label>\\r\\n\\t\\t\\t\\t\\t\\t\\t\\t</div>\\r\\n\\t\\t\\t\\t\\t\\t\\t</div>\\r\\n\\t\\t\\t\\t\\t\\t</div>\\r\\n\\t\\t\\t\\t\\t\\t<input type=\"text\" class=\"reboot form-control disabled\"\\r\\n\\t\\t\\t\\t\\t\\t\\tid=\"global-search\" data-test=\"global-search\"\\r\\n\\t\\t\\t\\t\\t\\t\\tplaceholder=\"Search Facts\" disabled\\r\\n\\t\\t\\t\\t\\t\\t\\taria-label=\"Search all Facts and highlight them accordingly.\"\\r\\n\\t\\t\\t\\t\\t\\t\\ttabindex=\"4\">\\r\\n\\t\\t\\t\\t\\t\\t<div class=\"reboot input-group-append\">\\r\\n\\t\\t\\t\\t\\t\\t\\t<button id=\"search-btn-clear\" data-name=\"global-search-clear\"\\r\\n\\t\\t\\t\\t\\t\\t\\t\\tclass=\"reboot btn btn-outline-light disabled\" type=\"button\"\\r\\n\\t\\t\\t\\t\\t\\t\\t\\ttabindex=\"5\">\\r\\n\\t\\t\\t\\t\\t\\t\\t\\t<i class=\"reboot nav-loading fas fa-times-circle\"\\r\\n\\t\\t\\t\\t\\t\\t\\t\\t\\ttitle=\"Clear Search\"></i> <span\\r\\n\\t\\t\\t\\t\\t\\t\\t\\t\\tclass=\"reboot sr-only sr-only-focusable\">Clear Search</span>\\r\\n\\t\\t\\t\\t\\t\\t\\t</button>\\r\\n\\t\\t\\t\\t\\t\\t\\t<button class=\"reboot btn btn-outline-light disabled\"\\r\\n\\t\\t\\t\\t\\t\\t\\t\\ttype=\"submit\" tabindex=\"6\">\\r\\n\\t\\t\\t\\t\\t\\t\\t\\t<i class=\"reboot nav-loading fas fa-search\"\\r\\n\\t\\t\\t\\t\\t\\t\\t\\t\\ttitle=\"Submit Search\"></i> <span\\r\\n\\t\\t\\t\\t\\t\\t\\t\\t\\tclass=\"reboot sr-only sr-only-focusable\">Submit Search</span>\\r\\n\\t\\t\\t\\t\\t\\t\\t</button>\\r\\n\\t\\t\\t\\t\\t\\t</div>\\r\\n\\t\\t\\t\\t\\t</form>\\r\\n\\t\\t\\t\\t</li>\\r\\n\\t\\t\\t\\t<li class=\"reboot nav-item dropdown my-auto ml-1\"><a href=\"#\"\\r\\n\\t\\t\\t\\t\\tid=\"nav-filter-data\" data-test=\"nav-filter-data\"\\r\\n\\t\\t\\t\\t\\tclass=\"reboot nav-link dropdown-toggle disabled click\"\\r\\n\\t\\t\\t\\t\\trole=\"button\" data-toggle=\"dropdown\" aria-haspopup=\"true\"\\r\\n\\t\\t\\t\\t\\taria-expanded=\"false\" tabindex=\"7\" accesskey=\"3\"> <i\\r\\n\\t\\t\\t\\t\\t\\tclass=\"reboot nav-loading fas fa-list-alt\" title=\"Data\"></i> <span\\r\\n\\t\\t\\t\\t\\t\\tclass=\"reboot d-md-none d-lg-inline\">Data</span> <span\\r\\n\\t\\t\\t\\t\\t\\tclass=\"reboot sr-only sr-only-focusable\">Data</span>\\r\\n\\t\\t\\t\\t</a>\\r\\n\\t\\t\\t\\t\\t<div class=\"reboot dropdown-menu\">\\r\\n\\t\\t\\t\\t\\t\\t<form id=\"nav-filter-dropdown\" data-name=\"data-dropdown\"\\r\\n\\t\\t\\t\\t\\t\\t\\tclass=\"reboot px-2\">\\r\\n\\t\\t\\t\\t\\t\\t\\t<div class=\"reboot form-check\">\\r\\n\\t\\t\\t\\t\\t\\t\\t\\t<input class=\"reboot form-check-input\" type=\"radio\"\\r\\n\\t\\t\\t\\t\\t\\t\\t\\t\\tname=\"data-radios\" value=\"0\" checked tabindex=\"7\"> <label\\r\\n\\t\\t\\t\\t\\t\\t\\t\\t\\tclass=\"reboot form-check-label mb-0\">All</label>\\r\\n\\t\\t\\t\\t\\t\\t\\t</div>\\r\\n\\t\\t\\t\\t\\t\\t\\t<div class=\"reboot form-check\">\\r\\n\\t\\t\\t\\t\\t\\t\\t\\t<input class=\"reboot form-check-input\" type=\"radio\"\\r\\n\\t\\t\\t\\t\\t\\t\\t\\t\\tname=\"data-radios\" value=\"1\" tabindex=\"7\"> <label\\r\\n\\t\\t\\t\\t\\t\\t\\t\\t\\tclass=\"reboot form-check-label mb-0\"> <i\\r\\n\\t\\t\\t\\t\\t\\t\\t\\t\\ttitle=\"The first time choosing this will take a few moments.\"\\r\\n\\t\\t\\t\\t\\t\\t\\t\\t\\tclass=\"reboot far fa-clock d-none performance-concern\"></i> <span\\r\\n\\t\\t\\t\\t\\t\\t\\t\\t\\tclass=\"reboot\">Amounts Only</span>\\r\\n\\t\\t\\t\\t\\t\\t\\t\\t</label>\\r\\n\\t\\t\\t\\t\\t\\t\\t</div>\\r\\n\\t\\t\\t\\t\\t\\t\\t<div class=\"reboot form-check\">\\r\\n\\t\\t\\t\\t\\t\\t\\t\\t<input class=\"reboot form-check-input\" type=\"radio\"\\r\\n\\t\\t\\t\\t\\t\\t\\t\\t\\tname=\"data-radios\" value=\"2\" tabindex=\"7\"> <label\\r\\n\\t\\t\\t\\t\\t\\t\\t\\t\\tclass=\"reboot form-check-label mb-0\"> <i\\r\\n\\t\\t\\t\\t\\t\\t\\t\\t\\ttitle=\"The first time choosing this will take a few moments.\"\\r\\n\\t\\t\\t\\t\\t\\t\\t\\t\\tclass=\"reboot far fa-clock d-none performance-concern\"></i> <span\\r\\n\\t\\t\\t\\t\\t\\t\\t\\t\\tclass=\"reboot\">Text Only</span>\\r\\n\\t\\t\\t\\t\\t\\t\\t\\t</label>\\r\\n\\t\\t\\t\\t\\t\\t\\t</div>\\r\\n\\t\\t\\t\\t\\t\\t\\t<div class=\"reboot form-check\">\\r\\n\\t\\t\\t\\t\\t\\t\\t\\t<input class=\"reboot form-check-input meta-required\"\\r\\n\\t\\t\\t\\t\\t\\t\\t\\t\\ttype=\"radio\" name=\"data-radios\" value=\"3\" disabled tabindex=\"7\">\\r\\n\\t\\t\\t\\t\\t\\t\\t\\t<label class=\"reboot form-check-label mb-0\"> <i\\r\\n\\t\\t\\t\\t\\t\\t\\t\\t\\ttitle=\"The first time choosing this will take a few moments.\"\\r\\n\\t\\t\\t\\t\\t\\t\\t\\t\\tclass=\"reboot far fa-clock d-none performance-concern\"></i> <span\\r\\n\\t\\t\\t\\t\\t\\t\\t\\t\\tclass=\"reboot\">Calculations Only</span>\\r\\n\\t\\t\\t\\t\\t\\t\\t\\t</label>\\r\\n\\t\\t\\t\\t\\t\\t\\t</div>\\r\\n\\t\\t\\t\\t\\t\\t\\t<div class=\"reboot form-check\">\\r\\n\\t\\t\\t\\t\\t\\t\\t\\t<input class=\"reboot form-check-input\" type=\"radio\"\\r\\n\\t\\t\\t\\t\\t\\t\\t\\t\\tname=\"data-radios\" value=\"4\" tabindex=\"7\"> <label\\r\\n\\t\\t\\t\\t\\t\\t\\t\\t\\tclass=\"reboot form-check-label mb-0\"> <i\\r\\n\\t\\t\\t\\t\\t\\t\\t\\t\\ttitle=\"The first time choosing this will take a few moments.\"\\r\\n\\t\\t\\t\\t\\t\\t\\t\\t\\tclass=\"reboot far fa-clock d-none performance-concern\"></i> <span\\r\\n\\t\\t\\t\\t\\t\\t\\t\\t\\tclass=\"reboot\">Negatives Only</span>\\r\\n\\t\\t\\t\\t\\t\\t\\t\\t</label>\\r\\n\\t\\t\\t\\t\\t\\t\\t</div>\\r\\n\\t\\t\\t\\t\\t\\t\\t<div class=\"reboot form-check\">\\r\\n\\t\\t\\t\\t\\t\\t\\t\\t<input class=\"reboot form-check-input\" type=\"radio\"\\r\\n\\t\\t\\t\\t\\t\\t\\t\\t\\tname=\"data-radios\" value=\"5\" tabindex=\"7\"> <label\\r\\n\\t\\t\\t\\t\\t\\t\\t\\t\\tclass=\"reboot form-check-label mb-0\"> <i\\r\\n\\t\\t\\t\\t\\t\\t\\t\\t\\ttitle=\"The first time choosing this will take a few moments.\"\\r\\n\\t\\t\\t\\t\\t\\t\\t\\t\\tclass=\"reboot far fa-clock d-none performance-concern\"></i> <span\\r\\n\\t\\t\\t\\t\\t\\t\\t\\t\\tclass=\"reboot\">Additional Items Only</span>\\r\\n\\t\\t\\t\\t\\t\\t\\t\\t</label>\\r\\n\\t\\t\\t\\t\\t\\t\\t</div>\\r\\n\\t\\t\\t\\t\\t\\t</form>\\r\\n\\t\\t\\t\\t\\t</div></li>\\r\\n\\t\\t\\t\\t<li class=\"reboot nav-item dropdown my-auto ml-1\"><a href=\"#\"\\r\\n\\t\\t\\t\\t\\tid=\"nav-filter-tags\" data-test=\"nav-filter-tags\"\\r\\n\\t\\t\\t\\t\\tclass=\"reboot nav-link dropdown-toggle disabled click\"\\r\\n\\t\\t\\t\\t\\trole=\"button\" data-toggle=\"dropdown\" aria-haspopup=\"true\"\\r\\n\\t\\t\\t\\t\\taria-expanded=\"false\" tabindex=\"8\" accesskey=\"4\"> <i\\r\\n\\t\\t\\t\\t\\t\\tclass=\"reboot nav-loading fas fa-tags\" title=\"Tags\"></i> <span\\r\\n\\t\\t\\t\\t\\t\\tclass=\"reboot d-md-none d-lg-inline\">Tags</span> <span\\r\\n\\t\\t\\t\\t\\t\\tclass=\"reboot sr-only sr-only-focusable\">Tags</span>\\r\\n\\t\\t\\t\\t</a>\\r\\n\\t\\t\\t\\t\\t<div class=\"reboot dropdown-menu\">\\r\\n\\t\\t\\t\\t\\t\\t<form id=\"nav-filter-tags-dropdown\" data-name=\"tags-dropdown\"\\r\\n\\t\\t\\t\\t\\t\\t\\tclass=\"reboot px-2\">\\r\\n\\t\\t\\t\\t\\t\\t\\t<div class=\"reboot form-check\">\\r\\n\\t\\t\\t\\t\\t\\t\\t\\t<input class=\"reboot form-check-input\" type=\"radio\"\\r\\n\\t\\t\\t\\t\\t\\t\\t\\t\\tname=\"tags-radios\" value=\"0\"\\r\\n\\t\\t\\t\\t\\t\\t\\t\\t\\taria-label=\"Radio Button for All Tag Types\" checked\\r\\n\\t\\t\\t\\t\\t\\t\\t\\t\\ttabindex=\"8\"> <label\\r\\n\\t\\t\\t\\t\\t\\t\\t\\t\\tclass=\"reboot form-check-label mb-0\">All</label>\\r\\n\\t\\t\\t\\t\\t\\t\\t</div>\\r\\n\\t\\t\\t\\t\\t\\t\\t<div class=\"reboot form-check\">\\r\\n\\t\\t\\t\\t\\t\\t\\t\\t<input class=\"reboot form-check-input\" type=\"radio\"\\r\\n\\t\\t\\t\\t\\t\\t\\t\\t\\tname=\"tags-radios\" value=\"1\"\\r\\n\\t\\t\\t\\t\\t\\t\\t\\t\\taria-label=\"Radio Button for Standard Only Tag Types\"\\r\\n\\t\\t\\t\\t\\t\\t\\t\\t\\ttabindex=\"8\"> <label\\r\\n\\t\\t\\t\\t\\t\\t\\t\\t\\tclass=\"reboot form-check-label mb-0\"> <i\\r\\n\\t\\t\\t\\t\\t\\t\\t\\t\\ttitle=\"The first time choosing this will take a few moments.\"\\r\\n\\t\\t\\t\\t\\t\\t\\t\\t\\tclass=\"reboot far fa-clock d-none performance-concern\"></i> <span>Standard\\r\\n\\t\\t\\t\\t\\t\\t\\t\\t\\t\\tOnly</span>\\r\\n\\t\\t\\t\\t\\t\\t\\t\\t</label>\\r\\n\\t\\t\\t\\t\\t\\t\\t</div>\\r\\n\\t\\t\\t\\t\\t\\t\\t<div class=\"reboot form-check\">\\r\\n\\t\\t\\t\\t\\t\\t\\t\\t<input class=\"reboot form-check-input meta-required\"\\r\\n\\t\\t\\t\\t\\t\\t\\t\\t\\ttype=\"radio\" name=\"tags-radios\" value=\"2\" disabled\\r\\n\\t\\t\\t\\t\\t\\t\\t\\t\\taria-label=\"Radio Button for Custom Only Tag Types\"\\r\\n\\t\\t\\t\\t\\t\\t\\t\\t\\ttabindex=\"8\"> <label\\r\\n\\t\\t\\t\\t\\t\\t\\t\\t\\tclass=\"reboot form-check-label mb-0\"> <i\\r\\n\\t\\t\\t\\t\\t\\t\\t\\t\\ttitle=\"Facts whose tags are outside the realm of DEI, US-GAAP, etc.\"\\r\\n\\t\\t\\t\\t\\t\\t\\t\\t\\tclass=\"reboot far fa-question-circle\"></i> <i\\r\\n\\t\\t\\t\\t\\t\\t\\t\\t\\ttitle=\"The first time choosing this will take a few moments.\"\\r\\n\\t\\t\\t\\t\\t\\t\\t\\t\\tclass=\"reboot far fa-clock d-none performance-concern\"></i> <span\\r\\n\\t\\t\\t\\t\\t\\t\\t\\t\\tclass=\"reboot\">Custom Only</span>\\r\\n\\t\\t\\t\\t\\t\\t\\t\\t</label>\\r\\n\\t\\t\\t\\t\\t\\t\\t</div>\\r\\n\\t\\t\\t\\t\\t\\t</form>\\r\\n\\t\\t\\t\\t\\t</div></li>\\r\\n\\t\\t\\t\\t<li class=\"reboot nav-item dropdown my-auto ml-1\"><a href=\"#\"\\r\\n\\t\\t\\t\\t\\tid=\"nav-filter-more\" data-test=\"nav-filter-more\"\\r\\n\\t\\t\\t\\t\\tclass=\"reboot nav-link dropdown-toggle disabled click\"\\r\\n\\t\\t\\t\\t\\trole=\"button\" data-toggle=\"dropdown\" aria-haspopup=\"true\"\\r\\n\\t\\t\\t\\t\\taria-expanded=\"false\" tabindex=\"9\" accesskey=\"5\"> <i\\r\\n\\t\\t\\t\\t\\t\\tid=\"loading-more-filters\" class=\"reboot nav-loading fas fa-filter\"\\r\\n\\t\\t\\t\\t\\t\\ttitle=\"More Filters\"></i> <span\\r\\n\\t\\t\\t\\t\\t\\tclass=\"reboot d-md-none d-lg-inline\">More Filters</span> <span\\r\\n\\t\\t\\t\\t\\t\\tclass=\"reboot sr-only sr-only-focusable\">More Filters</span> <span\\r\\n\\t\\t\\t\\t\\t\\ttitle=\"Total active filters.\" class=\"reboot badge badge-warning\"></span>\\r\\n\\t\\t\\t\\t</a>\\r\\n\\t\\t\\t\\t\\t<div class=\"reboot dropdown-menu dropdown-menu-width\">\\r\\n\\t\\t\\t\\t\\t\\t<label\\r\\n\\t\\t\\t\\t\\t\\t\\tclass=\"reboot dropdown-item-text d-none performance-concern\">\\r\\n\\t\\t\\t\\t\\t\\t\\tSelecting any of the below will take a few moments.</label>\\r\\n\\t\\t\\t\\t\\t\\t<div class=\"reboot accordion\" id=\"more-filters-accordion\">\\r\\n\\t\\t\\t\\t\\t\\t\\t<form class=\"reboot\" data-test=\"more-filters-form\">\\r\\n\\t\\t\\t\\t\\t\\t\\t\\t<div class=\"reboot mx-1\">\\r\\n\\t\\t\\t\\t\\t\\t\\t\\t\\t<div class=\"reboot px-0 py-0\">\\r\\n\\t\\t\\t\\t\\t\\t\\t\\t\\t\\t<a href=\"#\" data-test=\"Period\"\\r\\n\\t\\t\\t\\t\\t\\t\\t\\t\\t\\t\\tdata-target=\"#user-filters-periods\" data-toggle=\"collapse\"\\r\\n\\t\\t\\t\\t\\t\\t\\t\\t\\t\\t\\tclass=\"reboot d-flex justify-content-between align-items-center w-100 click text-primary\"\\r\\n\\t\\t\\t\\t\\t\\t\\t\\t\\t\\t\\ttabindex=\"9\"> <span class=\"reboot\">Periods</span> <span\\r\\n\\t\\t\\t\\t\\t\\t\\t\\t\\t\\t\\tdata-test=\"Period-count\" id=\"filters-periods-count\"\\r\\n\\t\\t\\t\\t\\t\\t\\t\\t\\t\\t\\tclass=\"reboot badge badge-secondary\"> <i\\r\\n\\t\\t\\t\\t\\t\\t\\t\\t\\t\\t\\t\\tclass=\"reboot fas fa-spinner fa-spin\"></i>\\r\\n\\t\\t\\t\\t\\t\\t\\t\\t\\t\\t</span>\\r\\n\\t\\t\\t\\t\\t\\t\\t\\t\\t\\t</a>\\r\\n\\t\\t\\t\\t\\t\\t\\t\\t\\t</div>\\r\\n\\t\\t\\t\\t\\t\\t\\t\\t\\t<div id=\"user-filters-periods\"\\r\\n\\t\\t\\t\\t\\t\\t\\t\\t\\t\\tclass=\"reboot collapse height-200 overflow-y-auto\"\\r\\n\\t\\t\\t\\t\\t\\t\\t\\t\\t\\tdata-parent=\"#more-filters-accordion\">\\r\\n\\t\\t\\t\\t\\t\\t\\t\\t\\t\\t<!-- Below is populated dynamically VIA JS -->\\r\\n\\t\\t\\t\\t\\t\\t\\t\\t\\t\\t<div class=\"reboot list-group list-group-flush\"></div>\\r\\n\\t\\t\\t\\t\\t\\t\\t\\t\\t</div>\\r\\n\\t\\t\\t\\t\\t\\t\\t\\t</div>\\r\\n\\t\\t\\t\\t\\t\\t\\t</form>\\r\\n\\t\\t\\t\\t\\t\\t\\t<form>\\r\\n\\t\\t\\t\\t\\t\\t\\t\\t<div class=\"reboot mx-1\">\\r\\n\\t\\t\\t\\t\\t\\t\\t\\t\\t<div class=\"reboot px-0 py-0\">\\r\\n\\t\\t\\t\\t\\t\\t\\t\\t\\t\\t<a href=\"#\" data-test=\"Measures\"\\r\\n\\t\\t\\t\\t\\t\\t\\t\\t\\t\\t\\tdata-target=\"#user-filters-measures\" data-toggle=\"collapse\"\\r\\n\\t\\t\\t\\t\\t\\t\\t\\t\\t\\t\\tclass=\"reboot d-flex justify-content-between align-items-center w-100 click text-primary\"\\r\\n\\t\\t\\t\\t\\t\\t\\t\\t\\t\\t\\ttabindex=\"9\"> <span class=\"reboot\">Measures</span> <span\\r\\n\\t\\t\\t\\t\\t\\t\\t\\t\\t\\t\\tdata-test=\"Measures-count\" id=\"filters-measures-count\"\\r\\n\\t\\t\\t\\t\\t\\t\\t\\t\\t\\t\\tclass=\"reboot badge badge-secondary\"> <i\\r\\n\\t\\t\\t\\t\\t\\t\\t\\t\\t\\t\\t\\tclass=\"reboot fas fa-spinner fa-spin\"></i>\\r\\n\\t\\t\\t\\t\\t\\t\\t\\t\\t\\t</span>\\r\\n\\t\\t\\t\\t\\t\\t\\t\\t\\t\\t</a>\\r\\n\\t\\t\\t\\t\\t\\t\\t\\t\\t</div>\\r\\n\\t\\t\\t\\t\\t\\t\\t\\t\\t<div id=\"user-filters-measures\"\\r\\n\\t\\t\\t\\t\\t\\t\\t\\t\\t\\tclass=\"reboot collapse height-200 overflow-y-auto\"\\r\\n\\t\\t\\t\\t\\t\\t\\t\\t\\t\\tdata-parent=\"#more-filters-accordion\">\\r\\n\\t\\t\\t\\t\\t\\t\\t\\t\\t\\t<!-- Below is populated dynamically VIA JS -->\\r\\n\\t\\t\\t\\t\\t\\t\\t\\t\\t\\t<div class=\"reboot list-group list-group-flush\"></div>\\r\\n\\t\\t\\t\\t\\t\\t\\t\\t\\t</div>\\r\\n\\t\\t\\t\\t\\t\\t\\t\\t</div>\\r\\n\\t\\t\\t\\t\\t\\t\\t</form>\\r\\n\\t\\t\\t\\t\\t\\t\\t<form>\\r\\n\\t\\t\\t\\t\\t\\t\\t\\t<div class=\"reboot mx-1\">\\r\\n\\t\\t\\t\\t\\t\\t\\t\\t\\t<div class=\"reboot  px-0 py-0\">\\r\\n\\t\\t\\t\\t\\t\\t\\t\\t\\t\\t<a href=\"#\" data-test=\"Axis\" data-target=\"#user-filters-axis\"\\r\\n\\t\\t\\t\\t\\t\\t\\t\\t\\t\\t\\tdata-toggle=\"collapse\"\\r\\n\\t\\t\\t\\t\\t\\t\\t\\t\\t\\t\\tclass=\"reboot d-flex justify-content-between align-items-center w-100 click text-primary\"\\r\\n\\t\\t\\t\\t\\t\\t\\t\\t\\t\\t\\ttabindex=\"9\"> <span>Axis</span> <span\\r\\n\\t\\t\\t\\t\\t\\t\\t\\t\\t\\t\\tdata-test=\"Axis-count\" id=\"filters-axis-count\"\\r\\n\\t\\t\\t\\t\\t\\t\\t\\t\\t\\t\\tclass=\"reboot badge badge-secondary\"> <i\\r\\n\\t\\t\\t\\t\\t\\t\\t\\t\\t\\t\\t\\tclass=\"fas fa-spinner fa-spin\"></i>\\r\\n\\t\\t\\t\\t\\t\\t\\t\\t\\t\\t</span>\\r\\n\\t\\t\\t\\t\\t\\t\\t\\t\\t\\t</a>\\r\\n\\t\\t\\t\\t\\t\\t\\t\\t\\t</div>\\r\\n\\t\\t\\t\\t\\t\\t\\t\\t\\t<div id=\"user-filters-axis\"\\r\\n\\t\\t\\t\\t\\t\\t\\t\\t\\t\\tclass=\"reboot collapse height-200 overflow-y-auto\"\\r\\n\\t\\t\\t\\t\\t\\t\\t\\t\\t\\tdata-parent=\"#more-filters-accordion\">\\r\\n\\t\\t\\t\\t\\t\\t\\t\\t\\t\\t<!-- Below is populated dynamically VIA JS -->\\r\\n\\t\\t\\t\\t\\t\\t\\t\\t\\t\\t<div class=\"reboot list-group list-group-flush\"></div>\\r\\n\\t\\t\\t\\t\\t\\t\\t\\t\\t</div>\\r\\n\\t\\t\\t\\t\\t\\t\\t\\t</div>\\r\\n\\t\\t\\t\\t\\t\\t\\t</form>\\r\\n\\t\\t\\t\\t\\t\\t\\t<form>\\r\\n\\t\\t\\t\\t\\t\\t\\t\\t<div class=\"reboot mx-1\">\\r\\n\\t\\t\\t\\t\\t\\t\\t\\t\\t<div class=\"reboot px-0 py-0\">\\r\\n\\t\\t\\t\\t\\t\\t\\t\\t\\t\\t<a href=\"#\" data-test=\"Members\"\\r\\n\\t\\t\\t\\t\\t\\t\\t\\t\\t\\t\\tdata-target=\"#user-filters-members\" data-toggle=\"collapse\"\\r\\n\\t\\t\\t\\t\\t\\t\\t\\t\\t\\t\\tclass=\"reboot d-flex justify-content-between align-items-center w-100 click text-primary\"\\r\\n\\t\\t\\t\\t\\t\\t\\t\\t\\t\\t\\ttabindex=\"9\"> <span class=\"reboot \">Members</span> <span\\r\\n\\t\\t\\t\\t\\t\\t\\t\\t\\t\\t\\tdata-test=\"Members-count\" id=\"filters-members-count\"\\r\\n\\t\\t\\t\\t\\t\\t\\t\\t\\t\\t\\tclass=\"reboot badge badge-secondary\"> <i\\r\\n\\t\\t\\t\\t\\t\\t\\t\\t\\t\\t\\t\\tclass=\"reboot fas fa-spinner fa-spin\"></i>\\r\\n\\t\\t\\t\\t\\t\\t\\t\\t\\t\\t</span>\\r\\n\\t\\t\\t\\t\\t\\t\\t\\t\\t\\t</a>\\r\\n\\t\\t\\t\\t\\t\\t\\t\\t\\t</div>\\r\\n\\t\\t\\t\\t\\t\\t\\t\\t\\t<div id=\"user-filters-members\"\\r\\n\\t\\t\\t\\t\\t\\t\\t\\t\\t\\tclass=\"reboot collapse height-200 overflow-y-auto\"\\r\\n\\t\\t\\t\\t\\t\\t\\t\\t\\t\\tdata-parent=\"#more-filters-accordion\">\\r\\n\\t\\t\\t\\t\\t\\t\\t\\t\\t\\t<!-- Below is populated dynamically VIA JS -->\\r\\n\\t\\t\\t\\t\\t\\t\\t\\t\\t\\t<div class=\"reboot list-group list-group-flush\"></div>\\r\\n\\t\\t\\t\\t\\t\\t\\t\\t\\t</div>\\r\\n\\t\\t\\t\\t\\t\\t\\t\\t</div>\\r\\n\\t\\t\\t\\t\\t\\t\\t</form>\\r\\n\\t\\t\\t\\t\\t\\t\\t<form>\\r\\n\\t\\t\\t\\t\\t\\t\\t\\t<div class=\"reboot mx-1\">\\r\\n\\t\\t\\t\\t\\t\\t\\t\\t\\t<div class=\"reboot px-0 py-0\">\\r\\n\\t\\t\\t\\t\\t\\t\\t\\t\\t\\t<a href=\"#\" data-test=\"Scale\"\\r\\n\\t\\t\\t\\t\\t\\t\\t\\t\\t\\t\\tdata-target=\"#user-filters-scales\" data-toggle=\"collapse\"\\r\\n\\t\\t\\t\\t\\t\\t\\t\\t\\t\\t\\tclass=\"reboot d-flex justify-content-between align-items-center w-100 click text-primary\"\\r\\n\\t\\t\\t\\t\\t\\t\\t\\t\\t\\t\\ttabindex=\"9\"> <span class=\"reboot\">Scale</span> <span\\r\\n\\t\\t\\t\\t\\t\\t\\t\\t\\t\\t\\tdata-test=\"Scale-count\" id=\"filters-scales-count\"\\r\\n\\t\\t\\t\\t\\t\\t\\t\\t\\t\\t\\tclass=\"reboot badge badge-secondary\"> <i\\r\\n\\t\\t\\t\\t\\t\\t\\t\\t\\t\\t\\t\\tclass=\"reboot fas fa-spinner fa-spin\"></i>\\r\\n\\t\\t\\t\\t\\t\\t\\t\\t\\t\\t</span>\\r\\n\\t\\t\\t\\t\\t\\t\\t\\t\\t\\t</a>\\r\\n\\t\\t\\t\\t\\t\\t\\t\\t\\t</div>\\r\\n\\t\\t\\t\\t\\t\\t\\t\\t\\t<div id=\"user-filters-scales\"\\r\\n\\t\\t\\t\\t\\t\\t\\t\\t\\t\\tclass=\"reboot collapse height-200 overflow-y-auto\"\\r\\n\\t\\t\\t\\t\\t\\t\\t\\t\\t\\tdata-parent=\"#more-filters-accordion\">\\r\\n\\t\\t\\t\\t\\t\\t\\t\\t\\t\\t<!-- Below is populated dynamically VIA JS -->\\r\\n\\t\\t\\t\\t\\t\\t\\t\\t\\t\\t<div class=\"reboot list-group list-group-flush\"></div>\\r\\n\\t\\t\\t\\t\\t\\t\\t\\t\\t</div>\\r\\n\\t\\t\\t\\t\\t\\t\\t\\t</div>\\r\\n\\t\\t\\t\\t\\t\\t\\t</form>\\r\\n\\t\\t\\t\\t\\t\\t\\t<form>\\r\\n\\t\\t\\t\\t\\t\\t\\t\\t<div class=\"reboot mx-1\">\\r\\n\\t\\t\\t\\t\\t\\t\\t\\t\\t<div class=\"reboot px-0 py-0\">\\r\\n\\t\\t\\t\\t\\t\\t\\t\\t\\t\\t<a href=\"#\" data-test=\"Balance\"\\r\\n\\t\\t\\t\\t\\t\\t\\t\\t\\t\\t\\tdata-target=\"#user-filters-balances\" data-toggle=\"collapse\"\\r\\n\\t\\t\\t\\t\\t\\t\\t\\t\\t\\t\\tclass=\"reboot d-flex justify-content-between align-items-center w-100 click text-primary\"\\r\\n\\t\\t\\t\\t\\t\\t\\t\\t\\t\\t\\ttabindex=\"9\"> <span class=\"reboot\">Balance</span> <span\\r\\n\\t\\t\\t\\t\\t\\t\\t\\t\\t\\t\\tdata-test=\"Balance-count\" id=\"filters-balances-count\"\\r\\n\\t\\t\\t\\t\\t\\t\\t\\t\\t\\t\\tclass=\"reboot badge badge-secondary\">2</span>\\r\\n\\t\\t\\t\\t\\t\\t\\t\\t\\t\\t</a>\\r\\n\\t\\t\\t\\t\\t\\t\\t\\t\\t</div>\\r\\n\\t\\t\\t\\t\\t\\t\\t\\t\\t<div id=\"user-filters-balances\"\\r\\n\\t\\t\\t\\t\\t\\t\\t\\t\\t\\tclass=\"reboot collapse height-200 overflow-y-auto\"\\r\\n\\t\\t\\t\\t\\t\\t\\t\\t\\t\\tdata-parent=\"#more-filters-accordion\">\\r\\n\\t\\t\\t\\t\\t\\t\\t\\t\\t\\t<div\\r\\n\\t\\t\\t\\t\\t\\t\\t\\t\\t\\t\\tclass=\"reboot d-flex justify-content-between align-items-center w-100 px-2\">\\r\\n\\t\\t\\t\\t\\t\\t\\t\\t\\t\\t\\t<div class=\"reboot form-check\">\\r\\n\\t\\t\\t\\t\\t\\t\\t\\t\\t\\t\\t\\t<input\\r\\n\\t\\t\\t\\t\\t\\t\\t\\t\\t\\t\\t\\t\\tid=\"user-filters-balances-debit\"\\r\\n\\t\\t\\t\\t\\t\\t\\t\\t\\t\\t\\t\\t\\ttitle=\"Select/Deselect this option.\"\\r\\n\\t\\t\\t\\t\\t\\t\\t\\t\\t\\t\\t\\t\\tclass=\"reboot form-check-input\" type=\"checkbox\"\\r\\n\\t\\t\\t\\t\\t\\t\\t\\t\\t\\t\\t\\t\\ttabindex=\"9\"> <label\\r\\n\\t\\t\\t\\t\\t\\t\\t\\t\\t\\t\\t\\t\\tclass=\"reboot form-check-label mb-0\">Debit</label>\\r\\n\\t\\t\\t\\t\\t\\t\\t\\t\\t\\t\\t</div>\\r\\n\\t\\t\\t\\t\\t\\t\\t\\t\\t\\t</div>\\r\\n\\t\\t\\t\\t\\t\\t\\t\\t\\t\\t<div\\r\\n\\t\\t\\t\\t\\t\\t\\t\\t\\t\\t\\tclass=\"reboot d-flex justify-content-between align-items-center w-100 px-2\">\\r\\n\\t\\t\\t\\t\\t\\t\\t\\t\\t\\t\\t<div class=\"reboot form-check\">\\r\\n\\t\\t\\t\\t\\t\\t\\t\\t\\t\\t\\t\\t<input\\r\\n\\t\\t\\t\\t\\t\\t\\t\\t\\t\\t\\t\\t\\tid=\"user-filters-balances-credit\"\\r\\n\\t\\t\\t\\t\\t\\t\\t\\t\\t\\t\\t\\t\\ttitle=\"Select/Deselect this option.\"\\r\\n\\t\\t\\t\\t\\t\\t\\t\\t\\t\\t\\t\\t\\tclass=\"reboot form-check-input\" type=\"checkbox\"\\r\\n\\t\\t\\t\\t\\t\\t\\t\\t\\t\\t\\t\\t\\ttabindex=\"9\"> <label\\r\\n\\t\\t\\t\\t\\t\\t\\t\\t\\t\\t\\t\\t\\tclass=\"reboot form-check-label mb-0\">Credit</label>\\r\\n\\t\\t\\t\\t\\t\\t\\t\\t\\t\\t\\t</div>\\r\\n\\t\\t\\t\\t\\t\\t\\t\\t\\t\\t</div>\\r\\n\\t\\t\\t\\t\\t\\t\\t\\t\\t</div>\\r\\n\\t\\t\\t\\t\\t\\t\\t\\t</div>\\r\\n\\t\\t\\t\\t\\t\\t\\t</form>\\r\\n\\t\\t\\t\\t\\t\\t</div>\\r\\n\\t\\t\\t\\t\\t</div></li>\\r\\n\\t\\t\\t\\t<li id=\"current-filters-reset\" data-test=\"current-filters-reset\"\\r\\n\\t\\t\\t\\t\\tclass=\"reboot nav-item d-none my-auto ml-1\"><a href=\"#\"\\r\\n\\t\\t\\t\\t\\tid=\"current-filters-reset-all\" data-name=\"current-filters-reset\"\\r\\n\\t\\t\\t\\t\\tclass=\"reboot nav-link dropdown-toggle text-danger disabled click\"\\r\\n\\t\\t\\t\\t\\ttabindex=\"11\" accesskey=\"7\"> <i\\r\\n\\t\\t\\t\\t\\t\\tclass=\"reboot nav-loading fas fa-redo\"></i> <span\\r\\n\\t\\t\\t\\t\\t\\tclass=\"reboot d-md-none d-lg-inline\">Reset All Filters</span>\\r\\n\\t\\t\\t\\t</a></li>\\r\\n\\t\\t\\t\\t<li id=\"links-dropdown\" data-test=\"links-dropdown\"\\r\\n\\t\\t\\t\\t\\tclass=\"reboot nav-item dropdown d-none my-auto ml-1\"><a\\r\\n\\t\\t\\t\\t\\thref=\"#\" id=\"additional-links-dropdown\"\\r\\n\\t\\t\\t\\t\\tclass=\"reboot nav-link dropdown-toggle disabled click\"\\r\\n\\t\\t\\t\\t\\trole=\"button\" data-toggle=\"dropdown\" aria-haspopup=\"true\"\\r\\n\\t\\t\\t\\t\\taria-expanded=\"false\" tabindex=\"12\" accesskey=\"8\"> <i\\r\\n\\t\\t\\t\\t\\t\\tclass=\"reboot nav-loading fas fa-link\"></i> <span\\r\\n\\t\\t\\t\\t\\t\\tclass=\"reboot d-md-none d-lg-inline\">Links</span>\\r\\n\\t\\t\\t\\t</a>\\r\\n\\t\\t\\t\\t\\t<div id=\"links-dropdown-content\"\\r\\n\\t\\t\\t\\t\\t\\tclass=\"reboot dropdown-menu dropdown-menu-width w-auto\"></div></li>\\r\\n\\t\\t\\t</ul>\\r\\n\\t\\t\\t<ul class=\"reboot navbar-nav pull-right bg-inherit\">\\r\\n\\t\\t\\t\\t<li class=\"reboot nav-item my-auto ml-1\"><a id=\"facts-menu\"\\r\\n\\t\\t\\t\\t\\tdata-test=\"facts-menu\" class=\"reboot nav-link click\"\\r\\n\\t\\t\\t\\t\\ttabindex=\"13\" accesskey=\"9\"> Facts <span\\r\\n\\t\\t\\t\\t\\t\\tclass=\"reboot taxonomy-total-count badge badge-light\"> <i\\r\\n\\t\\t\\t\\t\\t\\t\\tclass=\"reboot fas fa-spinner fa-spin\"></i>\\r\\n\\t\\t\\t\\t\\t</span>\\r\\n\\t\\t\\t\\t</a></li>\\r\\n\\t\\t\\t</ul>\\r\\n\\t\\t</div>\\r\\n\\t</nav>\\r\\n\\t<div class=\"reboot main-container\">\\r\\n\\t\\t<div id=\"error-container\" data-test=\"error-container\"\\r\\n\\t\\t\\tclass=\"reboot px-0\">\\r\\n\\t\\t\\t<!-- Below is populated dynamically VIA JS (error messages) -->\\r\\n\\t\\t</div>\\r\\n\\t\\t<div id=\"xbrl-form-loading\" data-test=\"xbrl-form-loading\"\\r\\n\\t\\t\\tclass=\"reboot jumbotron h-100\">\\r\\n\\t\\t\\t<h2 class=\"reboot display-4 text-center\">\\r\\n\\t\\t\\t\\t<i class=\"reboot fas fa-spinner fa-spin\"></i> Loading Inline Form.\\r\\n\\t\\t\\t</h2>\\r\\n\\t\\t</div>\\r\\n\\t\\t<div id=\"sections-menu\" data-test=\"sections-menu\"\\r\\n\\t\\t\\tclass=\"reboot left-sidenav col-sm-3 bg-light overflow-x-auto invisible\">\\r\\n\\t\\t\\t<div class=\"reboot mb-2\">\\r\\n\\t\\t\\t\\t<span class=\"reboot lead\">Tagged Sections</span> <a\\r\\n\\t\\t\\t\\t\\tid=\"sections-menu-toggle\"\\r\\n\\t\\t\\t\\t\\tclass=\"reboot float-right click color-inherit\" tabindex=\"2\"> <i\\r\\n\\t\\t\\t\\t\\tclass=\"reboot fas fa-times-circle mt-2 text-dark\"></i>\\r\\n\\t\\t\\t\\t</a>\\r\\n\\t\\t\\t</div>\\r\\n\\t\\t\\t<form id=\"sections-menu-search-submit\" data-name=\"sections-menu-search\"\\r\\n\\t\\t\\t\\tclass=\"reboot my-2 my-lg-0 input-group\" novalidate>\\r\\n\\t\\t\\t\\t<div id=\"sections-search-additional\"\\r\\n\\t\\t\\t\\t\\tclass=\"reboot input-group-prepend d-none\">\\r\\n\\t\\t\\t\\t\\t<button class=\"reboot dropdown btn btn-sec\" type=\"button\"\\r\\n\\t\\t\\t\\t\\t\\tdata-toggle=\"dropdown\" tabindex=\"2\">\\r\\n\\t\\t\\t\\t\\t\\t<i class=\"reboot nav-loading fas fa-cog\"></i>\\r\\n\\t\\t\\t\\t\\t</button>\\r\\n\\t\\t\\t\\t\\t<div class=\"reboot dropdown-menu px-2\">\\r\\n\\t\\t\\t\\t\\t\\t<div class=\"reboot form-check\">\\r\\n\\t\\t\\t\\t\\t\\t\\t<input class=\"reboot form-check-input\" type=\"radio\"\\r\\n\\t\\t\\t\\t\\t\\t\\t\\tname=\"sections-search-options\" value=\"1\" checked tabindex=\"2\">\\r\\n\\t\\t\\t\\t\\t\\t\\t<label class=\"reboot form-check-label\">Search in All.</label>\\r\\n\\t\\t\\t\\t\\t\\t</div>\\r\\n\\t\\t\\t\\t\\t\\t<div class=\"reboot form-check\">\\r\\n\\t\\t\\t\\t\\t\\t\\t<input class=\"reboot form-check-input\" type=\"radio\"\\r\\n\\t\\t\\t\\t\\t\\t\\t\\tname=\"sections-search-options\" value=\"2\" tabindex=\"2\"> <label\\r\\n\\t\\t\\t\\t\\t\\t\\t\\tclass=\"reboot form-check-label\">Search in Internal\\r\\n\\t\\t\\t\\t\\t\\t\\t\\tSections Only.</label>\\r\\n\\t\\t\\t\\t\\t\\t</div>\\r\\n\\t\\t\\t\\t\\t\\t<div class=\"reboot form-check\">\\r\\n\\t\\t\\t\\t\\t\\t\\t<input class=\"reboot form-check-input\" type=\"radio\"\\r\\n\\t\\t\\t\\t\\t\\t\\t\\tname=\"sections-search-options\" value=\"3\" tabindex=\"2\"> <label\\r\\n\\t\\t\\t\\t\\t\\t\\t\\tclass=\"reboot form-check-label\">Search in External\\r\\n\\t\\t\\t\\t\\t\\t\\t\\tSections Only.</label>\\r\\n\\t\\t\\t\\t\\t\\t</div>\\r\\n\\t\\t\\t\\t\\t</div>\\r\\n\\t\\t\\t\\t</div>\\r\\n\\t\\t\\t\\t<input type=\"text\" class=\"reboot form-control\" id=\"sections-search\"\\r\\n\\t\\t\\t\\t\\tdata-test=\"sections-search\" placeholder=\"Search Sections\"\\r\\n\\t\\t\\t\\t\\taria-label=\"Search all Sections by their associated label.\"\\r\\n\\t\\t\\t\\t\\tname=\"search-sections\" tabindex=\"2\" required>\\r\\n\\t\\t\\t\\t<div class=\"reboot input-group-append\">\\r\\n\\t\\t\\t\\t\\t<button id=\"section-menu-search-btn-clear\"\\r\\n\\t\\t\\t\\t\\t\\tdata-name=\"sections-menu-search-clear\"\\r\\n\\t\\t\\t\\t\\t\\tclass=\"reboot btn btn-sec\" type=\"button\" tabindex=\"2\">\\r\\n\\t\\t\\t\\t\\t\\t<i class=\"nav-loading fas fa-times-circle\"\\r\\n\\t\\t\\t\\t\\t\\t\\ttitle=\"Clear Sections Search\"></i> <span\\r\\n\\t\\t\\t\\t\\t\\t\\tclass=\"reboot sr-only sr-only-focusable\">Clear Sections\\r\\n\\t\\t\\t\\t\\t\\t\\tSearch</span>\\r\\n\\t\\t\\t\\t\\t</button>\\r\\n\\t\\t\\t\\t\\t<button class=\"reboot btn btn-sec\" type=\"submit\" tabindex=\"2\">\\r\\n\\t\\t\\t\\t\\t\\t<i class=\"reboot nav-loading fas fa-search\"\\r\\n\\t\\t\\t\\t\\t\\t\\ttitle=\"Submit Sections Search\"></i> <span\\r\\n\\t\\t\\t\\t\\t\\t\\tclass=\"reboot sr-only sr-only-focusable\">Submit Sections\\r\\n\\t\\t\\t\\t\\t\\t\\tSearch</span>\\r\\n\\t\\t\\t\\t\\t</button>\\r\\n\\t\\t\\t\\t</div>\\r\\n\\t\\t\\t</form>\\r\\n\\t\\t\\t<hr>\\r\\n\\r\\n\\t\\t\\t<div class=\"reboot accordion\" id=\"tagged-sections\">\\r\\n\\t\\t\\t\\t<div class=\"reboot card\" id=\"tagged-sections-0\"\\r\\n\\t\\t\\t\\t\\tdata-test=\"tagged-sections-0\">\\r\\n\\t\\t\\t\\t\\t<div class=\"reboot card-header px-0 py-0\">\\r\\n\\t\\t\\t\\t\\t\\t<h5 class=\"reboot mb-0\">\\r\\n\\t\\t\\t\\t\\t\\t\\t<button\\r\\n\\t\\t\\t\\t\\t\\t\\t\\tclass=\"reboot btn btn-link d-flex justify-content-between align-items-center w-100\"\\r\\n\\t\\t\\t\\t\\t\\t\\t\\ttype=\"button\" data-target=\"#collapseDocumentEntityTypes\"\\r\\n\\t\\t\\t\\t\\t\\t\\t\\ttabindex=\"2\">\\r\\n\\t\\t\\t\\t\\t\\t\\t\\t<span class=\"reboot font-size-1\">Document &amp; Entity\\r\\n\\t\\t\\t\\t\\t\\t\\t\\t\\tInformation</span> <span id=\"collapseDocumentEntityTypesBadge\"\\r\\n\\t\\t\\t\\t\\t\\t\\t\\t\\tclass=\"reboot badge badge-secondary\"> <i\\r\\n\\t\\t\\t\\t\\t\\t\\t\\t\\tclass=\"reboot fas fa-spinner fa-spin\"></i>\\r\\n\\r\\n\\t\\t\\t\\t\\t\\t\\t\\t</span>\\r\\n\\t\\t\\t\\t\\t\\t\\t</button>\\r\\n\\t\\t\\t\\t\\t\\t</h5>\\r\\n\\t\\t\\t\\t\\t</div>\\r\\n\\t\\t\\t\\t\\t<div id=\"collapseDocumentEntityTypes\" class=\"reboot collapse\"\\r\\n\\t\\t\\t\\t\\t\\tdata-parent=\"#tagged-sections\">\\r\\n\\t\\t\\t\\t\\t\\t<!-- Below is populated dynamically VIA JS -->\\r\\n\\t\\t\\t\\t\\t\\t<div class=\"reboot list-group list-group-flush\"></div>\\r\\n\\t\\t\\t\\t\\t</div>\\r\\n\\t\\t\\t\\t</div>\\r\\n\\r\\n\\t\\t\\t\\t<div class=\"reboot card\" id=\"tagged-sections-1\"\\r\\n\\t\\t\\t\\t\\tdata-test=\"tagged-sections-1\">\\r\\n\\t\\t\\t\\t\\t<div class=\"reboot card-header px-0 py-0\">\\r\\n\\t\\t\\t\\t\\t\\t<h5 class=\"reboot mb-0\">\\r\\n\\t\\t\\t\\t\\t\\t\\t<button\\r\\n\\t\\t\\t\\t\\t\\t\\t\\tclass=\"reboot btn btn-link d-flex justify-content-between align-items-center w-100\"\\r\\n\\t\\t\\t\\t\\t\\t\\t\\ttype=\"button\" data-target=\"#collapseFinancialStatements\"\\r\\n\\t\\t\\t\\t\\t\\t\\t\\ttabindex=\"2\">\\r\\n\\t\\t\\t\\t\\t\\t\\t\\t<span class=\"reboot font-size-1\">Financial Statements</span> <span\\r\\n\\t\\t\\t\\t\\t\\t\\t\\t\\tid=\"collapseFinancialStatementsBadge\"\\r\\n\\t\\t\\t\\t\\t\\t\\t\\t\\tclass=\"reboot badge badge-secondary\"> <i\\r\\n\\t\\t\\t\\t\\t\\t\\t\\t\\tclass=\"reboot fas fa-spinner fa-spin\"></i>\\r\\n\\r\\n\\t\\t\\t\\t\\t\\t\\t\\t</span>\\r\\n\\t\\t\\t\\t\\t\\t\\t</button>\\r\\n\\t\\t\\t\\t\\t\\t</h5>\\r\\n\\t\\t\\t\\t\\t</div>\\r\\n\\t\\t\\t\\t\\t<div id=\"collapseFinancialStatements\" class=\"reboot collapse\"\\r\\n\\t\\t\\t\\t\\t\\tdata-parent=\"#tagged-sections\">\\r\\n\\t\\t\\t\\t\\t\\t<!-- Below is populated dynamically VIA JS -->\\r\\n\\t\\t\\t\\t\\t\\t<div class=\"reboot list-group list-group-flush\"></div>\\r\\n\\t\\t\\t\\t\\t</div>\\r\\n\\t\\t\\t\\t</div>\\r\\n\\r\\n\\t\\t\\t\\t<div class=\"reboot card\" id=\"tagged-sections-2\"\\r\\n\\t\\t\\t\\t\\tdata-test=\"tagged-sections-2\">\\r\\n\\t\\t\\t\\t\\t<div class=\"reboot card-header px-0 py-0\">\\r\\n\\t\\t\\t\\t\\t\\t<h5 class=\"reboot mb-0\">\\r\\n\\t\\t\\t\\t\\t\\t\\t<button\\r\\n\\t\\t\\t\\t\\t\\t\\t\\tclass=\"reboot btn btn-link d-flex justify-content-between align-items-center w-100\"\\r\\n\\t\\t\\t\\t\\t\\t\\t\\ttype=\"button\" data-target=\"#collapseNotesToTheFinancials\"\\r\\n\\t\\t\\t\\t\\t\\t\\t\\ttabindex=\"2\">\\r\\n\\t\\t\\t\\t\\t\\t\\t\\t<span class=\"reboot font-size-1\">Notes to the Financial Statements</span>\\r\\n\\t\\t\\t\\t\\t\\t\\t\\t<span id=\"collapseNotesToTheFinancialsBadge\"\\r\\n\\t\\t\\t\\t\\t\\t\\t\\t\\tclass=\"reboot badge badge-secondary\"> <i\\r\\n\\t\\t\\t\\t\\t\\t\\t\\t\\tclass=\"reboot fas fa-spinner fa-spin\"></i>\\r\\n\\r\\n\\t\\t\\t\\t\\t\\t\\t\\t</span>\\r\\n\\t\\t\\t\\t\\t\\t\\t</button>\\r\\n\\t\\t\\t\\t\\t\\t</h5>\\r\\n\\t\\t\\t\\t\\t</div>\\r\\n\\t\\t\\t\\t\\t<div id=\"collapseNotesToTheFinancials\" class=\"reboot collapse\"\\r\\n\\t\\t\\t\\t\\t\\tdata-parent=\"#tagged-sections\">\\r\\n\\t\\t\\t\\t\\t\\t<!-- Below is populated dynamically VIA JS -->\\r\\n\\t\\t\\t\\t\\t\\t<div class=\"reboot list-group list-group-flush\"></div>\\r\\n\\t\\t\\t\\t\\t</div>\\r\\n\\t\\t\\t\\t</div>\\r\\n\\r\\n\\t\\t\\t\\t<div class=\"reboot card\" id=\"tagged-sections-3\"\\r\\n\\t\\t\\t\\t\\tdata-test=\"tagged-sections-3\">\\r\\n\\t\\t\\t\\t\\t<div class=\"reboot card-header px-0 py-0\">\\r\\n\\t\\t\\t\\t\\t\\t<h5 class=\"reboot mb-0\">\\r\\n\\t\\t\\t\\t\\t\\t\\t<button\\r\\n\\t\\t\\t\\t\\t\\t\\t\\tclass=\"reboot btn btn-link d-flex justify-content-between align-items-center w-100\"\\r\\n\\t\\t\\t\\t\\t\\t\\t\\ttype=\"button\" data-target=\"#collapseRRSummaries\">\\r\\n\\t\\t\\t\\t\\t\\t\\t\\t<span class=\"reboot font-size-1\">RR Summaries</span> <span\\r\\n\\t\\t\\t\\t\\t\\t\\t\\t\\tid=\"collapseRRSummariesBadge\"\\r\\n\\t\\t\\t\\t\\t\\t\\t\\t\\tclass=\"reboot badge badge-secondary\"> <i\\r\\n\\t\\t\\t\\t\\t\\t\\t\\t\\tclass=\"reboot fas fa-spinner fa-spin\"></i>\\r\\n\\r\\n\\t\\t\\t\\t\\t\\t\\t\\t</span>\\r\\n\\t\\t\\t\\t\\t\\t\\t</button>\\r\\n\\t\\t\\t\\t\\t\\t</h5>\\r\\n\\t\\t\\t\\t\\t</div>\\r\\n\\t\\t\\t\\t\\t<div id=\"collapseRRSummaries\" class=\"reboot collapse\"\\r\\n\\t\\t\\t\\t\\t\\tdata-parent=\"#tagged-sections\">\\r\\n\\t\\t\\t\\t\\t\\t<!-- Below is populated dynamically VIA JS -->\\r\\n\\t\\t\\t\\t\\t\\t<div class=\"reboot list-group list-group-flush\"></div>\\r\\n\\t\\t\\t\\t\\t</div>\\r\\n\\t\\t\\t\\t</div>\\r\\n\\t\\t\\t</div>\\r\\n\\t\\t</div>\\r\\n\\r\\n\\t\\t<div id=\"help-menu\" data-test=\"help-menu\"\\r\\n\\t\\t\\tclass=\"reboot left-sidenav col-sm-3 bg-light overflow-x-auto invisible\">\\r\\n\\r\\n\\t\\t\\t<div class=\"reboot mb-2\">\\r\\n\\t\\t\\t\\t<span class=\"reboot lead\">Help</span> <a id=\"help-menu-close\"\\r\\n\\t\\t\\t\\t\\tdata-test=\"help-menu-close\" class=\"reboot float-right click\"> <i\\r\\n\\t\\t\\t\\t\\tclass=\"reboot fas fa-times-circle mt-2\"></i>\\r\\n\\t\\t\\t\\t</a>\\r\\n\\t\\t\\t</div>\\r\\n\\t\\t\\t<div class=\"reboot accordion\" id=\"help-sections\">\\r\\n\\t\\t\\t\\t<div class=\"reboot card\">\\r\\n\\t\\t\\t\\t\\t<div class=\"reboot card-header px-0 py-0\">\\r\\n\\t\\t\\t\\t\\t\\t<h5 class=\"reboot mb-0\">\\r\\n\\t\\t\\t\\t\\t\\t\\t<button\\r\\n\\t\\t\\t\\t\\t\\t\\t\\tclass=\"reboot btn btn-link d-flex justify-content-between align-items-center w-100\"\\r\\n\\t\\t\\t\\t\\t\\t\\t\\ttype=\"button\" data-toggle=\"collapse\"\\r\\n\\t\\t\\t\\t\\t\\t\\t\\tdata-target=\"#help-getting-started\">\\r\\n\\t\\t\\t\\t\\t\\t\\t\\t<span class=\"reboot font-size-1 \">Getting Started</span>\\r\\n\\t\\t\\t\\t\\t\\t\\t</button>\\r\\n\\t\\t\\t\\t\\t\\t</h5>\\r\\n\\t\\t\\t\\t\\t</div>\\r\\n\\t\\t\\t\\t\\t<div id=\"help-getting-started\" class=\"reboot collapse\"\\r\\n\\t\\t\\t\\t\\t\\tdata-parent=\"#help-sections\">\\r\\n\\t\\t\\t\\t\\t\\t<p class=\"reboot m-2\">The Inline XBRL viewer allows a user\\r\\n\\t\\t\\t\\t\\t\\t\\tto quickly and easily review details of the tagged information in\\r\\n\\t\\t\\t\\t\\t\\t\\tan Inline document by automatically placing a top and bottom\\r\\n\\t\\t\\t\\t\\t\\t\\thighlight border around each tagged numeric fact and left and\\r\\n\\t\\t\\t\\t\\t\\t\\tright border for each block tagged fact. Hovering over a tagged\\r\\n\\t\\t\\t\\t\\t\\t\\tfact will highlight (shade) all content related to the tagged\\r\\n\\t\\t\\t\\t\\t\\t\\tfact, and clicking on a tagged fact will reveal its tagging\\r\\n\\t\\t\\t\\t\\t\\t\\tdetails in the Fact Review Window. Navigation, search and filter\\r\\n\\t\\t\\t\\t\\t\\t\\toptions are also provided to easily refine and identify specific\\r\\n\\t\\t\\t\\t\\t\\t\\ttypes of tagged information.</p>\\r\\n\\t\\t\\t\\t\\t</div>\\r\\n\\t\\t\\t\\t</div>\\r\\n\\t\\t\\t\\t<div class=\"reboot card\">\\r\\n\\t\\t\\t\\t\\t<div class=\"reboot card-header px-0 py-0\">\\r\\n\\t\\t\\t\\t\\t\\t<h5 class=\"reboot mb-0\">\\r\\n\\t\\t\\t\\t\\t\\t\\t<button\\r\\n\\t\\t\\t\\t\\t\\t\\t\\tclass=\"reboot btn btn-link d-flex justify-content-between align-items-center w-100\"\\r\\n\\t\\t\\t\\t\\t\\t\\t\\ttype=\"button\" data-toggle=\"collapse\"\\r\\n\\t\\t\\t\\t\\t\\t\\t\\tdata-target=\"#help-fact-review-window\">\\r\\n\\t\\t\\t\\t\\t\\t\\t\\t<span class=\"reboot font-size-1\">Fact Review Window</span>\\r\\n\\t\\t\\t\\t\\t\\t\\t</button>\\r\\n\\t\\t\\t\\t\\t\\t</h5>\\r\\n\\t\\t\\t\\t\\t</div>\\r\\n\\t\\t\\t\\t\\t<div id=\"help-fact-review-window\" class=\"reboot collapse\"\\r\\n\\t\\t\\t\\t\\t\\tdata-parent=\"#help-sections\">\\r\\n\\t\\t\\t\\t\\t\\t<p class=\"reboot m-2\">The Fact Review Window shows the tagging\\r\\n\\t\\t\\t\\t\\t\\t\\tdetails for the currently selected fact, which is highlighted\\r\\n\\t\\t\\t\\t\\t\\t\\twith a solid blue border. There are four categories of fact detail\\r\\n\\t\\t\\t\\t\\t\\t\\twhich can be viewed; an \"N/A\" value indicates there is no\\r\\n\\t\\t\\t\\t\\t\\t\\tavailable information for the item within the given category:</p>\\r\\n\\t\\t\\t\\t\\t\\t<ul class=\"reboot\">\\r\\n\\t\\t\\t\\t\\t\\t\\t<li class=\"reboot\">Attributes - All primary information (as\\r\\n\\t\\t\\t\\t\\t\\t\\t\\tapplicable) describing the tagged fact including period, sign,\\r\\n\\t\\t\\t\\t\\t\\t\\t\\tdecimals, dimensional detail (axes and members), scale, measure\\r\\n\\t\\t\\t\\t\\t\\t\\t\\tand data type.</li>\\r\\n\\t\\t\\t\\t\\t\\t\\t<li class=\"reboot\">Labels - Detailed documentation\\r\\n\\t\\t\\t\\t\\t\\t\\t\\t(definition) for the tag used, and other labels.</li>\\r\\n\\t\\t\\t\\t\\t\\t\\t<li class=\"reboot\">References - Authoritative reference\\r\\n\\t\\t\\t\\t\\t\\t\\t\\tinformation (as applicable) for the selected tag.</li>\\r\\n\\t\\t\\t\\t\\t\\t\\t<li class=\"reboot\">Calculation - Balance and calculation\\r\\n\\t\\t\\t\\t\\t\\t\\t\\thierarchy details (numeric non-dimensioned items only).</li>\\r\\n\\t\\t\\t\\t\\t\\t</ul>\\r\\n\\t\\t\\t\\t\\t</div>\\r\\n\\t\\t\\t\\t</div>\\r\\n\\t\\t\\t\\t<div class=\"reboot card\">\\r\\n\\t\\t\\t\\t\\t<div class=\"reboot card-header px-0 py-0\">\\r\\n\\t\\t\\t\\t\\t\\t<h5 class=\"reboot mb-0\">\\r\\n\\t\\t\\t\\t\\t\\t\\t<button\\r\\n\\t\\t\\t\\t\\t\\t\\t\\tclass=\"reboot btn btn-link d-flex justify-content-between align-items-center w-100\"\\r\\n\\t\\t\\t\\t\\t\\t\\t\\ttype=\"button\" data-toggle=\"collapse\" data-target=\"#help-search\">\\r\\n\\t\\t\\t\\t\\t\\t\\t\\t<span class=\"reboot font-size-1\">Searching</span>\\r\\n\\t\\t\\t\\t\\t\\t\\t</button>\\r\\n\\t\\t\\t\\t\\t\\t</h5>\\r\\n\\t\\t\\t\\t\\t</div>\\r\\n\\t\\t\\t\\t\\t<div id=\"help-search\" class=\"reboot collapse\"\\r\\n\\t\\t\\t\\t\\t\\tdata-parent=\"#help-sections\">\\r\\n\\t\\t\\t\\t\\t\\t<p class=\"reboot m-2\">There are two ways to search the\\r\\n\\t\\t\\t\\t\\t\\t\\tdocument: FACTS AND SECTIONS. To search information, enter a\\r\\n\\t\\t\\t\\t\\t\\t\\tkeyword in a search box and select the magnifying glass icon to\\r\\n\\t\\t\\t\\t\\t\\t\\treturn matching results. Search operators \"and\" (via \"AND\" or\\r\\n\\t\\t\\t\\t\\t\\t\\t\"&\") and \"or\" (via \"OR\" or \"|\") are available to further refine a\\r\\n\\t\\t\\t\\t\\t\\t\\tsearch.</p>\\r\\n\\t\\t\\t\\t\\t\\t<p class=\"reboot m-2\">\\r\\n\\t\\t\\t\\t\\t\\t\\t<strong>FACTS</strong>\\r\\n\\t\\t\\t\\t\\t\\t</p>\\r\\n\\t\\t\\t\\t\\t\\t<p class=\"reboot m-2\">The Search Facts box can be used to find\\r\\n\\t\\t\\t\\t\\t\\t\\ttagged facts matching entered keywords. By default, tag name, tag\\r\\n\\t\\t\\t\\t\\t\\t\\tlabels, and tagged content are included in Search. Tagged facts\\r\\n\\t\\t\\t\\t\\t\\t\\tmatching the search criteria are shown with a yellow-colored\\r\\n\\t\\t\\t\\t\\t\\t\\t(default) shading on the page and appear in the Facts List.\\r\\n\\t\\t\\t\\t\\t\\t\\tSelect the \"X\" button to the left of the magnifying glass icon to\\r\\n\\t\\t\\t\\t\\t\\t\\tclear the search.</p>\\r\\n\\t\\t\\t\\t\\t\\t<p class=\"reboot m-2\">The content included in Search can be increased to\\r\\n\\t\\t\\t\\t\\t\\t\\tincluded tag definitions, dimensions, and authoritative\\r\\n\\t\\t\\t\\t\\t\\t\\treferences by selecting the cog / wheel icon to the left of the\\r\\n\\t\\t\\t\\t\\t\\t\\tsearch box. See Settings for more information.</p>\\r\\n\\t\\t\\t\\t\\t\\t\\r\\n\\t\\t\\t\\t\\t\\t<p class=\"reboot m-2\">\\r\\n\\t\\t\\t\\t\\t\\t\\t<strong>SECTIONS</strong>\\r\\n\\t\\t\\t\\t\\t\\t</p>\\r\\n\\t\\t\\t\\t\\t\\t<p class=\"reboot m-2\">The Search Sections box can be used to\\r\\n\\t\\t\\t\\t\\t\\t\\tfilter the tagged sections of the financial statements.</p>\\r\\n\\t\\t\\t\\t\\t</div>\\r\\n\\t\\t\\t\\t</div>\\r\\n\\t\\t\\t\\t<div class=\"reboot card\">\\r\\n\\t\\t\\t\\t\\t<div class=\"reboot card-header px-0 py-0\">\\r\\n\\t\\t\\t\\t\\t\\t<h5 class=\"reboot mb-0\">\\r\\n\\t\\t\\t\\t\\t\\t\\t<button\\r\\n\\t\\t\\t\\t\\t\\t\\t\\tclass=\"reboot btn btn-link d-flex justify-content-between align-items-center w-100\"\\r\\n\\t\\t\\t\\t\\t\\t\\t\\ttype=\"button\" data-toggle=\"collapse\" data-target=\"#help-filter\">\\r\\n\\t\\t\\t\\t\\t\\t\\t\\t<span class=\"reboot font-size-1\">Filters</span>\\r\\n\\t\\t\\t\\t\\t\\t\\t</button>\\r\\n\\t\\t\\t\\t\\t\\t</h5>\\r\\n\\t\\t\\t\\t\\t</div>\\r\\n\\t\\t\\t\\t\\t<div id=\"help-filter\" class=\"reboot collapse\"\\r\\n\\t\\t\\t\\t\\t\\tdata-parent=\"#help-sections\">\\r\\n\\t\\t\\t\\t\\t\\t<p class=\"reboot m-2\">Filters change the number of highlighted\\r\\n\\t\\t\\t\\t\\t\\t\\tfacts and items in the fact list by providing several ways to\\r\\n\\t\\t\\t\\t\\t\\t\\treview and pinpoint certain tagged information. Multiple filters\\r\\n\\t\\t\\t\\t\\t\\t\\tcan be used at once.</p>\\r\\n\\t\\t\\t\\t\\t\\t<p class=\"reboot m-2\">\\r\\n\\t\\t\\t\\t\\t\\t\\t<strong>DATA FILTERS</strong>\\r\\n\\t\\t\\t\\t\\t\\t</p>\\r\\n\\t\\t\\t\\t\\t\\t<p class=\"reboot m-2\">These filter options allow the user to\\r\\n\\t\\t\\t\\t\\t\\t\\trefine the highlighted tagged facts by data type:</p>\\r\\n\\t\\t\\t\\t\\t\\t<ul class=\"reboot\">\\r\\n\\t\\t\\t\\t\\t\\t\\t<li class=\"reboot\">All - Displays all tagged data (default)</li>\\r\\n\\t\\t\\t\\t\\t\\t\\t<li class=\"reboot\">Amounts Only - Numeric facts only</li>\\r\\n\\t\\t\\t\\t\\t\\t\\t<li class=\"reboot\">Text Only - Textual facts only</li>\\r\\n\\t\\t\\t\\t\\t\\t\\t<li class=\"reboot\">Calculations Only - Numeric facts\\r\\n\\t\\t\\t\\t\\t\\t\\t\\tparticipating in a calculation only</li>\\r\\n\\t\\t\\t\\t\\t\\t\\t<li class=\"reboot\">Negatives Only - Negative Numeric amounts\\r\\n\\t\\t\\t\\t\\t\\t\\t\\tonly</li>\\r\\n\\t\\t\\t\\t\\t\\t\\t<li class=\"reboot\">Additional Items Only - Tagged facts\\r\\n\\t\\t\\t\\t\\t\\t\\t\\twithout a corresponding HTML presentation (i.e., hidden facts)\\r\\n\\t\\t\\t\\t\\t\\t\\t\\tonly</li>\\r\\n\\t\\t\\t\\t\\t\\t</ul>\\r\\n\\t\\t\\t\\t\\t\\t<p class=\"reboot m-2\">\\r\\n\\t\\t\\t\\t\\t\\t\\t<strong>TAGS FILTER</strong>\\r\\n\\t\\t\\t\\t\\t\\t</p>\\r\\n\\t\\t\\t\\t\\t\\t<p class=\"reboot m-2\">These filters allow the user to refine\\r\\n\\t\\t\\t\\t\\t\\t\\tthe highlighted facts by tag type:</p>\\r\\n\\t\\t\\t\\t\\t\\t<ul class=\"reboot\">\\r\\n\\t\\t\\t\\t\\t\\t\\t<li class=\"reboot\">All - Displays all tagged data (default)</li>\\r\\n\\t\\t\\t\\t\\t\\t\\t<li class=\"reboot\">Standard Only- Facts with standard tags\\r\\n\\t\\t\\t\\t\\t\\t\\t\\tfrom a common taxonomy (e.g., US_GAAP, IFRS, DEI).</li>\\r\\n\\t\\t\\t\\t\\t\\t\\t<li class=\"reboot\">Custom Only - Facts with extension\\r\\n\\t\\t\\t\\t\\t\\t\\t\\t\"custom\" tags unique to the entity\\'s document.</li>\\r\\n\\t\\t\\t\\t\\t\\t</ul>\\r\\n\\t\\t\\t\\t\\t\\t<p class=\"reboot m-2\">\\r\\n\\t\\t\\t\\t\\t\\t\\t<strong>MORE FILTERS</strong>\\r\\n\\t\\t\\t\\t\\t\\t</p>\\r\\n\\t\\t\\t\\t\\t\\t<p class=\"reboot m-2\">Additional filters that allow user to\\r\\n\\t\\t\\t\\t\\t\\t\\tfurther refine the highlighted facts:</p>\\r\\n\\t\\t\\t\\t\\t\\t<ul class=\"reboot\">\\r\\n\\t\\t\\t\\t\\t\\t\\t<li class=\"reboot\">Periods - List of all used context years\\r\\n\\t\\t\\t\\t\\t\\t\\t\\tand reporting periods</li>\\r\\n\\t\\t\\t\\t\\t\\t\\t<li class=\"reboot\">Measures - List of all used units of\\r\\n\\t\\t\\t\\t\\t\\t\\t\\tmeasure (e.g., US Dollars); as applicable</li>\\r\\n\\t\\t\\t\\t\\t\\t\\t<li class=\"reboot\">Axis - List of all used axis\\r\\n\\t\\t\\t\\t\\t\\t\\t\\t(dimensions); as applicable (dimensions); as applicable</li>\\r\\n\\t\\t\\t\\t\\t\\t\\t<li class=\"reboot\">Scale - List of all used scaled options\\r\\n\\t\\t\\t\\t\\t\\t\\t\\t(e.g., thousands, millions); as applicable</li>\\r\\n\\t\\t\\t\\t\\t\\t\\t<li class=\"reboot\">Balance - Debit, credit; as applicable</li>\\r\\n\\t\\t\\t\\t\\t\\t</ul>\\r\\n\\t\\t\\t\\t\\t\\t<p class=\"reboot m-2\">Multiple filters work in conjunction\\r\\n\\t\\t\\t\\t\\t\\t\\twith each other. For example, selecting the \"Amounts Only\" Data\\r\\n\\t\\t\\t\\t\\t\\t\\tfilter and \"Custom Only\" Tags filter will highlight only numeric\\r\\n\\t\\t\\t\\t\\t\\t\\ttagged facts using custom tags and list them in the fact list.\\r\\n\\t\\t\\t\\t\\t\\t\\tActive filters are displayed in the Filter toolbar as they are\\r\\n\\t\\t\\t\\t\\t\\t\\tselected. Active filters can be removed individually by\\r\\n\\t\\t\\t\\t\\t\\t\\tunchecking or selecting ALL option for each filter, or all at\\r\\n\\t\\t\\t\\t\\t\\t\\tonce via the \"Reset All Filters\" option.</p>\\r\\n\\t\\t\\t\\t\\t</div>\\r\\n\\t\\t\\t\\t</div>\\r\\n\\t\\t\\t\\t<div class=\"reboot card\">\\r\\n\\t\\t\\t\\t\\t<div class=\"reboot card-header px-0 py-0\">\\r\\n\\t\\t\\t\\t\\t\\t<h5 class=\"reboot mb-0\">\\r\\n\\t\\t\\t\\t\\t\\t\\t<button\\r\\n\\t\\t\\t\\t\\t\\t\\t\\tclass=\"reboot btn btn-link d-flex justify-content-between align-items-center w-100\"\\r\\n\\t\\t\\t\\t\\t\\t\\t\\ttype=\"button\" data-toggle=\"collapse\"\\r\\n\\t\\t\\t\\t\\t\\t\\t\\tdata-target=\"#help-facts-results-list\">\\r\\n\\t\\t\\t\\t\\t\\t\\t\\t<span class=\"reboot font-size-1\">Facts List (Results)</span>\\r\\n\\t\\t\\t\\t\\t\\t\\t</button>\\r\\n\\t\\t\\t\\t\\t\\t</h5>\\r\\n\\t\\t\\t\\t\\t</div>\\r\\n\\t\\t\\t\\t\\t<div id=\"help-facts-results-list\" class=\"reboot collapse\"\\r\\n\\t\\t\\t\\t\\t\\tdata-parent=\"#help-sections\">\\r\\n\\t\\t\\t\\t\\t\\t<p class=\"reboot m-2\">On the toolbar, select the \"count\" to\\r\\n\\t\\t\\t\\t\\t\\t\\tthe right of the word Facts (e.g., Facts 234) to reveal the Facts\\r\\n\\t\\t\\t\\t\\t\\t\\tList results - a navigable listing of all currently highlighted\\r\\n\\t\\t\\t\\t\\t\\t\\ttagged facts. The count represents the current number of facts.</p>\\r\\n\\t\\t\\t\\t\\t\\t<p class=\"reboot m-2\">By default, all tagged facts are\\r\\n\\t\\t\\t\\t\\t\\t\\tdisplayed in the Fact List Results. The list content and count\\r\\n\\t\\t\\t\\t\\t\\t\\treflects the currently highlighted facts (i.e., both Filters and\\r\\n\\t\\t\\t\\t\\t\\t\\tSearch criteria refine the list to match the highlighted tagged\\r\\n\\t\\t\\t\\t\\t\\t\\tfacts). Navigation controls are available to move through the\\r\\n\\t\\t\\t\\t\\t\\t\\tlist as well as move the current view to the corresponding\\r\\n\\t\\t\\t\\t\\t\\t\\thighlighted fact location automatically. When a fact in the Facts\\r\\n\\t\\t\\t\\t\\t\\t\\tResults List is selected, it will reveal the Fact Review Window.</p>\\r\\n\\t\\t\\t\\t\\t\\t<p class=\"reboot m-2\">Certain letters may appear to the right\\r\\n\\t\\t\\t\\t\\t\\t\\tof an item in the Fact Result list to indicate a certain\\r\\n\\t\\t\\t\\t\\t\\t\\tproperty. If the letter \"A\" appears for a fact, it indicates the\\r\\n\\t\\t\\t\\t\\t\\t\\tfact is additional data (i.e., hidden with potentially no\\r\\n\\t\\t\\t\\t\\t\\t\\tcorresponding HTML presentation). If the letter \"C\" appears, the\\r\\n\\t\\t\\t\\t\\t\\t\\tfact is tagged with a custom tag. If the letter \"D\" appears, the\\r\\n\\t\\t\\t\\t\\t\\t\\tfact is tagged with dimensional information.</p>\\r\\n\\t\\t\\t\\t\\t</div>\\r\\n\\t\\t\\t\\t</div>\\r\\n\\t\\t\\t\\t<div class=\"reboot card\">\\r\\n\\t\\t\\t\\t\\t<div class=\"reboot card-header px-0 py-0\">\\r\\n\\t\\t\\t\\t\\t\\t<h5 class=\"reboot mb-0\">\\r\\n\\t\\t\\t\\t\\t\\t\\t<button\\r\\n\\t\\t\\t\\t\\t\\t\\t\\tclass=\"reboot btn btn-link d-flex justify-content-between align-items-center w-100\"\\r\\n\\t\\t\\t\\t\\t\\t\\t\\ttype=\"button\" data-toggle=\"collapse\"\\r\\n\\t\\t\\t\\t\\t\\t\\t\\tdata-target=\"#help-tagged-sections\">\\r\\n\\t\\t\\t\\t\\t\\t\\t\\t<span class=\"reboot font-size-1\">Sections</span>\\r\\n\\t\\t\\t\\t\\t\\t\\t</button>\\r\\n\\t\\t\\t\\t\\t\\t</h5>\\r\\n\\t\\t\\t\\t\\t</div>\\r\\n\\t\\t\\t\\t\\t<div id=\"help-tagged-sections\" class=\"reboot collapse\"\\r\\n\\t\\t\\t\\t\\t\\tdata-parent=\"#help-sections\">\\r\\n\\t\\t\\t\\t\\t\\t<p class=\"reboot m-2\">The SECTIONS toolbar item provides a\\r\\n\\t\\t\\t\\t\\t\\t\\tlisting of the tagged sections of the Inline document. Sections\\r\\n\\t\\t\\t\\t\\t\\t\\tare divided into three groups:</p>\\r\\n\\t\\t\\t\\t\\t\\t<ul class=\"reboot\">\\r\\n\\t\\t\\t\\t\\t\\t\\t<li class=\"reboot\">Document & Entity Information</li>\\r\\n\\t\\t\\t\\t\\t\\t\\t<li class=\"reboot\">Financial Statements</li>\\r\\n\\t\\t\\t\\t\\t\\t\\t<li class=\"reboot\">Notes to the Financial Statements</li>\\r\\n\\t\\t\\t\\t\\t\\t</ul>\\r\\n\\t\\t\\t\\t\\t\\t<p class=\"reboot m-2\">By expanding a group and selecting a\\r\\n\\t\\t\\t\\t\\t\\t\\tsection item in the listing, Inline XBRL viewer will navigate to that section.\\r\\n\\t\\t\\t\\t\\t\\t\\tWhen the Tagged Sections feature is open, the Search Sections box\\r\\n\\t\\t\\t\\t\\t\\t\\twill additionally filter the list of sections to only those\\r\\n\\t\\t\\t\\t\\t\\t\\tsections that match the entered criteria.</p>\\r\\n\\t\\t\\t\\t\\t</div>\\r\\n\\t\\t\\t\\t</div>\\r\\n\\t\\t\\t\\t\\r\\n\\t\\t\\t\\t<div class=\"reboot card\">\\r\\n\\t\\t\\t\\t\\t<div class=\"reboot card-header px-0 py-0\">\\r\\n\\t\\t\\t\\t\\t\\t<h5 class=\"reboot mb-0\">\\r\\n\\t\\t\\t\\t\\t\\t\\t<button\\r\\n\\t\\t\\t\\t\\t\\t\\t\\tclass=\"reboot btn btn-link d-flex justify-content-between align-items-center w-100\"\\r\\n\\t\\t\\t\\t\\t\\t\\t\\ttype=\"button\" data-toggle=\"collapse\"\\r\\n\\t\\t\\t\\t\\t\\t\\t\\tdata-target=\"#help-tagged-menu\">\\r\\n\\t\\t\\t\\t\\t\\t\\t\\t<span class=\"reboot font-size-1\">Menu</span>\\r\\n\\t\\t\\t\\t\\t\\t\\t</button>\\r\\n\\t\\t\\t\\t\\t\\t</h5>\\r\\n\\t\\t\\t\\t\\t</div>\\r\\n\\t\\t\\t\\t\\t<div id=\"help-tagged-menu\" class=\"reboot collapse\"\\r\\n\\t\\t\\t\\t\\t\\tdata-parent=\"#help-sections\">\\r\\n\\t\\t\\t\\t\\t\\t<p class=\"reboot m-2\">\\r\\n\\t\\t\\t\\t\\t\\t\\t<strong>Information</strong>\\r\\n\\t\\t\\t\\t\\t\\t</p>\\r\\n\\t\\t\\t\\t\\t\\t<p class=\"reboot m-2\">The Information menu item provides\\r\\n\\t\\t\\t\\t\\t\\t\\tadditional detail about the current Inline document and\\r\\n\\t\\t\\t\\t\\t\\t\\tcustomizable viewer settings.</p>\\r\\n\\t\\t\\t\\t\\t\\t<ul class=\"reboot\">\\r\\n\\t\\t\\t\\t\\t\\t\\t<li class=\"reboot\">Company and Document - Basic company and document\\r\\n\\t\\t\\t\\t\\t\\t\\t\\tinformation</li>\\r\\n\\t\\t\\t\\t\\t\\t\\t<li class=\"reboot\">Tags - Fact and tag (standard and custom)\\r\\n\\t\\t\\t\\t\\t\\t\\t\\tinformation</li>\\r\\n\\t\\t\\t\\t\\t\\t\\t<li class=\"reboot\">Files - Files used</li>\\r\\n\\t\\t\\t\\t\\t\\t\\t<li class=\"reboot\">Additional Items - Additional hidden data\\r\\n\\t\\t\\t\\t\\t\\t\\t\\tthat\\'s been tagged but potentially does not have a corresponding\\r\\n\\t\\t\\t\\t\\t\\t\\t\\tlocation in the HTML</li>\\r\\n\\t\\t\\t\\t\\t\\t</ul>\\r\\n\\t\\t\\t\\t\\t\\t<p class=\"reboot m-2\">\\r\\n\\t\\t\\t\\t\\t\\t\\t<strong>Save XBRL Instance</strong>\\r\\n\\t\\t\\t\\t\\t\\t</p>\\r\\n\\t\\t\\t\\t\\t\\t<p class=\"reboot m-2\">The Save XBRL Instance menu item allows\\r\\n\\t\\t\\t\\t\\t\\t\\tan XBRL instance document (*.xml) that is extracted from the\\r\\n\\t\\t\\t\\t\\t\\t\\tInline document to be saved locally for use by software\\r\\n\\t\\t\\t\\t\\t\\t\\tsupporting the XBRL format.</p>\\r\\n\\t\\t\\t\\t\\t\\t<p class=\"reboot m-2\">\\r\\n\\t\\t\\t\\t\\t\\t\\t<strong>Save XBRL Zip</strong>\\r\\n\\t\\t\\t\\t\\t\\t</p>\\r\\n\\t\\t\\t\\t\\t\\t<p class=\"reboot m-2\">The Save XBRL Zip menu item allows a zip\\r\\n\\t\\t\\t\\t\\t\\t\\tfile (*.zip) that contains the as-provided XBRL instance document\\r\\n\\t\\t\\t\\t\\t\\t\\tand related custom taxonomy files to be saved locally.</p>\\r\\n\\t\\t\\t\\t\\t\\t<p class=\"reboot m-2\">\\r\\n\\t\\t\\t\\t\\t\\t\\t<strong>Settings</strong>\\r\\n\\t\\t\\t\\t\\t\\t</p>\\r\\n\\t\\t\\t\\t\\t\\t<p class=\"reboot m-2\">The Settings menu item provides the\\r\\n\\t\\t\\t\\t\\t\\t\\tability to customize Viewer features. Note that when logged into\\r\\n\\t\\t\\t\\t\\t\\t\\tthe application, a Save Settings button will appear at the top of\\r\\n\\t\\t\\t\\t\\t\\t\\tthe settings window to allow you to save your setting preferences\\r\\n\\t\\t\\t\\t\\t\\t\\tfor the next time you use Inline XBRL viewer.</p>\\r\\n\\t\\t\\t\\t\\t\\t<p class=\"reboot m-2\">\\r\\n\\t\\t\\t\\t\\t\\t\\t<strong>Tagged Fact Hover</strong>\\r\\n\\t\\t\\t\\t\\t\\t</p>\\r\\n\\t\\t\\t\\t\\t\\t<ul class=\"reboot\">\\r\\n\\t\\t\\t\\t\\t\\t\\t<li class=\"reboot\">On - Displays the hover fact review\\r\\n\\t\\t\\t\\t\\t\\t\\t\\twindow for any tagged fact*</li>\\r\\n\\t\\t\\t\\t\\t\\t\\t<li class=\"reboot\">Off - Hides the hover fact review window\\r\\n\\t\\t\\t\\t\\t\\t\\t\\tfor any tagged fact (default)</li>\\r\\n\\t\\t\\t\\t\\t\\t</ul>\\r\\n\\t\\t\\t\\t\\t\\t<p class=\"reboot m-2\">* May impact performance with certain\\r\\n\\t\\t\\t\\t\\t\\t\\tweb browsers.</p>\\r\\n\\t\\t\\t\\t\\t\\t<p class=\"reboot m-2\">\\r\\n\\t\\t\\t\\t\\t\\t\\t<strong>Auto Scrolling Position </strong>(This setting will have\\r\\n\\t\\t\\t\\t\\t\\t\\tno effect on IE 10 or Safari)\\r\\n\\t\\t\\t\\t\\t\\t</p>\\r\\n\\t\\t\\t\\t\\t\\t<ul class=\"reboot\">\\r\\n\\t\\t\\t\\t\\t\\t\\t<li class=\"reboot\">Top - Selecting a fact from the Sections\\r\\n\\t\\t\\t\\t\\t\\t\\t\\tMenu or the Fact Menu will automatically scroll that element to\\r\\n\\t\\t\\t\\t\\t\\t\\t\\tthe Top of the Inline XBRL viewer window (default)</li>\\r\\n\\t\\t\\t\\t\\t\\t\\t<li class=\"reboot\">Center - Selecting a fact from the\\r\\n\\t\\t\\t\\t\\t\\t\\t\\tSections Menu or the Fact Menu will automatically scroll that\\r\\n\\t\\t\\t\\t\\t\\t\\t\\telement to the middle of the Inline XBRL viewer window</li>\\r\\n\\t\\t\\t\\t\\t\\t</ul>\\r\\n\\t\\t\\t\\t\\t\\t<p class=\"reboot m-2\">\\r\\n\\t\\t\\t\\t\\t\\t\\t<strong>Highlight Colors</strong> (Use the save and reset buttons\\r\\n\\t\\t\\t\\t\\t\\t\\tto save the selected setting or reset to default)\\r\\n\\t\\t\\t\\t\\t\\t</p>\\r\\n\\t\\t\\t\\t\\t\\t<ul class=\"reboot\">\\r\\n\\t\\t\\t\\t\\t\\t\\t<li class=\"reboot\">Tagged Data - Change the highlight color\\r\\n\\t\\t\\t\\t\\t\\t\\t\\tof the tagged fact border</li>\\r\\n\\t\\t\\t\\t\\t\\t\\t<li class=\"reboot\">Search Results - Change the background\\r\\n\\t\\t\\t\\t\\t\\t\\t\\tcolor of tagged items matching the Search results</li>\\r\\n\\t\\t\\t\\t\\t\\t\\t<li class=\"reboot\">Selected Fact - Change the color of\\r\\n\\t\\t\\t\\t\\t\\t\\t\\thighlight border used to identify the currently selected fact</li>\\r\\n\\t\\t\\t\\t\\t\\t\\t<li class=\"reboot\">Tag Shading (hover) - Change the color of\\r\\n\\t\\t\\t\\t\\t\\t\\t\\tthe shading applied to tagged data on hover</li>\\r\\n\\t\\t\\t\\t\\t\\t</ul>\\r\\n\\t\\t\\t\\t\\t\\t<p class=\"reboot m-2\">\\r\\n\\t\\t\\t\\t\\t\\t\\t<strong>Search Options</strong>\\r\\n\\t\\t\\t\\t\\t\\t</p>\\r\\n\\t\\t\\t\\t\\t\\t<ul class=\"reboot\">\\r\\n\\t\\t\\t\\t\\t\\t\\t<li class=\"reboot\">Match Case - Matches the specific case of\\r\\n\\t\\t\\t\\t\\t\\t\\t\\tthe entered Search keyword</li>\\r\\n\\t\\t\\t\\t\\t\\t\\t<li class=\"reboot\">Include Labels - Extends Search to\\r\\n\\t\\t\\t\\t\\t\\t\\t\\tinclude tag labels</li>\\r\\n\\t\\t\\t\\t\\t\\t\\t<li class=\"reboot\">Include Definitions - Extends Search to\\r\\n\\t\\t\\t\\t\\t\\t\\t\\tinclude tag definitions</li>\\r\\n\\t\\t\\t\\t\\t\\t\\t<li class=\"reboot\">Include Dimensions - Extends Search to\\r\\n\\t\\t\\t\\t\\t\\t\\t\\tinclude dimensional detail</li>\\r\\n\\t\\t\\t\\t\\t\\t\\t<li class=\"reboot\">Include References - Extends Search to\\r\\n\\t\\t\\t\\t\\t\\t\\t\\tinclude authoritative reference information. Optionally specify\\r\\n\\t\\t\\t\\t\\t\\t\\t\\tthe reference parts to include in the search (e.g., topic,\\r\\n\\t\\t\\t\\t\\t\\t\\t\\tsubtopic, section)</li>\\r\\n\\t\\t\\t\\t\\t\\t</ul>\\r\\n\\t\\t\\t\\t\\t\\t<p class=\"reboot m-2\">\\r\\n\\t\\t\\t\\t\\t\\t\\t<strong>Help</strong>(this content)\\r\\n\\t\\t\\t\\t\\t\\t</p>\\r\\n\\t\\t\\t\\t\\t\\t<p class=\"reboot m-2\">\\r\\n\\t\\t\\t\\t\\t\\t\\t<strong>Version</strong>\\r\\n\\t\\t\\t\\t\\t\\t</p>\\r\\n\\t\\t\\t\\t\\t\\t<p class=\"reboot m-2\">Indicates the current build of the Inline XBRL viewer\\r\\n\\t\\t\\t\\t\\t\\t\\tapplication.</p>\\r\\n\\t\\t\\t\\t\\t</div>\\r\\n\\t\\t\\t\\t</div>\\r\\n\\t\\t\\t\\r\\n\\t\\t\\t</div>\\r\\n\\t\\t</div>\\r\\n\\r\\n\\t\\t<div data-test=\"taxonomies-menu\" id=\"taxonomies-menu\"\\r\\n\\t\\t\\tclass=\"reboot right-sidenav col-sm-3 bg-light invisible\">\\r\\n\\t\\t\\t<div class=\"reboot d-flex flex-column flex-fill h-100\">\\r\\n\\t\\t\\t\\t<div class=\"reboot mb-2\">\\r\\n\\t\\t\\t\\t\\t<span class=\"reboot lead\">Facts</span> <a\\r\\n\\t\\t\\t\\t\\t\\tid=\"taxonomy-menu-secondary-toggle\"\\r\\n\\t\\t\\t\\t\\t\\tdata-test=\"taxonomy-secondary-toggle\"\\r\\n\\t\\t\\t\\t\\t\\tclass=\"reboot float-right click\"> <i\\r\\n\\t\\t\\t\\t\\t\\tclass=\"reboot fas fa-times-circle mt-2\"></i>\\r\\n\\t\\t\\t\\t\\t</a>\\r\\n\\t\\t\\t\\t</div>\\r\\n\\t\\t\\t\\t<div id=\"taxonomies-menu-list-pagination\"\\r\\n\\t\\t\\t\\t\\tclass=\"reboot d-flex flex-column flex-fill h-100 w-100\">\\r\\n\\t\\t\\t\\t\\t<div class=\"reboot pagination\"></div>\\r\\n\\t\\t\\t\\t\\t<div class=\"reboot form-group\">\\r\\n\\t\\t\\t\\t\\t\\t<select id=\"taxonomies-menu-page-select\"\\r\\n\\t\\t\\t\\t\\t\\t\\tclass=\"reboot form-control\"\\r\\n\\t\\t\\t\\t\\t\\t\\taria-label=\"Quickly jump to a page in the Fact Menu.\"\\r\\n\\t\\t\\t\\t\\t\\t\\ttabindex=\"13\">\\r\\n\\t\\t\\t\\t\\t\\t\\t<option class=\"reboot\">Select Page</option>\\r\\n\\t\\t\\t\\t\\t\\t</select>\\r\\n\\t\\t\\t\\t\\t</div>\\r\\n\\t\\t\\t\\t\\t<div\\r\\n\\t\\t\\t\\t\\t\\tclass=\"reboot list-group list-group-flush overflow-x-auto w-100\"></div>\\r\\n\\t\\t\\t\\t</div>\\r\\n\\t\\t\\t</div>\\r\\n\\t\\t</div>\\r\\n\\t\\t<div id=\"back-to-top\" class=\"reboot d-none\">\\r\\n\\t\\t\\t<button id=\"back-to-top-btn\" type=\"button\"\\r\\n\\t\\t\\t\\tclass=\"btn btn-sm btn-primary\">\\r\\n\\t\\t\\t\\t<i class=\"reboot fas fa-arrow-up\"></i>\\r\\n\\t\\t\\t</button>\\r\\n\\t\\t</div>\\r\\n\\r\\n\\t\\t<div id=\"dynamic-xbrl-form\" class=\"position-relative\"></div>\\r\\n\\r\\n\\r\\n\\t</div>\\r\\n\\r\\n\\t<div id=\"form-information-modal\" data-test=\"form-information-modal\"\\r\\n\\t\\tclass=\"reboot dialog-box fixed-dialog-box d-none bg-white\">\\r\\n\\t\\t<div\\r\\n\\t\\t\\tclass=\"reboot dialog-header bg-sec text-white px-1 d-flex justify-content-between\">\\r\\n\\t\\t\\t<p id=\"form-information-modal-title\"\\r\\n\\t\\t\\t\\tdata-test=\"form-information-modal-title\" class=\"reboot lead mb-0\"></p>\\r\\n\\t\\t\\t<div class=\"reboot dialog-header-actions\">\\r\\n\\t\\t\\t\\t<i id=\"form-information-modal-drag\"\\r\\n\\t\\t\\t\\t\\ttitle=\"Click and drag to move this Dialog Box.\"\\r\\n\\t\\t\\t\\t\\tclass=\"reboot fas fa-arrows-alt m-1 drag-icon d-none d-sm-inline-block\"\\r\\n\\t\\t\\t\\t\\ttabindex=\"14\"></i> <i id=\"dialog-box-copy-content\" title=\"Click to Copy all Dialog Box Content.\"\\r\\n\\t\\t\\t\\t\\tclass=\"reboot fas fa-copy m-1 click\" tabindex=\"14\"></i> <i\\r\\n\\t\\t\\t\\t\\tid=\"dialog-box-close\"\\r\\n\\t\\t\\t\\t\\tdata-name=\"Form Information Modal\"\\r\\n\\t\\t\\t\\t\\ttitle=\"Click to Close this Dialog Box.\"\\r\\n\\t\\t\\t\\t\\tclass=\"reboot fas fa-times m-1 click\" tabindex=\"14\"></i>\\r\\n\\r\\n\\t\\t\\t</div>\\r\\n\\t\\t</div>\\r\\n\\t\\t<div class=\"reboot dialog-content\">\\r\\n\\t\\t\\t<div id=\"form-information-copy-paste\"\\r\\n\\t\\t\\t\\tclass=\"reboot form-group d-none\">\\r\\n\\t\\t\\t\\t<label class=\"reboot\">Copy and Paste Below Content.</label> <a\\r\\n\\t\\t\\t\\t\\tid=\"dialog-content-copy-content\"\\r\\n\\t\\t\\t\\t\\tclass=\"reboot float-right click color-inherit\"\\r\\n\\t\\t\\t\\t\\ttabindex=\"14\"> <i class=\"reboot fas fa-times-circle mt-2\"></i>\\r\\n\\t\\t\\t\\t</a>\\r\\n\\t\\t\\t\\t<textarea class=\"reboot form-control\" rows=\"5\" tabindex=\"14\"></textarea>\\r\\n\\t\\t\\t</div>\\r\\n\\t\\t\\t<div id=\"form-information-modal-carousel\" class=\"reboot carousel\"\\r\\n\\t\\t\\t\\tdata-interval=\"false\" data-ride=\"carousel\">\\r\\n\\t\\t\\t\\t<div class=\"reboot carousel-inner\">\\r\\n\\t\\t\\t\\t\\t<div class=\"reboot carousel-item table-responsive active\">\\r\\n\\t\\t\\t\\t\\t\\t<table class=\"reboot table table-striped table-sm\">\\r\\n\\t\\t\\t\\t\\t\\t\\t<tbody class=\"reboot\" id=\"form-information-modal-carousel-page-1\"\\r\\n\\t\\t\\t\\t\\t\\t\\t\\ttabindex=\"14\">\\r\\n\\t\\t\\t\\t\\t\\t\\t\\t<!-- Below is populated dynamically VIA JS -->\\r\\n\\t\\t\\t\\t\\t\\t\\t\\t<tr class=\"reboot\">\\r\\n\\t\\t\\t\\t\\t\\t\\t\\t\\t<td class=\"reboot text-center\"><i\\r\\n\\t\\t\\t\\t\\t\\t\\t\\t\\t\\tclass=\"reboot fas fa-spinner fa-spin\"></i></td>\\r\\n\\t\\t\\t\\t\\t\\t\\t\\t</tr>\\r\\n\\t\\t\\t\\t\\t\\t\\t</tbody>\\r\\n\\t\\t\\t\\t\\t\\t</table>\\r\\n\\t\\t\\t\\t\\t</div>\\r\\n\\t\\t\\t\\t\\t<div class=\"reboot carousel-item table-responsive\">\\r\\n\\t\\t\\t\\t\\t\\t<table class=\"reboot table table-striped table-bordered table-sm\">\\r\\n\\t\\t\\t\\t\\t\\t\\t<tbody class=\"reboot\" id=\"form-information-modal-carousel-page-2\"\\r\\n\\t\\t\\t\\t\\t\\t\\t\\ttabindex=\"14\">\\r\\n\\t\\t\\t\\t\\t\\t\\t\\t<!-- Below is populated dynamically VIA JS -->\\r\\n\\t\\t\\t\\t\\t\\t\\t\\t<tr class=\"reboot\">\\r\\n\\t\\t\\t\\t\\t\\t\\t\\t\\t<td class=\"reboot text-center\"><i\\r\\n\\t\\t\\t\\t\\t\\t\\t\\t\\t\\tclass=\"reboot fas fa-spinner fa-spin\"></i></td>\\r\\n\\t\\t\\t\\t\\t\\t\\t\\t</tr>\\r\\n\\t\\t\\t\\t\\t\\t\\t</tbody>\\r\\n\\t\\t\\t\\t\\t\\t</table>\\r\\n\\t\\t\\t\\t\\t</div>\\r\\n\\t\\t\\t\\t\\t<div class=\"reboot carousel-item table-responsive\">\\r\\n\\t\\t\\t\\t\\t\\t<table class=\"reboot table table-striped table-sm\">\\r\\n\\t\\t\\t\\t\\t\\t\\t<tbody class=\"reboot\" id=\"form-information-modal-carousel-page-3\"\\r\\n\\t\\t\\t\\t\\t\\t\\t\\ttabindex=\"14\">\\r\\n\\t\\t\\t\\t\\t\\t\\t\\t<!-- Below is populated dynamically VIA JS -->\\r\\n\\t\\t\\t\\t\\t\\t\\t\\t<tr class=\"reboot\">\\r\\n\\t\\t\\t\\t\\t\\t\\t\\t\\t<td class=\"reboot text-center\"><i\\r\\n\\t\\t\\t\\t\\t\\t\\t\\t\\t\\tclass=\"reboot fas fa-spinner fa-spin\"></i></td>\\r\\n\\t\\t\\t\\t\\t\\t\\t\\t</tr>\\r\\n\\t\\t\\t\\t\\t\\t\\t</tbody>\\r\\n\\t\\t\\t\\t\\t\\t</table>\\r\\n\\t\\t\\t\\t\\t</div>\\r\\n\\t\\t\\t\\t\\t<div class=\"reboot carousel-item table-responsive\">\\r\\n\\t\\t\\t\\t\\t\\t<table class=\"reboot table table-striped table-sm\">\\r\\n\\t\\t\\t\\t\\t\\t\\t<tbody class=\"reboot\" id=\"form-information-modal-carousel-page-4\"\\r\\n\\t\\t\\t\\t\\t\\t\\t\\ttabindex=\"14\">\\r\\n\\t\\t\\t\\t\\t\\t\\t\\t<!-- Below is populated dynamically VIA JS -->\\r\\n\\t\\t\\t\\t\\t\\t\\t\\t<tr class=\"reboot\">\\r\\n\\t\\t\\t\\t\\t\\t\\t\\t\\t<td class=\"reboot text-center\"><i\\r\\n\\t\\t\\t\\t\\t\\t\\t\\t\\t\\tclass=\"reboot fas fa-spinner fa-spin\"></i></td>\\r\\n\\t\\t\\t\\t\\t\\t\\t\\t</tr>\\r\\n\\t\\t\\t\\t\\t\\t\\t</tbody>\\r\\n\\t\\t\\t\\t\\t\\t</table>\\r\\n\\t\\t\\t\\t\\t</div>\\r\\n\\t\\t\\t\\t</div>\\r\\n\\t\\t\\t</div>\\r\\n\\t\\t</div>\\r\\n\\t\\t<div class=\"reboot dialog-footer d-flex justify-content-around\">\\r\\n\\t\\t\\t<button id=\"form-information-prev\"\\r\\n\\t\\t\\t\\tclass=\"reboot btn btn-link text-dark\"\\r\\n\\t\\t\\t\\thref=\"#form-information-modal-carousel\" role=\"button\"\\r\\n\\t\\t\\t\\tdata-slide=\"prev\" tabindex=\"14\">\\r\\n\\t\\t\\t\\t<i class=\"reboot fas fa-chevron-left\" title=\"Previous\"></i> <span\\r\\n\\t\\t\\t\\t\\tclass=\"reboot sr-only\">Previous</span>\\r\\n\\t\\t\\t</button>\\r\\n\\t\\t\\t<ol id=\"form-information-carousel-indicators\"\\r\\n\\t\\t\\t\\tclass=\"reboot carousel-indicators mx-0 my-3 p-initial\">\\r\\n\\t\\t\\t</ol>\\r\\n\\t\\t\\t<button id=\"form-information-next\" data-test=\"form-information-next\"\\r\\n\\t\\t\\t\\tclass=\"reboot btn btn-link text-dark\"\\r\\n\\t\\t\\t\\thref=\"#form-information-modal-carousel\" role=\"button\"\\r\\n\\t\\t\\t\\tdata-slide=\"next\" tabindex=\"14\">\\r\\n\\t\\t\\t\\t<i class=\"reboot fas fa-chevron-right\" title=\"Next\"></i> <span\\r\\n\\t\\t\\t\\t\\tclass=\"reboot sr-only\">Next</span>\\r\\n\\t\\t\\t</button>\\r\\n\\t\\t</div>\\r\\n\\t</div>\\r\\n\\r\\n\\t<div id=\"settings-modal\" data-test=\"settings-modal\"\\r\\n\\t\\tclass=\"reboot dialog-box fixed-dialog-box d-none bg-white\">\\r\\n\\t\\t<div\\r\\n\\t\\t\\tclass=\"reboot dialog-header bg-sec text-white px-1 d-flex justify-content-between\">\\r\\n\\t\\t\\t<p id=\"settings-modal-title\" data-test=\"settings-modal-title\"\\r\\n\\t\\t\\t\\tclass=\"reboot lead mb-0\">Settings</p>\\r\\n\\t\\t\\t<div class=\"reboot dialog-header-actions\">\\r\\n\\t\\t\\t\\t<i id=\"settings-modal-drag\"\\r\\n\\t\\t\\t\\t\\ttitle=\"Click and drag to move this Dialog Box.\"\\r\\n\\t\\t\\t\\t\\tclass=\"reboot fas fa-arrows-alt m-1 drag-icon d-none d-sm-inline-block\"\\r\\n\\t\\t\\t\\t\\ttabindex=\"15\"></i> <i id=\"settings-modal-close\" data-name=\"Settings Modal\"\\r\\n\\t\\t\\t\\t\\ttitle=\"Click to Close this Dialog Box.\"\\r\\n\\t\\t\\t\\t\\tclass=\"reboot fas fa-times m-1 click\" tabindex=\"15\"></i>\\r\\n\\t\\t\\t</div>\\r\\n\\t\\t</div>\\r\\n\\t\\t<div class=\"reboot dialog-content\">\\r\\n\\t\\t\\t<form class=\"reboot\">\\r\\n\\t\\t\\t\\t<div class=\"reboot form-group row\">\\r\\n\\t\\t\\t\\t\\t<label class=\"reboot col-sm-4 col-form-label\" tabindex=\"15\">Hover\\r\\n\\t\\t\\t\\t\\t\\tover Fact for quick information.</label> <select id=\"hover-option-select\"\\r\\n\\t\\t\\t\\t\\t\\tclass=\"reboot col-sm-8 form-control\"\\r\\n\\t\\t\\t\\t\\t\\ttabindex=\"15\">\\r\\n\\t\\t\\t\\t\\t\\t<option class=\"reboot\" value=\"true\">On</option>\\r\\n\\t\\t\\t\\t\\t\\t<option class=\"reboot\" value=\"false\">Off</option>\\r\\n\\t\\t\\t\\t\\t</select>\\r\\n\\t\\t\\t\\t</div>\\r\\n\\t\\t\\t\\t<div class=\"reboot form-group row\">\\r\\n\\t\\t\\t\\t\\t<label class=\"reboot col-sm-4 col-form-label\" tabindex=\"15\">Auto\\r\\n\\t\\t\\t\\t\\t\\tScrolling Position</label> <select id=\"scroll-position-select\"\\r\\n\\t\\t\\t\\t\\t\\tclass=\"reboot col-sm-8 form-control\"\\r\\n\\t\\t\\t\\t\\t\\ttabindex=\"15\">\\r\\n\\t\\t\\t\\t\\t\\t<option class=\"reboot\" value=\"start\">Top</option>\\r\\n\\t\\t\\t\\t\\t\\t<option class=\"reboot\" value=\"center\">Center</option>\\r\\n\\t\\t\\t\\t\\t</select> <small class=\"reboot form-text text-muted col-sm-12\" tabindex=\"15\">Selecting\\r\\n\\t\\t\\t\\t\\t\\ta fact from the Sections Menu or the Fact Menu will automatically\\r\\n\\t\\t\\t\\t\\t\\tscroll that element to the (Top, or Middle) of the viewer window.\\r\\n\\t\\t\\t\\t\\t\\tThis setting will have no use on IE 10, or Safari.</small>\\r\\n\\t\\t\\t\\t</div>\\r\\n\\t\\t\\t\\t<hr class=\"reboot\">\\r\\n\\t\\t\\t\\t<div class=\"reboot form-group row\">\\r\\n\\t\\t\\t\\t\\t<label class=\"reboot col-sm-4 col-form-label\" tabindex=\"15\">\\r\\n\\t\\t\\t\\t\\t\\t<span class=\"reboot tagged-data-example-1\">Tagged Data</span>\\r\\n\\t\\t\\t\\t\\t</label>\\r\\n\\t\\t\\t\\t\\t<div class=\"reboot col-sm-4\">\\r\\n\\t\\t\\t\\t\\t\\t<div class=\"reboot\" id=\"tagged-data-color-picker\" tabindex=\"15\"></div>\\r\\n\\t\\t\\t\\t\\t</div>\\r\\n\\t\\t\\t\\t</div>\\r\\n\\t\\t\\t\\t<hr>\\r\\n\\t\\t\\t\\t<div class=\"reboot form-group row\">\\r\\n\\t\\t\\t\\t\\t<label class=\"reboot col-sm-4 col-form-label\" tabindex=\"15\">\\r\\n\\t\\t\\t\\t\\t\\t<span class=\"reboot search-results-example-1\">Search\\r\\n\\t\\t\\t\\t\\t\\t\\tResults</span>\\r\\n\\t\\t\\t\\t\\t</label>\\r\\n\\t\\t\\t\\t\\t<div class=\"reboot col-sm-4\">\\r\\n\\t\\t\\t\\t\\t\\t<div class=\"reboot\" id=\"search-results-color-picker\" tabindex=\"15\"></div>\\r\\n\\t\\t\\t\\t\\t</div>\\r\\n\\t\\t\\t\\t</div>\\r\\n\\t\\t\\t\\t<hr>\\r\\n\\t\\t\\t\\t<div class=\"reboot form-group row\">\\r\\n\\t\\t\\t\\t\\t<label class=\"reboot col-sm-4 col-form-label\" tabindex=\"15\">\\r\\n\\t\\t\\t\\t\\t\\t<span class=\"reboot selected-fact-example-1\">Selected Fact</span>\\r\\n\\t\\t\\t\\t\\t</label>\\r\\n\\t\\t\\t\\t\\t<div class=\"reboot col-sm-4\">\\r\\n\\t\\t\\t\\t\\t\\t<div class=\"reboot\" id=\"selected-fact-color-picker\" tabindex=\"15\"></div>\\r\\n\\t\\t\\t\\t\\t</div>\\r\\n\\t\\t\\t\\t</div>\\r\\n\\t\\t\\t\\t<hr>\\r\\n\\t\\t\\t\\t<div class=\"reboot form-group row\">\\r\\n\\t\\t\\t\\t\\t<label class=\"reboot col-sm-4 col-form-label\" tabindex=\"15\">\\r\\n\\t\\t\\t\\t\\t\\t<span class=\"reboot tag-shading-exmple-1\">Tag Shading\\r\\n\\t\\t\\t\\t\\t\\t\\t(hover)</span>\\r\\n\\t\\t\\t\\t\\t</label>\\r\\n\\t\\t\\t\\t\\t<div class=\"reboot col-sm-4\">\\r\\n\\t\\t\\t\\t\\t\\t<div class=\"reboot\" id=\"tag-shading-color-picker\" tabindex=\"15\"></div>\\r\\n\\t\\t\\t\\t\\t</div>\\r\\n\\t\\t\\t\\t</div>\\r\\n\\t\\t\\t</form>\\r\\n\\t\\t</div>\\r\\n\\t\\t<div class=\"reboot dialog-footer d-flex justify-content-around\"></div>\\r\\n\\t</div>\\r\\n\\r\\n\\t<div id=\"taxonomy-modal\"\\r\\n\\t\\tclass=\"reboot dialog-box fixed-dialog-box d-none bg-white\">\\r\\n\\t\\t<div\\r\\n\\t\\t\\tclass=\"reboot dialog-header bg-sec text-white px-1 d-flex justify-content-between\">\\r\\n\\t\\t\\t<p id=\"taxonomy-modal-title\" class=\"reboot lead mb-0\"></p>\\r\\n\\t\\t\\t<div class=\"reboot dialog-header-actions\">\\r\\n\\r\\n\\t\\t\\t\\t<i id=\"taxonomy-modal-drag\"\\r\\n\\t\\t\\t\\t\\ttitle=\"Click and drag to move this Dialog Box.\"\\r\\n\\t\\t\\t\\t\\tclass=\"reboot fas fa-arrows-alt m-1 drag-icon d-none d-sm-inline-block\"\\r\\n\\t\\t\\t\\t\\ttabindex=\"16\"></i> <i\\r\\n\\t\\t\\t\\t\\tid=\"taxonomy-modal-jump\"\\r\\n\\t\\t\\t\\t\\ttitle=\"Click to see this in the Facts sidebar.\"\\r\\n\\t\\t\\t\\t\\tclass=\"reboot fas fa-directions m-1 click\" tabindex=\"16\"></i> <i\\r\\n\\t\\t\\t\\t\\tid=\"taxonomy-modal-copy-content\"\\r\\n\\t\\t\\t\\t\\tclass=\"reboot fas fa-copy m-1 click\" tabindex=\"16\"></i> <i\\r\\n\\t\\t\\t\\t\\tid=\"taxonomy-modal-compress\"\\r\\n\\t\\t\\t\\t\\tclass=\"reboot fas fa-compress m-1 click d-none\" tabindex=\"16\"></i>\\r\\n\\r\\n\\t\\t\\t\\t<i id=\"taxonomy-modal-expand\"\\r\\n\\t\\t\\t\\t\\tclass=\"reboot fas fa-expand m-1 click d-none\" tabindex=\"16\"></i> <i\\r\\n\\t\\t\\t\\t\\tid=\"taxonomy-modal-close\"\\r\\n\\t\\t\\t\\t\\tclass=\"reboot fas fa-times m-1 click\" tabindex=\"16\"></i>\\r\\n\\t\\t\\t</div>\\r\\n\\t\\t</div>\\r\\n\\t\\t<div class=\"reboot dialog-content\">\\r\\n\\t\\t\\t<p id=\"taxonomy-modal-subtitle\"\\r\\n\\t\\t\\t\\tclass=\"reboot text-center font-weight-bold\"></p>\\r\\n\\t\\t\\t<div id=\"taxonomy-copy-paste\" class=\"reboot form-group d-none\">\\r\\n\\t\\t\\t\\t<label>Copy and Paste Below Content.</label> <a\\r\\n\\t\\t\\t\\t\\tid=\"taxonomy-copy-content\"\\r\\n\\t\\t\\t\\t\\tclass=\"reboot float-right click color-inherit\"\\r\\n\\t\\t\\t\\t\\ttabindex=\"16\"> <i class=\"reboot fas fa-times-circle mt-2\"></i>\\r\\n\\t\\t\\t\\t</a>\\r\\n\\t\\t\\t\\t<textarea class=\"reboot form-control\" rows=\"5\" tabindex=\"16\"></textarea>\\r\\n\\t\\t\\t</div>\\r\\n\\t\\t\\t<div id=\"taxonomy-modal-carousel\" class=\"reboot carousel\"\\r\\n\\t\\t\\t\\tdata-interval=\"false\" data-keyboard=\"false\">\\r\\n\\t\\t\\t\\t<div class=\"reboot carousel-inner\">\\r\\n\\t\\t\\t\\t\\t<div class=\"reboot carousel-item table-responsive active\">\\r\\n\\t\\t\\t\\t\\t\\t<table class=\"reboot table table-striped table-sm\"\\r\\n\\t\\t\\t\\t\\t\\t\\tid=\"taxonomy-modal-carousel-page-1\" tabindex=\"16\">\\r\\n\\t\\t\\t\\t\\t\\t\\t<!-- Below is populated dynamically VIA JS -->\\r\\n\\t\\t\\t\\t\\t\\t\\t<tbody class=\"reboot\">\\r\\n\\t\\t\\t\\t\\t\\t\\t\\t<tr class=\"reboot\">\\r\\n\\t\\t\\t\\t\\t\\t\\t\\t\\t<td class=\"reboot text-center\"><i\\r\\n\\t\\t\\t\\t\\t\\t\\t\\t\\t\\tclass=\"reboot fas fa-spinner fa-spin\"></i></td>\\r\\n\\t\\t\\t\\t\\t\\t\\t\\t</tr>\\r\\n\\t\\t\\t\\t\\t\\t\\t</tbody>\\r\\n\\t\\t\\t\\t\\t\\t</table>\\r\\n\\t\\t\\t\\t\\t</div>\\r\\n\\t\\t\\t\\t\\t<div class=\"reboot carousel-item table-responsive\">\\r\\n\\t\\t\\t\\t\\t\\t<table class=\"reboot table table-striped table-sm\"\\r\\n\\t\\t\\t\\t\\t\\t\\tid=\"taxonomy-modal-carousel-page-2\" tabindex=\"16\">\\r\\n\\t\\t\\t\\t\\t\\t\\t<!-- Below is populated dynamically VIA JS -->\\r\\n\\t\\t\\t\\t\\t\\t\\t<tbody class=\"reboot\">\\r\\n\\t\\t\\t\\t\\t\\t\\t\\t<tr class=\"reboot\">\\r\\n\\t\\t\\t\\t\\t\\t\\t\\t\\t<td class=\"reboot text-center\"><i\\r\\n\\t\\t\\t\\t\\t\\t\\t\\t\\t\\tclass=\"reboot fas fa-spinner fa-spin\"></i></td>\\r\\n\\t\\t\\t\\t\\t\\t\\t\\t</tr>\\r\\n\\t\\t\\t\\t\\t\\t\\t</tbody>\\r\\n\\t\\t\\t\\t\\t\\t</table>\\r\\n\\t\\t\\t\\t\\t</div>\\r\\n\\t\\t\\t\\t\\t<div class=\"reboot carousel-item table-responsive\">\\r\\n\\t\\t\\t\\t\\t\\t<table class=\"reboot table table-striped table-sm\"\\r\\n\\t\\t\\t\\t\\t\\t\\tid=\"taxonomy-modal-carousel-page-3\" tabindex=\"16\">\\r\\n\\t\\t\\t\\t\\t\\t\\t<!-- Below is populated dynamically VIA JS -->\\r\\n\\t\\t\\t\\t\\t\\t\\t<tbody class=\"reboot\">\\r\\n\\t\\t\\t\\t\\t\\t\\t\\t<tr class=\"reboot\">\\r\\n\\t\\t\\t\\t\\t\\t\\t\\t\\t<td class=\"reboot text-center\"><i\\r\\n\\t\\t\\t\\t\\t\\t\\t\\t\\t\\tclass=\"reboot fas fa-spinner fa-spin\"></i></td>\\r\\n\\t\\t\\t\\t\\t\\t\\t\\t</tr>\\r\\n\\t\\t\\t\\t\\t\\t\\t</tbody>\\r\\n\\t\\t\\t\\t\\t\\t</table>\\r\\n\\t\\t\\t\\t\\t</div>\\r\\n\\t\\t\\t\\t\\t<div class=\"reboot carousel-item table-responsive\">\\r\\n\\t\\t\\t\\t\\t\\t<table class=\"reboot table table-striped table-sm\"\\r\\n\\t\\t\\t\\t\\t\\t\\tid=\"taxonomy-modal-carousel-page-4\" tabindex=\"16\">\\r\\n\\t\\t\\t\\t\\t\\t\\t<!-- Below is populated dynamically VIA JS -->\\r\\n\\t\\t\\t\\t\\t\\t\\t<tbody class=\"reboot\">\\r\\n\\t\\t\\t\\t\\t\\t\\t\\t<tr class=\"reboot\">\\r\\n\\t\\t\\t\\t\\t\\t\\t\\t\\t<td class=\"reboot text-center\"><i\\r\\n\\t\\t\\t\\t\\t\\t\\t\\t\\t\\tclass=\"reboot fas fa-spinner fa-spin\"></i></td>\\r\\n\\t\\t\\t\\t\\t\\t\\t\\t</tr>\\r\\n\\t\\t\\t\\t\\t\\t\\t</tbody>\\r\\n\\t\\t\\t\\t\\t\\t</table>\\r\\n\\t\\t\\t\\t\\t</div>\\r\\n\\t\\t\\t\\t</div>\\r\\n\\t\\t\\t</div>\\r\\n\\t\\t</div>\\r\\n\\t\\t<div class=\"reboot dialog-footer d-flex justify-content-around\">\\r\\n\\t\\t\\t<button data-test=\"modal-taxonomy-prev\"\\r\\n\\t\\t\\t\\tclass=\"reboot btn btn-link text-dark\"\\r\\n\\t\\t\\t\\thref=\"#taxonomy-modal-carousel\" role=\"button\" data-slide=\"prev\"\\r\\n\\t\\t\\t\\ttabindex=\"16\">\\r\\n\\t\\t\\t\\t<i class=\"reboot fas fa-chevron-left\" title=\"Previous\"></i> <span\\r\\n\\t\\t\\t\\t\\tclass=\"reboot sr-only\">Previous</span>\\r\\n\\t\\t\\t</button>\\r\\n\\t\\t\\t<ol id=\"taxonomy-modal-carousel-indicators\"\\r\\n\\t\\t\\t\\tclass=\"reboot carousel-indicators mx-0 my-3 p-initial\">\\r\\n\\t\\t\\t</ol>\\r\\n\\t\\t\\t<button data-test=\"modal-taxonomy-next\"\\r\\n\\t\\t\\t\\tclass=\"reboot btn btn-link text-dark\"\\r\\n\\t\\t\\t\\thref=\"#taxonomy-modal-carousel\" role=\"button\" data-slide=\"next\"\\r\\n\\t\\t\\t\\ttabindex=\"16\">\\r\\n\\t\\t\\t\\t<i class=\"reboot fas fa-chevron-right\" title=\"Next\"></i> <span\\r\\n\\t\\t\\t\\t\\tclass=\"reboot sr-only\">Next</span>\\r\\n\\t\\t\\t</button>\\r\\n\\t\\t</div>\\r\\n\\t</div>\\r\\n\\r\\n\\t<div id=\"taxonomy-nested-modal\"\\r\\n\\t\\tclass=\"reboot dialog-box fixed-dialog-box d-none bg-white\">\\r\\n\\t\\t<div\\r\\n\\t\\t\\tclass=\"reboot dialog-header bg-sec text-white px-1 d-flex justify-content-between\">\\r\\n\\t\\t\\t<p class=\"reboot lead mb-0\">\\r\\n\\t\\t\\t\\tNested Facts <span class=\"reboot\" id=\"nested-page\"></span> <span\\r\\n\\t\\t\\t\\t\\tclass=\"reboot\">/</span> <span class=\"reboot\" id=\"nested-count\"></span>\\r\\n\\t\\t\\t</p>\\r\\n\\t\\t\\t<div class=\"reboot dialog-header-actions\">\\r\\n\\t\\t\\t\\t<i id=\"taxonomy-nested-modal-drag\"\\r\\n\\t\\t\\t\\t\\ttitle=\"Click and drag to move this Dialog Box.\"\\r\\n\\t\\t\\t\\t\\tclass=\"reboot fas fa-arrows-alt m-1 drag-icon d-none d-sm-inline-block\"\\r\\n\\t\\t\\t\\t\\ttabindex=\"17\"></i> <i\\r\\n\\t\\t\\t\\t\\tid=\"nested-taxonomy-modal-jump\"\\r\\n\\t\\t\\t\\t\\ttitle=\"Click to see this in the Facts sidebar.\"\\r\\n\\t\\t\\t\\t\\tclass=\"reboot fas fa-directions m-1 click\" tabindex=\"17\"></i> <i\\r\\n\\t\\t\\t\\t\\tid=\"taxonomy-nested-modal-copy-content\"\\r\\n\\t\\t\\t\\t\\tclass=\"reboot fas fa-copy m-1 click\" tabindex=\"17\"></i> <i\\r\\n\\t\\t\\t\\t\\tid=\"taxonomy-nested-modal-compress\"\\r\\n\\t\\t\\t\\t\\tclass=\"reboot fas fa-compress m-1 click d-none\" tabindex=\"17\"></i>\\r\\n\\r\\n\\t\\t\\t\\t<i id=\"taxonomy-nested-modal-expand\"\\r\\n\\t\\t\\t\\t\\tclass=\"reboot fas fa-expand m-1 click d-none\" tabindex=\"17\"></i> <i\\r\\n\\t\\t\\t\\t\\tid=\"taxonomy-nested-modal-close\" class=\"reboot fas fa-times m-1 click\"\\r\\n\\t\\t\\t\\t\\ttabindex=\"17\"></i>\\r\\n\\t\\t\\t</div>\\r\\n\\t\\t</div>\\r\\n\\t\\t<div class=\"reboot dialog-content pt-0\">\\r\\n\\t\\t\\t<div id=\"modal-nested-fact-labels\" class=\"reboot carousel\"\\r\\n\\t\\t\\t\\tdata-interval=\"false\" data-keyboard=\"false\">\\r\\n\\t\\t\\t\\t<div class=\"reboot d-flex\">\\r\\n\\t\\t\\t\\t\\t<button data-test=\"modal-taxonomy-nested-prev\"\\r\\n\\t\\t\\t\\t\\t\\tclass=\"reboot btn btn-link text-dark\"\\r\\n\\t\\t\\t\\t\\t\\thref=\"#modal-nested-fact-labels\" role=\"button\" data-slide=\"prev\"\\r\\n\\t\\t\\t\\t\\t\\ttabindex=\"17\">\\r\\n\\t\\t\\t\\t\\t\\t<i class=\"reboot fas fa-chevron-left\" title=\"Previous\"></i> <span\\r\\n\\t\\t\\t\\t\\t\\t\\tclass=\"reboot sr-only\">Previous</span>\\r\\n\\t\\t\\t\\t\\t</button>\\r\\n\\t\\t\\t\\t\\t<div id=\"modal-taxonomy-nested-label-carousel\"\\r\\n\\t\\t\\t\\t\\t\\tclass=\"reboot carousel-inner\">\\r\\n\\t\\t\\t\\t\\t\\t<!-- Below is populated dynamically VIA JS -->\\r\\n\\t\\t\\t\\t\\t</div>\\r\\n\\t\\t\\t\\t\\t<button data-test=\"modal-taxonomy-nested-next\"\\r\\n\\t\\t\\t\\t\\t\\tclass=\"reboot btn btn-link text-dark\"\\r\\n\\t\\t\\t\\t\\t\\thref=\"#modal-nested-fact-labels\" role=\"button\" data-slide=\"next\"\\r\\n\\t\\t\\t\\t\\t\\ttabindex=\"17\">\\r\\n\\t\\t\\t\\t\\t\\t<i class=\"reboot fas fa-chevron-right\" title=\"Next\"></i> <span\\r\\n\\t\\t\\t\\t\\t\\t\\tclass=\"reboot sr-only\">Next</span>\\r\\n\\t\\t\\t\\t\\t</button>\\r\\n\\t\\t\\t\\t</div>\\r\\n\\t\\t\\t</div>\\r\\n\\t\\t\\t<div id=\"taxonomy-nested-copy-paste\" class=\"reboot form-group d-none\">\\r\\n\\t\\t\\t\\t<label class=\"reboot\">Copy and Paste Below Content.</label> <a\\r\\n\\t\\t\\t\\t\\tid=\"taxonomy-nested-copy-content\"\\r\\n\\t\\t\\t\\t\\tclass=\"reboot float-right click color-inherit\"\\r\\n\\t\\t\\t\\t\\ttabindex=\"17\"> <i class=\"reboot fas fa-times-circle mt-2\"></i>\\r\\n\\t\\t\\t\\t</a>\\r\\n\\t\\t\\t\\t<textarea class=\"reboot form-control\" rows=\"5\" tabindex=\"17\"></textarea>\\r\\n\\t\\t\\t</div>\\r\\n\\t\\t\\t<div id=\"modal-taxonomy-nested-content-carousel\"\\r\\n\\t\\t\\t\\tclass=\"reboot carousel\" data-interval=\"false\" data-keyboard=\"false\">\\r\\n\\t\\t\\t\\t<div class=\"reboot carousel-inner\">\\r\\n\\t\\t\\t\\t\\t<div class=\"reboot carousel-item table-responsive active\">\\r\\n\\t\\t\\t\\t\\t\\t<table class=\"reboot table table-striped table-sm\">\\r\\n\\t\\t\\t\\t\\t\\t\\t<tbody class=\"reboot\"\\r\\n\\t\\t\\t\\t\\t\\t\\t\\tid=\"modal-taxonomy-nested-content-carousel-page-1\" tabindex=\"17\">\\r\\n\\t\\t\\t\\t\\t\\t\\t\\t<!-- Below is populated dynamically VIA JS -->\\r\\n\\t\\t\\t\\t\\t\\t\\t\\t<tr class=\"reboot\">\\r\\n\\t\\t\\t\\t\\t\\t\\t\\t\\t<td class=\"reboot text-center\"><i\\r\\n\\t\\t\\t\\t\\t\\t\\t\\t\\t\\tclass=\"reboot fas fa-spinner fa-spin\"></i></td>\\r\\n\\t\\t\\t\\t\\t\\t\\t\\t</tr>\\r\\n\\t\\t\\t\\t\\t\\t\\t</tbody>\\r\\n\\t\\t\\t\\t\\t\\t</table>\\r\\n\\t\\t\\t\\t\\t</div>\\r\\n\\t\\t\\t\\t\\t<div class=\"reboot carousel-item table-responsive\">\\r\\n\\t\\t\\t\\t\\t\\t<table class=\"reboot table table-striped table-bordered table-sm\">\\r\\n\\t\\t\\t\\t\\t\\t\\t<tbody class=\"reboot\"\\r\\n\\t\\t\\t\\t\\t\\t\\t\\tid=\"modal-taxonomy-nested-content-carousel-page-2\" tabindex=\"17\">\\r\\n\\t\\t\\t\\t\\t\\t\\t\\t<!-- Below is populated dynamically VIA JS -->\\r\\n\\t\\t\\t\\t\\t\\t\\t\\t<tr class=\"reboot\">\\r\\n\\t\\t\\t\\t\\t\\t\\t\\t\\t<td class=\"reboot text-center\"><i\\r\\n\\t\\t\\t\\t\\t\\t\\t\\t\\t\\tclass=\"reboot fas fa-spinner fa-spin\"></i></td>\\r\\n\\t\\t\\t\\t\\t\\t\\t\\t</tr>\\r\\n\\t\\t\\t\\t\\t\\t\\t</tbody>\\r\\n\\t\\t\\t\\t\\t\\t</table>\\r\\n\\t\\t\\t\\t\\t</div>\\r\\n\\t\\t\\t\\t\\t<div class=\"reboot carousel-item table-responsive\">\\r\\n\\t\\t\\t\\t\\t\\t<table class=\"reboot table table-striped table-sm\">\\r\\n\\t\\t\\t\\t\\t\\t\\t<tbody class=\"reboot\"\\r\\n\\t\\t\\t\\t\\t\\t\\t\\tid=\"modal-taxonomy-nested-content-carousel-page-3\" tabindex=\"17\">\\r\\n\\t\\t\\t\\t\\t\\t\\t\\t<!-- Below is populated dynamically VIA JS -->\\r\\n\\t\\t\\t\\t\\t\\t\\t\\t<tr class=\"reboot\">\\r\\n\\t\\t\\t\\t\\t\\t\\t\\t\\t<td class=\"reboot text-center\"><i\\r\\n\\t\\t\\t\\t\\t\\t\\t\\t\\t\\tclass=\"reboot fas fa-spinner fa-spin\"></i></td>\\r\\n\\t\\t\\t\\t\\t\\t\\t\\t</tr>\\r\\n\\t\\t\\t\\t\\t\\t\\t</tbody>\\r\\n\\t\\t\\t\\t\\t\\t</table>\\r\\n\\t\\t\\t\\t\\t</div>\\r\\n\\t\\t\\t\\t\\t<div class=\"reboot carousel-item table-responsive\">\\r\\n\\t\\t\\t\\t\\t\\t<table class=\"reboot table table-striped table-sm\">\\r\\n\\t\\t\\t\\t\\t\\t\\t<tbody class=\"reboot\"\\r\\n\\t\\t\\t\\t\\t\\t\\t\\tid=\"modal-taxonomy-nested-content-carousel-page-4\" tabindex=\"17\">\\r\\n\\t\\t\\t\\t\\t\\t\\t\\t<!-- Below is populated dynamically VIA JS -->\\r\\n\\t\\t\\t\\t\\t\\t\\t\\t<tr class=\"reboot\">\\r\\n\\t\\t\\t\\t\\t\\t\\t\\t\\t<td class=\"reboot text-center\"><i\\r\\n\\t\\t\\t\\t\\t\\t\\t\\t\\t\\tclass=\"reboot fas fa-spinner fa-spin\"></i></td>\\r\\n\\t\\t\\t\\t\\t\\t\\t\\t</tr>\\r\\n\\t\\t\\t\\t\\t\\t\\t</tbody>\\r\\n\\t\\t\\t\\t\\t\\t</table>\\r\\n\\t\\t\\t\\t\\t</div>\\r\\n\\t\\t\\t\\t</div>\\r\\n\\t\\t\\t</div>\\r\\n\\t\\t</div>\\r\\n\\t\\t<div id=\"taxonomy-nested-nav-controls\"\\r\\n\\t\\t\\tclass=\"reboot dialog-footer d-flex justify-content-around\">\\r\\n\\t\\t\\t<button data-test=\"modal-taxonomy-prev\"\\r\\n\\t\\t\\t\\tclass=\"reboot btn btn-link text-dark\"\\r\\n\\t\\t\\t\\thref=\"#modal-taxonomy-nested-content-carousel\" role=\"button\"\\r\\n\\t\\t\\t\\tdata-slide=\"prev\" tabindex=\"17\">\\r\\n\\t\\t\\t\\t<i class=\"reboot fas fa-chevron-left\" title=\"Previous\"></i> <span\\r\\n\\t\\t\\t\\t\\tclass=\"reboot sr-only\">Previous</span>\\r\\n\\t\\t\\t</button>\\r\\n\\t\\t\\t<ol id=\"taxonomy-nested-modal-carousel-indicators\"\\r\\n\\t\\t\\t\\tclass=\"reboot carousel-indicators mx-0 my-3 p-initial\">\\r\\n\\t\\t\\t\\t<!-- Below is populated dynamically VIA JS -->\\r\\n\\t\\t\\t</ol>\\r\\n\\t\\t\\t<button data-test=\"modal-taxonomy-next\"\\r\\n\\t\\t\\t\\tclass=\"reboot btn btn-link text-dark\"\\r\\n\\t\\t\\t\\thref=\"#modal-taxonomy-nested-content-carousel\" role=\"button\"\\r\\n\\t\\t\\t\\tdata-slide=\"next\" tabindex=\"17\">\\r\\n\\t\\t\\t\\t<i class=\"reboot fas fa-chevron-right\" title=\"Next\"></i> <span\\r\\n\\t\\t\\t\\t\\tclass=\"reboot sr-only\">Next</span>\\r\\n\\t\\t\\t</button>\\r\\n\\t\\t</div>\\r\\n\\t</div>\\r\\n</body>\\r\\n\\r\\n</html>\\r\\n'"
      ]
     },
     "execution_count": 63,
     "metadata": {},
     "output_type": "execute_result"
    }
   ],
   "source": [
    "response1"
   ]
  },
  {
   "cell_type": "code",
   "execution_count": 58,
   "id": "402e30c0-ef85-4591-b6ad-bd5dfe06cbeb",
   "metadata": {},
   "outputs": [],
   "source": [
    "# print(soupText)"
   ]
  },
  {
   "cell_type": "code",
   "execution_count": 51,
   "id": "5876c91a-f354-492b-93ea-b7bf28ca8f52",
   "metadata": {},
   "outputs": [],
   "source": [
    "import unicodedata\n",
    "\n",
    "text = unicodedata.normalize('NFKD', text.replace(\"\\'\", \"'\").replace(\"\\ in\\ form\", \" inform\").replace(\"\\n\", \" \").lower().strip())"
   ]
  },
  {
   "cell_type": "code",
   "execution_count": 52,
   "id": "e14ccb73-f5aa-4ec8-bda8-7f1b9a733d50",
   "metadata": {},
   "outputs": [],
   "source": [
    "# print(text)\n",
    "dev_docs = [doc for doc in text.split('\\n')] "
   ]
  },
  {
   "cell_type": "code",
   "execution_count": 53,
   "id": "06e7c165-ef9c-4be3-9d59-ec15b4b34d16",
   "metadata": {},
   "outputs": [
    {
     "data": {
      "text/plain": [
       "['inline xbrl viewer   this application relies heavily on javascript, you\\r \\t\\twill need to allow javascript to use this application.  inline viewer     menu menu   information save xbrl instance save xbrl zip file open as html settings help     sections sections       additional\\r \\t\\t\\t\\t\\t\\t\\t\\t\\t\\tsearch options       include fact name      include fact content      include labels      include definitions      include dimensions    reference\\r \\t\\t\\t\\t\\t\\t\\t\\t\\t\\toptions    include topic      include sub-topic      include paragraph      include publisher      include section       match case         clear search    submit search       data data      all      amounts only       text only       calculations only       negatives only       additional items only       tags tags      all      standard\\r \\t\\t\\t\\t\\t\\t\\t\\t\\t\\tonly        custom only       more filters more filters    \\r \\t\\t\\t\\t\\t\\t\\tselecting any of the below will take a few moments.      periods                measures                axis                members                scale                balance 2       debit      credit          reset all filters    links      facts               loading inline form.\\r \\t\\t\\t    tagged sections             search in all.    search in internal\\r \\t\\t\\t\\t\\t\\t\\t\\tsections only.    search in external\\r \\t\\t\\t\\t\\t\\t\\t\\tsections only.        clear sections\\r \\t\\t\\t\\t\\t\\t\\tsearch    submit sections\\r \\t\\t\\t\\t\\t\\t\\tsearch          document & entity\\r \\t\\t\\t\\t\\t\\t\\t\\t\\tinformation                financial statements                notes to the financial statements                rr summaries                help          getting started     the inline xbrl viewer allows a user\\r \\t\\t\\t\\t\\t\\t\\tto quickly and easily review details of the tagged information in\\r \\t\\t\\t\\t\\t\\t\\tan inline document by automatically placing a top and bottom\\r \\t\\t\\t\\t\\t\\t\\thighlight border around each tagged numeric fact and left and\\r \\t\\t\\t\\t\\t\\t\\tright border for each block tagged fact. hovering over a tagged\\r \\t\\t\\t\\t\\t\\t\\tfact will highlight (shade) all content related to the tagged\\r \\t\\t\\t\\t\\t\\t\\tfact, and clicking on a tagged fact will reveal its tagging\\r \\t\\t\\t\\t\\t\\t\\tdetails in the fact review window. navigation, search and filter\\r \\t\\t\\t\\t\\t\\t\\toptions are also provided to easily refine and identify specific\\r \\t\\t\\t\\t\\t\\t\\ttypes of tagged information.       fact review window     the fact review window shows the tagging\\r \\t\\t\\t\\t\\t\\t\\tdetails for the currently selected fact, which is highlighted\\r \\t\\t\\t\\t\\t\\t\\twith a solid blue border. there are four categories of fact detail\\r \\t\\t\\t\\t\\t\\t\\twhich can be viewed; an \"n/a\" value indicates there is no\\r \\t\\t\\t\\t\\t\\t\\tavailable information for the item within the given category:  attributes - all primary information (as\\r \\t\\t\\t\\t\\t\\t\\t\\tapplicable) describing the tagged fact including period, sign,\\r \\t\\t\\t\\t\\t\\t\\t\\tdecimals, dimensional detail (axes and members), scale, measure\\r \\t\\t\\t\\t\\t\\t\\t\\tand data type. labels - detailed documentation\\r \\t\\t\\t\\t\\t\\t\\t\\t(definition) for the tag used, and other labels. references - authoritative reference\\r \\t\\t\\t\\t\\t\\t\\t\\tinformation (as applicable) for the selected tag. calculation - balance and calculation\\r \\t\\t\\t\\t\\t\\t\\t\\thierarchy details (numeric non-dimensioned items only).        searching     there are two ways to search the\\r \\t\\t\\t\\t\\t\\t\\tdocument: facts and sections. to search information, enter a\\r \\t\\t\\t\\t\\t\\t\\tkeyword in a search box and select the magnifying glass icon to\\r \\t\\t\\t\\t\\t\\t\\treturn matching results. search operators \"and\" (via \"and\" or\\r \\t\\t\\t\\t\\t\\t\\t\"&\") and \"or\" (via \"or\" or \"|\") are available to further refine a\\r \\t\\t\\t\\t\\t\\t\\tsearch.  facts  the search facts box can be used to find\\r \\t\\t\\t\\t\\t\\t\\ttagged facts matching entered keywords. by default, tag name, tag\\r \\t\\t\\t\\t\\t\\t\\tlabels, and tagged content are included in search. tagged facts\\r \\t\\t\\t\\t\\t\\t\\tmatching the search criteria are shown with a yellow-colored\\r \\t\\t\\t\\t\\t\\t\\t(default) shading on the page and appear in the facts list.\\r \\t\\t\\t\\t\\t\\t\\tselect the \"x\" button to the left of the magnifying glass icon to\\r \\t\\t\\t\\t\\t\\t\\tclear the search. the content included in search can be increased to\\r \\t\\t\\t\\t\\t\\t\\tincluded tag definitions, dimensions, and authoritative\\r \\t\\t\\t\\t\\t\\t\\treferences by selecting the cog / wheel icon to the left of the\\r \\t\\t\\t\\t\\t\\t\\tsearch box. see settings for more information.  sections  the search sections box can be used to\\r \\t\\t\\t\\t\\t\\t\\tfilter the tagged sections of the financial statements.       filters     filters change the number of highlighted\\r \\t\\t\\t\\t\\t\\t\\tfacts and items in the fact list by providing several ways to\\r \\t\\t\\t\\t\\t\\t\\treview and pinpoint certain tagged information. multiple filters\\r \\t\\t\\t\\t\\t\\t\\tcan be used at once.  data filters  these filter options allow the user to\\r \\t\\t\\t\\t\\t\\t\\trefine the highlighted tagged facts by data type:  all - displays all tagged data (default) amounts only - numeric facts only text only - textual facts only calculations only - numeric facts\\r \\t\\t\\t\\t\\t\\t\\t\\tparticipating in a calculation only negatives only - negative numeric amounts\\r \\t\\t\\t\\t\\t\\t\\t\\tonly additional items only - tagged facts\\r \\t\\t\\t\\t\\t\\t\\t\\twithout a corresponding html presentation (i.e., hidden facts)\\r \\t\\t\\t\\t\\t\\t\\t\\tonly   tags filter  these filters allow the user to refine\\r \\t\\t\\t\\t\\t\\t\\tthe highlighted facts by tag type:  all - displays all tagged data (default) standard only- facts with standard tags\\r \\t\\t\\t\\t\\t\\t\\t\\tfrom a common taxonomy (e.g., us_gaap, ifrs, dei). custom only - facts with extension\\r \\t\\t\\t\\t\\t\\t\\t\\t\"custom\" tags unique to the entity\\'s document.   more filters  additional filters that allow user to\\r \\t\\t\\t\\t\\t\\t\\tfurther refine the highlighted facts:  periods - list of all used context years\\r \\t\\t\\t\\t\\t\\t\\t\\tand reporting periods measures - list of all used units of\\r \\t\\t\\t\\t\\t\\t\\t\\tmeasure (e.g., us dollars); as applicable axis - list of all used axis\\r \\t\\t\\t\\t\\t\\t\\t\\t(dimensions); as applicable (dimensions); as applicable scale - list of all used scaled options\\r \\t\\t\\t\\t\\t\\t\\t\\t(e.g., thousands, millions); as applicable balance - debit, credit; as applicable  multiple filters work in conjunction\\r \\t\\t\\t\\t\\t\\t\\twith each other. for example, selecting the \"amounts only\" data\\r \\t\\t\\t\\t\\t\\t\\tfilter and \"custom only\" tags filter will highlight only numeric\\r \\t\\t\\t\\t\\t\\t\\ttagged facts using custom tags and list them in the fact list.\\r \\t\\t\\t\\t\\t\\t\\tactive filters are displayed in the filter toolbar as they are\\r \\t\\t\\t\\t\\t\\t\\tselected. active filters can be removed individually by\\r \\t\\t\\t\\t\\t\\t\\tunchecking or selecting all option for each filter, or all at\\r \\t\\t\\t\\t\\t\\t\\tonce via the \"reset all filters\" option.       facts list (results)     on the toolbar, select the \"count\" to\\r \\t\\t\\t\\t\\t\\t\\tthe right of the word facts (e.g., facts 234) to reveal the facts\\r \\t\\t\\t\\t\\t\\t\\tlist results - a navigable listing of all currently highlighted\\r \\t\\t\\t\\t\\t\\t\\ttagged facts. the count represents the current number of facts. by default, all tagged facts are\\r \\t\\t\\t\\t\\t\\t\\tdisplayed in the fact list results. the list content and count\\r \\t\\t\\t\\t\\t\\t\\treflects the currently highlighted facts (i.e., both filters and\\r \\t\\t\\t\\t\\t\\t\\tsearch criteria refine the list to match the highlighted tagged\\r \\t\\t\\t\\t\\t\\t\\tfacts). navigation controls are available to move through the\\r \\t\\t\\t\\t\\t\\t\\tlist as well as move the current view to the corresponding\\r \\t\\t\\t\\t\\t\\t\\thighlighted fact location automatically. when a fact in the facts\\r \\t\\t\\t\\t\\t\\t\\tresults list is selected, it will reveal the fact review window. certain letters may appear to the right\\r \\t\\t\\t\\t\\t\\t\\tof an item in the fact result list to indicate a certain\\r \\t\\t\\t\\t\\t\\t\\tproperty. if the letter \"a\" appears for a fact, it indicates the\\r \\t\\t\\t\\t\\t\\t\\tfact is additional data (i.e., hidden with potentially no\\r \\t\\t\\t\\t\\t\\t\\tcorresponding html presentation). if the letter \"c\" appears, the\\r \\t\\t\\t\\t\\t\\t\\tfact is tagged with a custom tag. if the letter \"d\" appears, the\\r \\t\\t\\t\\t\\t\\t\\tfact is tagged with dimensional information.       sections     the sections toolbar item provides a\\r \\t\\t\\t\\t\\t\\t\\tlisting of the tagged sections of the inline document. sections\\r \\t\\t\\t\\t\\t\\t\\tare divided into three groups:  document & entity information financial statements notes to the financial statements  by expanding a group and selecting a\\r \\t\\t\\t\\t\\t\\t\\tsection item in the listing, inline xbrl viewer will navigate to that section.\\r \\t\\t\\t\\t\\t\\t\\twhen the tagged sections feature is open, the search sections box\\r \\t\\t\\t\\t\\t\\t\\twill additionally filter the list of sections to only those\\r \\t\\t\\t\\t\\t\\t\\tsections that match the entered criteria.       menu      information  the information menu item provides\\r \\t\\t\\t\\t\\t\\t\\tadditional detail about the current inline document and\\r \\t\\t\\t\\t\\t\\t\\tcustomizable viewer settings.  company and document - basic company and document\\r \\t\\t\\t\\t\\t\\t\\t\\tinformation tags - fact and tag (standard and custom)\\r \\t\\t\\t\\t\\t\\t\\t\\tinformation files - files used additional items - additional hidden data\\r \\t\\t\\t\\t\\t\\t\\t\\tthat\\'s been tagged but potentially does not have a corresponding\\r \\t\\t\\t\\t\\t\\t\\t\\tlocation in the html   save xbrl instance  the save xbrl instance menu item allows\\r \\t\\t\\t\\t\\t\\t\\tan xbrl instance document (*.xml) that is extracted from the\\r \\t\\t\\t\\t\\t\\t\\tinline document to be saved locally for use by software\\r \\t\\t\\t\\t\\t\\t\\tsupporting the xbrl format.  save xbrl zip  the save xbrl zip menu item allows a zip\\r \\t\\t\\t\\t\\t\\t\\tfile (*.zip) that contains the as-provided xbrl instance document\\r \\t\\t\\t\\t\\t\\t\\tand related custom taxonomy files to be saved locally.  settings  the settings menu item provides the\\r \\t\\t\\t\\t\\t\\t\\tability to customize viewer features. note that when logged into\\r \\t\\t\\t\\t\\t\\t\\tthe application, a save settings button will appear at the top of\\r \\t\\t\\t\\t\\t\\t\\tthe settings window to allow you to save your setting preferences\\r \\t\\t\\t\\t\\t\\t\\tfor the next time you use inline xbrl viewer.  tagged fact hover   on - displays the hover fact review\\r \\t\\t\\t\\t\\t\\t\\t\\twindow for any tagged fact* off - hides the hover fact review window\\r \\t\\t\\t\\t\\t\\t\\t\\tfor any tagged fact (default)  * may impact performance with certain\\r \\t\\t\\t\\t\\t\\t\\tweb browsers.  auto scrolling position (this setting will have\\r \\t\\t\\t\\t\\t\\t\\tno effect on ie 10 or safari)\\r \\t\\t\\t\\t\\t\\t  top - selecting a fact from the sections\\r \\t\\t\\t\\t\\t\\t\\t\\tmenu or the fact menu will automatically scroll that element to\\r \\t\\t\\t\\t\\t\\t\\t\\tthe top of the inline xbrl viewer window (default) center - selecting a fact from the\\r \\t\\t\\t\\t\\t\\t\\t\\tsections menu or the fact menu will automatically scroll that\\r \\t\\t\\t\\t\\t\\t\\t\\telement to the middle of the inline xbrl viewer window   highlight colors (use the save and reset buttons\\r \\t\\t\\t\\t\\t\\t\\tto save the selected setting or reset to default)\\r \\t\\t\\t\\t\\t\\t  tagged data - change the highlight color\\r \\t\\t\\t\\t\\t\\t\\t\\tof the tagged fact border search results - change the background\\r \\t\\t\\t\\t\\t\\t\\t\\tcolor of tagged items matching the search results selected fact - change the color of\\r \\t\\t\\t\\t\\t\\t\\t\\thighlight border used to identify the currently selected fact tag shading (hover) - change the color of\\r \\t\\t\\t\\t\\t\\t\\t\\tthe shading applied to tagged data on hover   search options   match case - matches the specific case of\\r \\t\\t\\t\\t\\t\\t\\t\\tthe entered search keyword include labels - extends search to\\r \\t\\t\\t\\t\\t\\t\\t\\tinclude tag labels include definitions - extends search to\\r \\t\\t\\t\\t\\t\\t\\t\\tinclude tag definitions include dimensions - extends search to\\r \\t\\t\\t\\t\\t\\t\\t\\tinclude dimensional detail include references - extends search to\\r \\t\\t\\t\\t\\t\\t\\t\\tinclude authoritative reference information. optionally specify\\r \\t\\t\\t\\t\\t\\t\\t\\tthe reference parts to include in the search (e.g., topic,\\r \\t\\t\\t\\t\\t\\t\\t\\tsubtopic, section)   help(this content)\\r \\t\\t\\t\\t\\t\\t  version  indicates the current build of the inline xbrl viewer\\r \\t\\t\\t\\t\\t\\t\\tapplication.        facts         select page                         copy and paste below content.                                                      previous      next      settings         hover\\r \\t\\t\\t\\t\\t\\tover fact for quick information.  on off    auto\\r \\t\\t\\t\\t\\t\\tscrolling position  top center  selecting\\r \\t\\t\\t\\t\\t\\ta fact from the sections menu or the fact menu will automatically\\r \\t\\t\\t\\t\\t\\tscroll that element to the (top, or middle) of the viewer window.\\r \\t\\t\\t\\t\\t\\tthis setting will have no use on ie 10, or safari.     tagged data         search\\r \\t\\t\\t\\t\\t\\t\\tresults         selected fact         tag shading\\r \\t\\t\\t\\t\\t\\t\\t(hover)                         copy and paste below content.                                                      previous      next      \\r \\t\\t\\t\\tnested facts  /                 previous       next     copy and paste below content.                                                      previous       next']"
      ]
     },
     "execution_count": 53,
     "metadata": {},
     "output_type": "execute_result"
    }
   ],
   "source": [
    "dev_docs"
   ]
  },
  {
   "cell_type": "code",
   "execution_count": 31,
   "id": "5017bad0-3ee7-4af5-8707-52b39f4c85ef",
   "metadata": {},
   "outputs": [],
   "source": [
    "from   sklearn.feature_extraction.text import TfidfVectorizer\n",
    "from   nltk.corpus import stopwords\n",
    "import string\n",
    "\n",
    "# Making stopwords list\n",
    "stoplist = stopwords.words('english')\n",
    "for el in [i for i in string.punctuation]:\n",
    "    stoplist.append(el)\n",
    "\n",
    "# Set up vectorizer\n",
    "vectorizer = TfidfVectorizer(\n",
    "    encoding='utf-8',\n",
    "    min_df=1, # include words that occur in as few as a single document, 1 = a single document\n",
    "    max_df=1.0, # include words that occur in as many as all documents, 1.0 = 100% = all documents\n",
    "     binary=False,\n",
    "    norm='l2',\n",
    "    stop_words = stoplist,\n",
    "    use_idf=True\n",
    ")\n",
    "\n",
    "X = vectorizer.fit_transform(dev_docs)"
   ]
  },
  {
   "cell_type": "code",
   "execution_count": 32,
   "id": "5759c23d-d355-4f57-a2c9-653ee13a39dd",
   "metadata": {},
   "outputs": [
    {
     "name": "stdout",
     "output_type": "stream",
     "text": [
      "(1, 217)\n"
     ]
    }
   ],
   "source": [
    "print(X.shape)"
   ]
  },
  {
   "cell_type": "code",
   "execution_count": 33,
   "id": "c8f0756e-fd23-448a-b96a-0b72c7689a03",
   "metadata": {},
   "outputs": [
    {
     "name": "stdout",
     "output_type": "stream",
     "text": [
      "  (0, 124)\t0.01673654817511446\n",
      "  (0, 24)\t0.01673654817511446\n",
      "  (0, 200)\t0.01673654817511446\n",
      "  (0, 81)\t0.01673654817511446\n",
      "  (0, 26)\t0.01673654817511446\n",
      "  (0, 35)\t0.01673654817511446\n",
      "  (0, 159)\t0.01673654817511446\n",
      "  (0, 0)\t0.01673654817511446\n",
      "  (0, 90)\t0.01673654817511446\n",
      "  (0, 59)\t0.01673654817511446\n",
      "  (0, 137)\t0.01673654817511446\n",
      "  (0, 162)\t0.01673654817511446\n",
      "  (0, 15)\t0.01673654817511446\n",
      "  (0, 23)\t0.01673654817511446\n",
      "  (0, 206)\t0.01673654817511446\n",
      "  (0, 134)\t0.01673654817511446\n",
      "  (0, 91)\t0.01673654817511446\n",
      "  (0, 85)\t0.01673654817511446\n",
      "  (0, 188)\t0.01673654817511446\n",
      "  (0, 125)\t0.01673654817511446\n",
      "  (0, 139)\t0.01673654817511446\n",
      "  (0, 170)\t0.050209644525343385\n",
      "  (0, 12)\t0.03347309635022892\n",
      "  (0, 112)\t0.01673654817511446\n",
      "  (0, 126)\t0.01673654817511446\n",
      "  :\t:\n",
      "  (0, 86)\t0.01673654817511446\n",
      "  (0, 18)\t0.01673654817511446\n",
      "  (0, 158)\t0.050209644525343385\n",
      "  (0, 105)\t0.050209644525343385\n",
      "  (0, 65)\t0.35146751167740364\n",
      "  (0, 128)\t0.03347309635022892\n",
      "  (0, 13)\t0.01673654817511446\n",
      "  (0, 20)\t0.050209644525343385\n",
      "  (0, 83)\t0.06694619270045785\n",
      "  (0, 21)\t0.01673654817511446\n",
      "  (0, 190)\t0.03347309635022892\n",
      "  (0, 136)\t0.01673654817511446\n",
      "  (0, 16)\t0.03347309635022892\n",
      "  (0, 57)\t0.11715583722580122\n",
      "  (0, 97)\t0.15062893357603013\n",
      "  (0, 183)\t0.36820405985251814\n",
      "  (0, 52)\t0.050209644525343385\n",
      "  (0, 157)\t0.0836827408755723\n",
      "  (0, 58)\t0.03347309635022892\n",
      "  (0, 145)\t0.01673654817511446\n",
      "  (0, 197)\t0.06694619270045785\n",
      "  (0, 7)\t0.050209644525343385\n",
      "  (0, 204)\t0.10041928905068677\n",
      "  (0, 213)\t0.18410202992625907\n",
      "  (0, 98)\t0.1338923854009157\n"
     ]
    }
   ],
   "source": [
    "print(X)"
   ]
  }
 ],
 "metadata": {
  "kernelspec": {
   "display_name": "Python 3 (ipykernel)",
   "language": "python",
   "name": "python3"
  },
  "language_info": {
   "codemirror_mode": {
    "name": "ipython",
    "version": 3
   },
   "file_extension": ".py",
   "mimetype": "text/x-python",
   "name": "python",
   "nbconvert_exporter": "python",
   "pygments_lexer": "ipython3",
   "version": "3.9.7"
  }
 },
 "nbformat": 4,
 "nbformat_minor": 5
}
