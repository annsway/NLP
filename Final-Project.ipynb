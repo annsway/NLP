{
 "cells": [
  {
   "cell_type": "markdown",
   "id": "612fc418-cd31-4623-8f25-289f5cc5036d",
   "metadata": {},
   "source": [
    "# Final Project for INFO 6350\n",
    "### Project Team: Yun Zhou (yz2685)"
   ]
  },
  {
   "cell_type": "markdown",
   "id": "9f20f341-5d43-4809-89e2-103e866d6ce0",
   "metadata": {},
   "source": [
    "# Part 0: Background"
   ]
  },
  {
   "cell_type": "markdown",
   "id": "2b1910d8-d118-4a03-9423-f7192d0081e3",
   "metadata": {},
   "source": [
    "**Statement of the problem:** The annual financial reports (10K reports) of the publicly traded companies are usually very lengthy and extensive, few people had the time and energy to read such report across all the companies over the years, and make accurate predications on the companies' financial performances based on the hundreds of reports every year of which the average page number can be up to 100 pages or 30k - 60k words. "
   ]
  },
  {
   "cell_type": "markdown",
   "id": "79c98554-a3f1-4e7f-9681-2cb8df067897",
   "metadata": {},
   "source": [
    "**Impact:** The results from my analysis will deliver meaningful recommendations to not only the NLP scholars, but also to the real-world managers,  executives, and regular investors for the publicly traded companies. By using text mining techniques, we can greatly improve the efficiency of the decision-making process in the business world, saving executives/managers' time reading the verbose financial reports of their competitors and their own 10K reports. Additionally, the project result will also help the individual investors save time analyzing the 10K reports and make better investment decisions in the stock market.   "
   ]
  },
  {
   "cell_type": "markdown",
   "id": "ff037b89-311c-4b4b-a4e8-a79c2ee6b30e",
   "metadata": {},
   "source": [
    "# Part 1: Research Questions"
   ]
  },
  {
   "cell_type": "markdown",
   "id": "ab717f65-d4ab-4c58-abdf-46eb62e234ce",
   "metadata": {},
   "source": [
    "* What are the tones or setiment used to describe the risks of companies? Are they related to the stock prices? "
   ]
  },
  {
   "cell_type": "markdown",
   "id": "b143c00e-bf8e-41d0-bf70-805ea339a712",
   "metadata": {},
   "source": [
    "* What are the most important features in the **risk sections** in the 10-k reports that can make predictations or classifications on the companies' stock prices?"
   ]
  },
  {
   "cell_type": "markdown",
   "id": "aa6561d7-f492-417d-b853-52e936ae4b03",
   "metadata": {},
   "source": [
    "* Given a risk section, can our classifier correctly determine if the record is before-2014 or post-2014?  "
   ]
  },
  {
   "cell_type": "markdown",
   "id": "41c62638-6a16-4ac9-8d2b-4424f89dfb8c",
   "metadata": {},
   "source": [
    "# Part 2: Methodologies"
   ]
  },
  {
   "cell_type": "markdown",
   "id": "56fc0723-f4bd-457c-9535-00ae8d72793d",
   "metadata": {},
   "source": [
    "**Methodology:** \n",
    "* Perform web crawling tasks to collect the financial reports over the years of the companies of interest. \n",
    "* Make gold labels based on the companies' financial metrics, such as earnings per share or net profit margin ratio. and label each report as below-average-margin vs. above-average-margin\n",
    "* Clean the corpus, remove tables, figures, stopwords, etc. \n",
    "* Perform sentiment analysis on the corpus to detect the positiveness and/or negativeness of the financial situations of the companies over the years. \n",
    "* Build regression models to predict the companies' financial performance and calculate R^2\n",
    "* Build various classifiers (e.g. random forest, decision tree, SVD, logistic classification, BERT) to classify the companies into below-average and above-average based on the financial metrics. Calculate the F1 and accuracy scores \n",
    "* Compare the results from regression models and classifers.\n",
    "* Make recommendations on how to choose the best stuitable model for such tasks in the future. "
   ]
  },
  {
   "cell_type": "markdown",
   "id": "b314bb7d-eb9e-4887-9a69-bcbba0e76a52",
   "metadata": {},
   "source": [
    "# Part 3: Code"
   ]
  },
  {
   "cell_type": "code",
   "execution_count": 136,
   "id": "55973c51-65a9-4f7c-a387-f5a05648497c",
   "metadata": {},
   "outputs": [],
   "source": [
    "# import libraries\n",
    "import requests\n",
    "import urllib\n",
    "from bs4 import BeautifulSoup\n",
    "import simplejson as json\n",
    "from urllib.request import Request, urlopen\n",
    "from fake_useragent import UserAgent\n",
    "from selenium import webdriver\n",
    "import time\n",
    "import re\n",
    "import pandas as pd\n",
    "import json\n",
    "import datetime\n",
    "import numpy as np\n",
    "import unicodedata\n",
    "from collections import Counter\n",
    "from nltk import word_tokenize\n"
   ]
  },
  {
   "cell_type": "code",
   "execution_count": 2,
   "id": "e76d60a5-27d4-49e9-a6f7-f75b52d4bd37",
   "metadata": {
    "tags": []
   },
   "outputs": [],
   "source": [
    "# define the base url needed to create the file url.\n",
    "base_url = r\"https://www.sec.gov\"\n",
    "header = {\n",
    "    'User-Agent': 'Mozilla/5.0 (Macintosh; Intel Mac OS X 10_15_7) AppleWebKit/537.36 (KHTML, like Gecko) Chrome/101.0.4951.54 Safari/537.36'\n",
    "}\n",
    "\n",
    "# four-digit year pattern\n",
    "yearPattern = re.compile(r'\\d{4}$')"
   ]
  },
  {
   "cell_type": "code",
   "execution_count": 3,
   "id": "fbdc364f-fa4e-4a93-9f36-fa63d523f5dc",
   "metadata": {},
   "outputs": [
    {
     "data": {
      "text/plain": [
       "50"
      ]
     },
     "execution_count": 3,
     "metadata": {},
     "output_type": "execute_result"
    }
   ],
   "source": [
    "list_cik = pd.read_csv('nasdaq100_ticker_cik_mapping.csv').fillna(value = 0).head(50)\n",
    "len(list_cik)"
   ]
  },
  {
   "cell_type": "code",
   "execution_count": 4,
   "id": "fbcbe9bb-b4f7-478c-9246-4bff6381778f",
   "metadata": {},
   "outputs": [
    {
     "data": {
      "text/html": [
       "<div>\n",
       "<style scoped>\n",
       "    .dataframe tbody tr th:only-of-type {\n",
       "        vertical-align: middle;\n",
       "    }\n",
       "\n",
       "    .dataframe tbody tr th {\n",
       "        vertical-align: top;\n",
       "    }\n",
       "\n",
       "    .dataframe thead th {\n",
       "        text-align: right;\n",
       "    }\n",
       "</style>\n",
       "<table border=\"1\" class=\"dataframe\">\n",
       "  <thead>\n",
       "    <tr style=\"text-align: right;\">\n",
       "      <th></th>\n",
       "      <th>symbol</th>\n",
       "      <th>company</th>\n",
       "      <th>cik</th>\n",
       "      <th>market_cap_05132022</th>\n",
       "      <th>last_sale_05132022</th>\n",
       "    </tr>\n",
       "  </thead>\n",
       "  <tbody>\n",
       "    <tr>\n",
       "      <th>0</th>\n",
       "      <td>AAPL</td>\n",
       "      <td>Apple Inc. Common Stock</td>\n",
       "      <td>320193</td>\n",
       "      <td>2,550,149,340,600</td>\n",
       "      <td>$147.09</td>\n",
       "    </tr>\n",
       "    <tr>\n",
       "      <th>1</th>\n",
       "      <td>MSFT</td>\n",
       "      <td>Microsoft Corporation Common Stock</td>\n",
       "      <td>789019</td>\n",
       "      <td>1,954,720,100,164</td>\n",
       "      <td>$261.36</td>\n",
       "    </tr>\n",
       "    <tr>\n",
       "      <th>2</th>\n",
       "      <td>GOOG</td>\n",
       "      <td>Alphabet Inc. Class C Capital Stock</td>\n",
       "      <td>1652044</td>\n",
       "      <td>1,542,091,474,456</td>\n",
       "      <td>$2,341.83</td>\n",
       "    </tr>\n",
       "    <tr>\n",
       "      <th>3</th>\n",
       "      <td>GOOGL</td>\n",
       "      <td>Alphabet Inc. Class A Common Stock</td>\n",
       "      <td>1652044</td>\n",
       "      <td>1,538,927,382,547</td>\n",
       "      <td>$2,337.02</td>\n",
       "    </tr>\n",
       "    <tr>\n",
       "      <th>4</th>\n",
       "      <td>AMZN</td>\n",
       "      <td>Amazon.com, Inc. Common Stock</td>\n",
       "      <td>1018724</td>\n",
       "      <td>1,137,905,971,901</td>\n",
       "      <td>$2,236.80</td>\n",
       "    </tr>\n",
       "  </tbody>\n",
       "</table>\n",
       "</div>"
      ],
      "text/plain": [
       "  symbol                              company      cik market_cap_05132022  \\\n",
       "0   AAPL              Apple Inc. Common Stock   320193   2,550,149,340,600   \n",
       "1   MSFT   Microsoft Corporation Common Stock   789019   1,954,720,100,164   \n",
       "2   GOOG  Alphabet Inc. Class C Capital Stock  1652044   1,542,091,474,456   \n",
       "3  GOOGL   Alphabet Inc. Class A Common Stock  1652044   1,538,927,382,547   \n",
       "4   AMZN        Amazon.com, Inc. Common Stock  1018724   1,137,905,971,901   \n",
       "\n",
       "  last_sale_05132022  \n",
       "0           $147.09   \n",
       "1           $261.36   \n",
       "2         $2,341.83   \n",
       "3         $2,337.02   \n",
       "4         $2,236.80   "
      ]
     },
     "execution_count": 4,
     "metadata": {},
     "output_type": "execute_result"
    }
   ],
   "source": [
    "list_cik.head()"
   ]
  },
  {
   "cell_type": "markdown",
   "id": "84839cf6-209e-441b-8147-7db1594507c9",
   "metadata": {},
   "source": [
    "## I: Web Scraping"
   ]
  },
  {
   "cell_type": "markdown",
   "id": "0297d2b2-3106-4750-b5cf-959a67cd96da",
   "metadata": {
    "tags": []
   },
   "source": [
    "## 1. Scraping the SEC Query Page"
   ]
  },
  {
   "cell_type": "code",
   "execution_count": 5,
   "id": "0541d997-e211-4f1d-b192-3753ab39411d",
   "metadata": {},
   "outputs": [],
   "source": [
    "# define lists to store the data scraped from the SEC website\n",
    "ciks = []\n",
    "risks = []\n",
    "years = []\n",
    "urls = []\n",
    "companies = []\n",
    "symbols = []\n",
    "\n",
    "# base URL for the SEC EDGAR browser\n",
    "endpoint = r\"https://www.sec.gov/cgi-bin/browse-edgar\""
   ]
  },
  {
   "cell_type": "code",
   "execution_count": 6,
   "id": "1cf02652-0295-4e0e-8790-643b886bc12d",
   "metadata": {},
   "outputs": [],
   "source": [
    "driver = webdriver.Firefox()"
   ]
  },
  {
   "cell_type": "markdown",
   "id": "28d513e4-ad48-44c4-9374-6e4c9dac2af4",
   "metadata": {},
   "source": [
    "### 1a. Helper functions "
   ]
  },
  {
   "cell_type": "code",
   "execution_count": 7,
   "id": "bf3f9898-520c-4eee-a7e6-cf03b963d051",
   "metadata": {},
   "outputs": [],
   "source": [
    "# get the links to the 10k reports \n",
    "def get10kPages(url):\n",
    "    response = requests.get(url = url, headers=header)\n",
    "    soup10k = BeautifulSoup(response.content, 'html.parser')\n",
    "    # print(response)\n",
    "    # print(response.url)\n",
    "    return response.url"
   ]
  },
  {
   "cell_type": "code",
   "execution_count": 8,
   "id": "edce853a-d2bf-4fce-8143-5c6de0b09456",
   "metadata": {},
   "outputs": [],
   "source": [
    "def get10kLinks(url, list_of_10ks):\n",
    "    response = requests.get(url = url, headers=header)\n",
    "    soup = BeautifulSoup(response.content, 'html.parser')\n",
    "    # for a in soup.find_all('a', href=True):\n",
    "        # url = a['href']\n",
    "        # print(url)\n",
    "        \n",
    "    suffix = \"htm\";\n",
    "\n",
    "    tables = soup.find('table')\n",
    "    rows = tables.find_all('tr')\n",
    "    if len(rows) > 0:\n",
    "        row10k = rows[1] # row 1 has link to 10k report\n",
    "        # print(row10k)\n",
    "        for a in row10k.find_all('a', href=True):\n",
    "            url = a['href']\n",
    "            if url.endswith(suffix):\n",
    "                list_of_10ks.append(\"https://www.sec.gov\"+ url)\n",
    "                # print(\"https://www.sec.gov\"+ url)"
   ]
  },
  {
   "cell_type": "code",
   "execution_count": 9,
   "id": "a178535a-5611-4a51-8a1d-0ab12716395a",
   "metadata": {},
   "outputs": [],
   "source": [
    "def find_nth(haystack, needle, n):\n",
    "    start = haystack.find(needle)\n",
    "    while start >= 0 and n > 1:\n",
    "        start = haystack.find(needle, start+len(needle))\n",
    "        n -= 1\n",
    "    return start"
   ]
  },
  {
   "cell_type": "code",
   "execution_count": 10,
   "id": "cc3f0b6c-a273-405e-ab46-e8ca13a8d07d",
   "metadata": {},
   "outputs": [],
   "source": [
    "# create a function that will scrap the 10k report \n",
    "def scrap10k(url, cik, company, symbol):\n",
    "    driver.get(url)\n",
    "\n",
    "    time.sleep(2) # give browser some time to load the js \n",
    "\n",
    "    html = driver.page_source\n",
    "    sp = BeautifulSoup(html)\n",
    "    \n",
    "    text = \"\"\n",
    "    for d in sp.find_all(text=True):\n",
    "        text += d.get_text()\n",
    "    \n",
    "    # cleaning \n",
    "    # print(text)\n",
    "    text = text.replace(u'\\xa0', u' ').lower()\n",
    "                \n",
    "    # extract risk factor sections only\n",
    "    # print(url)\n",
    "    \n",
    "    # get fiscal year     \n",
    "    yr = \"\"\n",
    "    for span in sp.find_all(text=True):\n",
    "        stext = span.text\n",
    "        if (stext.find(\"January\") != -1\n",
    "         or stext.find(\"February\") != -1\n",
    "         or stext.find(\"March\") != -1\n",
    "         or stext.find(\"April\") != -1\n",
    "         or stext.find(\"May\") != -1\n",
    "         or stext.find(\"June\") != -1\n",
    "         or stext.find(\"July\") != -1\n",
    "         or stext.find(\"August\") != -1\n",
    "         or stext.find(\"September\") != -1\n",
    "         or stext.find(\"October\") != -1\n",
    "         or stext.find(\"November\") != -1\n",
    "         or stext.find(\"December\") != -1):\n",
    "            stext = stext.strip()\n",
    "            yr = stext[-4:]\n",
    "            # print(yr)\n",
    "            break\n",
    "            \n",
    "    \n",
    "    # print(\"=================\")    \n",
    "    # print(text)\n",
    "    \n",
    "    # proceed only when a valid year is scraped \n",
    "    yr_match = re.match(yearPattern, yr)\n",
    "    if yr_match != None:\n",
    "        yr = int(yr) # convert string to int\n",
    "        if yr > 2006:\n",
    "            start = find_nth(text, \"item 1a.\", 2)\n",
    "            # print(\"start index\", start)\n",
    "            end = find_nth(text, \"item 1b.\", 2)\n",
    "            # print(\"end index\", end)\n",
    "            substring = text[start:end]\n",
    "            if len(substring) > 100: # only pull longer risk factors \n",
    "                risks.append(substring)\n",
    "                years.append(yr)\n",
    "                ciks.append(cik)\n",
    "                urls.append(url)\n",
    "                companies.append(company)\n",
    "                symbols.append(symbol)\n",
    "    #     else:\n",
    "    #         print(\"year before 2007: \", yr)\n",
    "    # else:\n",
    "    #     print(\"fiscal year not detected\")"
   ]
  },
  {
   "cell_type": "code",
   "execution_count": 11,
   "id": "b87a4587-f17a-42e9-8ef1-561e959acd71",
   "metadata": {},
   "outputs": [],
   "source": [
    "def getDataByCIK(cik, company, symbol):\n",
    "    ########################################\n",
    "    ### Step 1. Scraping the SEC Query Page\n",
    "    ########################################\n",
    "    # define our parameters dictionary\n",
    "    param_dict = {'action':'getcompany',\n",
    "                  'CIK': cik,\n",
    "                  'type':'10-k',\n",
    "                  'dateb':'20230101',\n",
    "                  'owner':'exclude',\n",
    "                  'start':'',\n",
    "                  'output':'',\n",
    "                  'count':'100'}\n",
    "\n",
    "    # request the url, and then parse the response.\n",
    "    response = requests.get(url = endpoint, params = param_dict, headers=header)\n",
    "    # response = requests.get(url = endpoint, params = param_dict)\n",
    "    soup = BeautifulSoup(response.content, 'html.parser')\n",
    "\n",
    "    # print('Request Successful')\n",
    "    # print(response.url)\n",
    "    \n",
    "    doc_table = soup.find_all(class_ = \"blueRow\")\n",
    "    \n",
    "    data = soup.find_all(class_='blueRow')\n",
    "\n",
    "    list_10k = []\n",
    "\n",
    "    for i, row in enumerate(data): \n",
    "        for a in data[i].find_all('a', href=True):\n",
    "            url = a['href']\n",
    "            if (url.startswith('/Archives/edgar/')):\n",
    "                list_10k.append(\"https://www.sec.gov\"+ url)\n",
    "                # print(\"https://www.sec.gov\"+ url)\n",
    "                \n",
    "    ########################################\n",
    "    ### Step 2. Scraping Company Page \n",
    "    ########################################\n",
    "    \n",
    "    list_of_links = []\n",
    "    for link in list_10k:\n",
    "        list_of_links.append(get10kPages(link))\n",
    "        \n",
    "    # get the url for 10k report \n",
    "    list_of_10ks = []\n",
    "    for url in list_of_links:\n",
    "        get10kLinks(url, list_of_10ks)\n",
    "        \n",
    "\n",
    "    ########################################\n",
    "    ### Step 3. Scraping 10k Reports \n",
    "    ########################################\n",
    "    for report in list_of_10ks:\n",
    "        scrap10k(report, cik, company, symbol)"
   ]
  },
  {
   "cell_type": "code",
   "execution_count": 12,
   "id": "8f18cefe-90ab-4169-adba-0b326ae380fb",
   "metadata": {},
   "outputs": [],
   "source": [
    "# test\n",
    "# scrap10k('https://www.sec.gov/Archives/edgar/data/1018724/000101872419000004/amzn-20181231x10k.htm', \"1018724\", \"amzn\")"
   ]
  },
  {
   "cell_type": "code",
   "execution_count": 13,
   "id": "133580b4-c024-4272-8ee6-89212be52158",
   "metadata": {},
   "outputs": [],
   "source": [
    "# test\n",
    "# getDataByCIK(\"1067983\", \"brk-b\")"
   ]
  },
  {
   "cell_type": "markdown",
   "id": "28338dab-4493-4e84-b69a-e7a699b0b58d",
   "metadata": {},
   "source": [
    "### 1b. Run scripts for all the companies of interest"
   ]
  },
  {
   "cell_type": "code",
   "execution_count": 14,
   "id": "a730751e-d1ad-40a1-8408-e69f64ea0662",
   "metadata": {},
   "outputs": [
    {
     "name": "stdout",
     "output_type": "stream",
     "text": [
      "CPU times: user 8min 15s, sys: 15.4 s, total: 8min 31s\n",
      "Wall time: 30min 56s\n"
     ]
    }
   ],
   "source": [
    "%%time\n",
    "for i, row in list_cik.iterrows():\n",
    "    getDataByCIK(row.cik, row.company, row.symbol)"
   ]
  },
  {
   "cell_type": "markdown",
   "id": "f98e58dc-f2ac-4712-9dbf-7efb813c0ef1",
   "metadata": {},
   "source": [
    "### 1c. Create Data Frame"
   ]
  },
  {
   "cell_type": "code",
   "execution_count": 15,
   "id": "1777126e-d3c3-4586-9c12-c97d10a778b4",
   "metadata": {},
   "outputs": [],
   "source": [
    "# create a data frame\n",
    "data_tuples = list(zip(ciks, symbols, companies, years, risks, urls))\n",
    "# data_tuples\n",
    "\n",
    "df = pd.DataFrame(data_tuples, columns=['cik', 'symbol', 'company', 'fiscal_year', 'risk', 'url'])"
   ]
  },
  {
   "cell_type": "code",
   "execution_count": 16,
   "id": "b3897e23-fa28-4953-b5fe-de54cf3a7e9a",
   "metadata": {},
   "outputs": [
    {
     "data": {
      "text/html": [
       "<div>\n",
       "<style scoped>\n",
       "    .dataframe tbody tr th:only-of-type {\n",
       "        vertical-align: middle;\n",
       "    }\n",
       "\n",
       "    .dataframe tbody tr th {\n",
       "        vertical-align: top;\n",
       "    }\n",
       "\n",
       "    .dataframe thead th {\n",
       "        text-align: right;\n",
       "    }\n",
       "</style>\n",
       "<table border=\"1\" class=\"dataframe\">\n",
       "  <thead>\n",
       "    <tr style=\"text-align: right;\">\n",
       "      <th></th>\n",
       "      <th>cik</th>\n",
       "      <th>symbol</th>\n",
       "      <th>company</th>\n",
       "      <th>fiscal_year</th>\n",
       "      <th>risk</th>\n",
       "      <th>url</th>\n",
       "    </tr>\n",
       "  </thead>\n",
       "  <tbody>\n",
       "    <tr>\n",
       "      <th>0</th>\n",
       "      <td>320193</td>\n",
       "      <td>AAPL</td>\n",
       "      <td>Apple Inc. Common Stock</td>\n",
       "      <td>2018</td>\n",
       "      <td>item 1a.risk factorsthe following discussion o...</td>\n",
       "      <td>https://www.sec.gov/Archives/edgar/data/320193...</td>\n",
       "    </tr>\n",
       "    <tr>\n",
       "      <th>1</th>\n",
       "      <td>320193</td>\n",
       "      <td>AAPL</td>\n",
       "      <td>Apple Inc. Common Stock</td>\n",
       "      <td>2016</td>\n",
       "      <td>item 1a. risk factorsthe following discussion ...</td>\n",
       "      <td>https://www.sec.gov/Archives/edgar/data/320193...</td>\n",
       "    </tr>\n",
       "    <tr>\n",
       "      <th>2</th>\n",
       "      <td>320193</td>\n",
       "      <td>AAPL</td>\n",
       "      <td>Apple Inc. Common Stock</td>\n",
       "      <td>2014</td>\n",
       "      <td>item 1a.\\nrisk factors  the following discussi...</td>\n",
       "      <td>https://www.sec.gov/Archives/edgar/data/320193...</td>\n",
       "    </tr>\n",
       "    <tr>\n",
       "      <th>3</th>\n",
       "      <td>789019</td>\n",
       "      <td>MSFT</td>\n",
       "      <td>Microsoft Corporation Common Stock</td>\n",
       "      <td>2018</td>\n",
       "      <td>item 1a. risk factors \\nour operations and fin...</td>\n",
       "      <td>https://www.sec.gov/Archives/edgar/data/789019...</td>\n",
       "    </tr>\n",
       "    <tr>\n",
       "      <th>4</th>\n",
       "      <td>789019</td>\n",
       "      <td>MSFT</td>\n",
       "      <td>Microsoft Corporation Common Stock</td>\n",
       "      <td>2016</td>\n",
       "      <td>item 1a. risk factors  our operations and fina...</td>\n",
       "      <td>https://www.sec.gov/Archives/edgar/data/789019...</td>\n",
       "    </tr>\n",
       "  </tbody>\n",
       "</table>\n",
       "</div>"
      ],
      "text/plain": [
       "      cik symbol                             company  fiscal_year  \\\n",
       "0  320193   AAPL             Apple Inc. Common Stock         2018   \n",
       "1  320193   AAPL             Apple Inc. Common Stock         2016   \n",
       "2  320193   AAPL             Apple Inc. Common Stock         2014   \n",
       "3  789019   MSFT  Microsoft Corporation Common Stock         2018   \n",
       "4  789019   MSFT  Microsoft Corporation Common Stock         2016   \n",
       "\n",
       "                                                risk  \\\n",
       "0  item 1a.risk factorsthe following discussion o...   \n",
       "1  item 1a. risk factorsthe following discussion ...   \n",
       "2  item 1a.\\nrisk factors  the following discussi...   \n",
       "3  item 1a. risk factors \\nour operations and fin...   \n",
       "4  item 1a. risk factors  our operations and fina...   \n",
       "\n",
       "                                                 url  \n",
       "0  https://www.sec.gov/Archives/edgar/data/320193...  \n",
       "1  https://www.sec.gov/Archives/edgar/data/320193...  \n",
       "2  https://www.sec.gov/Archives/edgar/data/320193...  \n",
       "3  https://www.sec.gov/Archives/edgar/data/789019...  \n",
       "4  https://www.sec.gov/Archives/edgar/data/789019...  "
      ]
     },
     "execution_count": 16,
     "metadata": {},
     "output_type": "execute_result"
    }
   ],
   "source": [
    "df.head()"
   ]
  },
  {
   "cell_type": "code",
   "execution_count": 17,
   "id": "6d330b0c-1d36-4f05-b6b7-f89f213ffd52",
   "metadata": {},
   "outputs": [
    {
     "data": {
      "text/plain": [
       "170"
      ]
     },
     "execution_count": 17,
     "metadata": {},
     "output_type": "execute_result"
    }
   ],
   "source": [
    "len(df)"
   ]
  },
  {
   "cell_type": "markdown",
   "id": "93474b21-a6e5-448a-b0f9-f219f95a94b4",
   "metadata": {},
   "source": [
    "## II. Scrap stock prices from Yahoo Finance "
   ]
  },
  {
   "cell_type": "code",
   "execution_count": 74,
   "id": "65c762e5-0d53-461a-ad14-0bf29a892538",
   "metadata": {},
   "outputs": [],
   "source": [
    "dict = {}"
   ]
  },
  {
   "cell_type": "code",
   "execution_count": 77,
   "id": "f7ce6566-2c77-429e-bb9b-dee0107823e3",
   "metadata": {},
   "outputs": [],
   "source": [
    "def getStockPricesByTicker(ticker, fiscal_year, period1, period2):\n",
    "    url_history = f'https://finance.yahoo.com/quote/{ticker}/history?period1={period1}&period2={period2}&interval=1mo&filter=history&frequency=1mo&includeAdjustedClose=false'\n",
    "    \n",
    "    respf = requests.get(url_history, headers=header)\n",
    "    # print(respf)\n",
    "    \n",
    "    soupf = BeautifulSoup(respf.text, 'html.parser')\n",
    "    \n",
    "    patternf = re.compile(r'\\s--\\sData\\s--\\s')\n",
    "    script_data = soupf.find('script', text=patternf).contents[0]\n",
    "    \n",
    "    start = script_data.find(\"context\")-2\n",
    "    json_data = json.loads(script_data[start:-12])\n",
    "    \n",
    "    # get historical stock prices \n",
    "    HistoricalPriceStore = json_data['context']['dispatcher']['stores']['HistoricalPriceStore']\n",
    "    # print(HistoricalPriceStore)\n",
    "    \n",
    "    # clean the stock price data \n",
    "    close = -99999 #default\n",
    "    for row in HistoricalPriceStore['prices']:\n",
    "        date = row['date']\n",
    "        dt_formatted = datetime.datetime.fromtimestamp(date).date() # using the local timezone\n",
    "\n",
    "        # get the stock price in December of a given year \n",
    "        if dt_formatted.month == 12 and dt_formatted.year == fiscal_year and 'close' in row:\n",
    "            # debug\n",
    "            # print(ticker, \"=========\", fiscal_year, \"=====\", row['date'])\n",
    "            # print(HistoricalPriceStore)\n",
    "            close = row['close']\n",
    "            break # once find a December record then stop looking\n",
    "\n",
    "    if dict.get(ticker) == None:\n",
    "        dict[ticker] = {}\n",
    "        \n",
    "    dict[ticker][fiscal_year] = close"
   ]
  },
  {
   "cell_type": "markdown",
   "id": "fd154df8-3b62-4bde-9e97-b784311ca283",
   "metadata": {
    "tags": []
   },
   "source": [
    "### 2b. Run scripts for all the records collected from #1"
   ]
  },
  {
   "cell_type": "code",
   "execution_count": 65,
   "id": "0fa05ccc-1eed-404e-aa6a-e749ab35670a",
   "metadata": {},
   "outputs": [],
   "source": [
    "# %%time\n",
    "\n",
    "# # test\n",
    "# for i, row in df.iterrows():\n",
    "#     if row.symbol == 'AVGO':\n",
    "#         ticker = row.symbol\n",
    "#         fiscal_year = row.fiscal_year\n",
    "#         # period1 = '1167609600' # 2007-01-01\n",
    "#         # period2 = '1672444800' # 2022-12-30\n",
    "#         getStockPricesByTicker('AVGO', fiscal_year, '1167609600', '1672444800')"
   ]
  },
  {
   "cell_type": "code",
   "execution_count": 45,
   "id": "a683596e-84c8-44a7-a8ba-33e1e2ab5cf5",
   "metadata": {},
   "outputs": [
    {
     "data": {
      "text/html": [
       "<div>\n",
       "<style scoped>\n",
       "    .dataframe tbody tr th:only-of-type {\n",
       "        vertical-align: middle;\n",
       "    }\n",
       "\n",
       "    .dataframe tbody tr th {\n",
       "        vertical-align: top;\n",
       "    }\n",
       "\n",
       "    .dataframe thead th {\n",
       "        text-align: right;\n",
       "    }\n",
       "</style>\n",
       "<table border=\"1\" class=\"dataframe\">\n",
       "  <thead>\n",
       "    <tr style=\"text-align: right;\">\n",
       "      <th></th>\n",
       "      <th>cik</th>\n",
       "      <th>symbol</th>\n",
       "      <th>company</th>\n",
       "      <th>fiscal_year</th>\n",
       "      <th>risk</th>\n",
       "      <th>url</th>\n",
       "    </tr>\n",
       "  </thead>\n",
       "  <tbody>\n",
       "    <tr>\n",
       "      <th>31</th>\n",
       "      <td>1730168</td>\n",
       "      <td>AVGO</td>\n",
       "      <td>Broadcom Inc. Common Stock</td>\n",
       "      <td>2018</td>\n",
       "      <td>item 1a. risk factorsas noted above, broadcom ...</td>\n",
       "      <td>https://www.sec.gov/Archives/edgar/data/173016...</td>\n",
       "    </tr>\n",
       "  </tbody>\n",
       "</table>\n",
       "</div>"
      ],
      "text/plain": [
       "        cik symbol                     company  fiscal_year  \\\n",
       "31  1730168   AVGO  Broadcom Inc. Common Stock         2018   \n",
       "\n",
       "                                                 risk  \\\n",
       "31  item 1a. risk factorsas noted above, broadcom ...   \n",
       "\n",
       "                                                  url  \n",
       "31  https://www.sec.gov/Archives/edgar/data/173016...  "
      ]
     },
     "execution_count": 45,
     "metadata": {},
     "output_type": "execute_result"
    }
   ],
   "source": [
    "# df[df['symbol'] == 'AVGO']"
   ]
  },
  {
   "cell_type": "code",
   "execution_count": 78,
   "id": "e8bf39f2-54e9-4fc6-9f0c-a0665b9ed08d",
   "metadata": {},
   "outputs": [
    {
     "name": "stdout",
     "output_type": "stream",
     "text": [
      "CPU times: user 23.6 s, sys: 1.3 s, total: 24.9 s\n",
      "Wall time: 5min 57s\n"
     ]
    }
   ],
   "source": [
    "%%time\n",
    "for i, row in df.iterrows():\n",
    "    ticker = row.symbol\n",
    "    fiscal_year = row.fiscal_year\n",
    "    # period1 = '1167609600' # 2007-01-01\n",
    "    # period2 = '1672444800' # 2022-12-30\n",
    "    getStockPricesByTicker(ticker, fiscal_year, '1167609600', '1672444800')"
   ]
  },
  {
   "cell_type": "markdown",
   "id": "8dacd74c-c1cc-4fba-a23e-eddf779887d3",
   "metadata": {
    "tags": []
   },
   "source": [
    "### 2c. Create data frames for stock prices"
   ]
  },
  {
   "cell_type": "code",
   "execution_count": 81,
   "id": "1f5c9e7d-03c2-4c6b-b7e8-834a3c0139d7",
   "metadata": {},
   "outputs": [
    {
     "data": {
      "text/plain": [
       "35"
      ]
     },
     "execution_count": 81,
     "metadata": {},
     "output_type": "execute_result"
    }
   ],
   "source": [
    "len(dict)"
   ]
  },
  {
   "cell_type": "code",
   "execution_count": 84,
   "id": "ad1d1878-6625-4230-ba6d-7b970af88841",
   "metadata": {},
   "outputs": [],
   "source": [
    "df_fi = pd.DataFrame.from_records(\n",
    "    [\n",
    "        (level1, level2, leaf)\n",
    "        for level1, level2_dict in dict.items()\n",
    "        for level2, leaf in level2_dict.items()\n",
    "    ],\n",
    "    columns=['symbol', 'fiscal_year', 'price']\n",
    ")"
   ]
  },
  {
   "cell_type": "code",
   "execution_count": 85,
   "id": "172b9346-9719-45f2-9a17-a2077854df79",
   "metadata": {},
   "outputs": [
    {
     "data": {
      "text/html": [
       "<div>\n",
       "<style scoped>\n",
       "    .dataframe tbody tr th:only-of-type {\n",
       "        vertical-align: middle;\n",
       "    }\n",
       "\n",
       "    .dataframe tbody tr th {\n",
       "        vertical-align: top;\n",
       "    }\n",
       "\n",
       "    .dataframe thead th {\n",
       "        text-align: right;\n",
       "    }\n",
       "</style>\n",
       "<table border=\"1\" class=\"dataframe\">\n",
       "  <thead>\n",
       "    <tr style=\"text-align: right;\">\n",
       "      <th></th>\n",
       "      <th>symbol</th>\n",
       "      <th>fiscal_year</th>\n",
       "      <th>price</th>\n",
       "    </tr>\n",
       "  </thead>\n",
       "  <tbody>\n",
       "    <tr>\n",
       "      <th>0</th>\n",
       "      <td>AAPL</td>\n",
       "      <td>2018</td>\n",
       "      <td>39.435001</td>\n",
       "    </tr>\n",
       "    <tr>\n",
       "      <th>1</th>\n",
       "      <td>AAPL</td>\n",
       "      <td>2016</td>\n",
       "      <td>28.955000</td>\n",
       "    </tr>\n",
       "    <tr>\n",
       "      <th>2</th>\n",
       "      <td>AAPL</td>\n",
       "      <td>2014</td>\n",
       "      <td>27.594999</td>\n",
       "    </tr>\n",
       "    <tr>\n",
       "      <th>3</th>\n",
       "      <td>MSFT</td>\n",
       "      <td>2018</td>\n",
       "      <td>101.570000</td>\n",
       "    </tr>\n",
       "    <tr>\n",
       "      <th>4</th>\n",
       "      <td>MSFT</td>\n",
       "      <td>2016</td>\n",
       "      <td>62.139999</td>\n",
       "    </tr>\n",
       "  </tbody>\n",
       "</table>\n",
       "</div>"
      ],
      "text/plain": [
       "  symbol  fiscal_year       price\n",
       "0   AAPL         2018   39.435001\n",
       "1   AAPL         2016   28.955000\n",
       "2   AAPL         2014   27.594999\n",
       "3   MSFT         2018  101.570000\n",
       "4   MSFT         2016   62.139999"
      ]
     },
     "execution_count": 85,
     "metadata": {},
     "output_type": "execute_result"
    }
   ],
   "source": [
    "df_fi.head()"
   ]
  },
  {
   "cell_type": "markdown",
   "id": "990f7b32-15ed-4590-a7a6-86547553ede8",
   "metadata": {},
   "source": [
    "### 2d. Merge two data frames"
   ]
  },
  {
   "cell_type": "code",
   "execution_count": 140,
   "id": "c4c6b224-8e0f-43c3-b207-70dfc76ba29e",
   "metadata": {},
   "outputs": [],
   "source": [
    "merged_df = pd.merge(df, df_fi, how='left', on=['fiscal_year','symbol'])"
   ]
  },
  {
   "cell_type": "code",
   "execution_count": 141,
   "id": "00d01709-1507-455c-a885-bb8363e402f0",
   "metadata": {},
   "outputs": [
    {
     "data": {
      "text/html": [
       "<div>\n",
       "<style scoped>\n",
       "    .dataframe tbody tr th:only-of-type {\n",
       "        vertical-align: middle;\n",
       "    }\n",
       "\n",
       "    .dataframe tbody tr th {\n",
       "        vertical-align: top;\n",
       "    }\n",
       "\n",
       "    .dataframe thead th {\n",
       "        text-align: right;\n",
       "    }\n",
       "</style>\n",
       "<table border=\"1\" class=\"dataframe\">\n",
       "  <thead>\n",
       "    <tr style=\"text-align: right;\">\n",
       "      <th></th>\n",
       "      <th>cik</th>\n",
       "      <th>symbol</th>\n",
       "      <th>company</th>\n",
       "      <th>fiscal_year</th>\n",
       "      <th>risk</th>\n",
       "      <th>url</th>\n",
       "      <th>price</th>\n",
       "    </tr>\n",
       "  </thead>\n",
       "  <tbody>\n",
       "    <tr>\n",
       "      <th>0</th>\n",
       "      <td>320193</td>\n",
       "      <td>AAPL</td>\n",
       "      <td>Apple Inc. Common Stock</td>\n",
       "      <td>2018</td>\n",
       "      <td>item 1a.risk factorsthe following discussion o...</td>\n",
       "      <td>https://www.sec.gov/Archives/edgar/data/320193...</td>\n",
       "      <td>39.435001</td>\n",
       "    </tr>\n",
       "    <tr>\n",
       "      <th>1</th>\n",
       "      <td>320193</td>\n",
       "      <td>AAPL</td>\n",
       "      <td>Apple Inc. Common Stock</td>\n",
       "      <td>2016</td>\n",
       "      <td>item 1a. risk factorsthe following discussion ...</td>\n",
       "      <td>https://www.sec.gov/Archives/edgar/data/320193...</td>\n",
       "      <td>28.955000</td>\n",
       "    </tr>\n",
       "    <tr>\n",
       "      <th>2</th>\n",
       "      <td>320193</td>\n",
       "      <td>AAPL</td>\n",
       "      <td>Apple Inc. Common Stock</td>\n",
       "      <td>2014</td>\n",
       "      <td>item 1a.\\nrisk factors  the following discussi...</td>\n",
       "      <td>https://www.sec.gov/Archives/edgar/data/320193...</td>\n",
       "      <td>27.594999</td>\n",
       "    </tr>\n",
       "    <tr>\n",
       "      <th>3</th>\n",
       "      <td>789019</td>\n",
       "      <td>MSFT</td>\n",
       "      <td>Microsoft Corporation Common Stock</td>\n",
       "      <td>2018</td>\n",
       "      <td>item 1a. risk factors \\nour operations and fin...</td>\n",
       "      <td>https://www.sec.gov/Archives/edgar/data/789019...</td>\n",
       "      <td>101.570000</td>\n",
       "    </tr>\n",
       "    <tr>\n",
       "      <th>4</th>\n",
       "      <td>789019</td>\n",
       "      <td>MSFT</td>\n",
       "      <td>Microsoft Corporation Common Stock</td>\n",
       "      <td>2016</td>\n",
       "      <td>item 1a. risk factors  our operations and fina...</td>\n",
       "      <td>https://www.sec.gov/Archives/edgar/data/789019...</td>\n",
       "      <td>62.139999</td>\n",
       "    </tr>\n",
       "    <tr>\n",
       "      <th>...</th>\n",
       "      <td>...</td>\n",
       "      <td>...</td>\n",
       "      <td>...</td>\n",
       "      <td>...</td>\n",
       "      <td>...</td>\n",
       "      <td>...</td>\n",
       "      <td>...</td>\n",
       "    </tr>\n",
       "    <tr>\n",
       "      <th>165</th>\n",
       "      <td>1048286</td>\n",
       "      <td>MAR</td>\n",
       "      <td>Marriott International Class A Common Stock</td>\n",
       "      <td>2011</td>\n",
       "      <td>item 1a.risk factors.forward-looking statement...</td>\n",
       "      <td>https://www.sec.gov/Archives/edgar/data/104828...</td>\n",
       "      <td>29.170000</td>\n",
       "    </tr>\n",
       "    <tr>\n",
       "      <th>166</th>\n",
       "      <td>1048286</td>\n",
       "      <td>MAR</td>\n",
       "      <td>Marriott International Class A Common Stock</td>\n",
       "      <td>2010</td>\n",
       "      <td>item 1a.\\nrisk factors.  forward-looking\\nstat...</td>\n",
       "      <td>https://www.sec.gov/Archives/edgar/data/104828...</td>\n",
       "      <td>39.151745</td>\n",
       "    </tr>\n",
       "    <tr>\n",
       "      <th>167</th>\n",
       "      <td>1048286</td>\n",
       "      <td>MAR</td>\n",
       "      <td>Marriott International Class A Common Stock</td>\n",
       "      <td>2007</td>\n",
       "      <td>item 1a.\\nrisk factors.  forward-looking state...</td>\n",
       "      <td>https://www.sec.gov/Archives/edgar/data/104828...</td>\n",
       "      <td>31.863121</td>\n",
       "    </tr>\n",
       "    <tr>\n",
       "      <th>168</th>\n",
       "      <td>1637459</td>\n",
       "      <td>KHC</td>\n",
       "      <td>The Kraft Heinz Company Common Stock</td>\n",
       "      <td>2018</td>\n",
       "      <td>item 1a.  risk factors.industry riskswe operat...</td>\n",
       "      <td>https://www.sec.gov/Archives/edgar/data/163745...</td>\n",
       "      <td>43.040001</td>\n",
       "    </tr>\n",
       "    <tr>\n",
       "      <th>169</th>\n",
       "      <td>1637459</td>\n",
       "      <td>KHC</td>\n",
       "      <td>The Kraft Heinz Company Common Stock</td>\n",
       "      <td>2016</td>\n",
       "      <td>item 1a.4executive officersthe following are o...</td>\n",
       "      <td>https://www.sec.gov/Archives/edgar/data/163745...</td>\n",
       "      <td>87.320000</td>\n",
       "    </tr>\n",
       "  </tbody>\n",
       "</table>\n",
       "<p>170 rows × 7 columns</p>\n",
       "</div>"
      ],
      "text/plain": [
       "         cik symbol                                      company  fiscal_year  \\\n",
       "0     320193   AAPL                      Apple Inc. Common Stock         2018   \n",
       "1     320193   AAPL                      Apple Inc. Common Stock         2016   \n",
       "2     320193   AAPL                      Apple Inc. Common Stock         2014   \n",
       "3     789019   MSFT           Microsoft Corporation Common Stock         2018   \n",
       "4     789019   MSFT           Microsoft Corporation Common Stock         2016   \n",
       "..       ...    ...                                          ...          ...   \n",
       "165  1048286    MAR  Marriott International Class A Common Stock         2011   \n",
       "166  1048286    MAR  Marriott International Class A Common Stock         2010   \n",
       "167  1048286    MAR  Marriott International Class A Common Stock         2007   \n",
       "168  1637459    KHC         The Kraft Heinz Company Common Stock         2018   \n",
       "169  1637459    KHC         The Kraft Heinz Company Common Stock         2016   \n",
       "\n",
       "                                                  risk  \\\n",
       "0    item 1a.risk factorsthe following discussion o...   \n",
       "1    item 1a. risk factorsthe following discussion ...   \n",
       "2    item 1a.\\nrisk factors  the following discussi...   \n",
       "3    item 1a. risk factors \\nour operations and fin...   \n",
       "4    item 1a. risk factors  our operations and fina...   \n",
       "..                                                 ...   \n",
       "165  item 1a.risk factors.forward-looking statement...   \n",
       "166  item 1a.\\nrisk factors.  forward-looking\\nstat...   \n",
       "167  item 1a.\\nrisk factors.  forward-looking state...   \n",
       "168  item 1a.  risk factors.industry riskswe operat...   \n",
       "169  item 1a.4executive officersthe following are o...   \n",
       "\n",
       "                                                   url       price  \n",
       "0    https://www.sec.gov/Archives/edgar/data/320193...   39.435001  \n",
       "1    https://www.sec.gov/Archives/edgar/data/320193...   28.955000  \n",
       "2    https://www.sec.gov/Archives/edgar/data/320193...   27.594999  \n",
       "3    https://www.sec.gov/Archives/edgar/data/789019...  101.570000  \n",
       "4    https://www.sec.gov/Archives/edgar/data/789019...   62.139999  \n",
       "..                                                 ...         ...  \n",
       "165  https://www.sec.gov/Archives/edgar/data/104828...   29.170000  \n",
       "166  https://www.sec.gov/Archives/edgar/data/104828...   39.151745  \n",
       "167  https://www.sec.gov/Archives/edgar/data/104828...   31.863121  \n",
       "168  https://www.sec.gov/Archives/edgar/data/163745...   43.040001  \n",
       "169  https://www.sec.gov/Archives/edgar/data/163745...   87.320000  \n",
       "\n",
       "[170 rows x 7 columns]"
      ]
     },
     "execution_count": 141,
     "metadata": {},
     "output_type": "execute_result"
    }
   ],
   "source": [
    "merged_df"
   ]
  },
  {
   "cell_type": "markdown",
   "id": "40d1cf50-a0b4-421e-bde5-d75e6f268a53",
   "metadata": {},
   "source": [
    "## III: Data Cleaning"
   ]
  },
  {
   "cell_type": "markdown",
   "id": "ce2de677-e64e-4344-afa7-4aa547863e92",
   "metadata": {},
   "source": [
    "### 0. Helper functions"
   ]
  },
  {
   "cell_type": "code",
   "execution_count": 132,
   "id": "7ec82d70-dbad-4f2e-ace7-afc3e97efca4",
   "metadata": {},
   "outputs": [],
   "source": [
    "def word_count(text):\n",
    "    counter = Counter()\n",
    "    tokens_nltk = word_tokenize(text)\n",
    "\n",
    "    for token in tokens_nltk:\n",
    "        counter[token] += 1\n",
    "    return sum(counter.values())"
   ]
  },
  {
   "cell_type": "markdown",
   "id": "87fd7aa5-1db8-43f8-a4a2-7ad33f100159",
   "metadata": {},
   "source": [
    "### 1. Exclude invalid stock prices "
   ]
  },
  {
   "cell_type": "code",
   "execution_count": 142,
   "id": "89944503-2a66-419b-88ea-e649002132ab",
   "metadata": {},
   "outputs": [],
   "source": [
    "merged_df = merged_df[merged_df['price'] >= 0]"
   ]
  },
  {
   "cell_type": "markdown",
   "id": "1cfc58ff-307f-4e21-ba57-19587d3b326d",
   "metadata": {},
   "source": [
    "### 2. Clean the text"
   ]
  },
  {
   "cell_type": "code",
   "execution_count": 143,
   "id": "acb58a97-ea43-4bad-b5b0-5b754a4b74d3",
   "metadata": {},
   "outputs": [],
   "source": [
    "text_list = []\n",
    "text_len = []\n",
    "for text in merged_df['risk']:\n",
    "    text = unicodedata.normalize('NFKD', text.replace(\"\\'\", \"'\").replace(\"\\ in\\ form\", \" inform\").replace(\"\\n\", \" \").lower().strip())\n",
    "    text_list.append(text)\n",
    "    cnt = word_count(text)\n",
    "    text_len.append(cnt)"
   ]
  },
  {
   "cell_type": "markdown",
   "id": "8164bae3-e1c7-4329-afdb-ace28c1c1610",
   "metadata": {
    "tags": []
   },
   "source": [
    "### 3. Add more metadata"
   ]
  },
  {
   "cell_type": "code",
   "execution_count": 144,
   "id": "19af6b94-2dcd-4ad0-a547-0837cc368d75",
   "metadata": {},
   "outputs": [
    {
     "name": "stderr",
     "output_type": "stream",
     "text": [
      "/var/folders/hb/cp1k8j5x3dj82qvtzxhwyn280000gn/T/ipykernel_47703/237560845.py:2: SettingWithCopyWarning: \n",
      "A value is trying to be set on a copy of a slice from a DataFrame.\n",
      "Try using .loc[row_indexer,col_indexer] = value instead\n",
      "\n",
      "See the caveats in the documentation: https://pandas.pydata.org/pandas-docs/stable/user_guide/indexing.html#returning-a-view-versus-a-copy\n",
      "  merged_df['text'] = text_list\n"
     ]
    }
   ],
   "source": [
    "# add the cleaned text as a column to the df\n",
    "merged_df['text'] = text_list"
   ]
  },
  {
   "cell_type": "code",
   "execution_count": 145,
   "id": "b944a577-e619-4794-b649-8c97588b74cf",
   "metadata": {},
   "outputs": [
    {
     "name": "stderr",
     "output_type": "stream",
     "text": [
      "/var/folders/hb/cp1k8j5x3dj82qvtzxhwyn280000gn/T/ipykernel_47703/945730304.py:1: SettingWithCopyWarning: \n",
      "A value is trying to be set on a copy of a slice from a DataFrame.\n",
      "Try using .loc[row_indexer,col_indexer] = value instead\n",
      "\n",
      "See the caveats in the documentation: https://pandas.pydata.org/pandas-docs/stable/user_guide/indexing.html#returning-a-view-versus-a-copy\n",
      "  merged_df['word_count'] = text_len\n"
     ]
    }
   ],
   "source": [
    "merged_df['word_count'] = text_len"
   ]
  },
  {
   "cell_type": "code",
   "execution_count": 146,
   "id": "7ce14b3f-23a0-45a4-8361-e9814349e33d",
   "metadata": {},
   "outputs": [
    {
     "data": {
      "text/html": [
       "<div>\n",
       "<style scoped>\n",
       "    .dataframe tbody tr th:only-of-type {\n",
       "        vertical-align: middle;\n",
       "    }\n",
       "\n",
       "    .dataframe tbody tr th {\n",
       "        vertical-align: top;\n",
       "    }\n",
       "\n",
       "    .dataframe thead th {\n",
       "        text-align: right;\n",
       "    }\n",
       "</style>\n",
       "<table border=\"1\" class=\"dataframe\">\n",
       "  <thead>\n",
       "    <tr style=\"text-align: right;\">\n",
       "      <th></th>\n",
       "      <th>cik</th>\n",
       "      <th>fiscal_year</th>\n",
       "      <th>price</th>\n",
       "      <th>word_count</th>\n",
       "    </tr>\n",
       "  </thead>\n",
       "  <tbody>\n",
       "    <tr>\n",
       "      <th>count</th>\n",
       "      <td>1.690000e+02</td>\n",
       "      <td>169.000000</td>\n",
       "      <td>169.000000</td>\n",
       "      <td>169.000000</td>\n",
       "    </tr>\n",
       "    <tr>\n",
       "      <th>mean</th>\n",
       "      <td>7.951891e+05</td>\n",
       "      <td>2013.224852</td>\n",
       "      <td>122.958714</td>\n",
       "      <td>22485.692308</td>\n",
       "    </tr>\n",
       "    <tr>\n",
       "      <th>std</th>\n",
       "      <td>4.226564e+05</td>\n",
       "      <td>3.497836</td>\n",
       "      <td>257.316189</td>\n",
       "      <td>19288.844671</td>\n",
       "    </tr>\n",
       "    <tr>\n",
       "      <th>min</th>\n",
       "      <td>2.488000e+03</td>\n",
       "      <td>2007.000000</td>\n",
       "      <td>2.160000</td>\n",
       "      <td>1797.000000</td>\n",
       "    </tr>\n",
       "    <tr>\n",
       "      <th>25%</th>\n",
       "      <td>7.075490e+05</td>\n",
       "      <td>2010.000000</td>\n",
       "      <td>25.260000</td>\n",
       "      <td>8777.000000</td>\n",
       "    </tr>\n",
       "    <tr>\n",
       "      <th>50%</th>\n",
       "      <td>8.043280e+05</td>\n",
       "      <td>2014.000000</td>\n",
       "      <td>48.001999</td>\n",
       "      <td>14185.000000</td>\n",
       "    </tr>\n",
       "    <tr>\n",
       "      <th>75%</th>\n",
       "      <td>1.065280e+06</td>\n",
       "      <td>2016.000000</td>\n",
       "      <td>102.949997</td>\n",
       "      <td>30629.000000</td>\n",
       "    </tr>\n",
       "    <tr>\n",
       "      <th>max</th>\n",
       "      <td>1.730168e+06</td>\n",
       "      <td>2020.000000</td>\n",
       "      <td>1722.420044</td>\n",
       "      <td>75761.000000</td>\n",
       "    </tr>\n",
       "  </tbody>\n",
       "</table>\n",
       "</div>"
      ],
      "text/plain": [
       "                cik  fiscal_year        price    word_count\n",
       "count  1.690000e+02   169.000000   169.000000    169.000000\n",
       "mean   7.951891e+05  2013.224852   122.958714  22485.692308\n",
       "std    4.226564e+05     3.497836   257.316189  19288.844671\n",
       "min    2.488000e+03  2007.000000     2.160000   1797.000000\n",
       "25%    7.075490e+05  2010.000000    25.260000   8777.000000\n",
       "50%    8.043280e+05  2014.000000    48.001999  14185.000000\n",
       "75%    1.065280e+06  2016.000000   102.949997  30629.000000\n",
       "max    1.730168e+06  2020.000000  1722.420044  75761.000000"
      ]
     },
     "execution_count": 146,
     "metadata": {},
     "output_type": "execute_result"
    }
   ],
   "source": [
    "merged_df.describe()"
   ]
  },
  {
   "cell_type": "code",
   "execution_count": null,
   "id": "642093bd-5c50-43c9-8a4c-01831ee8076a",
   "metadata": {},
   "outputs": [],
   "source": []
  },
  {
   "cell_type": "code",
   "execution_count": null,
   "id": "9a12b4ae-d9ca-436e-8f9f-c2cea881b7e5",
   "metadata": {},
   "outputs": [],
   "source": []
  },
  {
   "cell_type": "code",
   "execution_count": 147,
   "id": "6b6b0c5c-5970-4372-8771-f831fe0e5b9e",
   "metadata": {},
   "outputs": [
    {
     "data": {
      "text/html": [
       "<div>\n",
       "<style scoped>\n",
       "    .dataframe tbody tr th:only-of-type {\n",
       "        vertical-align: middle;\n",
       "    }\n",
       "\n",
       "    .dataframe tbody tr th {\n",
       "        vertical-align: top;\n",
       "    }\n",
       "\n",
       "    .dataframe thead th {\n",
       "        text-align: right;\n",
       "    }\n",
       "</style>\n",
       "<table border=\"1\" class=\"dataframe\">\n",
       "  <thead>\n",
       "    <tr style=\"text-align: right;\">\n",
       "      <th></th>\n",
       "      <th>cik</th>\n",
       "      <th>symbol</th>\n",
       "      <th>company</th>\n",
       "      <th>fiscal_year</th>\n",
       "      <th>risk</th>\n",
       "      <th>url</th>\n",
       "      <th>price</th>\n",
       "      <th>text</th>\n",
       "      <th>word_count</th>\n",
       "    </tr>\n",
       "  </thead>\n",
       "  <tbody>\n",
       "    <tr>\n",
       "      <th>0</th>\n",
       "      <td>320193</td>\n",
       "      <td>AAPL</td>\n",
       "      <td>Apple Inc. Common Stock</td>\n",
       "      <td>2018</td>\n",
       "      <td>item 1a.risk factorsthe following discussion o...</td>\n",
       "      <td>https://www.sec.gov/Archives/edgar/data/320193...</td>\n",
       "      <td>39.435001</td>\n",
       "      <td>item 1a.risk factorsthe following discussion o...</td>\n",
       "      <td>8955</td>\n",
       "    </tr>\n",
       "    <tr>\n",
       "      <th>1</th>\n",
       "      <td>320193</td>\n",
       "      <td>AAPL</td>\n",
       "      <td>Apple Inc. Common Stock</td>\n",
       "      <td>2016</td>\n",
       "      <td>item 1a. risk factorsthe following discussion ...</td>\n",
       "      <td>https://www.sec.gov/Archives/edgar/data/320193...</td>\n",
       "      <td>28.955000</td>\n",
       "      <td>item 1a. risk factorsthe following discussion ...</td>\n",
       "      <td>8575</td>\n",
       "    </tr>\n",
       "    <tr>\n",
       "      <th>2</th>\n",
       "      <td>320193</td>\n",
       "      <td>AAPL</td>\n",
       "      <td>Apple Inc. Common Stock</td>\n",
       "      <td>2014</td>\n",
       "      <td>item 1a.\\nrisk factors  the following discussi...</td>\n",
       "      <td>https://www.sec.gov/Archives/edgar/data/320193...</td>\n",
       "      <td>27.594999</td>\n",
       "      <td>item 1a. risk factors  the following discussio...</td>\n",
       "      <td>8825</td>\n",
       "    </tr>\n",
       "    <tr>\n",
       "      <th>3</th>\n",
       "      <td>789019</td>\n",
       "      <td>MSFT</td>\n",
       "      <td>Microsoft Corporation Common Stock</td>\n",
       "      <td>2018</td>\n",
       "      <td>item 1a. risk factors \\nour operations and fin...</td>\n",
       "      <td>https://www.sec.gov/Archives/edgar/data/789019...</td>\n",
       "      <td>101.570000</td>\n",
       "      <td>item 1a. risk factors  our operations and fina...</td>\n",
       "      <td>9600</td>\n",
       "    </tr>\n",
       "    <tr>\n",
       "      <th>4</th>\n",
       "      <td>789019</td>\n",
       "      <td>MSFT</td>\n",
       "      <td>Microsoft Corporation Common Stock</td>\n",
       "      <td>2016</td>\n",
       "      <td>item 1a. risk factors  our operations and fina...</td>\n",
       "      <td>https://www.sec.gov/Archives/edgar/data/789019...</td>\n",
       "      <td>62.139999</td>\n",
       "      <td>item 1a. risk factors  our operations and fina...</td>\n",
       "      <td>7477</td>\n",
       "    </tr>\n",
       "  </tbody>\n",
       "</table>\n",
       "</div>"
      ],
      "text/plain": [
       "      cik symbol                             company  fiscal_year  \\\n",
       "0  320193   AAPL             Apple Inc. Common Stock         2018   \n",
       "1  320193   AAPL             Apple Inc. Common Stock         2016   \n",
       "2  320193   AAPL             Apple Inc. Common Stock         2014   \n",
       "3  789019   MSFT  Microsoft Corporation Common Stock         2018   \n",
       "4  789019   MSFT  Microsoft Corporation Common Stock         2016   \n",
       "\n",
       "                                                risk  \\\n",
       "0  item 1a.risk factorsthe following discussion o...   \n",
       "1  item 1a. risk factorsthe following discussion ...   \n",
       "2  item 1a.\\nrisk factors  the following discussi...   \n",
       "3  item 1a. risk factors \\nour operations and fin...   \n",
       "4  item 1a. risk factors  our operations and fina...   \n",
       "\n",
       "                                                 url       price  \\\n",
       "0  https://www.sec.gov/Archives/edgar/data/320193...   39.435001   \n",
       "1  https://www.sec.gov/Archives/edgar/data/320193...   28.955000   \n",
       "2  https://www.sec.gov/Archives/edgar/data/320193...   27.594999   \n",
       "3  https://www.sec.gov/Archives/edgar/data/789019...  101.570000   \n",
       "4  https://www.sec.gov/Archives/edgar/data/789019...   62.139999   \n",
       "\n",
       "                                                text  word_count  \n",
       "0  item 1a.risk factorsthe following discussion o...        8955  \n",
       "1  item 1a. risk factorsthe following discussion ...        8575  \n",
       "2  item 1a. risk factors  the following discussio...        8825  \n",
       "3  item 1a. risk factors  our operations and fina...        9600  \n",
       "4  item 1a. risk factors  our operations and fina...        7477  "
      ]
     },
     "execution_count": 147,
     "metadata": {},
     "output_type": "execute_result"
    }
   ],
   "source": [
    "merged_df.head()"
   ]
  },
  {
   "cell_type": "markdown",
   "id": "9ca7e012-c449-46e5-985c-f247756ef6e7",
   "metadata": {},
   "source": [
    "## IV: Text Analysis"
   ]
  },
  {
   "cell_type": "code",
   "execution_count": null,
   "id": "1953e793-9acf-45a9-aa3a-0ab26aa69d13",
   "metadata": {},
   "outputs": [],
   "source": []
  },
  {
   "cell_type": "markdown",
   "id": "3d3c9a85-782e-4dab-a5e0-f6523fd165ef",
   "metadata": {},
   "source": [
    "### 0. Helper Functions"
   ]
  },
  {
   "cell_type": "code",
   "execution_count": null,
   "id": "19c7eb2e-dbdb-4a8b-b92a-68964947eab5",
   "metadata": {},
   "outputs": [],
   "source": []
  },
  {
   "cell_type": "markdown",
   "id": "64ca0a91-07e8-483d-8bea-4aa6fe0599db",
   "metadata": {},
   "source": [
    "## 1. Sentiment Analysis "
   ]
  },
  {
   "cell_type": "code",
   "execution_count": null,
   "id": "334545a5-c0fd-49a6-a8a7-435a087c8fa7",
   "metadata": {},
   "outputs": [],
   "source": []
  },
  {
   "cell_type": "code",
   "execution_count": null,
   "id": "9a8f2b9d-bf47-4456-bee4-a471e1534353",
   "metadata": {},
   "outputs": [],
   "source": []
  },
  {
   "cell_type": "markdown",
   "id": "224be1e3-88f8-45cc-b512-f74a5bd96bc7",
   "metadata": {},
   "source": [
    "## 2. Classification"
   ]
  },
  {
   "cell_type": "code",
   "execution_count": null,
   "id": "5876c91a-f354-492b-93ea-b7bf28ca8f52",
   "metadata": {},
   "outputs": [],
   "source": [
    "# import unicodedata\n",
    "\n",
    "# text = unicodedata.normalize('NFKD', text.replace(\"\\'\", \"'\").replace(\"\\ in\\ form\", \" inform\").replace(\"\\n\", \" \").lower().strip())"
   ]
  },
  {
   "cell_type": "code",
   "execution_count": null,
   "id": "e14ccb73-f5aa-4ec8-bda8-7f1b9a733d50",
   "metadata": {},
   "outputs": [],
   "source": [
    "# print(text)\n",
    "# dev_docs = [doc for doc in text.split('\\n')] "
   ]
  },
  {
   "cell_type": "code",
   "execution_count": null,
   "id": "5017bad0-3ee7-4af5-8707-52b39f4c85ef",
   "metadata": {},
   "outputs": [],
   "source": [
    "# from   sklearn.feature_extraction.text import TfidfVectorizer\n",
    "# from   nltk.corpus import stopwords\n",
    "# import string\n",
    "\n",
    "# # Making stopwords list\n",
    "# stoplist = stopwords.words('english')\n",
    "# for el in [i for i in string.punctuation]:\n",
    "#     stoplist.append(el)\n",
    "\n",
    "# # Set up vectorizer\n",
    "# vectorizer = TfidfVectorizer(\n",
    "#     encoding='utf-8',\n",
    "#     min_df=1, # include words that occur in as few as a single document, 1 = a single document\n",
    "#     max_df=1.0, # include words that occur in as many as all documents, 1.0 = 100% = all documents\n",
    "#      binary=False,\n",
    "#     norm='l2',\n",
    "#     stop_words = stoplist,\n",
    "#     use_idf=True\n",
    "# )\n",
    "\n",
    "# X = vectorizer.fit_transform(dev_docs)"
   ]
  },
  {
   "cell_type": "code",
   "execution_count": null,
   "id": "5759c23d-d355-4f57-a2c9-653ee13a39dd",
   "metadata": {},
   "outputs": [],
   "source": [
    "# print(X.shape)"
   ]
  },
  {
   "cell_type": "code",
   "execution_count": null,
   "id": "c8f0756e-fd23-448a-b96a-0b72c7689a03",
   "metadata": {},
   "outputs": [],
   "source": [
    "# print(X)"
   ]
  },
  {
   "cell_type": "code",
   "execution_count": null,
   "id": "78eee20d-1bc0-4e39-85c7-8c2df0df10ee",
   "metadata": {},
   "outputs": [],
   "source": []
  },
  {
   "cell_type": "code",
   "execution_count": null,
   "id": "4e02ed25-ac5f-45d1-93f7-4cd1d65a6db8",
   "metadata": {},
   "outputs": [],
   "source": []
  },
  {
   "cell_type": "markdown",
   "id": "3b674695-29c2-4f76-a6a8-15681e0b068d",
   "metadata": {},
   "source": [
    "# Part 4: Analysis"
   ]
  },
  {
   "cell_type": "code",
   "execution_count": null,
   "id": "1e6b5310-57c9-4c11-b2d1-7541ab4dd8a1",
   "metadata": {},
   "outputs": [],
   "source": []
  },
  {
   "cell_type": "code",
   "execution_count": null,
   "id": "b4696662-2b81-4589-bcf8-eb8750ffd8ba",
   "metadata": {},
   "outputs": [],
   "source": []
  },
  {
   "cell_type": "code",
   "execution_count": null,
   "id": "795da3a2-b307-4151-8101-33ebdc1e5c3a",
   "metadata": {},
   "outputs": [],
   "source": []
  },
  {
   "cell_type": "code",
   "execution_count": null,
   "id": "d59d4fff-7a69-4ad1-bca3-7d30dc067340",
   "metadata": {},
   "outputs": [],
   "source": []
  },
  {
   "cell_type": "code",
   "execution_count": null,
   "id": "140cde9a-b9b4-47f5-a526-7fef6140abab",
   "metadata": {},
   "outputs": [],
   "source": []
  },
  {
   "cell_type": "code",
   "execution_count": null,
   "id": "ff4035e7-6423-4913-af9c-8f3354fc5d25",
   "metadata": {},
   "outputs": [],
   "source": []
  },
  {
   "cell_type": "markdown",
   "id": "9a2dd98c-4390-46fb-ab4c-0958e505998b",
   "metadata": {},
   "source": [
    "# References\n",
    "\n",
    "* https://stackoverflow.com/questions/48687857/python-json-list-to-pandas-dataframe\n",
    "\n",
    "* https://www.youtube.com/watch?v=fw4gK-leExw&ab_channel=IzzyAnalytics"
   ]
  }
 ],
 "metadata": {
  "kernelspec": {
   "display_name": "Python 3 (ipykernel)",
   "language": "python",
   "name": "python3"
  },
  "language_info": {
   "codemirror_mode": {
    "name": "ipython",
    "version": 3
   },
   "file_extension": ".py",
   "mimetype": "text/x-python",
   "name": "python",
   "nbconvert_exporter": "python",
   "pygments_lexer": "ipython3",
   "version": "3.9.7"
  }
 },
 "nbformat": 4,
 "nbformat_minor": 5
}
