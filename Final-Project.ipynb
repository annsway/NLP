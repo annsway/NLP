{
 "cells": [
  {
   "cell_type": "markdown",
   "id": "612fc418-cd31-4623-8f25-289f5cc5036d",
   "metadata": {},
   "source": [
    "# Final Project for INFO 6350\n",
    "### Project Team: Yun Zhou (yz2685)"
   ]
  },
  {
   "cell_type": "markdown",
   "id": "9f20f341-5d43-4809-89e2-103e866d6ce0",
   "metadata": {},
   "source": [
    "# Part 0: Background"
   ]
  },
  {
   "cell_type": "markdown",
   "id": "2b1910d8-d118-4a03-9423-f7192d0081e3",
   "metadata": {},
   "source": [
    "**Statement of the problem:** The annual financial reports (10K reports) of the publicly traded companies are usually very lengthy and extensive, few people had the time and energy to read such report across all the companies over the years, and make accurate predications on the companies' financial performances based on the hundreds of reports every year of which the average page number can be up to 100 pages or 30k - 60k words. "
   ]
  },
  {
   "cell_type": "markdown",
   "id": "79c98554-a3f1-4e7f-9681-2cb8df067897",
   "metadata": {},
   "source": [
    "**Impact:** The results from my analysis will deliver meaningful recommendations to not only the NLP scholars, but also to the real-world managers,  executives, and investors. By using text mining techniques, we can greatly improve the efficiency of the decision-making process in the business world, saving executives/managers' time reading their competitors' verbose 10K reports. Additionally, the project result will help the individual investors save time analyzing the 10K reports and make better investment decisions in the stock market.   "
   ]
  },
  {
   "cell_type": "markdown",
   "id": "ff037b89-311c-4b4b-a4e8-a79c2ee6b30e",
   "metadata": {},
   "source": [
    "# Part 1: Research Questions"
   ]
  },
  {
   "cell_type": "markdown",
   "id": "b143c00e-bf8e-41d0-bf70-805ea339a712",
   "metadata": {},
   "source": [
    "### Q1: What are the tones or sentiments used to describe the risks of companies? Are they related to the stock prices? \n",
    "\n",
    "### Q2: What are the most important features in the **risk sections** in the 10-k reports that can make predictions or classifications on the companies' stock prices?\n",
    "\n",
    "### Q3: Given a risk section, can our classifier correctly determine if the record is before-2014 or post-2014?  "
   ]
  },
  {
   "cell_type": "markdown",
   "id": "41c62638-6a16-4ac9-8d2b-4424f89dfb8c",
   "metadata": {},
   "source": [
    "# Part 2: Methodologies"
   ]
  },
  {
   "cell_type": "markdown",
   "id": "56fc0723-f4bd-457c-9535-00ae8d72793d",
   "metadata": {},
   "source": [
    "**Methodology:** \n",
    "* Perform web crawling tasks to collect the financial reports over the years of the companies of interest. \n",
    "* Make gold labels based on the companies' financial metrics, such as earnings per share or net profit margin ratio. and label each report as below-average-margin vs. above-average-margin\n",
    "* Clean the corpus, remove tables, figures, stopwords, etc. \n",
    "* Perform sentiment analysis on the corpus to detect the positiveness and/or negativeness of the financial situations of the companies over the years. \n",
    "* Build regression models to predict the companies' financial performance and calculate R^2\n",
    "* Build various classifiers (e.g. random forest, decision tree, SVD, logistic classification, BERT) to classify the companies into below-average and above-average based on the financial metrics. Calculate the F1 and accuracy scores \n",
    "* Compare the results from regression models and classifers.\n",
    "* Make recommendations on how to choose the best stuitable model for such tasks in the future. "
   ]
  },
  {
   "cell_type": "markdown",
   "id": "b314bb7d-eb9e-4887-9a69-bcbba0e76a52",
   "metadata": {},
   "source": [
    "# Part 3: Code"
   ]
  },
  {
   "cell_type": "code",
   "execution_count": 1,
   "id": "55973c51-65a9-4f7c-a387-f5a05648497c",
   "metadata": {},
   "outputs": [],
   "source": [
    "# import libraries\n",
    "import requests\n",
    "import urllib\n",
    "from bs4 import BeautifulSoup\n",
    "import simplejson as json\n",
    "from urllib.request import Request, urlopen\n",
    "from fake_useragent import UserAgent\n",
    "from selenium import webdriver\n",
    "import time\n",
    "import re\n",
    "import pandas as pd\n",
    "import json\n",
    "import datetime\n",
    "import numpy as np\n",
    "import unicodedata\n",
    "from collections import Counter\n",
    "from nltk import word_tokenize, sent_tokenize\n",
    "import matplotlib.pyplot as plt\n",
    "import pickle\n",
    "from   sklearn.feature_extraction.text import TfidfVectorizer\n",
    "from   sklearn.feature_selection import SelectKBest, mutual_info_classif\n",
    "from   sklearn.linear_model import LogisticRegression, LinearRegression\n",
    "from   sklearn.model_selection import cross_val_score\n",
    "from   sklearn.preprocessing import StandardScaler\n",
    "import spacy\n",
    "from sklearn.ensemble import RandomForestClassifier\n",
    "from sklearn.tree import DecisionTreeClassifier\n",
    "from sklearn.naive_bayes import MultinomialNB\n",
    "from sklearn.svm import SVC\n",
    "from   sklearn.cluster import KMeans, SpectralClustering, DBSCAN, OPTICS, AgglomerativeClustering\n",
    "import os\n",
    "import string\n",
    "import copy\n",
    "from   collections import defaultdict\n",
    "from   nltk.corpus import stopwords\n",
    "from   sklearn.feature_selection import SelectKBest, mutual_info_regression\n",
    "from wordcloud import WordCloud \n",
    "import seaborn as sns\n",
    "from   sklearn.decomposition import TruncatedSVD\n"
   ]
  },
  {
   "cell_type": "code",
   "execution_count": 2,
   "id": "e76d60a5-27d4-49e9-a6f7-f75b52d4bd37",
   "metadata": {
    "tags": []
   },
   "outputs": [],
   "source": [
    "# define the base url needed to create the file url.\n",
    "base_url = r\"https://www.sec.gov\"\n",
    "header = {\n",
    "    'User-Agent': 'Mozilla/5.0 (Macintosh; Intel Mac OS X 10_15_7) AppleWebKit/537.36 (KHTML, like Gecko) Chrome/101.0.4951.54 Safari/537.36'\n",
    "}\n",
    "\n",
    "# four-digit year pattern\n",
    "yearPattern = re.compile(r'\\d{4}$')"
   ]
  },
  {
   "cell_type": "code",
   "execution_count": 3,
   "id": "fbdc364f-fa4e-4a93-9f36-fa63d523f5dc",
   "metadata": {},
   "outputs": [
    {
     "data": {
      "text/plain": [
       "102"
      ]
     },
     "execution_count": 3,
     "metadata": {},
     "output_type": "execute_result"
    }
   ],
   "source": [
    "list_cik = pd.read_csv('nasdaq100_ticker_cik_mapping.csv').fillna(value = 0)\n",
    "len(list_cik)"
   ]
  },
  {
   "cell_type": "code",
   "execution_count": 4,
   "id": "fbcbe9bb-b4f7-478c-9246-4bff6381778f",
   "metadata": {},
   "outputs": [
    {
     "data": {
      "text/html": [
       "<div>\n",
       "<style scoped>\n",
       "    .dataframe tbody tr th:only-of-type {\n",
       "        vertical-align: middle;\n",
       "    }\n",
       "\n",
       "    .dataframe tbody tr th {\n",
       "        vertical-align: top;\n",
       "    }\n",
       "\n",
       "    .dataframe thead th {\n",
       "        text-align: right;\n",
       "    }\n",
       "</style>\n",
       "<table border=\"1\" class=\"dataframe\">\n",
       "  <thead>\n",
       "    <tr style=\"text-align: right;\">\n",
       "      <th></th>\n",
       "      <th>symbol</th>\n",
       "      <th>company</th>\n",
       "      <th>cik</th>\n",
       "      <th>market_cap_05132022</th>\n",
       "      <th>last_sale_05132022</th>\n",
       "      <th>sector</th>\n",
       "    </tr>\n",
       "  </thead>\n",
       "  <tbody>\n",
       "    <tr>\n",
       "      <th>0</th>\n",
       "      <td>AZN</td>\n",
       "      <td>AstraZeneca PLC American Depositary Shares</td>\n",
       "      <td>901832</td>\n",
       "      <td>195,743,788,762</td>\n",
       "      <td>$63.17</td>\n",
       "      <td>Healthcare</td>\n",
       "    </tr>\n",
       "    <tr>\n",
       "      <th>1</th>\n",
       "      <td>ADBE</td>\n",
       "      <td>Adobe Inc. Common Stock</td>\n",
       "      <td>796343</td>\n",
       "      <td>190,913,625,000</td>\n",
       "      <td>$404.05</td>\n",
       "      <td>Technology Services</td>\n",
       "    </tr>\n",
       "    <tr>\n",
       "      <th>2</th>\n",
       "      <td>ODFL</td>\n",
       "      <td>Old Dominion Freight Line, Inc. Common Stock</td>\n",
       "      <td>878927</td>\n",
       "      <td>31,335,513,414</td>\n",
       "      <td>$276.44</td>\n",
       "      <td>Industrials</td>\n",
       "    </tr>\n",
       "    <tr>\n",
       "      <th>3</th>\n",
       "      <td>LCID</td>\n",
       "      <td>Lucid Group, Inc. Common Stock</td>\n",
       "      <td>1811210</td>\n",
       "      <td>30,279,645,603</td>\n",
       "      <td>$18.16</td>\n",
       "      <td>Consumer Cyclical</td>\n",
       "    </tr>\n",
       "    <tr>\n",
       "      <th>4</th>\n",
       "      <td>CEG</td>\n",
       "      <td>Constellation Energy Corporation Common Stock</td>\n",
       "      <td>1868275</td>\n",
       "      <td>18,022,049,404</td>\n",
       "      <td>$55.17</td>\n",
       "      <td>Utilities</td>\n",
       "    </tr>\n",
       "  </tbody>\n",
       "</table>\n",
       "</div>"
      ],
      "text/plain": [
       "  symbol                                        company      cik  \\\n",
       "0    AZN     AstraZeneca PLC American Depositary Shares   901832   \n",
       "1   ADBE                        Adobe Inc. Common Stock   796343   \n",
       "2   ODFL   Old Dominion Freight Line, Inc. Common Stock   878927   \n",
       "3   LCID                 Lucid Group, Inc. Common Stock  1811210   \n",
       "4    CEG  Constellation Energy Corporation Common Stock  1868275   \n",
       "\n",
       "  market_cap_05132022 last_sale_05132022               sector  \n",
       "0     195,743,788,762            $63.17            Healthcare  \n",
       "1     190,913,625,000           $404.05   Technology Services  \n",
       "2      31,335,513,414           $276.44           Industrials  \n",
       "3      30,279,645,603            $18.16     Consumer Cyclical  \n",
       "4      18,022,049,404            $55.17             Utilities  "
      ]
     },
     "execution_count": 4,
     "metadata": {},
     "output_type": "execute_result"
    }
   ],
   "source": [
    "list_cik.head()"
   ]
  },
  {
   "cell_type": "markdown",
   "id": "84839cf6-209e-441b-8147-7db1594507c9",
   "metadata": {},
   "source": [
    "## I: Web Scraping"
   ]
  },
  {
   "cell_type": "markdown",
   "id": "0297d2b2-3106-4750-b5cf-959a67cd96da",
   "metadata": {
    "tags": []
   },
   "source": [
    "## 1. Scraping the SEC Query Page"
   ]
  },
  {
   "cell_type": "code",
   "execution_count": 5,
   "id": "0541d997-e211-4f1d-b192-3753ab39411d",
   "metadata": {},
   "outputs": [],
   "source": [
    "# define lists to store the data scraped from the SEC website\n",
    "ciks = []\n",
    "risks = []\n",
    "years = []\n",
    "urls = []\n",
    "companies = []\n",
    "symbols = []\n",
    "sectors = []\n",
    "\n",
    "# base URL for the SEC EDGAR browser\n",
    "endpoint = r\"https://www.sec.gov/cgi-bin/browse-edgar\""
   ]
  },
  {
   "cell_type": "code",
   "execution_count": 6,
   "id": "1cf02652-0295-4e0e-8790-643b886bc12d",
   "metadata": {},
   "outputs": [],
   "source": [
    "driver = webdriver.Firefox()"
   ]
  },
  {
   "cell_type": "markdown",
   "id": "28d513e4-ad48-44c4-9374-6e4c9dac2af4",
   "metadata": {},
   "source": [
    "### 1a. Helper functions "
   ]
  },
  {
   "cell_type": "code",
   "execution_count": 7,
   "id": "bf3f9898-520c-4eee-a7e6-cf03b963d051",
   "metadata": {},
   "outputs": [],
   "source": [
    "# get the links to the 10k reports \n",
    "def get10kPages(url):\n",
    "    response = requests.get(url = url, headers=header)\n",
    "    soup10k = BeautifulSoup(response.content, 'html.parser')\n",
    "    # print(response)\n",
    "    # print(response.url)\n",
    "    return response.url"
   ]
  },
  {
   "cell_type": "code",
   "execution_count": 8,
   "id": "edce853a-d2bf-4fce-8143-5c6de0b09456",
   "metadata": {},
   "outputs": [],
   "source": [
    "def get10kLinks(url, list_of_10ks):\n",
    "    response = requests.get(url = url, headers=header)\n",
    "    soup = BeautifulSoup(response.content, 'html.parser')\n",
    "    # for a in soup.find_all('a', href=True):\n",
    "        # url = a['href']\n",
    "        # print(url)\n",
    "        \n",
    "    suffix = \"htm\";\n",
    "\n",
    "    tables = soup.find('table')\n",
    "    rows = tables.find_all('tr')\n",
    "    if len(rows) > 0:\n",
    "        row10k = rows[1] # row 1 has link to 10k report\n",
    "        # print(row10k)\n",
    "        for a in row10k.find_all('a', href=True):\n",
    "            url = a['href']\n",
    "            if url.endswith(suffix):\n",
    "                list_of_10ks.append(\"https://www.sec.gov\"+ url)\n",
    "                # print(\"https://www.sec.gov\"+ url)"
   ]
  },
  {
   "cell_type": "code",
   "execution_count": 9,
   "id": "a178535a-5611-4a51-8a1d-0ab12716395a",
   "metadata": {},
   "outputs": [],
   "source": [
    "def find_nth(haystack, needle, n):\n",
    "    start = haystack.find(needle)\n",
    "    while start >= 0 and n > 1:\n",
    "        start = haystack.find(needle, start+len(needle))\n",
    "        n -= 1\n",
    "    return start"
   ]
  },
  {
   "cell_type": "code",
   "execution_count": 10,
   "id": "cc3f0b6c-a273-405e-ab46-e8ca13a8d07d",
   "metadata": {},
   "outputs": [],
   "source": [
    "# create a function that will scrap the 10k report \n",
    "def scrap10k(url, cik, company, symbol, sector):\n",
    "    driver.get(url)\n",
    "\n",
    "    time.sleep(2) # give browser some time to load the js \n",
    "\n",
    "    html = driver.page_source\n",
    "    sp = BeautifulSoup(html)\n",
    "    \n",
    "    text = \"\"\n",
    "    for d in sp.find_all(text=True):\n",
    "        text += d.get_text()\n",
    "    \n",
    "    # cleaning \n",
    "    # print(text)\n",
    "    text = text.replace(u'\\xa0', u' ').lower()\n",
    "                \n",
    "    # extract risk factor sections only\n",
    "    # print(url)\n",
    "    \n",
    "    # get fiscal year     \n",
    "    yr = \"\"\n",
    "    for span in sp.find_all(text=True):\n",
    "        stext = span.text\n",
    "        if (stext.find(\"January\") != -1\n",
    "         or stext.find(\"February\") != -1\n",
    "         or stext.find(\"March\") != -1\n",
    "         or stext.find(\"April\") != -1\n",
    "         or stext.find(\"May\") != -1\n",
    "         or stext.find(\"June\") != -1\n",
    "         or stext.find(\"July\") != -1\n",
    "         or stext.find(\"August\") != -1\n",
    "         or stext.find(\"September\") != -1\n",
    "         or stext.find(\"October\") != -1\n",
    "         or stext.find(\"November\") != -1\n",
    "         or stext.find(\"December\") != -1):\n",
    "            stext = stext.strip()\n",
    "            yr = stext[-4:]\n",
    "            # print(yr)\n",
    "            break\n",
    "            \n",
    "    \n",
    "    # print(\"=================\")    \n",
    "    # print(text)\n",
    "    \n",
    "    # proceed only when a valid year is scraped \n",
    "    yr_match = re.match(yearPattern, yr)\n",
    "    if yr_match != None:\n",
    "        yr = int(yr) # convert string to int\n",
    "        if yr > 2006:\n",
    "            start = find_nth(text, \"item 1a.\", 2)\n",
    "            # print(\"start index\", start)\n",
    "            end = find_nth(text, \"item 1b.\", 2)\n",
    "            # print(\"end index\", end)\n",
    "            substring = text[start:end]\n",
    "            if len(substring) > 100: # only pull longer risk factors \n",
    "                risks.append(substring)\n",
    "                years.append(yr)\n",
    "                ciks.append(cik)\n",
    "                urls.append(url)\n",
    "                companies.append(company)\n",
    "                symbols.append(symbol)\n",
    "                sectors.append(sector)\n",
    "    #     else:\n",
    "    #         print(\"year before 2007: \", yr)\n",
    "    # else:\n",
    "    #     print(\"fiscal year not detected\")"
   ]
  },
  {
   "cell_type": "code",
   "execution_count": 11,
   "id": "b87a4587-f17a-42e9-8ef1-561e959acd71",
   "metadata": {},
   "outputs": [],
   "source": [
    "def getDataByCIK(cik, company, symbol, sector):\n",
    "    ########################################\n",
    "    ### Step 1. Scraping the SEC Query Page\n",
    "    ########################################\n",
    "    # define our parameters dictionary\n",
    "    param_dict = {'action':'getcompany',\n",
    "                  'CIK': cik,\n",
    "                  'type':'10-k',\n",
    "                  'dateb':'20230101',\n",
    "                  'owner':'exclude',\n",
    "                  'start':'',\n",
    "                  'output':'',\n",
    "                  'count':'100'}\n",
    "\n",
    "    # request the url, and then parse the response.\n",
    "    response = requests.get(url = endpoint, params = param_dict, headers=header)\n",
    "    # response = requests.get(url = endpoint, params = param_dict)\n",
    "    soup = BeautifulSoup(response.content, 'html.parser')\n",
    "\n",
    "    # print('Request Successful')\n",
    "    # print(response.url)\n",
    "    \n",
    "    doc_table = soup.find_all(class_ = \"blueRow\")\n",
    "    \n",
    "    data = soup.find_all(class_='blueRow')\n",
    "\n",
    "    list_10k = []\n",
    "\n",
    "    for i, row in enumerate(data): \n",
    "        for a in data[i].find_all('a', href=True):\n",
    "            url = a['href']\n",
    "            if (url.startswith('/Archives/edgar/')):\n",
    "                list_10k.append(\"https://www.sec.gov\"+ url)\n",
    "                # print(\"https://www.sec.gov\"+ url)\n",
    "                \n",
    "    ########################################\n",
    "    ### Step 2. Scraping Company Page \n",
    "    ########################################\n",
    "    \n",
    "    list_of_links = []\n",
    "    for link in list_10k:\n",
    "        list_of_links.append(get10kPages(link))\n",
    "        \n",
    "    # get the url for 10k report \n",
    "    list_of_10ks = []\n",
    "    for url in list_of_links:\n",
    "        get10kLinks(url, list_of_10ks)\n",
    "        \n",
    "\n",
    "    ########################################\n",
    "    ### Step 3. Scraping 10k Reports \n",
    "    ########################################\n",
    "    for report in list_of_10ks:\n",
    "        scrap10k(report, cik, company, symbol, sector)"
   ]
  },
  {
   "cell_type": "code",
   "execution_count": 12,
   "id": "8f18cefe-90ab-4169-adba-0b326ae380fb",
   "metadata": {},
   "outputs": [],
   "source": [
    "# test\n",
    "# scrap10k('https://www.sec.gov/Archives/edgar/data/1018724/000101872419000004/amzn-20181231x10k.htm', \"1018724\", \"amzn\")"
   ]
  },
  {
   "cell_type": "code",
   "execution_count": 13,
   "id": "133580b4-c024-4272-8ee6-89212be52158",
   "metadata": {},
   "outputs": [],
   "source": [
    "# test\n",
    "# getDataByCIK(\"1067983\", \"brk-b\")"
   ]
  },
  {
   "cell_type": "markdown",
   "id": "28338dab-4493-4e84-b69a-e7a699b0b58d",
   "metadata": {},
   "source": [
    "### 1b. Run scripts for all the companies of interest"
   ]
  },
  {
   "cell_type": "code",
   "execution_count": 14,
   "id": "a730751e-d1ad-40a1-8408-e69f64ea0662",
   "metadata": {},
   "outputs": [
    {
     "name": "stdout",
     "output_type": "stream",
     "text": [
      "CPU times: user 17min 55s, sys: 34.4 s, total: 18min 30s\n",
      "Wall time: 1h 44s\n"
     ]
    }
   ],
   "source": [
    "%%time\n",
    "for i, row in list_cik.iterrows():\n",
    "    getDataByCIK(row.cik, row.company, row.symbol, row.sector)"
   ]
  },
  {
   "cell_type": "markdown",
   "id": "f98e58dc-f2ac-4712-9dbf-7efb813c0ef1",
   "metadata": {},
   "source": [
    "### 1c. Create Data Frame"
   ]
  },
  {
   "cell_type": "code",
   "execution_count": 15,
   "id": "1777126e-d3c3-4586-9c12-c97d10a778b4",
   "metadata": {},
   "outputs": [],
   "source": [
    "# create a data frame\n",
    "data_tuples = list(zip(ciks, symbols, companies, years, risks, sectors, urls))\n",
    "# data_tuples\n",
    "\n",
    "df = pd.DataFrame(data_tuples, columns=['cik', 'symbol', 'company', 'fiscal_year', 'risk', 'sector', 'url'])"
   ]
  },
  {
   "cell_type": "code",
   "execution_count": 16,
   "id": "b3897e23-fa28-4953-b5fe-de54cf3a7e9a",
   "metadata": {},
   "outputs": [
    {
     "data": {
      "text/html": [
       "<div>\n",
       "<style scoped>\n",
       "    .dataframe tbody tr th:only-of-type {\n",
       "        vertical-align: middle;\n",
       "    }\n",
       "\n",
       "    .dataframe tbody tr th {\n",
       "        vertical-align: top;\n",
       "    }\n",
       "\n",
       "    .dataframe thead th {\n",
       "        text-align: right;\n",
       "    }\n",
       "</style>\n",
       "<table border=\"1\" class=\"dataframe\">\n",
       "  <thead>\n",
       "    <tr style=\"text-align: right;\">\n",
       "      <th></th>\n",
       "      <th>cik</th>\n",
       "      <th>symbol</th>\n",
       "      <th>company</th>\n",
       "      <th>fiscal_year</th>\n",
       "      <th>risk</th>\n",
       "      <th>sector</th>\n",
       "      <th>url</th>\n",
       "    </tr>\n",
       "  </thead>\n",
       "  <tbody>\n",
       "    <tr>\n",
       "      <th>0</th>\n",
       "      <td>796343</td>\n",
       "      <td>ADBE</td>\n",
       "      <td>Adobe Inc. Common Stock</td>\n",
       "      <td>2018</td>\n",
       "      <td>item 1a.  risk factorsas previously discussed,...</td>\n",
       "      <td>Technology Services</td>\n",
       "      <td>https://www.sec.gov/Archives/edgar/data/796343...</td>\n",
       "    </tr>\n",
       "    <tr>\n",
       "      <th>1</th>\n",
       "      <td>796343</td>\n",
       "      <td>ADBE</td>\n",
       "      <td>Adobe Inc. Common Stock</td>\n",
       "      <td>2016</td>\n",
       "      <td>item 1a.  risk factorsas previously discussed,...</td>\n",
       "      <td>Technology Services</td>\n",
       "      <td>https://www.sec.gov/Archives/edgar/data/796343...</td>\n",
       "    </tr>\n",
       "    <tr>\n",
       "      <th>2</th>\n",
       "      <td>796343</td>\n",
       "      <td>ADBE</td>\n",
       "      <td>Adobe Inc. Common Stock</td>\n",
       "      <td>2014</td>\n",
       "      <td>item 1a.  risk factorsas previously discussed,...</td>\n",
       "      <td>Technology Services</td>\n",
       "      <td>https://www.sec.gov/Archives/edgar/data/796343...</td>\n",
       "    </tr>\n",
       "    <tr>\n",
       "      <th>3</th>\n",
       "      <td>796343</td>\n",
       "      <td>ADBE</td>\n",
       "      <td>Adobe Inc. Common Stock</td>\n",
       "      <td>2012</td>\n",
       "      <td>item 1a.  risk factorsas previously discussed,...</td>\n",
       "      <td>Technology Services</td>\n",
       "      <td>https://www.sec.gov/Archives/edgar/data/796343...</td>\n",
       "    </tr>\n",
       "    <tr>\n",
       "      <th>4</th>\n",
       "      <td>796343</td>\n",
       "      <td>ADBE</td>\n",
       "      <td>Adobe Inc. Common Stock</td>\n",
       "      <td>2010</td>\n",
       "      <td>item 1a.  risk factors\\n \\nas previously discu...</td>\n",
       "      <td>Technology Services</td>\n",
       "      <td>https://www.sec.gov/Archives/edgar/data/796343...</td>\n",
       "    </tr>\n",
       "  </tbody>\n",
       "</table>\n",
       "</div>"
      ],
      "text/plain": [
       "      cik symbol                  company  fiscal_year  \\\n",
       "0  796343   ADBE  Adobe Inc. Common Stock         2018   \n",
       "1  796343   ADBE  Adobe Inc. Common Stock         2016   \n",
       "2  796343   ADBE  Adobe Inc. Common Stock         2014   \n",
       "3  796343   ADBE  Adobe Inc. Common Stock         2012   \n",
       "4  796343   ADBE  Adobe Inc. Common Stock         2010   \n",
       "\n",
       "                                                risk               sector  \\\n",
       "0  item 1a.  risk factorsas previously discussed,...  Technology Services   \n",
       "1  item 1a.  risk factorsas previously discussed,...  Technology Services   \n",
       "2  item 1a.  risk factorsas previously discussed,...  Technology Services   \n",
       "3  item 1a.  risk factorsas previously discussed,...  Technology Services   \n",
       "4  item 1a.  risk factors\\n \\nas previously discu...  Technology Services   \n",
       "\n",
       "                                                 url  \n",
       "0  https://www.sec.gov/Archives/edgar/data/796343...  \n",
       "1  https://www.sec.gov/Archives/edgar/data/796343...  \n",
       "2  https://www.sec.gov/Archives/edgar/data/796343...  \n",
       "3  https://www.sec.gov/Archives/edgar/data/796343...  \n",
       "4  https://www.sec.gov/Archives/edgar/data/796343...  "
      ]
     },
     "execution_count": 16,
     "metadata": {},
     "output_type": "execute_result"
    }
   ],
   "source": [
    "df.head()"
   ]
  },
  {
   "cell_type": "code",
   "execution_count": 17,
   "id": "6d330b0c-1d36-4f05-b6b7-f89f213ffd52",
   "metadata": {},
   "outputs": [
    {
     "data": {
      "text/plain": [
       "325"
      ]
     },
     "execution_count": 17,
     "metadata": {},
     "output_type": "execute_result"
    }
   ],
   "source": [
    "len(df)"
   ]
  },
  {
   "cell_type": "markdown",
   "id": "93474b21-a6e5-448a-b0f9-f219f95a94b4",
   "metadata": {},
   "source": [
    "## II. Scrap stock prices from Yahoo Finance "
   ]
  },
  {
   "cell_type": "code",
   "execution_count": 18,
   "id": "65c762e5-0d53-461a-ad14-0bf29a892538",
   "metadata": {},
   "outputs": [],
   "source": [
    "dict_fi = {}"
   ]
  },
  {
   "cell_type": "code",
   "execution_count": 19,
   "id": "f7ce6566-2c77-429e-bb9b-dee0107823e3",
   "metadata": {},
   "outputs": [],
   "source": [
    "def getStockPricesByTicker(ticker, fiscal_year, period1, period2):\n",
    "    url_history = f'https://finance.yahoo.com/quote/{ticker}/history?period1={period1}&period2={period2}&interval=1mo&filter=history&frequency=1mo&includeAdjustedClose=false'\n",
    "    \n",
    "    respf = requests.get(url_history, headers=header)\n",
    "    # print(respf)\n",
    "    \n",
    "    soupf = BeautifulSoup(respf.text, 'html.parser')\n",
    "    \n",
    "    patternf = re.compile(r'\\s--\\sData\\s--\\s')\n",
    "    script_data = soupf.find('script', text=patternf).contents[0]\n",
    "    \n",
    "    start = script_data.find(\"context\")-2\n",
    "    json_data = json.loads(script_data[start:-12])\n",
    "    \n",
    "    # get historical stock prices \n",
    "    try:\n",
    "        HistoricalPriceStore = json_data['context']['dispatcher']['stores']['HistoricalPriceStore']\n",
    "        # print(HistoricalPriceStore)\n",
    "        # clean the stock price data \n",
    "        close = -99999 #default\n",
    "        for row in HistoricalPriceStore['prices']:\n",
    "            date = row['date']\n",
    "            dt_formatted = datetime.datetime.fromtimestamp(date).date() # using the local timezone\n",
    "\n",
    "            # get the stock price in December of a given year \n",
    "            if dt_formatted.month == 12 and dt_formatted.year == fiscal_year and 'close' in row:\n",
    "                # debug\n",
    "                # print(ticker, \"=========\", fiscal_year, \"=====\", row['date'])\n",
    "                # print(HistoricalPriceStore)\n",
    "                close = row['close']\n",
    "                break # once find a December record then stop looking\n",
    "\n",
    "        if dict_fi.get(ticker) == None:\n",
    "            dict_fi[ticker] = {}\n",
    "\n",
    "        dict_fi[ticker][fiscal_year] = close\n",
    "    except:\n",
    "        return None"
   ]
  },
  {
   "cell_type": "markdown",
   "id": "fd154df8-3b62-4bde-9e97-b784311ca283",
   "metadata": {
    "tags": []
   },
   "source": [
    "### 2b. Run scripts for all the records collected from #1"
   ]
  },
  {
   "cell_type": "code",
   "execution_count": 20,
   "id": "e8bf39f2-54e9-4fc6-9f0c-a0665b9ed08d",
   "metadata": {},
   "outputs": [
    {
     "name": "stdout",
     "output_type": "stream",
     "text": [
      "CPU times: user 47.9 s, sys: 2.3 s, total: 50.2 s\n",
      "Wall time: 11min 29s\n"
     ]
    }
   ],
   "source": [
    "%%time\n",
    "for i, row in df.iterrows():\n",
    "    ticker = row.symbol\n",
    "    fiscal_year = row.fiscal_year\n",
    "    # period1 = '1167609600' # 2007-01-01\n",
    "    # period2 = '1672444800' # 2022-12-30\n",
    "    getStockPricesByTicker(ticker, fiscal_year, '1167609600', '1672444800')"
   ]
  },
  {
   "cell_type": "markdown",
   "id": "8dacd74c-c1cc-4fba-a23e-eddf779887d3",
   "metadata": {
    "tags": []
   },
   "source": [
    "### 2c. Create data frames for stock prices"
   ]
  },
  {
   "cell_type": "code",
   "execution_count": 21,
   "id": "1f5c9e7d-03c2-4c6b-b7e8-834a3c0139d7",
   "metadata": {},
   "outputs": [
    {
     "data": {
      "text/plain": [
       "72"
      ]
     },
     "execution_count": 21,
     "metadata": {},
     "output_type": "execute_result"
    }
   ],
   "source": [
    "len(dict_fi)"
   ]
  },
  {
   "cell_type": "code",
   "execution_count": 22,
   "id": "ad1d1878-6625-4230-ba6d-7b970af88841",
   "metadata": {},
   "outputs": [],
   "source": [
    "df_fi = pd.DataFrame.from_records(\n",
    "    [\n",
    "        (level1, level2, leaf)\n",
    "        for level1, level2_dict in dict_fi.items()\n",
    "        for level2, leaf in level2_dict.items()\n",
    "    ],\n",
    "    columns=['symbol', 'fiscal_year', 'price']\n",
    ")"
   ]
  },
  {
   "cell_type": "code",
   "execution_count": 23,
   "id": "172b9346-9719-45f2-9a17-a2077854df79",
   "metadata": {},
   "outputs": [
    {
     "data": {
      "text/html": [
       "<div>\n",
       "<style scoped>\n",
       "    .dataframe tbody tr th:only-of-type {\n",
       "        vertical-align: middle;\n",
       "    }\n",
       "\n",
       "    .dataframe tbody tr th {\n",
       "        vertical-align: top;\n",
       "    }\n",
       "\n",
       "    .dataframe thead th {\n",
       "        text-align: right;\n",
       "    }\n",
       "</style>\n",
       "<table border=\"1\" class=\"dataframe\">\n",
       "  <thead>\n",
       "    <tr style=\"text-align: right;\">\n",
       "      <th></th>\n",
       "      <th>symbol</th>\n",
       "      <th>fiscal_year</th>\n",
       "      <th>price</th>\n",
       "    </tr>\n",
       "  </thead>\n",
       "  <tbody>\n",
       "    <tr>\n",
       "      <th>0</th>\n",
       "      <td>ADBE</td>\n",
       "      <td>2018</td>\n",
       "      <td>226.240005</td>\n",
       "    </tr>\n",
       "    <tr>\n",
       "      <th>1</th>\n",
       "      <td>ADBE</td>\n",
       "      <td>2016</td>\n",
       "      <td>102.949997</td>\n",
       "    </tr>\n",
       "    <tr>\n",
       "      <th>2</th>\n",
       "      <td>ADBE</td>\n",
       "      <td>2014</td>\n",
       "      <td>72.699997</td>\n",
       "    </tr>\n",
       "    <tr>\n",
       "      <th>3</th>\n",
       "      <td>ADBE</td>\n",
       "      <td>2012</td>\n",
       "      <td>37.680000</td>\n",
       "    </tr>\n",
       "    <tr>\n",
       "      <th>4</th>\n",
       "      <td>ADBE</td>\n",
       "      <td>2010</td>\n",
       "      <td>30.780001</td>\n",
       "    </tr>\n",
       "  </tbody>\n",
       "</table>\n",
       "</div>"
      ],
      "text/plain": [
       "  symbol  fiscal_year       price\n",
       "0   ADBE         2018  226.240005\n",
       "1   ADBE         2016  102.949997\n",
       "2   ADBE         2014   72.699997\n",
       "3   ADBE         2012   37.680000\n",
       "4   ADBE         2010   30.780001"
      ]
     },
     "execution_count": 23,
     "metadata": {},
     "output_type": "execute_result"
    }
   ],
   "source": [
    "df_fi.head()"
   ]
  },
  {
   "cell_type": "markdown",
   "id": "990f7b32-15ed-4590-a7a6-86547553ede8",
   "metadata": {},
   "source": [
    "### 2d. Merge two data frames"
   ]
  },
  {
   "cell_type": "code",
   "execution_count": 24,
   "id": "c4c6b224-8e0f-43c3-b207-70dfc76ba29e",
   "metadata": {},
   "outputs": [],
   "source": [
    "merged_df = pd.merge(df, df_fi, how='left', on=['fiscal_year','symbol'])"
   ]
  },
  {
   "cell_type": "code",
   "execution_count": 25,
   "id": "00d01709-1507-455c-a885-bb8363e402f0",
   "metadata": {},
   "outputs": [
    {
     "data": {
      "text/html": [
       "<div>\n",
       "<style scoped>\n",
       "    .dataframe tbody tr th:only-of-type {\n",
       "        vertical-align: middle;\n",
       "    }\n",
       "\n",
       "    .dataframe tbody tr th {\n",
       "        vertical-align: top;\n",
       "    }\n",
       "\n",
       "    .dataframe thead th {\n",
       "        text-align: right;\n",
       "    }\n",
       "</style>\n",
       "<table border=\"1\" class=\"dataframe\">\n",
       "  <thead>\n",
       "    <tr style=\"text-align: right;\">\n",
       "      <th></th>\n",
       "      <th>cik</th>\n",
       "      <th>symbol</th>\n",
       "      <th>company</th>\n",
       "      <th>fiscal_year</th>\n",
       "      <th>risk</th>\n",
       "      <th>sector</th>\n",
       "      <th>url</th>\n",
       "      <th>price</th>\n",
       "    </tr>\n",
       "  </thead>\n",
       "  <tbody>\n",
       "    <tr>\n",
       "      <th>0</th>\n",
       "      <td>796343</td>\n",
       "      <td>ADBE</td>\n",
       "      <td>Adobe Inc. Common Stock</td>\n",
       "      <td>2018</td>\n",
       "      <td>item 1a.  risk factorsas previously discussed,...</td>\n",
       "      <td>Technology Services</td>\n",
       "      <td>https://www.sec.gov/Archives/edgar/data/796343...</td>\n",
       "      <td>226.240005</td>\n",
       "    </tr>\n",
       "    <tr>\n",
       "      <th>1</th>\n",
       "      <td>796343</td>\n",
       "      <td>ADBE</td>\n",
       "      <td>Adobe Inc. Common Stock</td>\n",
       "      <td>2016</td>\n",
       "      <td>item 1a.  risk factorsas previously discussed,...</td>\n",
       "      <td>Technology Services</td>\n",
       "      <td>https://www.sec.gov/Archives/edgar/data/796343...</td>\n",
       "      <td>102.949997</td>\n",
       "    </tr>\n",
       "    <tr>\n",
       "      <th>2</th>\n",
       "      <td>796343</td>\n",
       "      <td>ADBE</td>\n",
       "      <td>Adobe Inc. Common Stock</td>\n",
       "      <td>2014</td>\n",
       "      <td>item 1a.  risk factorsas previously discussed,...</td>\n",
       "      <td>Technology Services</td>\n",
       "      <td>https://www.sec.gov/Archives/edgar/data/796343...</td>\n",
       "      <td>72.699997</td>\n",
       "    </tr>\n",
       "    <tr>\n",
       "      <th>3</th>\n",
       "      <td>796343</td>\n",
       "      <td>ADBE</td>\n",
       "      <td>Adobe Inc. Common Stock</td>\n",
       "      <td>2012</td>\n",
       "      <td>item 1a.  risk factorsas previously discussed,...</td>\n",
       "      <td>Technology Services</td>\n",
       "      <td>https://www.sec.gov/Archives/edgar/data/796343...</td>\n",
       "      <td>37.680000</td>\n",
       "    </tr>\n",
       "    <tr>\n",
       "      <th>4</th>\n",
       "      <td>796343</td>\n",
       "      <td>ADBE</td>\n",
       "      <td>Adobe Inc. Common Stock</td>\n",
       "      <td>2010</td>\n",
       "      <td>item 1a.  risk factors\\n \\nas previously discu...</td>\n",
       "      <td>Technology Services</td>\n",
       "      <td>https://www.sec.gov/Archives/edgar/data/796343...</td>\n",
       "      <td>30.780001</td>\n",
       "    </tr>\n",
       "    <tr>\n",
       "      <th>...</th>\n",
       "      <td>...</td>\n",
       "      <td>...</td>\n",
       "      <td>...</td>\n",
       "      <td>...</td>\n",
       "      <td>...</td>\n",
       "      <td>...</td>\n",
       "      <td>...</td>\n",
       "      <td>...</td>\n",
       "    </tr>\n",
       "    <tr>\n",
       "      <th>320</th>\n",
       "      <td>900075</td>\n",
       "      <td>CPRT</td>\n",
       "      <td>Copart, Inc. (DE) Common Stock</td>\n",
       "      <td>2016</td>\n",
       "      <td>item 1a.    risk factorsinvesting in our commo...</td>\n",
       "      <td>Commercial Services</td>\n",
       "      <td>https://www.sec.gov/Archives/edgar/data/900075...</td>\n",
       "      <td>27.705000</td>\n",
       "    </tr>\n",
       "    <tr>\n",
       "      <th>321</th>\n",
       "      <td>900075</td>\n",
       "      <td>CPRT</td>\n",
       "      <td>Copart, Inc. (DE) Common Stock</td>\n",
       "      <td>2014</td>\n",
       "      <td>item 1a.\\n \\nrisk factors\\n\\n\\n\\ninvesting in ...</td>\n",
       "      <td>Commercial Services</td>\n",
       "      <td>https://www.sec.gov/Archives/edgar/data/900075...</td>\n",
       "      <td>18.245001</td>\n",
       "    </tr>\n",
       "    <tr>\n",
       "      <th>322</th>\n",
       "      <td>900075</td>\n",
       "      <td>CPRT</td>\n",
       "      <td>Copart, Inc. (DE) Common Stock</td>\n",
       "      <td>2013</td>\n",
       "      <td>item 1a.\\n \\nrisk factors\\n\\n\\n\\ninvesting in ...</td>\n",
       "      <td>Commercial Services</td>\n",
       "      <td>https://www.sec.gov/Archives/edgar/data/900075...</td>\n",
       "      <td>18.325001</td>\n",
       "    </tr>\n",
       "    <tr>\n",
       "      <th>323</th>\n",
       "      <td>900075</td>\n",
       "      <td>CPRT</td>\n",
       "      <td>Copart, Inc. (DE) Common Stock</td>\n",
       "      <td>2010</td>\n",
       "      <td>item 1a.    risk factors  \\n        investing ...</td>\n",
       "      <td>Commercial Services</td>\n",
       "      <td>https://www.sec.gov/Archives/edgar/data/900075...</td>\n",
       "      <td>9.337500</td>\n",
       "    </tr>\n",
       "    <tr>\n",
       "      <th>324</th>\n",
       "      <td>900075</td>\n",
       "      <td>CPRT</td>\n",
       "      <td>Copart, Inc. (DE) Common Stock</td>\n",
       "      <td>2009</td>\n",
       "      <td>item 1a.    risk factors     \\n        investi...</td>\n",
       "      <td>Commercial Services</td>\n",
       "      <td>https://www.sec.gov/Archives/edgar/data/900075...</td>\n",
       "      <td>9.155000</td>\n",
       "    </tr>\n",
       "  </tbody>\n",
       "</table>\n",
       "<p>325 rows × 8 columns</p>\n",
       "</div>"
      ],
      "text/plain": [
       "        cik symbol                         company  fiscal_year  \\\n",
       "0    796343   ADBE         Adobe Inc. Common Stock         2018   \n",
       "1    796343   ADBE         Adobe Inc. Common Stock         2016   \n",
       "2    796343   ADBE         Adobe Inc. Common Stock         2014   \n",
       "3    796343   ADBE         Adobe Inc. Common Stock         2012   \n",
       "4    796343   ADBE         Adobe Inc. Common Stock         2010   \n",
       "..      ...    ...                             ...          ...   \n",
       "320  900075   CPRT  Copart, Inc. (DE) Common Stock         2016   \n",
       "321  900075   CPRT  Copart, Inc. (DE) Common Stock         2014   \n",
       "322  900075   CPRT  Copart, Inc. (DE) Common Stock         2013   \n",
       "323  900075   CPRT  Copart, Inc. (DE) Common Stock         2010   \n",
       "324  900075   CPRT  Copart, Inc. (DE) Common Stock         2009   \n",
       "\n",
       "                                                  risk               sector  \\\n",
       "0    item 1a.  risk factorsas previously discussed,...  Technology Services   \n",
       "1    item 1a.  risk factorsas previously discussed,...  Technology Services   \n",
       "2    item 1a.  risk factorsas previously discussed,...  Technology Services   \n",
       "3    item 1a.  risk factorsas previously discussed,...  Technology Services   \n",
       "4    item 1a.  risk factors\\n \\nas previously discu...  Technology Services   \n",
       "..                                                 ...                  ...   \n",
       "320  item 1a.    risk factorsinvesting in our commo...  Commercial Services   \n",
       "321  item 1a.\\n \\nrisk factors\\n\\n\\n\\ninvesting in ...  Commercial Services   \n",
       "322  item 1a.\\n \\nrisk factors\\n\\n\\n\\ninvesting in ...  Commercial Services   \n",
       "323  item 1a.    risk factors  \\n        investing ...  Commercial Services   \n",
       "324  item 1a.    risk factors     \\n        investi...  Commercial Services   \n",
       "\n",
       "                                                   url       price  \n",
       "0    https://www.sec.gov/Archives/edgar/data/796343...  226.240005  \n",
       "1    https://www.sec.gov/Archives/edgar/data/796343...  102.949997  \n",
       "2    https://www.sec.gov/Archives/edgar/data/796343...   72.699997  \n",
       "3    https://www.sec.gov/Archives/edgar/data/796343...   37.680000  \n",
       "4    https://www.sec.gov/Archives/edgar/data/796343...   30.780001  \n",
       "..                                                 ...         ...  \n",
       "320  https://www.sec.gov/Archives/edgar/data/900075...   27.705000  \n",
       "321  https://www.sec.gov/Archives/edgar/data/900075...   18.245001  \n",
       "322  https://www.sec.gov/Archives/edgar/data/900075...   18.325001  \n",
       "323  https://www.sec.gov/Archives/edgar/data/900075...    9.337500  \n",
       "324  https://www.sec.gov/Archives/edgar/data/900075...    9.155000  \n",
       "\n",
       "[325 rows x 8 columns]"
      ]
     },
     "execution_count": 25,
     "metadata": {},
     "output_type": "execute_result"
    }
   ],
   "source": [
    "merged_df"
   ]
  },
  {
   "cell_type": "markdown",
   "id": "40d1cf50-a0b4-421e-bde5-d75e6f268a53",
   "metadata": {},
   "source": [
    "## III: Exploratory Analysis & Data Cleaning"
   ]
  },
  {
   "cell_type": "markdown",
   "id": "ce2de677-e64e-4344-afa7-4aa547863e92",
   "metadata": {},
   "source": [
    "### 0. Helper functions"
   ]
  },
  {
   "cell_type": "code",
   "execution_count": 26,
   "id": "7ec82d70-dbad-4f2e-ace7-afc3e97efca4",
   "metadata": {},
   "outputs": [],
   "source": [
    "def word_count(text):\n",
    "    counter = Counter()\n",
    "    tokens_nltk = word_tokenize(text)\n",
    "\n",
    "    for token in tokens_nltk:\n",
    "        counter[token] += 1\n",
    "    return sum(counter.values())"
   ]
  },
  {
   "cell_type": "markdown",
   "id": "87fd7aa5-1db8-43f8-a4a2-7ad33f100159",
   "metadata": {},
   "source": [
    "### 1. Exclude invalid stock prices "
   ]
  },
  {
   "cell_type": "code",
   "execution_count": 27,
   "id": "89944503-2a66-419b-88ea-e649002132ab",
   "metadata": {},
   "outputs": [],
   "source": [
    "merged_df = merged_df[merged_df['price'] >= 0]"
   ]
  },
  {
   "cell_type": "markdown",
   "id": "1cfc58ff-307f-4e21-ba57-19587d3b326d",
   "metadata": {},
   "source": [
    "### 2. Clean the text"
   ]
  },
  {
   "cell_type": "code",
   "execution_count": 28,
   "id": "acb58a97-ea43-4bad-b5b0-5b754a4b74d3",
   "metadata": {},
   "outputs": [],
   "source": [
    "text_list = []\n",
    "text_len = []\n",
    "for text in merged_df['risk']:\n",
    "    text = unicodedata.normalize('NFKD', text.replace(\"\\'\", \"'\").replace(\"\\ in\\ form\", \" inform\").replace(\"\\n\", \" \").lower().strip())\n",
    "    text_list.append(text)\n",
    "    cnt = word_count(text)\n",
    "    text_len.append(cnt)"
   ]
  },
  {
   "cell_type": "markdown",
   "id": "8164bae3-e1c7-4329-afdb-ace28c1c1610",
   "metadata": {
    "tags": []
   },
   "source": [
    "### 3. Add more metadata"
   ]
  },
  {
   "cell_type": "code",
   "execution_count": 29,
   "id": "19af6b94-2dcd-4ad0-a547-0837cc368d75",
   "metadata": {},
   "outputs": [
    {
     "name": "stderr",
     "output_type": "stream",
     "text": [
      "/var/folders/hb/cp1k8j5x3dj82qvtzxhwyn280000gn/T/ipykernel_5840/237560845.py:2: SettingWithCopyWarning: \n",
      "A value is trying to be set on a copy of a slice from a DataFrame.\n",
      "Try using .loc[row_indexer,col_indexer] = value instead\n",
      "\n",
      "See the caveats in the documentation: https://pandas.pydata.org/pandas-docs/stable/user_guide/indexing.html#returning-a-view-versus-a-copy\n",
      "  merged_df['text'] = text_list\n"
     ]
    }
   ],
   "source": [
    "# add the cleaned text as a column to the df\n",
    "merged_df['text'] = text_list"
   ]
  },
  {
   "cell_type": "code",
   "execution_count": 30,
   "id": "b944a577-e619-4794-b649-8c97588b74cf",
   "metadata": {},
   "outputs": [
    {
     "name": "stderr",
     "output_type": "stream",
     "text": [
      "/var/folders/hb/cp1k8j5x3dj82qvtzxhwyn280000gn/T/ipykernel_5840/945730304.py:1: SettingWithCopyWarning: \n",
      "A value is trying to be set on a copy of a slice from a DataFrame.\n",
      "Try using .loc[row_indexer,col_indexer] = value instead\n",
      "\n",
      "See the caveats in the documentation: https://pandas.pydata.org/pandas-docs/stable/user_guide/indexing.html#returning-a-view-versus-a-copy\n",
      "  merged_df['word_count'] = text_len\n"
     ]
    }
   ],
   "source": [
    "merged_df['word_count'] = text_len"
   ]
  },
  {
   "cell_type": "code",
   "execution_count": 31,
   "id": "7ce14b3f-23a0-45a4-8361-e9814349e33d",
   "metadata": {},
   "outputs": [
    {
     "data": {
      "text/html": [
       "<div>\n",
       "<style scoped>\n",
       "    .dataframe tbody tr th:only-of-type {\n",
       "        vertical-align: middle;\n",
       "    }\n",
       "\n",
       "    .dataframe tbody tr th {\n",
       "        vertical-align: top;\n",
       "    }\n",
       "\n",
       "    .dataframe thead th {\n",
       "        text-align: right;\n",
       "    }\n",
       "</style>\n",
       "<table border=\"1\" class=\"dataframe\">\n",
       "  <thead>\n",
       "    <tr style=\"text-align: right;\">\n",
       "      <th></th>\n",
       "      <th>cik</th>\n",
       "      <th>fiscal_year</th>\n",
       "      <th>price</th>\n",
       "      <th>word_count</th>\n",
       "    </tr>\n",
       "  </thead>\n",
       "  <tbody>\n",
       "    <tr>\n",
       "      <th>count</th>\n",
       "      <td>3.240000e+02</td>\n",
       "      <td>324.000000</td>\n",
       "      <td>324.000000</td>\n",
       "      <td>324.000000</td>\n",
       "    </tr>\n",
       "    <tr>\n",
       "      <th>mean</th>\n",
       "      <td>8.967057e+05</td>\n",
       "      <td>2013.320988</td>\n",
       "      <td>93.261426</td>\n",
       "      <td>21207.962963</td>\n",
       "    </tr>\n",
       "    <tr>\n",
       "      <th>std</th>\n",
       "      <td>3.842232e+05</td>\n",
       "      <td>3.542147</td>\n",
       "      <td>192.085350</td>\n",
       "      <td>18653.122804</td>\n",
       "    </tr>\n",
       "    <tr>\n",
       "      <th>min</th>\n",
       "      <td>2.488000e+03</td>\n",
       "      <td>2007.000000</td>\n",
       "      <td>1.630000</td>\n",
       "      <td>1423.000000</td>\n",
       "    </tr>\n",
       "    <tr>\n",
       "      <th>25%</th>\n",
       "      <td>7.738400e+05</td>\n",
       "      <td>2010.000000</td>\n",
       "      <td>25.190000</td>\n",
       "      <td>8537.750000</td>\n",
       "    </tr>\n",
       "    <tr>\n",
       "      <th>50%</th>\n",
       "      <td>8.981730e+05</td>\n",
       "      <td>2014.000000</td>\n",
       "      <td>47.769999</td>\n",
       "      <td>13693.500000</td>\n",
       "    </tr>\n",
       "    <tr>\n",
       "      <th>75%</th>\n",
       "      <td>1.093557e+06</td>\n",
       "      <td>2016.000000</td>\n",
       "      <td>84.357498</td>\n",
       "      <td>28485.000000</td>\n",
       "    </tr>\n",
       "    <tr>\n",
       "      <th>max</th>\n",
       "      <td>1.811210e+06</td>\n",
       "      <td>2020.000000</td>\n",
       "      <td>1722.420044</td>\n",
       "      <td>114960.000000</td>\n",
       "    </tr>\n",
       "  </tbody>\n",
       "</table>\n",
       "</div>"
      ],
      "text/plain": [
       "                cik  fiscal_year        price     word_count\n",
       "count  3.240000e+02   324.000000   324.000000     324.000000\n",
       "mean   8.967057e+05  2013.320988    93.261426   21207.962963\n",
       "std    3.842232e+05     3.542147   192.085350   18653.122804\n",
       "min    2.488000e+03  2007.000000     1.630000    1423.000000\n",
       "25%    7.738400e+05  2010.000000    25.190000    8537.750000\n",
       "50%    8.981730e+05  2014.000000    47.769999   13693.500000\n",
       "75%    1.093557e+06  2016.000000    84.357498   28485.000000\n",
       "max    1.811210e+06  2020.000000  1722.420044  114960.000000"
      ]
     },
     "execution_count": 31,
     "metadata": {},
     "output_type": "execute_result"
    }
   ],
   "source": [
    "merged_df.describe()"
   ]
  },
  {
   "cell_type": "code",
   "execution_count": 32,
   "id": "6b6b0c5c-5970-4372-8771-f831fe0e5b9e",
   "metadata": {},
   "outputs": [
    {
     "data": {
      "text/html": [
       "<div>\n",
       "<style scoped>\n",
       "    .dataframe tbody tr th:only-of-type {\n",
       "        vertical-align: middle;\n",
       "    }\n",
       "\n",
       "    .dataframe tbody tr th {\n",
       "        vertical-align: top;\n",
       "    }\n",
       "\n",
       "    .dataframe thead th {\n",
       "        text-align: right;\n",
       "    }\n",
       "</style>\n",
       "<table border=\"1\" class=\"dataframe\">\n",
       "  <thead>\n",
       "    <tr style=\"text-align: right;\">\n",
       "      <th></th>\n",
       "      <th>cik</th>\n",
       "      <th>symbol</th>\n",
       "      <th>company</th>\n",
       "      <th>fiscal_year</th>\n",
       "      <th>risk</th>\n",
       "      <th>sector</th>\n",
       "      <th>url</th>\n",
       "      <th>price</th>\n",
       "      <th>text</th>\n",
       "      <th>word_count</th>\n",
       "    </tr>\n",
       "  </thead>\n",
       "  <tbody>\n",
       "    <tr>\n",
       "      <th>0</th>\n",
       "      <td>796343</td>\n",
       "      <td>ADBE</td>\n",
       "      <td>Adobe Inc. Common Stock</td>\n",
       "      <td>2018</td>\n",
       "      <td>item 1a.  risk factorsas previously discussed,...</td>\n",
       "      <td>Technology Services</td>\n",
       "      <td>https://www.sec.gov/Archives/edgar/data/796343...</td>\n",
       "      <td>226.240005</td>\n",
       "      <td>item 1a.  risk factorsas previously discussed,...</td>\n",
       "      <td>10522</td>\n",
       "    </tr>\n",
       "    <tr>\n",
       "      <th>1</th>\n",
       "      <td>796343</td>\n",
       "      <td>ADBE</td>\n",
       "      <td>Adobe Inc. Common Stock</td>\n",
       "      <td>2016</td>\n",
       "      <td>item 1a.  risk factorsas previously discussed,...</td>\n",
       "      <td>Technology Services</td>\n",
       "      <td>https://www.sec.gov/Archives/edgar/data/796343...</td>\n",
       "      <td>102.949997</td>\n",
       "      <td>item 1a.  risk factorsas previously discussed,...</td>\n",
       "      <td>10538</td>\n",
       "    </tr>\n",
       "    <tr>\n",
       "      <th>2</th>\n",
       "      <td>796343</td>\n",
       "      <td>ADBE</td>\n",
       "      <td>Adobe Inc. Common Stock</td>\n",
       "      <td>2014</td>\n",
       "      <td>item 1a.  risk factorsas previously discussed,...</td>\n",
       "      <td>Technology Services</td>\n",
       "      <td>https://www.sec.gov/Archives/edgar/data/796343...</td>\n",
       "      <td>72.699997</td>\n",
       "      <td>item 1a.  risk factorsas previously discussed,...</td>\n",
       "      <td>10297</td>\n",
       "    </tr>\n",
       "    <tr>\n",
       "      <th>3</th>\n",
       "      <td>796343</td>\n",
       "      <td>ADBE</td>\n",
       "      <td>Adobe Inc. Common Stock</td>\n",
       "      <td>2012</td>\n",
       "      <td>item 1a.  risk factorsas previously discussed,...</td>\n",
       "      <td>Technology Services</td>\n",
       "      <td>https://www.sec.gov/Archives/edgar/data/796343...</td>\n",
       "      <td>37.680000</td>\n",
       "      <td>item 1a.  risk factorsas previously discussed,...</td>\n",
       "      <td>9580</td>\n",
       "    </tr>\n",
       "    <tr>\n",
       "      <th>4</th>\n",
       "      <td>796343</td>\n",
       "      <td>ADBE</td>\n",
       "      <td>Adobe Inc. Common Stock</td>\n",
       "      <td>2010</td>\n",
       "      <td>item 1a.  risk factors\\n \\nas previously discu...</td>\n",
       "      <td>Technology Services</td>\n",
       "      <td>https://www.sec.gov/Archives/edgar/data/796343...</td>\n",
       "      <td>30.780001</td>\n",
       "      <td>item 1a.  risk factors   as previously discuss...</td>\n",
       "      <td>8793</td>\n",
       "    </tr>\n",
       "  </tbody>\n",
       "</table>\n",
       "</div>"
      ],
      "text/plain": [
       "      cik symbol                  company  fiscal_year  \\\n",
       "0  796343   ADBE  Adobe Inc. Common Stock         2018   \n",
       "1  796343   ADBE  Adobe Inc. Common Stock         2016   \n",
       "2  796343   ADBE  Adobe Inc. Common Stock         2014   \n",
       "3  796343   ADBE  Adobe Inc. Common Stock         2012   \n",
       "4  796343   ADBE  Adobe Inc. Common Stock         2010   \n",
       "\n",
       "                                                risk               sector  \\\n",
       "0  item 1a.  risk factorsas previously discussed,...  Technology Services   \n",
       "1  item 1a.  risk factorsas previously discussed,...  Technology Services   \n",
       "2  item 1a.  risk factorsas previously discussed,...  Technology Services   \n",
       "3  item 1a.  risk factorsas previously discussed,...  Technology Services   \n",
       "4  item 1a.  risk factors\\n \\nas previously discu...  Technology Services   \n",
       "\n",
       "                                                 url       price  \\\n",
       "0  https://www.sec.gov/Archives/edgar/data/796343...  226.240005   \n",
       "1  https://www.sec.gov/Archives/edgar/data/796343...  102.949997   \n",
       "2  https://www.sec.gov/Archives/edgar/data/796343...   72.699997   \n",
       "3  https://www.sec.gov/Archives/edgar/data/796343...   37.680000   \n",
       "4  https://www.sec.gov/Archives/edgar/data/796343...   30.780001   \n",
       "\n",
       "                                                text  word_count  \n",
       "0  item 1a.  risk factorsas previously discussed,...       10522  \n",
       "1  item 1a.  risk factorsas previously discussed,...       10538  \n",
       "2  item 1a.  risk factorsas previously discussed,...       10297  \n",
       "3  item 1a.  risk factorsas previously discussed,...        9580  \n",
       "4  item 1a.  risk factors   as previously discuss...        8793  "
      ]
     },
     "execution_count": 32,
     "metadata": {},
     "output_type": "execute_result"
    }
   ],
   "source": [
    "merged_df.head()"
   ]
  },
  {
   "cell_type": "code",
   "execution_count": 33,
   "id": "1953e793-9acf-45a9-aa3a-0ab26aa69d13",
   "metadata": {},
   "outputs": [
    {
     "data": {
      "image/png": "[encoded data removed]",
      "text/plain": [
       "<Figure size 864x576 with 1 Axes>"
      ]
     },
     "metadata": {
      "needs_background": "light"
     },
     "output_type": "display_data"
    }
   ],
   "source": [
    "plt.subplots(figsize=(12,8))\n",
    "plt.hist(merged_df.fiscal_year, bins=merged_df.fiscal_year.nunique())\n",
    "plt.title(\"Histogram of fiscal year\")\n",
    "plt.show()"
   ]
  },
  {
   "cell_type": "code",
   "execution_count": 34,
   "id": "19c7eb2e-dbdb-4a8b-b92a-68964947eab5",
   "metadata": {},
   "outputs": [
    {
     "data": {
      "image/png": "[encoded data removed]",
      "text/plain": [
       "<Figure size 864x576 with 1 Axes>"
      ]
     },
     "metadata": {
      "needs_background": "light"
     },
     "output_type": "display_data"
    }
   ],
   "source": [
    "plt.subplots(figsize=(12,8))\n",
    "plt.hist(merged_df.price, bins=merged_df.price.nunique())\n",
    "plt.title(\"Histogram of stock price\")\n",
    "plt.show()"
   ]
  },
  {
   "cell_type": "markdown",
   "id": "6e37c962-d70a-4c95-9068-3332d5ee9d0a",
   "metadata": {
    "tags": []
   },
   "source": [
    "#### It seemed most of the stock prices fall into <= USD 250 bucket. "
   ]
  },
  {
   "cell_type": "code",
   "execution_count": 35,
   "id": "777a338b-19b5-40f4-bda5-5925882e7a27",
   "metadata": {},
   "outputs": [
    {
     "data": {
      "image/png": "[encoded data removed]",
      "text/plain": [
       "<Figure size 432x288 with 1 Axes>"
      ]
     },
     "metadata": {
      "needs_background": "light"
     },
     "output_type": "display_data"
    }
   ],
   "source": [
    "# depicting the visualization\n",
    "plt.scatter(merged_df.word_count, merged_df.price) \n",
    "plt.xlabel('word count') \n",
    "plt.ylabel('stock price') \n",
    "plt.title(\"Linear graph word count vs. stock price\")\n",
    "plt.show() "
   ]
  },
  {
   "cell_type": "markdown",
   "id": "e8ac8652-e8bc-4824-921c-498896fb6fc6",
   "metadata": {},
   "source": [
    "#### From the graph above, we couldn't find any obvious correlation between word count and stock prices. "
   ]
  },
  {
   "cell_type": "markdown",
   "id": "2c085316-6ac5-41a3-9296-d113ab0957d4",
   "metadata": {},
   "source": [
    "#### I pulled the companies with stock prices above USD 750 for sanity check. It seemed they were accurate. "
   ]
  },
  {
   "cell_type": "code",
   "execution_count": 36,
   "id": "c72891c0-cb06-4842-b37d-f668b37b5168",
   "metadata": {},
   "outputs": [
    {
     "data": {
      "text/html": [
       "<div>\n",
       "<style scoped>\n",
       "    .dataframe tbody tr th:only-of-type {\n",
       "        vertical-align: middle;\n",
       "    }\n",
       "\n",
       "    .dataframe tbody tr th {\n",
       "        vertical-align: top;\n",
       "    }\n",
       "\n",
       "    .dataframe thead th {\n",
       "        text-align: right;\n",
       "    }\n",
       "</style>\n",
       "<table border=\"1\" class=\"dataframe\">\n",
       "  <thead>\n",
       "    <tr style=\"text-align: right;\">\n",
       "      <th></th>\n",
       "      <th>cik</th>\n",
       "      <th>symbol</th>\n",
       "      <th>company</th>\n",
       "      <th>fiscal_year</th>\n",
       "      <th>risk</th>\n",
       "      <th>sector</th>\n",
       "      <th>url</th>\n",
       "      <th>price</th>\n",
       "      <th>text</th>\n",
       "      <th>word_count</th>\n",
       "    </tr>\n",
       "  </thead>\n",
       "  <tbody>\n",
       "    <tr>\n",
       "      <th>23</th>\n",
       "      <td>1652044</td>\n",
       "      <td>GOOG</td>\n",
       "      <td>Alphabet Inc. Class C Capital Stock</td>\n",
       "      <td>2017</td>\n",
       "      <td>item 1a.risk factorsour operations and financi...</td>\n",
       "      <td>Technology Services</td>\n",
       "      <td>https://www.sec.gov/Archives/edgar/data/165204...</td>\n",
       "      <td>1046.400024</td>\n",
       "      <td>item 1a.risk factorsour operations and financi...</td>\n",
       "      <td>11405</td>\n",
       "    </tr>\n",
       "    <tr>\n",
       "      <th>24</th>\n",
       "      <td>1652044</td>\n",
       "      <td>GOOGL</td>\n",
       "      <td>Alphabet Inc. Class A Common Stock</td>\n",
       "      <td>2017</td>\n",
       "      <td>item 1a.risk factorsour operations and financi...</td>\n",
       "      <td>Technology Services</td>\n",
       "      <td>https://www.sec.gov/Archives/edgar/data/165204...</td>\n",
       "      <td>1053.400024</td>\n",
       "      <td>item 1a.risk factorsour operations and financi...</td>\n",
       "      <td>11405</td>\n",
       "    </tr>\n",
       "    <tr>\n",
       "      <th>109</th>\n",
       "      <td>1018724</td>\n",
       "      <td>AMZN</td>\n",
       "      <td>Amazon.com, Inc. Common Stock</td>\n",
       "      <td>2018</td>\n",
       "      <td>item 1a.risk factorsplease carefully consider ...</td>\n",
       "      <td>Retail Trade</td>\n",
       "      <td>https://www.sec.gov/Archives/edgar/data/101872...</td>\n",
       "      <td>1501.969971</td>\n",
       "      <td>item 1a.risk factorsplease carefully consider ...</td>\n",
       "      <td>7367</td>\n",
       "    </tr>\n",
       "    <tr>\n",
       "      <th>269</th>\n",
       "      <td>1075531</td>\n",
       "      <td>BKNG</td>\n",
       "      <td>Booking Holdings Inc. Common Stock</td>\n",
       "      <td>2018</td>\n",
       "      <td>item 1a.  risk factors the following risk fact...</td>\n",
       "      <td>Consumer Services</td>\n",
       "      <td>https://www.sec.gov/Archives/edgar/data/107553...</td>\n",
       "      <td>1722.420044</td>\n",
       "      <td>item 1a.  risk factors the following risk fact...</td>\n",
       "      <td>21340</td>\n",
       "    </tr>\n",
       "    <tr>\n",
       "      <th>270</th>\n",
       "      <td>1075531</td>\n",
       "      <td>BKNG</td>\n",
       "      <td>Booking Holdings Inc. Common Stock</td>\n",
       "      <td>2016</td>\n",
       "      <td>item 1a.  risk factors the following risk fact...</td>\n",
       "      <td>Consumer Services</td>\n",
       "      <td>https://www.sec.gov/Archives/edgar/data/107553...</td>\n",
       "      <td>1466.060059</td>\n",
       "      <td>item 1a.  risk factors the following risk fact...</td>\n",
       "      <td>19489</td>\n",
       "    </tr>\n",
       "    <tr>\n",
       "      <th>271</th>\n",
       "      <td>1075531</td>\n",
       "      <td>BKNG</td>\n",
       "      <td>Booking Holdings Inc. Common Stock</td>\n",
       "      <td>2014</td>\n",
       "      <td>item 1a.  risk factors  the following risk fac...</td>\n",
       "      <td>Consumer Services</td>\n",
       "      <td>https://www.sec.gov/Archives/edgar/data/107553...</td>\n",
       "      <td>1140.209961</td>\n",
       "      <td>item 1a.  risk factors  the following risk fac...</td>\n",
       "      <td>17825</td>\n",
       "    </tr>\n",
       "  </tbody>\n",
       "</table>\n",
       "</div>"
      ],
      "text/plain": [
       "         cik symbol                              company  fiscal_year  \\\n",
       "23   1652044   GOOG  Alphabet Inc. Class C Capital Stock         2017   \n",
       "24   1652044  GOOGL   Alphabet Inc. Class A Common Stock         2017   \n",
       "109  1018724   AMZN        Amazon.com, Inc. Common Stock         2018   \n",
       "269  1075531   BKNG   Booking Holdings Inc. Common Stock         2018   \n",
       "270  1075531   BKNG   Booking Holdings Inc. Common Stock         2016   \n",
       "271  1075531   BKNG   Booking Holdings Inc. Common Stock         2014   \n",
       "\n",
       "                                                  risk               sector  \\\n",
       "23   item 1a.risk factorsour operations and financi...  Technology Services   \n",
       "24   item 1a.risk factorsour operations and financi...  Technology Services   \n",
       "109  item 1a.risk factorsplease carefully consider ...         Retail Trade   \n",
       "269  item 1a.  risk factors the following risk fact...    Consumer Services   \n",
       "270  item 1a.  risk factors the following risk fact...    Consumer Services   \n",
       "271  item 1a.  risk factors  the following risk fac...    Consumer Services   \n",
       "\n",
       "                                                   url        price  \\\n",
       "23   https://www.sec.gov/Archives/edgar/data/165204...  1046.400024   \n",
       "24   https://www.sec.gov/Archives/edgar/data/165204...  1053.400024   \n",
       "109  https://www.sec.gov/Archives/edgar/data/101872...  1501.969971   \n",
       "269  https://www.sec.gov/Archives/edgar/data/107553...  1722.420044   \n",
       "270  https://www.sec.gov/Archives/edgar/data/107553...  1466.060059   \n",
       "271  https://www.sec.gov/Archives/edgar/data/107553...  1140.209961   \n",
       "\n",
       "                                                  text  word_count  \n",
       "23   item 1a.risk factorsour operations and financi...       11405  \n",
       "24   item 1a.risk factorsour operations and financi...       11405  \n",
       "109  item 1a.risk factorsplease carefully consider ...        7367  \n",
       "269  item 1a.  risk factors the following risk fact...       21340  \n",
       "270  item 1a.  risk factors the following risk fact...       19489  \n",
       "271  item 1a.  risk factors  the following risk fac...       17825  "
      ]
     },
     "execution_count": 36,
     "metadata": {},
     "output_type": "execute_result"
    }
   ],
   "source": [
    "merged_df[merged_df.price > 750]"
   ]
  },
  {
   "cell_type": "markdown",
   "id": "9749ff0a-c146-41a1-8215-339ec37d3afe",
   "metadata": {},
   "source": [
    "#### Next, I removed the duplicates in the data frame based on cik and fiscal_year, and removed outliers with stock prices greater than USD 250. "
   ]
  },
  {
   "cell_type": "code",
   "execution_count": 37,
   "id": "ae83ba6b-e879-4af1-9bef-a0427b6a3d7f",
   "metadata": {},
   "outputs": [],
   "source": [
    "data = merged_df.drop_duplicates(subset=['cik', 'fiscal_year'])"
   ]
  },
  {
   "cell_type": "code",
   "execution_count": 38,
   "id": "1377f744-d30b-4571-af8f-593558631131",
   "metadata": {},
   "outputs": [],
   "source": [
    "data = data[data.price <= 250]"
   ]
  },
  {
   "cell_type": "code",
   "execution_count": 39,
   "id": "283e4365-7de8-49f9-8c12-dd73cbc8de72",
   "metadata": {},
   "outputs": [
    {
     "data": {
      "image/png": "[encoded data removed]",
      "text/plain": [
       "<Figure size 432x288 with 1 Axes>"
      ]
     },
     "metadata": {
      "needs_background": "light"
     },
     "output_type": "display_data"
    }
   ],
   "source": [
    "# depicting the visualization after dropping duplicates and outliners \n",
    "plt.scatter(data.word_count, data.price) \n",
    "plt.xlabel('word count') \n",
    "plt.ylabel('stock price') \n",
    "plt.title(\"Linear graph word count vs. stock price\")\n",
    "plt.show() "
   ]
  },
  {
   "cell_type": "code",
   "execution_count": 40,
   "id": "985ae3b4-0f7e-4772-a4da-53ea1a0d12db",
   "metadata": {},
   "outputs": [
    {
     "data": {
      "image/png": "[encoded data removed]",
      "text/plain": [
       "<Figure size 432x288 with 1 Axes>"
      ]
     },
     "metadata": {
      "needs_background": "light"
     },
     "output_type": "display_data"
    }
   ],
   "source": [
    "# depicting the visualization\n",
    "plt.scatter(data.fiscal_year, data.word_count, color=\"red\") \n",
    "plt.xlabel('fiscal year') \n",
    "plt.ylabel('word count') \n",
    "plt.title(\"Linear graph word count vs. fiscal year\")\n",
    "plt.show() "
   ]
  },
  {
   "cell_type": "markdown",
   "id": "b118ff2b-74c8-4bd8-9e96-3976c8692ce9",
   "metadata": {},
   "source": [
    "#### From the graph above, we couldn't find obvious trend of either decreasing or increasing word count as time goes by. "
   ]
  },
  {
   "cell_type": "markdown",
   "id": "d1c8bf7b-c9c6-4606-ae3f-9e7ba763b205",
   "metadata": {},
   "source": [
    "### 4. Generate a word cloud based on all the risk text"
   ]
  },
  {
   "cell_type": "code",
   "execution_count": 41,
   "id": "2bba404c-9f43-4d17-beb6-caef3f0a1724",
   "metadata": {},
   "outputs": [],
   "source": [
    "#convert list to string and generate\n",
    "all_risks=(\" \").join(data.risk)"
   ]
  },
  {
   "cell_type": "code",
   "execution_count": 42,
   "id": "8723f4ab-216c-49e1-a86f-5bfa29ada0d6",
   "metadata": {},
   "outputs": [
    {
     "name": "stdout",
     "output_type": "stream",
     "text": [
      "6314098\n"
     ]
    }
   ],
   "source": [
    "print(word_count(all_risks))"
   ]
  },
  {
   "cell_type": "code",
   "execution_count": 43,
   "id": "18496b23-b58c-4e80-a828-054e9336ab80",
   "metadata": {},
   "outputs": [
    {
     "data": {
      "image/png": "[encoded data removed]",
      "text/plain": [
       "<Figure size 1080x576 with 1 Axes>"
      ]
     },
     "metadata": {
      "needs_background": "light"
     },
     "output_type": "display_data"
    }
   ],
   "source": [
    "wordcloud = WordCloud(width = 1000, height = 500, background_color=\"white\").generate(all_risks)\n",
    "plt.figure(figsize=(15,8))\n",
    "plt.imshow(wordcloud)\n",
    "plt.axis(\"off\")\n",
    "plt.savefig(\"wordcloud\"+\".png\", bbox_inches='tight')\n",
    "plt.show()\n",
    "plt.close()"
   ]
  },
  {
   "cell_type": "markdown",
   "id": "4bbf27c0-892e-4c82-b757-1ff2d47f2eb3",
   "metadata": {},
   "source": [
    "### 5. Save the cleaned data frame"
   ]
  },
  {
   "cell_type": "code",
   "execution_count": 44,
   "id": "746d99e9-1beb-4e56-a638-ec9e8c99110e",
   "metadata": {},
   "outputs": [],
   "source": [
    "data.to_csv(\"data.csv\", encoding='utf-8', sep=',', header='true')"
   ]
  },
  {
   "cell_type": "code",
   "execution_count": 45,
   "id": "de063831-3700-443c-a8e0-30b09b3c5745",
   "metadata": {},
   "outputs": [],
   "source": [
    "df = pd.read_csv('data.csv').fillna(value = 0)"
   ]
  },
  {
   "cell_type": "code",
   "execution_count": 46,
   "id": "077e5828-c3fb-40d6-abfe-88007fa58317",
   "metadata": {},
   "outputs": [],
   "source": [
    "cik_ticker = pd.read_csv('nasdaq100_ticker_cik_mapping.csv').fillna(value = 0)"
   ]
  },
  {
   "cell_type": "code",
   "execution_count": 47,
   "id": "0c316b6a-985e-4aea-96ab-596229c9e58a",
   "metadata": {},
   "outputs": [
    {
     "data": {
      "text/html": [
       "<div>\n",
       "<style scoped>\n",
       "    .dataframe tbody tr th:only-of-type {\n",
       "        vertical-align: middle;\n",
       "    }\n",
       "\n",
       "    .dataframe tbody tr th {\n",
       "        vertical-align: top;\n",
       "    }\n",
       "\n",
       "    .dataframe thead th {\n",
       "        text-align: right;\n",
       "    }\n",
       "</style>\n",
       "<table border=\"1\" class=\"dataframe\">\n",
       "  <thead>\n",
       "    <tr style=\"text-align: right;\">\n",
       "      <th></th>\n",
       "      <th>symbol</th>\n",
       "      <th>company</th>\n",
       "      <th>cik</th>\n",
       "      <th>market_cap_05132022</th>\n",
       "      <th>last_sale_05132022</th>\n",
       "      <th>sector</th>\n",
       "    </tr>\n",
       "  </thead>\n",
       "  <tbody>\n",
       "    <tr>\n",
       "      <th>0</th>\n",
       "      <td>AZN</td>\n",
       "      <td>AstraZeneca PLC American Depositary Shares</td>\n",
       "      <td>901832</td>\n",
       "      <td>195,743,788,762</td>\n",
       "      <td>$63.17</td>\n",
       "      <td>Healthcare</td>\n",
       "    </tr>\n",
       "    <tr>\n",
       "      <th>1</th>\n",
       "      <td>ADBE</td>\n",
       "      <td>Adobe Inc. Common Stock</td>\n",
       "      <td>796343</td>\n",
       "      <td>190,913,625,000</td>\n",
       "      <td>$404.05</td>\n",
       "      <td>Technology Services</td>\n",
       "    </tr>\n",
       "    <tr>\n",
       "      <th>2</th>\n",
       "      <td>ODFL</td>\n",
       "      <td>Old Dominion Freight Line, Inc. Common Stock</td>\n",
       "      <td>878927</td>\n",
       "      <td>31,335,513,414</td>\n",
       "      <td>$276.44</td>\n",
       "      <td>Industrials</td>\n",
       "    </tr>\n",
       "    <tr>\n",
       "      <th>3</th>\n",
       "      <td>LCID</td>\n",
       "      <td>Lucid Group, Inc. Common Stock</td>\n",
       "      <td>1811210</td>\n",
       "      <td>30,279,645,603</td>\n",
       "      <td>$18.16</td>\n",
       "      <td>Consumer Cyclical</td>\n",
       "    </tr>\n",
       "    <tr>\n",
       "      <th>4</th>\n",
       "      <td>CEG</td>\n",
       "      <td>Constellation Energy Corporation Common Stock</td>\n",
       "      <td>1868275</td>\n",
       "      <td>18,022,049,404</td>\n",
       "      <td>$55.17</td>\n",
       "      <td>Utilities</td>\n",
       "    </tr>\n",
       "    <tr>\n",
       "      <th>...</th>\n",
       "      <td>...</td>\n",
       "      <td>...</td>\n",
       "      <td>...</td>\n",
       "      <td>...</td>\n",
       "      <td>...</td>\n",
       "      <td>...</td>\n",
       "    </tr>\n",
       "    <tr>\n",
       "      <th>97</th>\n",
       "      <td>TSLA</td>\n",
       "      <td>Tesla, Inc. Common Stock</td>\n",
       "      <td>1318605</td>\n",
       "      <td>805,145,473,313</td>\n",
       "      <td>$777.16</td>\n",
       "      <td>Consumer Durables</td>\n",
       "    </tr>\n",
       "    <tr>\n",
       "      <th>98</th>\n",
       "      <td>ATVI</td>\n",
       "      <td>Activision Blizzard, Inc. Common Stock</td>\n",
       "      <td>718877</td>\n",
       "      <td>61,010,211,260</td>\n",
       "      <td>$78.03</td>\n",
       "      <td>Consumer Durables</td>\n",
       "    </tr>\n",
       "    <tr>\n",
       "      <th>99</th>\n",
       "      <td>EA</td>\n",
       "      <td>Electronic Arts Inc. Common Stock</td>\n",
       "      <td>712515</td>\n",
       "      <td>34,860,312,341</td>\n",
       "      <td>$123.96</td>\n",
       "      <td>Consumer Durables</td>\n",
       "    </tr>\n",
       "    <tr>\n",
       "      <th>100</th>\n",
       "      <td>TMUS</td>\n",
       "      <td>T-Mobile US, Inc. Common Stock</td>\n",
       "      <td>1283699</td>\n",
       "      <td>158,428,051,195</td>\n",
       "      <td>$126.38</td>\n",
       "      <td>Communications</td>\n",
       "    </tr>\n",
       "    <tr>\n",
       "      <th>101</th>\n",
       "      <td>CPRT</td>\n",
       "      <td>Copart, Inc. (DE) Common Stock</td>\n",
       "      <td>900075</td>\n",
       "      <td>26,523,698,799</td>\n",
       "      <td>$111.68</td>\n",
       "      <td>Commercial Services</td>\n",
       "    </tr>\n",
       "  </tbody>\n",
       "</table>\n",
       "<p>102 rows × 6 columns</p>\n",
       "</div>"
      ],
      "text/plain": [
       "    symbol                                        company      cik  \\\n",
       "0      AZN     AstraZeneca PLC American Depositary Shares   901832   \n",
       "1     ADBE                        Adobe Inc. Common Stock   796343   \n",
       "2     ODFL   Old Dominion Freight Line, Inc. Common Stock   878927   \n",
       "3     LCID                 Lucid Group, Inc. Common Stock  1811210   \n",
       "4      CEG  Constellation Energy Corporation Common Stock  1868275   \n",
       "..     ...                                            ...      ...   \n",
       "97    TSLA                       Tesla, Inc. Common Stock  1318605   \n",
       "98    ATVI         Activision Blizzard, Inc. Common Stock   718877   \n",
       "99      EA              Electronic Arts Inc. Common Stock   712515   \n",
       "100   TMUS                 T-Mobile US, Inc. Common Stock  1283699   \n",
       "101   CPRT                 Copart, Inc. (DE) Common Stock   900075   \n",
       "\n",
       "    market_cap_05132022 last_sale_05132022               sector  \n",
       "0       195,743,788,762            $63.17            Healthcare  \n",
       "1       190,913,625,000           $404.05   Technology Services  \n",
       "2        31,335,513,414           $276.44           Industrials  \n",
       "3        30,279,645,603            $18.16     Consumer Cyclical  \n",
       "4        18,022,049,404            $55.17             Utilities  \n",
       "..                  ...                ...                  ...  \n",
       "97      805,145,473,313           $777.16     Consumer Durables  \n",
       "98       61,010,211,260            $78.03     Consumer Durables  \n",
       "99       34,860,312,341           $123.96     Consumer Durables  \n",
       "100     158,428,051,195           $126.38        Communications  \n",
       "101      26,523,698,799           $111.68   Commercial Services  \n",
       "\n",
       "[102 rows x 6 columns]"
      ]
     },
     "execution_count": 47,
     "metadata": {},
     "output_type": "execute_result"
    }
   ],
   "source": [
    "cik_ticker"
   ]
  },
  {
   "cell_type": "markdown",
   "id": "9ca7e012-c449-46e5-985c-f247756ef6e7",
   "metadata": {},
   "source": [
    "## IV: Text Analysis"
   ]
  },
  {
   "cell_type": "markdown",
   "id": "5c63f21c-3552-4730-8d48-33bfd87641e9",
   "metadata": {},
   "source": [
    "### 0-0. Create gold labels"
   ]
  },
  {
   "cell_type": "markdown",
   "id": "135d601e-d9d6-40ae-94db-35ddd426d8a1",
   "metadata": {},
   "source": [
    "* Create a vector **y_binary** of gold labels for stock prices. 0 stands for below-average stock prices and 1 represents above-average stock prices. "
   ]
  },
  {
   "cell_type": "code",
   "execution_count": 48,
   "id": "25537d91-2d35-49c9-a7f8-942d2745372a",
   "metadata": {},
   "outputs": [],
   "source": [
    "y_binary = list(map(lambda x : 0 if x < np.mean(data.price) else 1, data['price']))"
   ]
  },
  {
   "cell_type": "code",
   "execution_count": 49,
   "id": "8ca40d63-5ffd-4cd5-9da3-4e799f71ee7e",
   "metadata": {},
   "outputs": [
    {
     "data": {
      "text/plain": [
       "304"
      ]
     },
     "execution_count": 49,
     "metadata": {},
     "output_type": "execute_result"
    }
   ],
   "source": [
    "len(y_binary)"
   ]
  },
  {
   "cell_type": "code",
   "execution_count": 50,
   "id": "9e584fc3-01d8-4342-be4d-d34dc9cbe0d1",
   "metadata": {},
   "outputs": [
    {
     "data": {
      "text/plain": [
       "0.39473684210526316"
      ]
     },
     "execution_count": 50,
     "metadata": {},
     "output_type": "execute_result"
    }
   ],
   "source": [
    "sum(y_binary) / len(y_binary)"
   ]
  },
  {
   "cell_type": "markdown",
   "id": "4391ed05-b674-4a88-a806-989e6ffb93b5",
   "metadata": {},
   "source": [
    "### Q1: What are the tones or sentiments used to describe the risks of companies? Are they related to the stock prices? "
   ]
  },
  {
   "cell_type": "markdown",
   "id": "64ca0a91-07e8-483d-8bea-4aa6fe0599db",
   "metadata": {
    "tags": []
   },
   "source": [
    "### 1-1. Sentiment Analysis"
   ]
  },
  {
   "cell_type": "code",
   "execution_count": 51,
   "id": "5ae2f938-5b00-499d-9bd3-3713a13a3b3e",
   "metadata": {},
   "outputs": [],
   "source": [
    "# Making stopwords list\n",
    "stoplist = stopwords.words('english')\n",
    "for el in [i for i in string.punctuation]:\n",
    "    stoplist.append(el)"
   ]
  },
  {
   "cell_type": "code",
   "execution_count": 52,
   "id": "a5b0b784-b6d8-46aa-b09f-6f341f38ef8e",
   "metadata": {},
   "outputs": [],
   "source": [
    "emolex_file = os.path.join('emolex.txt')"
   ]
  },
  {
   "cell_type": "code",
   "execution_count": 53,
   "id": "3480470b-96cc-4646-b628-7f4f11b1e6f9",
   "metadata": {},
   "outputs": [],
   "source": [
    "# read_emolex function from INFO 3350 problem set code\n",
    "\n",
    "emolex_file = os.path.join('emolex.txt')\n",
    "\n",
    "def read_emolex(filepath=None):\n",
    "    '''\n",
    "    Takes a file path to the emolex lexicon file.\n",
    "    Returns a dictionary of emolex sentiment values.\n",
    "    '''\n",
    "    if filepath==None: # Try to find the emolex file\n",
    "        filepath = os.path.join('emolex.txt')\n",
    "        if os.path.isfile(filepath):\n",
    "            pass\n",
    "        elif os.path.isfile('emolex.txt'):\n",
    "            filepath = 'emolex.txt'\n",
    "        else:\n",
    "            raise FileNotFoundError('No EmoLex file found')\n",
    "    emolex = defaultdict(dict) # Like Counter(), defaultdict eases dictionary creation\n",
    "    with open(filepath, 'r') as f:\n",
    "    # emolex file format is: word emotion value\n",
    "        for line in f:\n",
    "            word, emotion, value = line.strip().split()\n",
    "            emolex[word][emotion] = int(value)\n",
    "    return emolex\n",
    "\n",
    "# Get EmoLex data. Make sure you set the right file path above.\n",
    "emolex = read_emolex(emolex_file)"
   ]
  },
  {
   "cell_type": "code",
   "execution_count": 54,
   "id": "28132539-303a-49c3-aaf5-f652f68e2cc0",
   "metadata": {},
   "outputs": [],
   "source": [
    "# Get EmoLex df. Make sure you set the right file path above.\n",
    "emolex = read_emolex(emolex_file)"
   ]
  },
  {
   "cell_type": "code",
   "execution_count": 55,
   "id": "919f8609-cf29-49a4-b2e5-31b690be077b",
   "metadata": {},
   "outputs": [],
   "source": [
    "def getSentScore(sentence_dicts, df, index):\n",
    "    \n",
    "    bookdict = dict({'anger': 0 , 'anticipation': 0,'disgust': 0,'fear': 0,'joy': 0,'negative': 0,'positive': 0,'sadness': 0,'surprise': 0, 'trust': 0})\n",
    "    \n",
    "    for sentence_dict in sentence_dicts:\n",
    "        for emotion in sentence_dict:\n",
    "            bookdict[emotion] += sentence_dict[emotion]\n",
    "    \n",
    "    for emotion in bookdict.keys():\n",
    "        bookdict[emotion] /= len(sentence_dicts)\n",
    "        df.at[index, emotion] = bookdict[emotion]\n",
    "    \n",
    "    return None  "
   ]
  },
  {
   "cell_type": "code",
   "execution_count": 56,
   "id": "2277e71c-713d-4111-98a9-6910f3f4148a",
   "metadata": {},
   "outputs": [],
   "source": [
    "def tokenize_text(text, stops=[]):\n",
    "    sentences = []\n",
    "    for sent in sent_tokenize(text.lower()):\n",
    "        sentences.append([word for word in word_tokenize(sent) if word not in stops])\n",
    "        \n",
    "    return sentences"
   ]
  },
  {
   "cell_type": "code",
   "execution_count": 57,
   "id": "6e5a71bb-d1c0-4def-8d7b-5998d30f4cd3",
   "metadata": {
    "tags": []
   },
   "outputs": [],
   "source": [
    "# sentence_sentiment_score from INFO 3350 problem set code\n",
    "def sentence_sentiment_score(toks, lexicon = emolex):\n",
    "    total = 0\n",
    "    emo_dict = defaultdict(lambda: 0)\n",
    "    \n",
    "    emotions = ['anger', 'anticipation','disgust','fear','joy','negative','positive','sadness','surprise', 'trust']\n",
    "    \n",
    "    \n",
    "    for word in toks:\n",
    "        total += 1\n",
    "        for emotion in emotions:\n",
    "            try:\n",
    "                emo_dict[emotion] += lexicon[word][emotion]\n",
    "            except:\n",
    "                continue\n",
    "    \n",
    "    for emotion in emotions:\n",
    "        if total > 0:\n",
    "            emo_dict[emotion] /= total\n",
    "        \n",
    "    return emo_dict"
   ]
  },
  {
   "cell_type": "code",
   "execution_count": 58,
   "id": "282c06d4-3c55-44af-b8cd-c6c24f33aadb",
   "metadata": {},
   "outputs": [],
   "source": [
    "#### Adding sentiment score columns\n",
    "size = len(df)\n",
    "\n",
    "df['anger'] = np.zeros(size)\n",
    "df['anticipation'] = np.zeros(size)\n",
    "df['disgust'] = np.zeros(size)\n",
    "df['fear'] = np.zeros(size)\n",
    "df['joy'] = np.zeros(size)\n",
    "df['negative'] = np.zeros(size)\n",
    "df['positive'] = np.zeros(size)\n",
    "df['sadness'] = np.zeros(size)\n",
    "df['surprise'] = np.zeros(size)\n",
    "df['trust'] = np.zeros(size)"
   ]
  },
  {
   "cell_type": "code",
   "execution_count": 59,
   "id": "42443a95-eee8-4a6e-b582-c90aee1ae57b",
   "metadata": {},
   "outputs": [
    {
     "data": {
      "text/plain": [
       "304"
      ]
     },
     "execution_count": 59,
     "metadata": {},
     "output_type": "execute_result"
    }
   ],
   "source": [
    "len(df)"
   ]
  },
  {
   "cell_type": "code",
   "execution_count": 60,
   "id": "0dd7346e-382a-4b6b-ae6b-857ec341048c",
   "metadata": {},
   "outputs": [
    {
     "name": "stdout",
     "output_type": "stream",
     "text": [
      "CPU times: user 1min 6s, sys: 722 ms, total: 1min 7s\n",
      "Wall time: 1min 8s\n"
     ]
    }
   ],
   "source": [
    "%%time\n",
    "\n",
    "for index, text in enumerate(df['risk']):\n",
    "    sentence_dicts = []\n",
    "    for sentence in tokenize_text(text, stops=stoplist):\n",
    "        sentence_dicts.append(sentence_sentiment_score(sentence))\n",
    "    getSentScore(sentence_dicts, df, index)"
   ]
  },
  {
   "cell_type": "code",
   "execution_count": 61,
   "id": "e4689608-4c1d-46d1-b045-11c23a7ab1f5",
   "metadata": {},
   "outputs": [
    {
     "data": {
      "text/html": [
       "<div>\n",
       "<style scoped>\n",
       "    .dataframe tbody tr th:only-of-type {\n",
       "        vertical-align: middle;\n",
       "    }\n",
       "\n",
       "    .dataframe tbody tr th {\n",
       "        vertical-align: top;\n",
       "    }\n",
       "\n",
       "    .dataframe thead th {\n",
       "        text-align: right;\n",
       "    }\n",
       "</style>\n",
       "<table border=\"1\" class=\"dataframe\">\n",
       "  <thead>\n",
       "    <tr style=\"text-align: right;\">\n",
       "      <th></th>\n",
       "      <th>Unnamed: 0</th>\n",
       "      <th>cik</th>\n",
       "      <th>symbol</th>\n",
       "      <th>company</th>\n",
       "      <th>fiscal_year</th>\n",
       "      <th>risk</th>\n",
       "      <th>sector</th>\n",
       "      <th>url</th>\n",
       "      <th>price</th>\n",
       "      <th>text</th>\n",
       "      <th>...</th>\n",
       "      <th>anger</th>\n",
       "      <th>anticipation</th>\n",
       "      <th>disgust</th>\n",
       "      <th>fear</th>\n",
       "      <th>joy</th>\n",
       "      <th>negative</th>\n",
       "      <th>positive</th>\n",
       "      <th>sadness</th>\n",
       "      <th>surprise</th>\n",
       "      <th>trust</th>\n",
       "    </tr>\n",
       "  </thead>\n",
       "  <tbody>\n",
       "    <tr>\n",
       "      <th>299</th>\n",
       "      <td>320</td>\n",
       "      <td>900075</td>\n",
       "      <td>CPRT</td>\n",
       "      <td>Copart, Inc. (DE) Common Stock</td>\n",
       "      <td>2016</td>\n",
       "      <td>item 1a.    risk factorsinvesting in our commo...</td>\n",
       "      <td>Commercial Services</td>\n",
       "      <td>https://www.sec.gov/Archives/edgar/data/900075...</td>\n",
       "      <td>27.705000</td>\n",
       "      <td>item 1a.    risk factorsinvesting in our commo...</td>\n",
       "      <td>...</td>\n",
       "      <td>0.019701</td>\n",
       "      <td>0.038329</td>\n",
       "      <td>0.016762</td>\n",
       "      <td>0.030321</td>\n",
       "      <td>0.009661</td>\n",
       "      <td>0.066185</td>\n",
       "      <td>0.094219</td>\n",
       "      <td>0.023611</td>\n",
       "      <td>0.008625</td>\n",
       "      <td>0.052095</td>\n",
       "    </tr>\n",
       "    <tr>\n",
       "      <th>300</th>\n",
       "      <td>321</td>\n",
       "      <td>900075</td>\n",
       "      <td>CPRT</td>\n",
       "      <td>Copart, Inc. (DE) Common Stock</td>\n",
       "      <td>2014</td>\n",
       "      <td>item 1a.\\n \\nrisk factors\\n\\n\\n\\ninvesting in ...</td>\n",
       "      <td>Commercial Services</td>\n",
       "      <td>https://www.sec.gov/Archives/edgar/data/900075...</td>\n",
       "      <td>18.245001</td>\n",
       "      <td>item 1a.   risk factors    investing in our co...</td>\n",
       "      <td>...</td>\n",
       "      <td>0.023981</td>\n",
       "      <td>0.037899</td>\n",
       "      <td>0.019341</td>\n",
       "      <td>0.033534</td>\n",
       "      <td>0.010873</td>\n",
       "      <td>0.066368</td>\n",
       "      <td>0.096863</td>\n",
       "      <td>0.026728</td>\n",
       "      <td>0.007782</td>\n",
       "      <td>0.053089</td>\n",
       "    </tr>\n",
       "    <tr>\n",
       "      <th>301</th>\n",
       "      <td>322</td>\n",
       "      <td>900075</td>\n",
       "      <td>CPRT</td>\n",
       "      <td>Copart, Inc. (DE) Common Stock</td>\n",
       "      <td>2013</td>\n",
       "      <td>item 1a.\\n \\nrisk factors\\n\\n\\n\\ninvesting in ...</td>\n",
       "      <td>Commercial Services</td>\n",
       "      <td>https://www.sec.gov/Archives/edgar/data/900075...</td>\n",
       "      <td>18.325001</td>\n",
       "      <td>item 1a.   risk factors    investing in our co...</td>\n",
       "      <td>...</td>\n",
       "      <td>0.024179</td>\n",
       "      <td>0.039362</td>\n",
       "      <td>0.020800</td>\n",
       "      <td>0.036514</td>\n",
       "      <td>0.010880</td>\n",
       "      <td>0.067244</td>\n",
       "      <td>0.098653</td>\n",
       "      <td>0.028181</td>\n",
       "      <td>0.007672</td>\n",
       "      <td>0.053146</td>\n",
       "    </tr>\n",
       "    <tr>\n",
       "      <th>302</th>\n",
       "      <td>323</td>\n",
       "      <td>900075</td>\n",
       "      <td>CPRT</td>\n",
       "      <td>Copart, Inc. (DE) Common Stock</td>\n",
       "      <td>2010</td>\n",
       "      <td>item 1a.    risk factors  \\n        investing ...</td>\n",
       "      <td>Commercial Services</td>\n",
       "      <td>https://www.sec.gov/Archives/edgar/data/900075...</td>\n",
       "      <td>9.337500</td>\n",
       "      <td>item 1a.    risk factors           investing i...</td>\n",
       "      <td>...</td>\n",
       "      <td>0.023554</td>\n",
       "      <td>0.040803</td>\n",
       "      <td>0.019069</td>\n",
       "      <td>0.033254</td>\n",
       "      <td>0.010905</td>\n",
       "      <td>0.065662</td>\n",
       "      <td>0.104372</td>\n",
       "      <td>0.025967</td>\n",
       "      <td>0.006681</td>\n",
       "      <td>0.050782</td>\n",
       "    </tr>\n",
       "    <tr>\n",
       "      <th>303</th>\n",
       "      <td>324</td>\n",
       "      <td>900075</td>\n",
       "      <td>CPRT</td>\n",
       "      <td>Copart, Inc. (DE) Common Stock</td>\n",
       "      <td>2009</td>\n",
       "      <td>item 1a.    risk factors     \\n        investi...</td>\n",
       "      <td>Commercial Services</td>\n",
       "      <td>https://www.sec.gov/Archives/edgar/data/900075...</td>\n",
       "      <td>9.155000</td>\n",
       "      <td>item 1a.    risk factors              investin...</td>\n",
       "      <td>...</td>\n",
       "      <td>0.024608</td>\n",
       "      <td>0.038114</td>\n",
       "      <td>0.019443</td>\n",
       "      <td>0.033097</td>\n",
       "      <td>0.011708</td>\n",
       "      <td>0.066980</td>\n",
       "      <td>0.103876</td>\n",
       "      <td>0.026330</td>\n",
       "      <td>0.005692</td>\n",
       "      <td>0.049739</td>\n",
       "    </tr>\n",
       "  </tbody>\n",
       "</table>\n",
       "<p>5 rows × 21 columns</p>\n",
       "</div>"
      ],
      "text/plain": [
       "     Unnamed: 0     cik symbol                         company  fiscal_year  \\\n",
       "299         320  900075   CPRT  Copart, Inc. (DE) Common Stock         2016   \n",
       "300         321  900075   CPRT  Copart, Inc. (DE) Common Stock         2014   \n",
       "301         322  900075   CPRT  Copart, Inc. (DE) Common Stock         2013   \n",
       "302         323  900075   CPRT  Copart, Inc. (DE) Common Stock         2010   \n",
       "303         324  900075   CPRT  Copart, Inc. (DE) Common Stock         2009   \n",
       "\n",
       "                                                  risk               sector  \\\n",
       "299  item 1a.    risk factorsinvesting in our commo...  Commercial Services   \n",
       "300  item 1a.\\n \\nrisk factors\\n\\n\\n\\ninvesting in ...  Commercial Services   \n",
       "301  item 1a.\\n \\nrisk factors\\n\\n\\n\\ninvesting in ...  Commercial Services   \n",
       "302  item 1a.    risk factors  \\n        investing ...  Commercial Services   \n",
       "303  item 1a.    risk factors     \\n        investi...  Commercial Services   \n",
       "\n",
       "                                                   url      price  \\\n",
       "299  https://www.sec.gov/Archives/edgar/data/900075...  27.705000   \n",
       "300  https://www.sec.gov/Archives/edgar/data/900075...  18.245001   \n",
       "301  https://www.sec.gov/Archives/edgar/data/900075...  18.325001   \n",
       "302  https://www.sec.gov/Archives/edgar/data/900075...   9.337500   \n",
       "303  https://www.sec.gov/Archives/edgar/data/900075...   9.155000   \n",
       "\n",
       "                                                  text  ...     anger  \\\n",
       "299  item 1a.    risk factorsinvesting in our commo...  ...  0.019701   \n",
       "300  item 1a.   risk factors    investing in our co...  ...  0.023981   \n",
       "301  item 1a.   risk factors    investing in our co...  ...  0.024179   \n",
       "302  item 1a.    risk factors           investing i...  ...  0.023554   \n",
       "303  item 1a.    risk factors              investin...  ...  0.024608   \n",
       "\n",
       "     anticipation   disgust      fear       joy  negative  positive   sadness  \\\n",
       "299      0.038329  0.016762  0.030321  0.009661  0.066185  0.094219  0.023611   \n",
       "300      0.037899  0.019341  0.033534  0.010873  0.066368  0.096863  0.026728   \n",
       "301      0.039362  0.020800  0.036514  0.010880  0.067244  0.098653  0.028181   \n",
       "302      0.040803  0.019069  0.033254  0.010905  0.065662  0.104372  0.025967   \n",
       "303      0.038114  0.019443  0.033097  0.011708  0.066980  0.103876  0.026330   \n",
       "\n",
       "     surprise     trust  \n",
       "299  0.008625  0.052095  \n",
       "300  0.007782  0.053089  \n",
       "301  0.007672  0.053146  \n",
       "302  0.006681  0.050782  \n",
       "303  0.005692  0.049739  \n",
       "\n",
       "[5 rows x 21 columns]"
      ]
     },
     "execution_count": 61,
     "metadata": {},
     "output_type": "execute_result"
    }
   ],
   "source": [
    "df.tail()"
   ]
  },
  {
   "cell_type": "code",
   "execution_count": 62,
   "id": "a1b7de71-8a72-40c0-a089-44acc226bd1a",
   "metadata": {},
   "outputs": [
    {
     "data": {
      "text/html": [
       "<div>\n",
       "<style scoped>\n",
       "    .dataframe tbody tr th:only-of-type {\n",
       "        vertical-align: middle;\n",
       "    }\n",
       "\n",
       "    .dataframe tbody tr th {\n",
       "        vertical-align: top;\n",
       "    }\n",
       "\n",
       "    .dataframe thead th {\n",
       "        text-align: right;\n",
       "    }\n",
       "</style>\n",
       "<table border=\"1\" class=\"dataframe\">\n",
       "  <thead>\n",
       "    <tr style=\"text-align: right;\">\n",
       "      <th></th>\n",
       "      <th>Unnamed: 0</th>\n",
       "      <th>cik</th>\n",
       "      <th>fiscal_year</th>\n",
       "      <th>price</th>\n",
       "      <th>word_count</th>\n",
       "      <th>anger</th>\n",
       "      <th>anticipation</th>\n",
       "      <th>disgust</th>\n",
       "      <th>fear</th>\n",
       "      <th>joy</th>\n",
       "      <th>negative</th>\n",
       "      <th>positive</th>\n",
       "      <th>sadness</th>\n",
       "      <th>surprise</th>\n",
       "      <th>trust</th>\n",
       "    </tr>\n",
       "  </thead>\n",
       "  <tbody>\n",
       "    <tr>\n",
       "      <th>count</th>\n",
       "      <td>304.000000</td>\n",
       "      <td>3.040000e+02</td>\n",
       "      <td>304.000000</td>\n",
       "      <td>304.000000</td>\n",
       "      <td>304.000000</td>\n",
       "      <td>304.000000</td>\n",
       "      <td>304.000000</td>\n",
       "      <td>304.000000</td>\n",
       "      <td>304.000000</td>\n",
       "      <td>304.000000</td>\n",
       "      <td>304.000000</td>\n",
       "      <td>304.000000</td>\n",
       "      <td>304.000000</td>\n",
       "      <td>304.000000</td>\n",
       "      <td>304.000000</td>\n",
       "    </tr>\n",
       "    <tr>\n",
       "      <th>mean</th>\n",
       "      <td>160.911184</td>\n",
       "      <td>8.834649e+05</td>\n",
       "      <td>2013.154605</td>\n",
       "      <td>55.872967</td>\n",
       "      <td>20770.375000</td>\n",
       "      <td>0.017637</td>\n",
       "      <td>0.041907</td>\n",
       "      <td>0.009962</td>\n",
       "      <td>0.027525</td>\n",
       "      <td>0.018901</td>\n",
       "      <td>0.059696</td>\n",
       "      <td>0.105277</td>\n",
       "      <td>0.023928</td>\n",
       "      <td>0.009313</td>\n",
       "      <td>0.059365</td>\n",
       "    </tr>\n",
       "    <tr>\n",
       "      <th>std</th>\n",
       "      <td>94.628030</td>\n",
       "      <td>3.874983e+05</td>\n",
       "      <td>3.549617</td>\n",
       "      <td>45.485301</td>\n",
       "      <td>17656.526626</td>\n",
       "      <td>0.004749</td>\n",
       "      <td>0.006466</td>\n",
       "      <td>0.003954</td>\n",
       "      <td>0.006934</td>\n",
       "      <td>0.004922</td>\n",
       "      <td>0.011735</td>\n",
       "      <td>0.009175</td>\n",
       "      <td>0.005281</td>\n",
       "      <td>0.003183</td>\n",
       "      <td>0.008030</td>\n",
       "    </tr>\n",
       "    <tr>\n",
       "      <th>min</th>\n",
       "      <td>0.000000</td>\n",
       "      <td>2.488000e+03</td>\n",
       "      <td>2007.000000</td>\n",
       "      <td>1.630000</td>\n",
       "      <td>1423.000000</td>\n",
       "      <td>0.007411</td>\n",
       "      <td>0.027373</td>\n",
       "      <td>0.001337</td>\n",
       "      <td>0.011841</td>\n",
       "      <td>0.005467</td>\n",
       "      <td>0.034340</td>\n",
       "      <td>0.081583</td>\n",
       "      <td>0.012612</td>\n",
       "      <td>0.003284</td>\n",
       "      <td>0.039743</td>\n",
       "    </tr>\n",
       "    <tr>\n",
       "      <th>25%</th>\n",
       "      <td>77.750000</td>\n",
       "      <td>7.693970e+05</td>\n",
       "      <td>2010.000000</td>\n",
       "      <td>22.351250</td>\n",
       "      <td>8559.500000</td>\n",
       "      <td>0.014453</td>\n",
       "      <td>0.037874</td>\n",
       "      <td>0.007385</td>\n",
       "      <td>0.021839</td>\n",
       "      <td>0.016099</td>\n",
       "      <td>0.050279</td>\n",
       "      <td>0.099411</td>\n",
       "      <td>0.020588</td>\n",
       "      <td>0.007238</td>\n",
       "      <td>0.054046</td>\n",
       "    </tr>\n",
       "    <tr>\n",
       "      <th>50%</th>\n",
       "      <td>162.500000</td>\n",
       "      <td>8.911030e+05</td>\n",
       "      <td>2013.000000</td>\n",
       "      <td>43.465000</td>\n",
       "      <td>13549.000000</td>\n",
       "      <td>0.017320</td>\n",
       "      <td>0.042030</td>\n",
       "      <td>0.009856</td>\n",
       "      <td>0.028327</td>\n",
       "      <td>0.018006</td>\n",
       "      <td>0.060357</td>\n",
       "      <td>0.105674</td>\n",
       "      <td>0.023531</td>\n",
       "      <td>0.008982</td>\n",
       "      <td>0.058147</td>\n",
       "    </tr>\n",
       "    <tr>\n",
       "      <th>75%</th>\n",
       "      <td>240.250000</td>\n",
       "      <td>1.094455e+06</td>\n",
       "      <td>2016.000000</td>\n",
       "      <td>74.807501</td>\n",
       "      <td>27734.750000</td>\n",
       "      <td>0.020033</td>\n",
       "      <td>0.044576</td>\n",
       "      <td>0.012538</td>\n",
       "      <td>0.032216</td>\n",
       "      <td>0.020773</td>\n",
       "      <td>0.067393</td>\n",
       "      <td>0.111322</td>\n",
       "      <td>0.027425</td>\n",
       "      <td>0.010611</td>\n",
       "      <td>0.063793</td>\n",
       "    </tr>\n",
       "    <tr>\n",
       "      <th>max</th>\n",
       "      <td>324.000000</td>\n",
       "      <td>1.811210e+06</td>\n",
       "      <td>2020.000000</td>\n",
       "      <td>231.669998</td>\n",
       "      <td>80342.000000</td>\n",
       "      <td>0.041867</td>\n",
       "      <td>0.069143</td>\n",
       "      <td>0.027367</td>\n",
       "      <td>0.050213</td>\n",
       "      <td>0.037843</td>\n",
       "      <td>0.093268</td>\n",
       "      <td>0.130600</td>\n",
       "      <td>0.042139</td>\n",
       "      <td>0.021311</td>\n",
       "      <td>0.086329</td>\n",
       "    </tr>\n",
       "  </tbody>\n",
       "</table>\n",
       "</div>"
      ],
      "text/plain": [
       "       Unnamed: 0           cik  fiscal_year       price    word_count  \\\n",
       "count  304.000000  3.040000e+02   304.000000  304.000000    304.000000   \n",
       "mean   160.911184  8.834649e+05  2013.154605   55.872967  20770.375000   \n",
       "std     94.628030  3.874983e+05     3.549617   45.485301  17656.526626   \n",
       "min      0.000000  2.488000e+03  2007.000000    1.630000   1423.000000   \n",
       "25%     77.750000  7.693970e+05  2010.000000   22.351250   8559.500000   \n",
       "50%    162.500000  8.911030e+05  2013.000000   43.465000  13549.000000   \n",
       "75%    240.250000  1.094455e+06  2016.000000   74.807501  27734.750000   \n",
       "max    324.000000  1.811210e+06  2020.000000  231.669998  80342.000000   \n",
       "\n",
       "            anger  anticipation     disgust        fear         joy  \\\n",
       "count  304.000000    304.000000  304.000000  304.000000  304.000000   \n",
       "mean     0.017637      0.041907    0.009962    0.027525    0.018901   \n",
       "std      0.004749      0.006466    0.003954    0.006934    0.004922   \n",
       "min      0.007411      0.027373    0.001337    0.011841    0.005467   \n",
       "25%      0.014453      0.037874    0.007385    0.021839    0.016099   \n",
       "50%      0.017320      0.042030    0.009856    0.028327    0.018006   \n",
       "75%      0.020033      0.044576    0.012538    0.032216    0.020773   \n",
       "max      0.041867      0.069143    0.027367    0.050213    0.037843   \n",
       "\n",
       "         negative    positive     sadness    surprise       trust  \n",
       "count  304.000000  304.000000  304.000000  304.000000  304.000000  \n",
       "mean     0.059696    0.105277    0.023928    0.009313    0.059365  \n",
       "std      0.011735    0.009175    0.005281    0.003183    0.008030  \n",
       "min      0.034340    0.081583    0.012612    0.003284    0.039743  \n",
       "25%      0.050279    0.099411    0.020588    0.007238    0.054046  \n",
       "50%      0.060357    0.105674    0.023531    0.008982    0.058147  \n",
       "75%      0.067393    0.111322    0.027425    0.010611    0.063793  \n",
       "max      0.093268    0.130600    0.042139    0.021311    0.086329  "
      ]
     },
     "execution_count": 62,
     "metadata": {},
     "output_type": "execute_result"
    }
   ],
   "source": [
    "df.describe()"
   ]
  },
  {
   "cell_type": "code",
   "execution_count": 63,
   "id": "95dd091a-40d1-40b8-916b-c299f7b33a1d",
   "metadata": {},
   "outputs": [
    {
     "name": "stdout",
     "output_type": "stream",
     "text": [
      "Average detective novel sentiment scores in comparison to average sentiment scores of all other genres in the corpus. \n",
      "'True' indicates detective novels.\n"
     ]
    },
    {
     "data": {
      "text/html": [
       "<div>\n",
       "<style scoped>\n",
       "    .dataframe tbody tr th:only-of-type {\n",
       "        vertical-align: middle;\n",
       "    }\n",
       "\n",
       "    .dataframe tbody tr th {\n",
       "        vertical-align: top;\n",
       "    }\n",
       "\n",
       "    .dataframe thead th {\n",
       "        text-align: right;\n",
       "    }\n",
       "</style>\n",
       "<table border=\"1\" class=\"dataframe\">\n",
       "  <thead>\n",
       "    <tr style=\"text-align: right;\">\n",
       "      <th></th>\n",
       "      <th>anger</th>\n",
       "      <th>anticipation</th>\n",
       "      <th>disgust</th>\n",
       "      <th>fear</th>\n",
       "      <th>joy</th>\n",
       "      <th>negative</th>\n",
       "      <th>positive</th>\n",
       "      <th>sadness</th>\n",
       "      <th>surprise</th>\n",
       "      <th>trust</th>\n",
       "    </tr>\n",
       "  </thead>\n",
       "  <tbody>\n",
       "    <tr>\n",
       "      <th>0</th>\n",
       "      <td>0.017662</td>\n",
       "      <td>0.041922</td>\n",
       "      <td>0.010006</td>\n",
       "      <td>0.027683</td>\n",
       "      <td>0.018833</td>\n",
       "      <td>0.059660</td>\n",
       "      <td>0.104365</td>\n",
       "      <td>0.02416</td>\n",
       "      <td>0.009218</td>\n",
       "      <td>0.058108</td>\n",
       "    </tr>\n",
       "    <tr>\n",
       "      <th>1</th>\n",
       "      <td>0.017599</td>\n",
       "      <td>0.041885</td>\n",
       "      <td>0.009894</td>\n",
       "      <td>0.027282</td>\n",
       "      <td>0.019003</td>\n",
       "      <td>0.059752</td>\n",
       "      <td>0.106675</td>\n",
       "      <td>0.02357</td>\n",
       "      <td>0.009458</td>\n",
       "      <td>0.061293</td>\n",
       "    </tr>\n",
       "  </tbody>\n",
       "</table>\n",
       "</div>"
      ],
      "text/plain": [
       "      anger  anticipation   disgust      fear       joy  negative  positive  \\\n",
       "0  0.017662      0.041922  0.010006  0.027683  0.018833  0.059660  0.104365   \n",
       "1  0.017599      0.041885  0.009894  0.027282  0.019003  0.059752  0.106675   \n",
       "\n",
       "   sadness  surprise     trust  \n",
       "0  0.02416  0.009218  0.058108  \n",
       "1  0.02357  0.009458  0.061293  "
      ]
     },
     "execution_count": 63,
     "metadata": {},
     "output_type": "execute_result"
    }
   ],
   "source": [
    "grouped_sent = df.groupby(y_binary).mean()\\\n",
    "[['anger','anticipation','disgust','fear','joy','negative','positive','sadness','surprise', 'trust']]\n",
    "\n",
    "print(\"Average detective novel sentiment scores in comparison to average sentiment scores of all other genres in \\\n",
    "the corpus. \\n\\\n",
    "'True' indicates detective novels.\")\n",
    "\n",
    "grouped_sent"
   ]
  },
  {
   "cell_type": "code",
   "execution_count": 64,
   "id": "01469a8e-fcde-4814-8a7a-e68be1717010",
   "metadata": {},
   "outputs": [],
   "source": [
    "sent_dict = grouped_sent.to_dict()"
   ]
  },
  {
   "cell_type": "code",
   "execution_count": 65,
   "id": "cdf45d00-c5c2-4020-b801-069fa00d804e",
   "metadata": {},
   "outputs": [],
   "source": [
    "# from INFO 3350 problem set\n",
    "def visualize_emotion_scores(scores):\n",
    "    df = pd.DataFrame.from_dict(scores)\n",
    "    values = df.columns\n",
    "    df = df.reset_index().melt(id_vars='index', value_vars=values, var_name='emotion').rename(columns={'index':'stockPrice'})\n",
    "    sns.set_context('poster')\n",
    "    g = sns.catplot(x='stockPrice', y='value', col='emotion', data=df, kind='bar', col_wrap=4)\n",
    "    return g"
   ]
  },
  {
   "cell_type": "code",
   "execution_count": 66,
   "id": "02468b57-e028-4f84-a33b-012765b73e51",
   "metadata": {},
   "outputs": [
    {
     "data": {
      "text/plain": [
       "<seaborn.axisgrid.FacetGrid at 0x7f88740c9520>"
      ]
     },
     "execution_count": 66,
     "metadata": {},
     "output_type": "execute_result"
    },
    {
     "data": {
      "image/png": "[encoded data removed]",
      "text/plain": [
       "<Figure size 1440x1080 with 10 Axes>"
      ]
     },
     "metadata": {
      "needs_background": "light"
     },
     "output_type": "display_data"
    }
   ],
   "source": [
    "visualize_emotion_scores(sent_dict)"
   ]
  },
  {
   "cell_type": "markdown",
   "id": "6b3218f5-f3d9-480d-b576-42e27ea2a260",
   "metadata": {},
   "source": [
    "#### (1) Acorss all the emotions, it seemed those publicly traded companies tended to use **positive** tones in their writings of the Risk Factors section no matter what their stock performances were, compared to any other emotions. \n",
    "\n",
    "#### (2) The emotion **surprise** is the least mentioned in the Risk Factors section. It seemed those companies used caution when publishing their 10-K annual reports, trying not to deliver any surprising messages to scare them away. \n",
    "\n",
    "#### (3) Comparing the emotion scores by stock price, there did not appear to be any significant differences between below-average and above-average stock prices."
   ]
  },
  {
   "cell_type": "markdown",
   "id": "51406aab-24af-468e-a346-6fd0a56d6494",
   "metadata": {},
   "source": [
    "### 1-2-0 Create Vectorizer"
   ]
  },
  {
   "cell_type": "code",
   "execution_count": 67,
   "id": "e9c2669e-3f04-416d-a575-b375d77b5e8d",
   "metadata": {},
   "outputs": [],
   "source": [
    "# Vectorize\n",
    "vectorizer = TfidfVectorizer(\n",
    "    encoding = 'utf-8',\n",
    "    strip_accents = 'unicode',\n",
    "    lowercase = True,\n",
    "    min_df = 0.01,\n",
    "    max_df = 0.9,\n",
    "    use_idf=True\n",
    ")"
   ]
  },
  {
   "cell_type": "code",
   "execution_count": 68,
   "id": "27c3f2bc-9fa9-4c92-8dd7-8d6e71ed4dd6",
   "metadata": {},
   "outputs": [
    {
     "name": "stdout",
     "output_type": "stream",
     "text": [
      "Shape of the feature matrix (304, 12834)\n"
     ]
    }
   ],
   "source": [
    "# perform vectorization\n",
    "X = vectorizer.fit_transform(df.risk.values.astype('U'))\n",
    "print(\"Shape of the feature matrix\", X.shape)"
   ]
  },
  {
   "cell_type": "code",
   "execution_count": 69,
   "id": "62ada3c8-bc8b-4982-940f-f4a5fe06355b",
   "metadata": {},
   "outputs": [
    {
     "name": "stderr",
     "output_type": "stream",
     "text": [
      "/Users/annzhou/opt/anaconda3/lib/python3.9/site-packages/sklearn/utils/validation.py:593: FutureWarning: np.matrix usage is deprecated in 1.0 and will raise a TypeError in 1.2. Please convert to a numpy array with np.asarray. For more information see: https://numpy.org/doc/stable/reference/generated/numpy.matrix.html\n",
      "  warnings.warn(\n",
      "/Users/annzhou/opt/anaconda3/lib/python3.9/site-packages/sklearn/utils/validation.py:593: FutureWarning: np.matrix usage is deprecated in 1.0 and will raise a TypeError in 1.2. Please convert to a numpy array with np.asarray. For more information see: https://numpy.org/doc/stable/reference/generated/numpy.matrix.html\n",
      "  warnings.warn(\n"
     ]
    }
   ],
   "source": [
    "# standard-scale feature matrix\n",
    "X = StandardScaler().fit_transform(X.todense())"
   ]
  },
  {
   "cell_type": "markdown",
   "id": "27415e14-e915-44b9-9767-1d517ef32457",
   "metadata": {},
   "source": [
    "### 1-2. Clustering"
   ]
  },
  {
   "cell_type": "code",
   "execution_count": 70,
   "id": "62851541-3512-45e9-9d30-04ebb40d08a1",
   "metadata": {},
   "outputs": [],
   "source": [
    "############## code from INFO 6350 problem set code ##############\n",
    "def plot_compare(X, labels, title, reduce=True, alpha=0.2):\n",
    "    '''\n",
    "    Takes an array of object data, a set of cluster labels, and a title string\n",
    "    Reduces dimensions to 2 and plots the clustering.\n",
    "    Returns nothing.\n",
    "    '''\n",
    "    \n",
    "    if reduce:\n",
    "        # TruncatedSVD is fast and can handle sparse inputs\n",
    "        # PCA requires dense inputs; MDS is slow\n",
    "        coordinates = TruncatedSVD(n_components=2).fit_transform(X)\n",
    "    else:\n",
    "        # Optionally handle 2-D inputs\n",
    "        coordinates = X\n",
    "    \n",
    "    # Set up figure\n",
    "    fig, ax = plt.subplots(figsize=(12,6))\n",
    "\n",
    "    # Unlabeled data\n",
    "    plt.subplot(121) # 1x2 plot, position 1\n",
    "    plt.scatter(\n",
    "        coordinates[:, 0], \n",
    "        coordinates[:, 1], \n",
    "        alpha=alpha, # Set transparency so that we can see overlapping points\n",
    "        linewidths=0 # Get rid of marker outlines\n",
    "    )\n",
    "    plt.title(\"Unclustered data\")\n",
    "\n",
    "    # Labeled data\n",
    "    plt.subplot(122)\n",
    "    sns.scatterplot(\n",
    "        x=coordinates[:, 0], \n",
    "        y=coordinates[:, 1],\n",
    "        hue=labels,\n",
    "        alpha=alpha,\n",
    "        palette='viridis',\n",
    "        linewidth=0\n",
    "    )\n",
    "    plt.title(title)\n",
    "    plt.show()"
   ]
  },
  {
   "cell_type": "code",
   "execution_count": 71,
   "id": "b14680e2-adc5-43af-93a7-d8bf375be1ec",
   "metadata": {},
   "outputs": [],
   "source": [
    "############## code from INFO 6350 problem set code ##############\n",
    "def pull_samples(texts, labels, n=3):\n",
    "    '''\n",
    "    Takes lists of texts and an array of labels, as well as number of samples to return per label.\n",
    "    Prints sample texts belonging to each label.\n",
    "    '''\n",
    "    texts_array = np.array(texts) # Make the input text list easily addressable by NumPy\n",
    "    for label in np.unique(labels): # Iterate over labels\n",
    "        print(\"Label:\", label)\n",
    "        sample_index = np.where(labels == label)[0] # Limit selection to current label\n",
    "        print(\"Number of texts in this cluster:\", len(sample_index), '\\n')\n",
    "        chosen = np.random.choice(sample_index, size=n) # Sample n texts with this label\n",
    "        for choice in chosen:\n",
    "            print(\"Sample text:\", choice)\n",
    "            # print(str(texts_array[choice]).split(\" 0\")[0], '\\n') # Print each sampled text\n",
    "            print(str(texts_array[choice])[1:80]) # Print each sampled text\n",
    "            print(\"fiscal year: \", texts.fiscal_year[choice])\n",
    "            print(\"company: \", texts.company[choice])\n",
    "            print(\"word count: \", texts.word_count[choice])\n",
    "            print(\"sector: \", texts.sector[choice])\n",
    "            print(texts.url[choice], '\\n')\n",
    "        print(\"###################################\")"
   ]
  },
  {
   "cell_type": "code",
   "execution_count": 72,
   "id": "7c115671-4163-47f0-b613-cd17632f4c9d",
   "metadata": {},
   "outputs": [
    {
     "name": "stdout",
     "output_type": "stream",
     "text": [
      "Label vector shape:  (304,)\n",
      "Using KMeans clustering with n=2 clusters; we are assuming that the clusters are detective and non-detective novels.\n"
     ]
    },
    {
     "data": {
      "image/png": "[encoded data removed]",
      "text/plain": [
       "<Figure size 864x432 with 2 Axes>"
      ]
     },
     "metadata": {
      "needs_background": "light"
     },
     "output_type": "display_data"
    }
   ],
   "source": [
    "y_kmeans = KMeans(n_clusters=2).fit_predict(X) # this output is the cluster labels\n",
    "\n",
    "# Print label vector shape\n",
    "print('Label vector shape: ', y_kmeans.shape)\n",
    "\n",
    "print(\"Using KMeans clustering with n=2 clusters; we are assuming that the clusters are detective and non-detective novels.\")\n",
    "\n",
    "# Plot results\n",
    "plot_compare(X, y_kmeans, 'k-Means (predicted) labels', reduce=True, alpha=0.8)"
   ]
  },
  {
   "cell_type": "code",
   "execution_count": 73,
   "id": "89f33bf5-ff38-488f-acbb-b29ea3701da6",
   "metadata": {},
   "outputs": [
    {
     "name": "stdout",
     "output_type": "stream",
     "text": [
      "Label: 0\n",
      "Number of texts in this cluster: 246 \n",
      "\n",
      "Sample text: 33\n",
      "35 1633917 'PYPL' 'PayPal Holdings, Inc. Common Stock' 2018\n",
      " \"item 1a. risk fac\n",
      "fiscal year:  2018\n",
      "company:  PayPal Holdings, Inc. Common Stock\n",
      "word count:  27347\n",
      "sector:  Technology Services\n",
      "https://www.sec.gov/Archives/edgar/data/1633917/000163391719000043/pypl201810-k.htm \n",
      "\n",
      "Sample text: 286\n",
      "307 718877 'ATVI' 'Activision Blizzard, Inc. Common Stock' 2016\n",
      " 'item 1a.    r\n",
      "fiscal year:  2016\n",
      "company:  Activision Blizzard, Inc. Common Stock\n",
      "word count:  13198\n",
      "sector:  Consumer Durables\n",
      "https://www.sec.gov/Archives/edgar/data/718877/000104746917001072/a2230993z10-k.htm \n",
      "\n",
      "Sample text: 196\n",
      "209 2488 'AMD' 'Advanced Micro Devices, Inc. Common Stock' 2018\n",
      " 'item 1a. risk\n",
      "fiscal year:  2018\n",
      "company:  Advanced Micro Devices, Inc. Common Stock\n",
      "word count:  14975\n",
      "sector:  Electronic Technology\n",
      "https://www.sec.gov/Archives/edgar/data/2488/000000248819000011/amd-12292018x10k.htm \n",
      "\n",
      "Sample text: 298\n",
      "319 900075 'CPRT' 'Copart, Inc. (DE) Common Stock' 2018\n",
      " 'item 1a.    risk fact\n",
      "fiscal year:  2018\n",
      "company:  Copart, Inc. (DE) Common Stock\n",
      "word count:  11271\n",
      "sector:  Commercial Services\n",
      "https://www.sec.gov/Archives/edgar/data/900075/000090007518000048/cprt07312018-10k.htm \n",
      "\n",
      "Sample text: 190\n",
      "202 1045810 'NVDA' 'NVIDIA Corporation Common Stock' 2017\n",
      " \"item 1a. risk facto\n",
      "fiscal year:  2017\n",
      "company:  NVIDIA Corporation Common Stock\n",
      "word count:  7761\n",
      "sector:  Electronic Technology\n",
      "https://www.sec.gov/Archives/edgar/data/1045810/000104581017000027/nvda-2017x10k.htm \n",
      "\n",
      "###################################\n",
      "Label: 1\n",
      "Number of texts in this cluster: 58 \n",
      "\n",
      "Sample text: 72\n",
      "74 1058290 'CTSH'\n",
      " 'Cognizant Technology Solutions Corporation Class A Common S\n",
      "fiscal year:  2018\n",
      "company:  Cognizant Technology Solutions Corporation Class A Common Stock\n",
      "word count:  29507\n",
      "sector:  Technology Services\n",
      "https://www.sec.gov/Archives/edgar/data/1058290/000105829019000009/ctsh20181231-10k.htm \n",
      "\n",
      "Sample text: 15\n",
      "15 277948 'CSX' 'CSX Corporation Common Stock' 2012\n",
      " 'item 1a. risk factors.oth\n",
      "fiscal year:  2012\n",
      "company:  CSX Corporation Common Stock\n",
      "word count:  46511\n",
      "sector:  Transportation\n",
      "https://www.sec.gov/Archives/edgar/data/277948/000027794813000008/csx-12282012x10k.htm \n",
      "\n",
      "Sample text: 119\n",
      "127 1397187 'LULU' 'lululemon athletica inc. Common Stock' 2013\n",
      " 'item 1a.\\n  r\n",
      "fiscal year:  2013\n",
      "company:  lululemon athletica inc. Common Stock\n",
      "word count:  36977\n",
      "sector:  Retail Trade\n",
      "https://www.sec.gov/Archives/edgar/data/1397187/000119312513118393/d475380d10k.htm \n",
      "\n",
      "Sample text: 164\n",
      "175 874716 'IDXX' 'IDEXX Laboratories, Inc. Common Stock' 2018\n",
      " 'item 1a. risk \n",
      "fiscal year:  2018\n",
      "company:  IDEXX Laboratories, Inc. Common Stock\n",
      "word count:  79274\n",
      "sector:  Health Technology\n",
      "https://www.sec.gov/Archives/edgar/data/874716/000087471619000004/idxx201810k.htm \n",
      "\n",
      "Sample text: 217\n",
      "230 723125 'MU' 'Micron Technology, Inc. Common Stock' 2014\n",
      " 'item 1a. risk fac\n",
      "fiscal year:  2014\n",
      "company:  Micron Technology, Inc. Common Stock\n",
      "word count:  68896\n",
      "sector:  Electronic Technology\n",
      "https://www.sec.gov/Archives/edgar/data/723125/000072312514000195/a2014q4.htm \n",
      "\n",
      "###################################\n"
     ]
    }
   ],
   "source": [
    "pull_samples(df, y_kmeans, 5)"
   ]
  },
  {
   "cell_type": "code",
   "execution_count": 74,
   "id": "72537cd7-5245-4fc5-9448-5f99901aab55",
   "metadata": {},
   "outputs": [
    {
     "data": {
      "text/plain": [
       "'https://www.sec.gov/Archives/edgar/data/277948/000027794813000008/csx-12282012x10k.htm'"
      ]
     },
     "execution_count": 74,
     "metadata": {},
     "output_type": "execute_result"
    }
   ],
   "source": [
    "df.url[15]"
   ]
  },
  {
   "cell_type": "markdown",
   "id": "9544ed48-0fbf-4ff8-8707-90af9526e405",
   "metadata": {},
   "source": [
    "### Q2: What are the most important features in the **risk sections** in the 10-k reports that can make predictions or classifications on the companies' stock prices?"
   ]
  },
  {
   "cell_type": "markdown",
   "id": "224be1e3-88f8-45cc-b512-f74a5bd96bc7",
   "metadata": {
    "tags": []
   },
   "source": [
    "### 2-1. Build a token-based classifier"
   ]
  },
  {
   "cell_type": "code",
   "execution_count": 75,
   "id": "0c432e3e-dcb5-455a-ad5d-223bdb4b8f59",
   "metadata": {},
   "outputs": [
    {
     "name": "stdout",
     "output_type": "stream",
     "text": [
      "Shape of the combined matrix with 300 selected features:  (304, 50)\n",
      "CPU times: user 21.9 s, sys: 167 ms, total: 22.1 s\n",
      "Wall time: 22.1 s\n"
     ]
    }
   ],
   "source": [
    "%%time\n",
    "# Select best features\n",
    "selector = SelectKBest(score_func=mutual_info_regression, k=50)\n",
    "\n",
    "# Print the shape of your new feature matrix\n",
    "X_top = selector.fit_transform(X, y_binary)\n",
    "print(\"Shape of the combined matrix with 300 selected features: \", X_top.shape)"
   ]
  },
  {
   "cell_type": "code",
   "execution_count": 76,
   "id": "67f51019-c085-4086-93aa-574d089a232b",
   "metadata": {},
   "outputs": [
    {
     "name": "stdout",
     "output_type": "stream",
     "text": [
      "Mean cross-validated accuracy scores: 0.5754838709677419\n"
     ]
    }
   ],
   "source": [
    "# Calculate a 10-fold cross-validated accuracy score using a logistic regression classifier on your selected feature data.\n",
    "# Cross-validate the logistic regression classifier on full input data\n",
    "print(\"Mean cross-validated accuracy scores:\", \n",
    "      np.mean(cross_val_score(LogisticRegression(), X_top, y_binary, scoring='accuracy', cv=10)))"
   ]
  },
  {
   "cell_type": "code",
   "execution_count": 77,
   "id": "fb1d4cab-3a83-4aa8-b75e-6104404d6b62",
   "metadata": {},
   "outputs": [
    {
     "name": "stderr",
     "output_type": "stream",
     "text": [
      "/Users/annzhou/opt/anaconda3/lib/python3.9/site-packages/sklearn/utils/deprecation.py:87: FutureWarning: Function get_feature_names is deprecated; get_feature_names is deprecated in 1.0 and will be removed in 1.2. Please use get_feature_names_out instead.\n",
      "  warnings.warn(msg, category=FutureWarning)\n"
     ]
    }
   ],
   "source": [
    "feature_names = vectorizer.get_feature_names()\n",
    "feature_names_ = [feature_names[i] for i in selector.get_support(indices=True)]"
   ]
  },
  {
   "cell_type": "code",
   "execution_count": 78,
   "id": "85cfc5b8-b921-4665-8a82-2431e33f24a2",
   "metadata": {},
   "outputs": [
    {
     "data": {
      "text/plain": [
       "['191',\n",
       " '20174',\n",
       " '31table',\n",
       " '534',\n",
       " 'akita',\n",
       " 'amea',\n",
       " 'arab',\n",
       " 'bargaining',\n",
       " 'biologics',\n",
       " 'cancelled',\n",
       " 'carryforwards',\n",
       " 'characters',\n",
       " 'coca',\n",
       " 'constrain',\n",
       " 'consult',\n",
       " 'corrupt',\n",
       " 'csf',\n",
       " 'dispensing',\n",
       " 'disproportionate',\n",
       " 'dry',\n",
       " 'everyone',\n",
       " 'extortion',\n",
       " 'fabless',\n",
       " 'footnotes',\n",
       " 'guide',\n",
       " 'illegally',\n",
       " 'importers',\n",
       " 'interfaces',\n",
       " 'king',\n",
       " 'label',\n",
       " 'landscape',\n",
       " 'mercexchange',\n",
       " 'methane',\n",
       " 'negotiations',\n",
       " 'outlooks',\n",
       " 'participated',\n",
       " 'piece',\n",
       " 'predictive',\n",
       " 'prevented',\n",
       " 'profile',\n",
       " 'renewables',\n",
       " 'reverse',\n",
       " 'rigorous',\n",
       " 'schemes',\n",
       " 'summarizes',\n",
       " 'threatened',\n",
       " 'transferable',\n",
       " 'translation',\n",
       " 'unenforceable',\n",
       " 'wyman']"
      ]
     },
     "execution_count": 78,
     "metadata": {},
     "output_type": "execute_result"
    }
   ],
   "source": [
    "feature_names_"
   ]
  },
  {
   "cell_type": "markdown",
   "id": "b1657c6c-be23-4e15-8fcd-0014c199cab6",
   "metadata": {
    "tags": []
   },
   "source": [
    "### 2-2. Build a word-embedding-based classifier"
   ]
  },
  {
   "cell_type": "code",
   "execution_count": 79,
   "id": "ebc3ba6d-1dc6-4fab-8df6-d63c9cc701b0",
   "metadata": {},
   "outputs": [],
   "source": [
    "def get_doc_embedding(doc, nlp):    \n",
    "    # remove_noninformative_tokens\n",
    "    tokens = nlp(doc)\n",
    "    culled = []\n",
    "    culled = [token for token in tokens if not (token.is_stop or token.is_punct or token.is_space) and token.has_vector]\n",
    "    '''\n",
    "    Takes two lists of spacy token objects.\n",
    "    Returns cosine similarity between their embedding representations.\n",
    "    '''\n",
    "    mean_vector_culled = np.mean([token.vector for token in culled], axis=0)\n",
    "       \n",
    "    return mean_vector_culled"
   ]
  },
  {
   "cell_type": "code",
   "execution_count": 80,
   "id": "61502c2b-4ab2-4649-9e3f-4ee03034a609",
   "metadata": {},
   "outputs": [],
   "source": [
    "nlp = spacy.load(\"en_core_web_lg\") # Note '_lg' = large model"
   ]
  },
  {
   "cell_type": "code",
   "execution_count": 81,
   "id": "1f694bd9-41d2-4578-9927-cef23622700c",
   "metadata": {},
   "outputs": [
    {
     "name": "stdout",
     "output_type": "stream",
     "text": [
      "CPU times: user 19min 1s, sys: 2min 20s, total: 21min 21s\n",
      "Wall time: 21min 34s\n"
     ]
    }
   ],
   "source": [
    "%%time\n",
    "X_embedding = []\n",
    "X_embedding = np.zeros((len(df.risk), nlp.vocab.vectors_length))\n",
    "\n",
    "for i, content in enumerate(df.risk):\n",
    "    X_embedding[i] = get_doc_embedding(content, nlp)  "
   ]
  },
  {
   "cell_type": "code",
   "execution_count": 82,
   "id": "6fdfe195-b7db-48d2-8781-033dcd829e65",
   "metadata": {},
   "outputs": [
    {
     "name": "stdout",
     "output_type": "stream",
     "text": [
      "Shape of embedding matrix:  (304, 300)\n"
     ]
    }
   ],
   "source": [
    "print(\"Shape of embedding matrix: \", X_embedding.shape)"
   ]
  },
  {
   "cell_type": "code",
   "execution_count": 83,
   "id": "89f3c4dc-7acc-4b1d-996b-dbf4416ec690",
   "metadata": {},
   "outputs": [],
   "source": [
    "# standard-scale feature matrix\n",
    "X_embedding = StandardScaler().fit_transform(X_embedding)"
   ]
  },
  {
   "cell_type": "code",
   "execution_count": 84,
   "id": "9ac6d3b9-c456-4ce5-8dfe-ff384f514488",
   "metadata": {
    "tags": []
   },
   "outputs": [
    {
     "name": "stdout",
     "output_type": "stream",
     "text": [
      "Mean cross-validated accuracy scores: 0.5623655913978494\n"
     ]
    }
   ],
   "source": [
    "# Calculate a 10-fold cross-validated accuracy score using a logistic regression classifier on your selected feature df.\n",
    "# Cross-validate the logistic regression classifier on full input data\n",
    "\n",
    "print(\"Mean cross-validated accuracy scores:\", \n",
    "      np.mean(cross_val_score(LogisticRegression(max_iter=500), X_embedding, y_binary, scoring='accuracy', cv=10)))"
   ]
  },
  {
   "cell_type": "markdown",
   "id": "2925c88d-e985-4d74-95b5-aff9eaf7b5ea",
   "metadata": {
    "tags": []
   },
   "source": [
    "### 2-3. Evaluate regression performance"
   ]
  },
  {
   "cell_type": "code",
   "execution_count": 85,
   "id": "c858f1ba-d985-48c1-8074-d3aa92fd72fb",
   "metadata": {},
   "outputs": [
    {
     "name": "stdout",
     "output_type": "stream",
     "text": [
      "Token-based Mean 10-fold cross-validated R^2: -95.504491032431\n"
     ]
    }
   ],
   "source": [
    "print(\"Token-based Mean 10-fold cross-validated R^2:\", \n",
    "      np.mean(cross_val_score(LinearRegression(), X_embedding, y_binary, scoring='r2', cv=10)))"
   ]
  },
  {
   "cell_type": "code",
   "execution_count": 86,
   "id": "fe360aeb-81bc-4b62-b7e4-c887899348ca",
   "metadata": {},
   "outputs": [
    {
     "name": "stdout",
     "output_type": "stream",
     "text": [
      "Embedding-based Mean 10-fold cross-validated R^2: -95.504491032431\n"
     ]
    }
   ],
   "source": [
    "print(\"Embedding-based Mean 10-fold cross-validated R^2:\", \n",
    "      np.mean(cross_val_score(LinearRegression(), X_embedding, y_binary, scoring='r2', cv=10)))"
   ]
  },
  {
   "cell_type": "markdown",
   "id": "86ce4580-07ef-453d-b0cf-fb8e9bc135cc",
   "metadata": {
    "tags": []
   },
   "source": [
    "### 2-4. Improve classification performance"
   ]
  },
  {
   "cell_type": "markdown",
   "id": "9132a4b0-c968-4ec2-aff7-733295452850",
   "metadata": {},
   "source": [
    "#### 2-4-1. Improve token-based classifier"
   ]
  },
  {
   "cell_type": "markdown",
   "id": "21a35ad5-d0d4-447c-8242-28d22c0dbd0d",
   "metadata": {},
   "source": [
    "##### Feature Engineering\n",
    "* Let's increase the number of features from 300 to 800"
   ]
  },
  {
   "cell_type": "code",
   "execution_count": 87,
   "id": "19300068-537e-43f8-8a27-451af2dd62c9",
   "metadata": {},
   "outputs": [],
   "source": [
    "selector_k = SelectKBest(score_func=mutual_info_regression, k=20)"
   ]
  },
  {
   "cell_type": "code",
   "execution_count": 88,
   "id": "3abccb20-4a98-4733-989e-a1f773f22e37",
   "metadata": {},
   "outputs": [
    {
     "name": "stdout",
     "output_type": "stream",
     "text": [
      "Shape of the matrix with 20 selected features:  (304, 20)\n"
     ]
    }
   ],
   "source": [
    "# Print the shape of your new feature matrix\n",
    "X_token_k = selector_k.fit_transform(X, y_binary)\n",
    "print(\"Shape of the matrix with 20 selected features: \", X_token_k.shape)"
   ]
  },
  {
   "cell_type": "code",
   "execution_count": 89,
   "id": "26314ad9-0ac7-4238-9cec-fef92c7fec30",
   "metadata": {},
   "outputs": [
    {
     "name": "stdout",
     "output_type": "stream",
     "text": [
      "Mean cross-validated accuracy scores: 0.5534408602150537\n"
     ]
    }
   ],
   "source": [
    "print(\"Mean cross-validated accuracy scores:\", \n",
    "      np.mean(cross_val_score(LogisticRegression(), X_token_k, y_binary, scoring='accuracy', cv=10)))"
   ]
  },
  {
   "cell_type": "code",
   "execution_count": 90,
   "id": "aeb8186d-fd5e-4f46-92d7-84e304a48979",
   "metadata": {},
   "outputs": [
    {
     "name": "stdout",
     "output_type": "stream",
     "text": [
      "Random Forest === Mean cross-validated accuracy scores: 0.6154838709677419\n",
      "CPU times: user 1.67 s, sys: 22.3 ms, total: 1.69 s\n",
      "Wall time: 1.14 s\n"
     ]
    }
   ],
   "source": [
    "%%time\n",
    "print(\"Random Forest === Mean cross-validated accuracy scores:\", \n",
    "      np.mean(cross_val_score(RandomForestClassifier(max_features=\"auto\"), X_token_k, y_binary, scoring='accuracy', cv=10)))"
   ]
  },
  {
   "cell_type": "code",
   "execution_count": 91,
   "id": "8329f9b0-ab4b-4657-8438-1b28101431fd",
   "metadata": {},
   "outputs": [
    {
     "name": "stdout",
     "output_type": "stream",
     "text": [
      "Decision Tree === Mean cross-validated accuracy scores: 0.6189247311827957\n",
      "CPU times: user 15.2 ms, sys: 1.65 ms, total: 16.9 ms\n",
      "Wall time: 15.8 ms\n"
     ]
    }
   ],
   "source": [
    "%%time\n",
    "print(\"Decision Tree === Mean cross-validated accuracy scores:\", \n",
    "      np.mean(cross_val_score(DecisionTreeClassifier(max_depth=100), X_token_k, y_binary, scoring='accuracy', cv=10)))"
   ]
  },
  {
   "cell_type": "markdown",
   "id": "8a1c4290-2343-4027-92c6-44a47c4d4399",
   "metadata": {},
   "source": [
    "#### 2-4-2. Improve embedding-token-based classifier"
   ]
  },
  {
   "cell_type": "markdown",
   "id": "e6417e12-8df6-45db-ab66-9d1e1f8eb8b8",
   "metadata": {},
   "source": [
    "##### Try SVM classifier\n",
    "* linear SVM \n",
    "* non-linear SVM"
   ]
  },
  {
   "cell_type": "code",
   "execution_count": 93,
   "id": "f5872e54-e96d-4709-8b26-1e4ccfc29cd9",
   "metadata": {},
   "outputs": [
    {
     "name": "stdout",
     "output_type": "stream",
     "text": [
      "Mean cross-validated accuracy scores: 0.5116129032258063\n",
      "CPU times: user 80.6 ms, sys: 3.27 ms, total: 83.8 ms\n",
      "Wall time: 86.6 ms\n"
     ]
    }
   ],
   "source": [
    "%%time\n",
    "print(\"Mean cross-validated accuracy scores:\", \n",
    "      np.mean(cross_val_score(SVC(), X_embedding, y_binary, scoring='accuracy', cv=10)))"
   ]
  },
  {
   "cell_type": "markdown",
   "id": "c4062227-eb72-490a-b0c7-25740fa4dd95",
   "metadata": {
    "tags": []
   },
   "source": [
    "### 2-5. Conclusion on Q2"
   ]
  },
  {
   "cell_type": "code",
   "execution_count": null,
   "id": "78eee20d-1bc0-4e39-85c7-8c2df0df10ee",
   "metadata": {},
   "outputs": [],
   "source": []
  },
  {
   "cell_type": "code",
   "execution_count": null,
   "id": "4e02ed25-ac5f-45d1-93f7-4cd1d65a6db8",
   "metadata": {},
   "outputs": [],
   "source": []
  },
  {
   "cell_type": "markdown",
   "id": "3b674695-29c2-4f76-a6a8-15681e0b068d",
   "metadata": {},
   "source": [
    "# Part 4: Results and Discussion"
   ]
  },
  {
   "cell_type": "code",
   "execution_count": null,
   "id": "1e6b5310-57c9-4c11-b2d1-7541ab4dd8a1",
   "metadata": {},
   "outputs": [],
   "source": []
  },
  {
   "cell_type": "code",
   "execution_count": null,
   "id": "b4696662-2b81-4589-bcf8-eb8750ffd8ba",
   "metadata": {},
   "outputs": [],
   "source": []
  },
  {
   "cell_type": "code",
   "execution_count": null,
   "id": "795da3a2-b307-4151-8101-33ebdc1e5c3a",
   "metadata": {},
   "outputs": [],
   "source": []
  },
  {
   "cell_type": "code",
   "execution_count": null,
   "id": "d59d4fff-7a69-4ad1-bca3-7d30dc067340",
   "metadata": {},
   "outputs": [],
   "source": []
  },
  {
   "cell_type": "code",
   "execution_count": null,
   "id": "140cde9a-b9b4-47f5-a526-7fef6140abab",
   "metadata": {},
   "outputs": [],
   "source": []
  },
  {
   "cell_type": "markdown",
   "id": "0f4e1d30-554b-48ee-a100-12ebec127afa",
   "metadata": {},
   "source": [
    "# Part 5: Reflection"
   ]
  },
  {
   "cell_type": "markdown",
   "id": "e847623f-5e0d-453f-a6a6-3f79f340fbd5",
   "metadata": {},
   "source": [
    "# Part 6: References"
   ]
  },
  {
   "cell_type": "markdown",
   "id": "9a2dd98c-4390-46fb-ab4c-0958e505998b",
   "metadata": {},
   "source": [
    "* https://stackoverflow.com/questions/48687857/python-json-list-to-pandas-dataframe\n",
    "\n",
    "* https://www.youtube.com/watch?v=fw4gK-leExw&ab_channel=IzzyAnalytics"
   ]
  },
  {
   "cell_type": "markdown",
   "id": "02231ca4-0f3e-4db5-88a7-7045e06d2469",
   "metadata": {},
   "source": [
    "# Part 7: Responsibility Statement"
   ]
  },
  {
   "cell_type": "markdown",
   "id": "35cb5965-c844-409e-88f1-05c6f7ffc7a1",
   "metadata": {},
   "source": [
    "I completed this project on my own. "
   ]
  }
 ],
 "metadata": {
  "kernelspec": {
   "display_name": "Python 3 (ipykernel)",
   "language": "python",
   "name": "python3"
  },
  "language_info": {
   "codemirror_mode": {
    "name": "ipython",
    "version": 3
   },
   "file_extension": ".py",
   "mimetype": "text/x-python",
   "name": "python",
   "nbconvert_exporter": "python",
   "pygments_lexer": "ipython3",
   "version": "3.9.7"
  }
 },
 "nbformat": 4,
 "nbformat_minor": 5
}
