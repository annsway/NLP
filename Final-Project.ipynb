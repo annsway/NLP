{
 "cells": [
  {
   "cell_type": "markdown",
   "id": "612fc418-cd31-4623-8f25-289f5cc5036d",
   "metadata": {},
   "source": [
    "# Final Project for INFO 6350\n",
    "## Net ID: yz2685"
   ]
  },
  {
   "cell_type": "code",
   "execution_count": 1,
   "id": "55973c51-65a9-4f7c-a387-f5a05648497c",
   "metadata": {},
   "outputs": [],
   "source": [
    "# import our libraries\n",
    "import requests\n",
    "import urllib\n",
    "from bs4 import BeautifulSoup\n",
    "import simplejson as json\n",
    "from urllib.request import Request, urlopen\n",
    "from fake_useragent import UserAgent"
   ]
  },
  {
   "cell_type": "code",
   "execution_count": 2,
   "id": "e76d60a5-27d4-49e9-a6f7-f75b52d4bd37",
   "metadata": {
    "tags": []
   },
   "outputs": [],
   "source": [
    "# define the base url needed to create the file url.\n",
    "base_url = r\"https://www.sec.gov\"\n",
    "\n",
    "header = {\n",
    "    'User-Agent': 'Mozilla/5.0 (Macintosh; Intel Mac OS X 10_15_7) AppleWebKit/537.36 (KHTML, like Gecko) Chrome/101.0.4951.54 Safari/537.36'\n",
    "}\n",
    "# content = requests.get(documents_url, headers=header)\n",
    "# print(content)"
   ]
  },
  {
   "cell_type": "markdown",
   "id": "4349473c-3242-47e3-8738-aea5979c5df2",
   "metadata": {
    "tags": []
   },
   "source": [
    "# Grabbing the Financial Statements"
   ]
  },
  {
   "cell_type": "code",
   "execution_count": 3,
   "id": "bc96ee11-17b8-4910-9e86-a09a003534b1",
   "metadata": {},
   "outputs": [],
   "source": [
    "# create the list to hold the statement urls\n",
    "statements_url = []\n",
    "\n",
    "for report_dict in master_reports:\n",
    "    \n",
    "    # define the statements we want to look for.\n",
    "    item1 = r\"Consolidated Balance Sheets\"\n",
    "    item2 = r\"Consolidated Statements of Operations and Comprehensive Income (Loss)\"\n",
    "    item3 = r\"Consolidated Statements of Cash Flows\"\n",
    "    item4 = r\"Consolidated Statements of Stockholder's (Deficit) Equity\"\n",
    "    \n",
    "    # store them in a list.\n",
    "    report_list = [item1, item2, item3, item4]\n",
    "    \n",
    "    # if the short name can be found in the report list.\n",
    "    if report_dict['name_short'] in report_list:\n",
    "        \n",
    "        # print some info and store it in the statements url.\n",
    "        print('-'*100)\n",
    "        print(report_dict['name_short'])\n",
    "        print(report_dict['url'])\n",
    "        \n",
    "        statements_url.append(report_dict['url'])"
   ]
  },
  {
   "cell_type": "markdown",
   "id": "0297d2b2-3106-4750-b5cf-959a67cd96da",
   "metadata": {},
   "source": [
    "# Scraping the SEC Query Page"
   ]
  },
  {
   "cell_type": "code",
   "execution_count": 4,
   "id": "af17fe3a-24f6-480d-a9ea-742edf293d64",
   "metadata": {},
   "outputs": [
    {
     "name": "stdout",
     "output_type": "stream",
     "text": [
      "Request Successful\n",
      "https://www.sec.gov/cgi-bin/browse-edgar?action=getcompany&CIK=1018724&type=10-k&dateb=20230101&owner=exclude&start=&output=&count=100\n"
     ]
    }
   ],
   "source": [
    "# base URL for the SEC EDGAR browser\n",
    "endpoint = r\"https://www.sec.gov/cgi-bin/browse-edgar\"\n",
    "\n",
    "# define our parameters dictionary\n",
    "param_dict = {'action':'getcompany',\n",
    "              # 'CIK':'1318605', # Tesla\n",
    "              # 'CIK':'320193', # Apple\n",
    "              'CIK':'1018724', # Amazon\n",
    "              'type':'10-k',\n",
    "              'dateb':'20230101',\n",
    "              'owner':'exclude',\n",
    "              'start':'',\n",
    "              'output':'',\n",
    "              'count':'100'}\n",
    "\n",
    "# request the url, and then parse the response.\n",
    "response = requests.get(url = endpoint, params = param_dict, headers=header)\n",
    "# response = requests.get(url = endpoint, params = param_dict)\n",
    "soup = BeautifulSoup(response.content, 'html.parser')\n",
    "\n",
    "# Let the user know it was successful.\n",
    "print('Request Successful')\n",
    "print(response.url)"
   ]
  },
  {
   "cell_type": "code",
   "execution_count": 5,
   "id": "598501f5-968f-47b5-8b57-8258c17ab388",
   "metadata": {},
   "outputs": [],
   "source": [
    "doc_table = soup.find_all(class_ = \"blueRow\")\n",
    "# print(doc_table)"
   ]
  },
  {
   "cell_type": "code",
   "execution_count": 6,
   "id": "5d2c276f-1495-4a15-95e2-20638c59c0c6",
   "metadata": {},
   "outputs": [
    {
     "name": "stdout",
     "output_type": "stream",
     "text": [
      "https://www.sec.gov/Archives/edgar/data/1018724/000101872421000004/0001018724-21-000004-index.htm\n",
      "https://www.sec.gov/Archives/edgar/data/1018724/000101872419000004/0001018724-19-000004-index.htm\n",
      "https://www.sec.gov/Archives/edgar/data/1018724/000101872417000011/0001018724-17-000011-index.htm\n",
      "https://www.sec.gov/Archives/edgar/data/1018724/000101872415000006/0001018724-15-000006-index.htm\n",
      "https://www.sec.gov/Archives/edgar/data/1018724/000119312513028520/0001193125-13-028520-index.htm\n",
      "https://www.sec.gov/Archives/edgar/data/1018724/000119312511050136/0001193125-11-050136-index.htm\n",
      "https://www.sec.gov/Archives/edgar/data/1018724/000119312510016098/0001193125-10-016098-index.htm\n",
      "https://www.sec.gov/Archives/edgar/data/1018724/000119312508024707/0001193125-08-024707-index.htm\n",
      "https://www.sec.gov/Archives/edgar/data/1018724/000119312506034166/0001193125-06-034166-index.htm\n",
      "https://www.sec.gov/Archives/edgar/data/1018724/000119312504029488/0001193125-04-029488-index.htm\n",
      "https://www.sec.gov/Archives/edgar/data/1018724/000103221002000059/0001032210-02-000059-index.htm\n",
      "https://www.sec.gov/Archives/edgar/data/1018724/000089102000001638/0000891020-00-001638-index.htm\n",
      "https://www.sec.gov/Archives/edgar/data/1018724/0000891020-99-000375-index.html\n"
     ]
    }
   ],
   "source": [
    "data = soup.find_all(class_='blueRow')\n",
    "\n",
    "list_10k = []\n",
    "\n",
    "for i, row in enumerate(data): \n",
    "    for a in data[i].find_all('a', href=True):\n",
    "        url = a['href']\n",
    "        if (url.startswith('/Archives/edgar/')):\n",
    "            list_10k.append(\"https://www.sec.gov\"+ url)\n",
    "            print(\"https://www.sec.gov\"+ url)"
   ]
  },
  {
   "cell_type": "markdown",
   "id": "1d9dc7f8-eef8-4d8e-806f-cd44f85b0b9a",
   "metadata": {},
   "source": [
    "# Scraping Company Page"
   ]
  },
  {
   "cell_type": "code",
   "execution_count": 7,
   "id": "5c12e346-7045-4021-94c6-85063d5e4100",
   "metadata": {},
   "outputs": [],
   "source": [
    "# get the links to the 10k reports \n",
    "\n",
    "def get10kPages(url):\n",
    "    response = requests.get(url = url, headers=header)\n",
    "    soup10k = BeautifulSoup(response.content, 'html.parser')\n",
    "    # print(response)\n",
    "    # print(response.url)\n",
    "    return response.url"
   ]
  },
  {
   "cell_type": "code",
   "execution_count": 8,
   "id": "75629910-4d55-42d2-9c3c-37589c8998b6",
   "metadata": {},
   "outputs": [
    {
     "name": "stdout",
     "output_type": "stream",
     "text": [
      "['https://www.sec.gov/Archives/edgar/data/1018724/000101872421000004/0001018724-21-000004-index.htm', 'https://www.sec.gov/Archives/edgar/data/1018724/000101872419000004/0001018724-19-000004-index.htm', 'https://www.sec.gov/Archives/edgar/data/1018724/000101872417000011/0001018724-17-000011-index.htm', 'https://www.sec.gov/Archives/edgar/data/1018724/000101872415000006/0001018724-15-000006-index.htm', 'https://www.sec.gov/Archives/edgar/data/1018724/000119312513028520/0001193125-13-028520-index.htm', 'https://www.sec.gov/Archives/edgar/data/1018724/000119312511050136/0001193125-11-050136-index.htm', 'https://www.sec.gov/Archives/edgar/data/1018724/000119312510016098/0001193125-10-016098-index.htm', 'https://www.sec.gov/Archives/edgar/data/1018724/000119312508024707/0001193125-08-024707-index.htm', 'https://www.sec.gov/Archives/edgar/data/1018724/000119312506034166/0001193125-06-034166-index.htm', 'https://www.sec.gov/Archives/edgar/data/1018724/000119312504029488/0001193125-04-029488-index.htm', 'https://www.sec.gov/Archives/edgar/data/1018724/000103221002000059/0001032210-02-000059-index.htm', 'https://www.sec.gov/Archives/edgar/data/1018724/000089102000001638/0000891020-00-001638-index.htm', 'https://www.sec.gov/Archives/edgar/data/1018724/0000891020-99-000375-index.html']\n"
     ]
    }
   ],
   "source": [
    "list_of_links = []\n",
    "for link in list_10k:\n",
    "    list_of_links.append(get10kPages(link))\n",
    "print(list_of_links)"
   ]
  },
  {
   "cell_type": "code",
   "execution_count": 9,
   "id": "3adcfdba-9161-4cc6-acd7-98e5382063a9",
   "metadata": {},
   "outputs": [],
   "source": [
    "# get the url for 10k report \n",
    "list_of_10ks = []\n",
    "\n",
    "def get10kLinks(url):\n",
    "    response = requests.get(url = url, headers=header)\n",
    "    soup = BeautifulSoup(response.content, 'html.parser')\n",
    "    # for a in soup.find_all('a', href=True):\n",
    "        # url = a['href']\n",
    "        # print(url)\n",
    "        \n",
    "    suffix = \"htm\";\n",
    "\n",
    "    tables = soup.find('table')\n",
    "    rows = tables.find_all('tr')\n",
    "    if len(rows) > 0:\n",
    "        row10k = rows[1] # row 1 has link to 10k report\n",
    "        # print(row10k)\n",
    "        for a in row10k.find_all('a', href=True):\n",
    "            url = a['href']\n",
    "            if url.endswith(suffix):\n",
    "                list_of_10ks.append(\"https://www.sec.gov\"+ url)\n",
    "                print(\"https://www.sec.gov\"+ url)"
   ]
  },
  {
   "cell_type": "code",
   "execution_count": 10,
   "id": "3aa47b3b-bff3-4c10-930d-54a7e9121f0d",
   "metadata": {},
   "outputs": [
    {
     "name": "stdout",
     "output_type": "stream",
     "text": [
      "https://www.sec.gov/ix?doc=/Archives/edgar/data/1018724/000101872421000004/amzn-20201231.htm\n",
      "https://www.sec.gov/Archives/edgar/data/1018724/000101872419000004/amzn-20181231x10k.htm\n",
      "https://www.sec.gov/Archives/edgar/data/1018724/000101872417000011/amzn-20161231x10k.htm\n",
      "https://www.sec.gov/Archives/edgar/data/1018724/000101872415000006/amzn-20141231x10k.htm\n",
      "https://www.sec.gov/Archives/edgar/data/1018724/000119312513028520/d445434d10k.htm\n",
      "https://www.sec.gov/Archives/edgar/data/1018724/000119312511050136/d10ka.htm\n",
      "https://www.sec.gov/Archives/edgar/data/1018724/000119312510016098/d10k.htm\n",
      "https://www.sec.gov/Archives/edgar/data/1018724/000119312508024707/d10k.htm\n",
      "https://www.sec.gov/Archives/edgar/data/1018724/000119312506034166/d10k.htm\n",
      "https://www.sec.gov/Archives/edgar/data/1018724/000119312504029488/d10k.htm\n",
      "https://www.sec.gov/Archives/edgar/data/1018724/000103221002000059/d10k405.htm\n"
     ]
    }
   ],
   "source": [
    "for url in list_of_links:\n",
    "    get10kLinks(url)\n",
    "    \n",
    "# list_of_10ks"
   ]
  },
  {
   "cell_type": "code",
   "execution_count": 79,
   "id": "e3e84185-e1dd-4046-8577-e4c484953d2e",
   "metadata": {},
   "outputs": [],
   "source": [
    "from selenium import webdriver\n",
    "\n",
    "driver = webdriver.Firefox()"
   ]
  },
  {
   "cell_type": "code",
   "execution_count": 12,
   "id": "5c007ee0-0686-4a09-b807-dd3c300a9cb1",
   "metadata": {},
   "outputs": [],
   "source": [
    "def find_nth(haystack, needle, n):\n",
    "    start = haystack.find(needle)\n",
    "    while start >= 0 and n > 1:\n",
    "        start = haystack.find(needle, start+len(needle))\n",
    "        n -= 1\n",
    "    return start"
   ]
  },
  {
   "cell_type": "code",
   "execution_count": 82,
   "id": "538bc2c8-d020-4062-89f8-b3018d0c4fdd",
   "metadata": {},
   "outputs": [],
   "source": [
    "# create a function that will scrap the 10k report \n",
    "# import chromedriver_binary  # Adds chromedriver binary to path\n",
    "import time\n",
    "import re\n",
    "\n",
    "data = []\n",
    "y_labal = []\n",
    "\n",
    "def scrap10k(url):\n",
    "    driver.get(url)\n",
    "\n",
    "    time.sleep(3) # give browser some time to load the js \n",
    "\n",
    "    html = driver.page_source\n",
    "    sp = BeautifulSoup(html)\n",
    "    \n",
    "    text = \"\"\n",
    "    for d in sp.find_all(text=True):\n",
    "        text += d.get_text()\n",
    "    \n",
    "    # cleaning \n",
    "    # print(text)\n",
    "    text = text.replace(u'\\xa0', u' ').lower()\n",
    "\n",
    "    # extract y_label - net profit margin ratio = (total net sales - cost of sales) / total net sales\n",
    "    tds = []\n",
    "    for td in sp.find_all(\"td\"):\n",
    "        tds.append(td.text)\n",
    "                \n",
    "            \n",
    "    eps = \"\"\n",
    "    for i, word in enumerate(tds):\n",
    "        if \"earnings per share\" in word.lower():\n",
    "            # print(i) # i: the index of first eps\n",
    "            for j, word in enumerate(tds[i:]):\n",
    "                word = word.replace(u'\\xa0', u' ').lower()\n",
    "                sign = 1\n",
    "                if word.find(\"(\") != -1:\n",
    "                    sign = -1\n",
    "                eps = re.findall('\\d+\\.*\\d+', word) * sign\n",
    "                if len(eps) > 0:\n",
    "                    print(eps[0])\n",
    "                    break\n",
    "            break\n",
    "    \n",
    "    \n",
    "    # extract risk factor sections only\n",
    "    print(url)\n",
    "    start = find_nth(text, \"item 1a.\", 2)\n",
    "    print(\"start index\", start)\n",
    "    end = find_nth(text, \"item 1b.\", 2)\n",
    "    print(\"end index\", end)\n",
    "    substring = text[start:end]\n",
    "    if len(substring) > 0:\n",
    "        data.append(substring)\n",
    "        data.append(eps[0])\n",
    "    "
   ]
  },
  {
   "cell_type": "code",
   "execution_count": 70,
   "id": "d027d968-ed67-4871-9f33-b30ad823c762",
   "metadata": {},
   "outputs": [],
   "source": [
    "# test \n",
    "# scrap10k(list_of_10ks[0])"
   ]
  },
  {
   "cell_type": "code",
   "execution_count": 83,
   "id": "f7f3cf11-6c67-47dc-a4c4-3967dbd0d074",
   "metadata": {},
   "outputs": [
    {
     "name": "stdout",
     "output_type": "stream",
     "text": [
      "5.01\n",
      "https://www.sec.gov/ix?doc=/Archives/edgar/data/1018724/000101872421000004/amzn-20201231.htm\n",
      "start index 50652\n",
      "end index 100536\n",
      "1.28\n",
      "https://www.sec.gov/Archives/edgar/data/1018724/000101872419000004/amzn-20181231x10k.htm\n",
      "start index 17482\n",
      "end index 61930\n",
      "0.60\n",
      "https://www.sec.gov/Archives/edgar/data/1018724/000101872417000011/amzn-20161231x10k.htm\n",
      "start index 17544\n",
      "end index 61696\n",
      "0.60\n",
      "https://www.sec.gov/Archives/edgar/data/1018724/000101872415000006/amzn-20141231x10k.htm\n",
      "start index 16615\n",
      "end index 59674\n",
      "1.39\n",
      "https://www.sec.gov/Archives/edgar/data/1018724/000119312513028520/d445434d10k.htm\n",
      "start index 16301\n",
      "end index 56333\n",
      "https://www.sec.gov/Archives/edgar/data/1018724/000119312511050136/d10ka.htm\n",
      "start index -1\n",
      "end index -1\n",
      "2.08\n",
      "https://www.sec.gov/Archives/edgar/data/1018724/000119312510016098/d10k.htm\n",
      "start index 17060\n",
      "end index 55919\n",
      "1.15\n",
      "https://www.sec.gov/Archives/edgar/data/1018724/000119312508024707/d10k.htm\n",
      "start index 25571\n",
      "end index 65356\n",
      "0.77\n",
      "https://www.sec.gov/Archives/edgar/data/1018724/000119312506034166/d10k.htm\n",
      "start index 25091\n",
      "end index 75021\n",
      "0.65\n",
      "https://www.sec.gov/Archives/edgar/data/1018724/000119312504029488/d10k.htm\n",
      "start index -1\n",
      "end index -1\n",
      "https://www.sec.gov/Archives/edgar/data/1018724/000103221002000059/d10k405.htm\n",
      "start index -1\n",
      "end index -1\n",
      "CPU times: user 9.98 s, sys: 230 ms, total: 10.2 s\n",
      "Wall time: 47 s\n"
     ]
    }
   ],
   "source": [
    "%%time\n",
    "for report in list_of_10ks:\n",
    "    scrap10k(report)"
   ]
  },
  {
   "cell_type": "code",
   "execution_count": null,
   "id": "fa9f3a2c-e971-4604-a341-734b039e6818",
   "metadata": {},
   "outputs": [
    {
     "data": {
      "text/plain": [
       "16"
      ]
     },
     "execution_count": 73,
     "metadata": {},
     "output_type": "execute_result"
    }
   ],
   "source": [
    "len(data)"
   ]
  },
  {
   "cell_type": "code",
   "execution_count": 24,
   "id": "fbf968ad-7cb2-4f6a-b2d7-ea4de4dce2d3",
   "metadata": {},
   "outputs": [],
   "source": [
    "data[7]"
   ]
  },
  {
   "cell_type": "markdown",
   "id": "9ca7e012-c449-46e5-985c-f247756ef6e7",
   "metadata": {},
   "source": [
    "# Analysis"
   ]
  },
  {
   "cell_type": "code",
   "execution_count": 17,
   "id": "5876c91a-f354-492b-93ea-b7bf28ca8f52",
   "metadata": {},
   "outputs": [],
   "source": [
    "# import unicodedata\n",
    "\n",
    "# text = unicodedata.normalize('NFKD', text.replace(\"\\'\", \"'\").replace(\"\\ in\\ form\", \" inform\").replace(\"\\n\", \" \").lower().strip())"
   ]
  },
  {
   "cell_type": "code",
   "execution_count": 18,
   "id": "e14ccb73-f5aa-4ec8-bda8-7f1b9a733d50",
   "metadata": {},
   "outputs": [],
   "source": [
    "# print(text)\n",
    "# dev_docs = [doc for doc in text.split('\\n')] "
   ]
  },
  {
   "cell_type": "code",
   "execution_count": 19,
   "id": "5017bad0-3ee7-4af5-8707-52b39f4c85ef",
   "metadata": {},
   "outputs": [],
   "source": [
    "# from   sklearn.feature_extraction.text import TfidfVectorizer\n",
    "# from   nltk.corpus import stopwords\n",
    "# import string\n",
    "\n",
    "# # Making stopwords list\n",
    "# stoplist = stopwords.words('english')\n",
    "# for el in [i for i in string.punctuation]:\n",
    "#     stoplist.append(el)\n",
    "\n",
    "# # Set up vectorizer\n",
    "# vectorizer = TfidfVectorizer(\n",
    "#     encoding='utf-8',\n",
    "#     min_df=1, # include words that occur in as few as a single document, 1 = a single document\n",
    "#     max_df=1.0, # include words that occur in as many as all documents, 1.0 = 100% = all documents\n",
    "#      binary=False,\n",
    "#     norm='l2',\n",
    "#     stop_words = stoplist,\n",
    "#     use_idf=True\n",
    "# )\n",
    "\n",
    "# X = vectorizer.fit_transform(dev_docs)"
   ]
  },
  {
   "cell_type": "code",
   "execution_count": 20,
   "id": "5759c23d-d355-4f57-a2c9-653ee13a39dd",
   "metadata": {},
   "outputs": [],
   "source": [
    "# print(X.shape)"
   ]
  },
  {
   "cell_type": "code",
   "execution_count": 21,
   "id": "c8f0756e-fd23-448a-b96a-0b72c7689a03",
   "metadata": {},
   "outputs": [],
   "source": [
    "# print(X)"
   ]
  },
  {
   "cell_type": "code",
   "execution_count": null,
   "id": "78eee20d-1bc0-4e39-85c7-8c2df0df10ee",
   "metadata": {},
   "outputs": [],
   "source": []
  },
  {
   "cell_type": "code",
   "execution_count": null,
   "id": "ff4035e7-6423-4913-af9c-8f3354fc5d25",
   "metadata": {},
   "outputs": [],
   "source": []
  },
  {
   "cell_type": "code",
   "execution_count": null,
   "id": "ab24f1ed-aa87-4643-a60c-9dfdd411f9d0",
   "metadata": {},
   "outputs": [],
   "source": []
  },
  {
   "cell_type": "markdown",
   "id": "507fb132-104d-40d9-8688-acc352dcc613",
   "metadata": {},
   "source": [
    "# References\n",
    "\n",
    "https://stackoverflow.com/questions/1883980/find-the-nth-occurrence-of-substring-in-a-string"
   ]
  }
 ],
 "metadata": {
  "kernelspec": {
   "display_name": "Python 3 (ipykernel)",
   "language": "python",
   "name": "python3"
  },
  "language_info": {
   "codemirror_mode": {
    "name": "ipython",
    "version": 3
   },
   "file_extension": ".py",
   "mimetype": "text/x-python",
   "name": "python",
   "nbconvert_exporter": "python",
   "pygments_lexer": "ipython3",
   "version": "3.9.7"
  }
 },
 "nbformat": 4,
 "nbformat_minor": 5
}
