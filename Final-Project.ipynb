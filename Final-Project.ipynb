{
 "cells": [
  {
   "cell_type": "markdown",
   "id": "612fc418-cd31-4623-8f25-289f5cc5036d",
   "metadata": {},
   "source": [
    "# Final Project for INFO 6350\n",
    "## Net ID: yz2685"
   ]
  },
  {
   "cell_type": "code",
   "execution_count": 1,
   "id": "55973c51-65a9-4f7c-a387-f5a05648497c",
   "metadata": {},
   "outputs": [],
   "source": [
    "# import our libraries\n",
    "import requests\n",
    "import urllib\n",
    "from bs4 import BeautifulSoup\n",
    "import simplejson as json\n",
    "from urllib.request import Request, urlopen\n",
    "from fake_useragent import UserAgent"
   ]
  },
  {
   "cell_type": "code",
   "execution_count": 2,
   "id": "e76d60a5-27d4-49e9-a6f7-f75b52d4bd37",
   "metadata": {
    "tags": []
   },
   "outputs": [
    {
     "name": "stdout",
     "output_type": "stream",
     "text": [
      "<Response [200]>\n",
      "----------------------------------------------------------------------------------------------------\n",
      "File Name: FilingSummary.xml\n",
      "File Path: https://www.sec.gov/Archives/edgar/data/1265107/000126510719000004/FilingSummary.xml\n"
     ]
    }
   ],
   "source": [
    "# define the base url needed to create the file url.\n",
    "base_url = r\"https://www.sec.gov\"\n",
    "\n",
    "header = {\n",
    "    'User-Agent': 'Mozilla/5.0 (Macintosh; Intel Mac OS X 10_15_7) AppleWebKit/537.36 (KHTML, like Gecko) Chrome/101.0.4951.54 Safari/537.36'\n",
    "}\n",
    "# content = requests.get(documents_url, headers=header)\n",
    "# print(content)"
   ]
  },
  {
   "cell_type": "markdown",
   "id": "4349473c-3242-47e3-8738-aea5979c5df2",
   "metadata": {
    "jp-MarkdownHeadingCollapsed": true,
    "tags": []
   },
   "source": [
    "# Grabbing the Financial Statements"
   ]
  },
  {
   "cell_type": "code",
   "execution_count": 6,
   "id": "bc96ee11-17b8-4910-9e86-a09a003534b1",
   "metadata": {},
   "outputs": [
    {
     "name": "stdout",
     "output_type": "stream",
     "text": [
      "----------------------------------------------------------------------------------------------------\n",
      "Consolidated Balance Sheets\n",
      "https://www.sec.gov/Archives/edgar/data/1265107/000126510719000004/R2.htm\n",
      "----------------------------------------------------------------------------------------------------\n",
      "Consolidated Statements of Operations and Comprehensive Income (Loss)\n",
      "https://www.sec.gov/Archives/edgar/data/1265107/000126510719000004/R4.htm\n",
      "----------------------------------------------------------------------------------------------------\n",
      "Consolidated Statements of Cash Flows\n",
      "https://www.sec.gov/Archives/edgar/data/1265107/000126510719000004/R5.htm\n",
      "----------------------------------------------------------------------------------------------------\n",
      "Consolidated Statements of Stockholder's (Deficit) Equity\n",
      "https://www.sec.gov/Archives/edgar/data/1265107/000126510719000004/R6.htm\n"
     ]
    }
   ],
   "source": [
    "# create the list to hold the statement urls\n",
    "statements_url = []\n",
    "\n",
    "for report_dict in master_reports:\n",
    "    \n",
    "    # define the statements we want to look for.\n",
    "    item1 = r\"Consolidated Balance Sheets\"\n",
    "    item2 = r\"Consolidated Statements of Operations and Comprehensive Income (Loss)\"\n",
    "    item3 = r\"Consolidated Statements of Cash Flows\"\n",
    "    item4 = r\"Consolidated Statements of Stockholder's (Deficit) Equity\"\n",
    "    \n",
    "    # store them in a list.\n",
    "    report_list = [item1, item2, item3, item4]\n",
    "    \n",
    "    # if the short name can be found in the report list.\n",
    "    if report_dict['name_short'] in report_list:\n",
    "        \n",
    "        # print some info and store it in the statements url.\n",
    "        print('-'*100)\n",
    "        print(report_dict['name_short'])\n",
    "        print(report_dict['url'])\n",
    "        \n",
    "        statements_url.append(report_dict['url'])"
   ]
  },
  {
   "cell_type": "markdown",
   "id": "0297d2b2-3106-4750-b5cf-959a67cd96da",
   "metadata": {},
   "source": [
    "# Scraping the SEC Query Page"
   ]
  },
  {
   "cell_type": "code",
   "execution_count": 7,
   "id": "af17fe3a-24f6-480d-a9ea-742edf293d64",
   "metadata": {},
   "outputs": [
    {
     "name": "stdout",
     "output_type": "stream",
     "text": [
      "Request Successful\n",
      "https://www.sec.gov/cgi-bin/browse-edgar?action=getcompany&CIK=1318605&type=10-k&dateb=20230101&owner=exclude&start=&output=&count=100\n"
     ]
    }
   ],
   "source": [
    "# base URL for the SEC EDGAR browser\n",
    "endpoint = r\"https://www.sec.gov/cgi-bin/browse-edgar\"\n",
    "\n",
    "# define our parameters dictionary\n",
    "param_dict = {'action':'getcompany',\n",
    "              'CIK':'1318605',\n",
    "              'type':'10-k',\n",
    "              'dateb':'20230101',\n",
    "              'owner':'exclude',\n",
    "              'start':'',\n",
    "              'output':'',\n",
    "              'count':'100'}\n",
    "\n",
    "# request the url, and then parse the response.\n",
    "response = requests.get(url = endpoint, params = param_dict, headers=header)\n",
    "# response = requests.get(url = endpoint, params = param_dict)\n",
    "soup = BeautifulSoup(response.content, 'html.parser')\n",
    "\n",
    "# Let the user know it was successful.\n",
    "print('Request Successful')\n",
    "print(response.url)"
   ]
  },
  {
   "cell_type": "code",
   "execution_count": 8,
   "id": "598501f5-968f-47b5-8b57-8258c17ab388",
   "metadata": {},
   "outputs": [],
   "source": [
    "doc_table = soup.find_all(class_ = \"blueRow\")\n",
    "# print(doc_table)"
   ]
  },
  {
   "cell_type": "code",
   "execution_count": 9,
   "id": "5d2c276f-1495-4a15-95e2-20638c59c0c6",
   "metadata": {},
   "outputs": [
    {
     "name": "stdout",
     "output_type": "stream",
     "text": [
      "https://www.sec.gov/Archives/edgar/data/1318605/000095017022000796/0000950170-22-000796-index.htm\n",
      "https://www.sec.gov/Archives/edgar/data/1318605/000156459021004599/0001564590-21-004599-index.htm\n",
      "https://www.sec.gov/Archives/edgar/data/1318605/000156459020004475/0001564590-20-004475-index.htm\n",
      "https://www.sec.gov/Archives/edgar/data/1318605/000156459018002956/0001564590-18-002956-index.htm\n",
      "https://www.sec.gov/Archives/edgar/data/1318605/000156459016013195/0001564590-16-013195-index.htm\n",
      "https://www.sec.gov/Archives/edgar/data/1318605/000119312514069681/0001193125-14-069681-index.htm\n",
      "https://www.sec.gov/Archives/edgar/data/1318605/000119312512137560/0001193125-12-137560-index.htm\n",
      "https://www.sec.gov/Archives/edgar/data/1318605/000119312511054847/0001193125-11-054847-index.htm\n"
     ]
    }
   ],
   "source": [
    "data = soup.find_all(class_='blueRow')\n",
    "\n",
    "list_10k = []\n",
    "\n",
    "for i, row in enumerate(data): \n",
    "    for a in data[i].find_all('a', href=True):\n",
    "        url = a['href']\n",
    "        if (url.startswith('/Archives/edgar/')):\n",
    "            list_10k.append(\"https://www.sec.gov\"+ url)\n",
    "            print(\"https://www.sec.gov\"+ url)"
   ]
  },
  {
   "cell_type": "markdown",
   "id": "1d9dc7f8-eef8-4d8e-806f-cd44f85b0b9a",
   "metadata": {},
   "source": [
    "# Scraping Company Page"
   ]
  },
  {
   "cell_type": "code",
   "execution_count": null,
   "id": "5c12e346-7045-4021-94c6-85063d5e4100",
   "metadata": {},
   "outputs": [],
   "source": [
    "# get the links to the 10k reports \n",
    "\n",
    "def get10k(url):\n",
    "    soup10k = BeautifulSoup(response0.content, 'html.parser')"
   ]
  },
  {
   "cell_type": "code",
   "execution_count": 17,
   "id": "679331e3-8098-47ee-8c98-f9d5a8dde210",
   "metadata": {},
   "outputs": [
    {
     "name": "stdout",
     "output_type": "stream",
     "text": [
      "<Response [200]>\n",
      "https://www.sec.gov/Archives/edgar/data/1318605/000095017022000796/0000950170-22-000796-index.htm\n"
     ]
    }
   ],
   "source": [
    "response0 = requests.get(url = list_10k[0], headers=header)\n",
    "\n",
    "soup10k = BeautifulSoup(response0.content, 'html.parser')\n",
    "print(response0)\n",
    "print(response0.url)\n",
    "# print(soup10k)"
   ]
  },
  {
   "cell_type": "code",
   "execution_count": null,
   "id": "538bc2c8-d020-4062-89f8-b3018d0c4fdd",
   "metadata": {},
   "outputs": [],
   "source": [
    "# create a function that will scrap the 10k report \n",
    "\n",
    "from selenium import webdriver\n",
    "# import chromedriver_binary  # Adds chromedriver binary to path\n",
    "import time\n",
    "\n",
    "def scrap10k(s):\n",
    "    driver = webdriver.Firefox()\n",
    "    driver.get(\"https://www.sec.gov/ix?doc=/Archives/edgar/data/1318605/000095017022000796/tsla-20211231.htm\")\n",
    "\n",
    "    time.sleep(5)# you can give it some time to load the js \n",
    "\n",
    "    html = driver.page_source\n",
    "    sp = BeautifulSoup(html)\n",
    "\n",
    "\n"
   ]
  },
  {
   "cell_type": "code",
   "execution_count": 21,
   "id": "bc690d35-c493-4744-ae44-d017f7aa08c4",
   "metadata": {},
   "outputs": [
    {
     "name": "stdout",
     "output_type": "stream",
     "text": [
      "https://www.sec.gov/ix?doc=/Archives/edgar/data/1318605/000095017022000796/tsla-20211231.htm\n"
     ]
    }
   ],
   "source": [
    "# get the url for 10k report \n",
    "report10k = []\n",
    "\n",
    "for a in soup10k.find_all('a', href=True):\n",
    "    url = a['href']\n",
    "    # print(url)\n",
    "    if (url.startswith('/ix')):\n",
    "        report10k.append(\"https://www.sec.gov\"+ url)\n",
    "        print(\"https://www.sec.gov\"+ url)"
   ]
  },
  {
   "cell_type": "code",
   "execution_count": 60,
   "id": "f955157b-57c2-47ac-87cb-569bca38a00f",
   "metadata": {},
   "outputs": [
    {
     "name": "stdout",
     "output_type": "stream",
     "text": [
      "<Response [200]>\n",
      "https://www.sec.gov/ix?doc=/Archives/edgar/data/1318605/000095017022000796/tsla-20211231.htm\n"
     ]
    }
   ],
   "source": [
    "# Find all of the text between paragraph tags and strip out the html\n",
    "response1 = requests.get(url = report10k[0], headers=header)\n",
    "\n",
    "soupText = BeautifulSoup(response1.text, 'html.parser')\n",
    "print(response1)\n",
    "print(response1.url)"
   ]
  },
  {
   "cell_type": "code",
   "execution_count": 88,
   "id": "c9714aac-7c68-4d6a-87dc-98d1f562d716",
   "metadata": {},
   "outputs": [],
   "source": [
    "text = \"\"\n",
    "for d in sp.find_all(text=True):\n",
    "    text += d.get_text()\n",
    "    # print(data.get_text()) "
   ]
  },
  {
   "cell_type": "code",
   "execution_count": 90,
   "id": "1f740480-3f3f-4fa7-b5c2-f0a144535dc9",
   "metadata": {},
   "outputs": [],
   "source": [
    "# print(text)"
   ]
  },
  {
   "cell_type": "code",
   "execution_count": 67,
   "id": "8676385b-a572-4599-b353-fc9858cf9680",
   "metadata": {},
   "outputs": [],
   "source": [
    "# soupText"
   ]
  },
  {
   "cell_type": "code",
   "execution_count": null,
   "id": "16e99813-1882-4a02-892d-e962a4aaebdc",
   "metadata": {},
   "outputs": [],
   "source": []
  },
  {
   "cell_type": "code",
   "execution_count": 58,
   "id": "402e30c0-ef85-4591-b6ad-bd5dfe06cbeb",
   "metadata": {},
   "outputs": [],
   "source": [
    "# print(soupText)"
   ]
  },
  {
   "cell_type": "markdown",
   "id": "9ca7e012-c449-46e5-985c-f247756ef6e7",
   "metadata": {},
   "source": [
    "# Analysis"
   ]
  },
  {
   "cell_type": "code",
   "execution_count": 51,
   "id": "5876c91a-f354-492b-93ea-b7bf28ca8f52",
   "metadata": {},
   "outputs": [],
   "source": [
    "import unicodedata\n",
    "\n",
    "text = unicodedata.normalize('NFKD', text.replace(\"\\'\", \"'\").replace(\"\\ in\\ form\", \" inform\").replace(\"\\n\", \" \").lower().strip())"
   ]
  },
  {
   "cell_type": "code",
   "execution_count": 52,
   "id": "e14ccb73-f5aa-4ec8-bda8-7f1b9a733d50",
   "metadata": {},
   "outputs": [],
   "source": [
    "# print(text)\n",
    "dev_docs = [doc for doc in text.split('\\n')] "
   ]
  },
  {
   "cell_type": "code",
   "execution_count": 31,
   "id": "5017bad0-3ee7-4af5-8707-52b39f4c85ef",
   "metadata": {},
   "outputs": [],
   "source": [
    "from   sklearn.feature_extraction.text import TfidfVectorizer\n",
    "from   nltk.corpus import stopwords\n",
    "import string\n",
    "\n",
    "# Making stopwords list\n",
    "stoplist = stopwords.words('english')\n",
    "for el in [i for i in string.punctuation]:\n",
    "    stoplist.append(el)\n",
    "\n",
    "# Set up vectorizer\n",
    "vectorizer = TfidfVectorizer(\n",
    "    encoding='utf-8',\n",
    "    min_df=1, # include words that occur in as few as a single document, 1 = a single document\n",
    "    max_df=1.0, # include words that occur in as many as all documents, 1.0 = 100% = all documents\n",
    "     binary=False,\n",
    "    norm='l2',\n",
    "    stop_words = stoplist,\n",
    "    use_idf=True\n",
    ")\n",
    "\n",
    "X = vectorizer.fit_transform(dev_docs)"
   ]
  },
  {
   "cell_type": "code",
   "execution_count": 32,
   "id": "5759c23d-d355-4f57-a2c9-653ee13a39dd",
   "metadata": {},
   "outputs": [
    {
     "name": "stdout",
     "output_type": "stream",
     "text": [
      "(1, 217)\n"
     ]
    }
   ],
   "source": [
    "print(X.shape)"
   ]
  },
  {
   "cell_type": "code",
   "execution_count": 33,
   "id": "c8f0756e-fd23-448a-b96a-0b72c7689a03",
   "metadata": {},
   "outputs": [
    {
     "name": "stdout",
     "output_type": "stream",
     "text": [
      "  (0, 124)\t0.01673654817511446\n",
      "  (0, 24)\t0.01673654817511446\n",
      "  (0, 200)\t0.01673654817511446\n",
      "  (0, 81)\t0.01673654817511446\n",
      "  (0, 26)\t0.01673654817511446\n",
      "  (0, 35)\t0.01673654817511446\n",
      "  (0, 159)\t0.01673654817511446\n",
      "  (0, 0)\t0.01673654817511446\n",
      "  (0, 90)\t0.01673654817511446\n",
      "  (0, 59)\t0.01673654817511446\n",
      "  (0, 137)\t0.01673654817511446\n",
      "  (0, 162)\t0.01673654817511446\n",
      "  (0, 15)\t0.01673654817511446\n",
      "  (0, 23)\t0.01673654817511446\n",
      "  (0, 206)\t0.01673654817511446\n",
      "  (0, 134)\t0.01673654817511446\n",
      "  (0, 91)\t0.01673654817511446\n",
      "  (0, 85)\t0.01673654817511446\n",
      "  (0, 188)\t0.01673654817511446\n",
      "  (0, 125)\t0.01673654817511446\n",
      "  (0, 139)\t0.01673654817511446\n",
      "  (0, 170)\t0.050209644525343385\n",
      "  (0, 12)\t0.03347309635022892\n",
      "  (0, 112)\t0.01673654817511446\n",
      "  (0, 126)\t0.01673654817511446\n",
      "  :\t:\n",
      "  (0, 86)\t0.01673654817511446\n",
      "  (0, 18)\t0.01673654817511446\n",
      "  (0, 158)\t0.050209644525343385\n",
      "  (0, 105)\t0.050209644525343385\n",
      "  (0, 65)\t0.35146751167740364\n",
      "  (0, 128)\t0.03347309635022892\n",
      "  (0, 13)\t0.01673654817511446\n",
      "  (0, 20)\t0.050209644525343385\n",
      "  (0, 83)\t0.06694619270045785\n",
      "  (0, 21)\t0.01673654817511446\n",
      "  (0, 190)\t0.03347309635022892\n",
      "  (0, 136)\t0.01673654817511446\n",
      "  (0, 16)\t0.03347309635022892\n",
      "  (0, 57)\t0.11715583722580122\n",
      "  (0, 97)\t0.15062893357603013\n",
      "  (0, 183)\t0.36820405985251814\n",
      "  (0, 52)\t0.050209644525343385\n",
      "  (0, 157)\t0.0836827408755723\n",
      "  (0, 58)\t0.03347309635022892\n",
      "  (0, 145)\t0.01673654817511446\n",
      "  (0, 197)\t0.06694619270045785\n",
      "  (0, 7)\t0.050209644525343385\n",
      "  (0, 204)\t0.10041928905068677\n",
      "  (0, 213)\t0.18410202992625907\n",
      "  (0, 98)\t0.1338923854009157\n"
     ]
    }
   ],
   "source": [
    "print(X)"
   ]
  }
 ],
 "metadata": {
  "kernelspec": {
   "display_name": "Python 3 (ipykernel)",
   "language": "python",
   "name": "python3"
  },
  "language_info": {
   "codemirror_mode": {
    "name": "ipython",
    "version": 3
   },
   "file_extension": ".py",
   "mimetype": "text/x-python",
   "name": "python",
   "nbconvert_exporter": "python",
   "pygments_lexer": "ipython3",
   "version": "3.9.7"
  }
 },
 "nbformat": 4,
 "nbformat_minor": 5
}
